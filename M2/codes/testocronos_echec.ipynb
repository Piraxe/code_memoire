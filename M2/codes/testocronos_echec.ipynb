{
 "cells": [
  {
   "cell_type": "code",
   "execution_count": 1,
   "metadata": {},
   "outputs": [
    {
     "data": {
      "application/vnd.jupyter.widget-view+json": {
       "model_id": "e9540f1d84f7494a97a2d5ac8a5153fb",
       "version_major": 2,
       "version_minor": 0
      },
      "text/plain": [
       "config.json:   0%|          | 0.00/769 [00:00<?, ?B/s]"
      ]
     },
     "metadata": {},
     "output_type": "display_data"
    },
    {
     "name": "stderr",
     "output_type": "stream",
     "text": [
      "c:\\Users\\portable_laura\\anaconda3\\envs\\python_avance\\lib\\site-packages\\huggingface_hub\\file_download.py:157: UserWarning: `huggingface_hub` cache-system uses symlinks by default to efficiently store duplicated files but your machine does not support them in C:\\Users\\portable_laura\\.cache\\huggingface\\hub\\models--PleIAs--OCRonos-Vintage. Caching files will still work but in a degraded version that might require more space on your disk. This warning can be disabled by setting the `HF_HUB_DISABLE_SYMLINKS_WARNING` environment variable. For more details, see https://huggingface.co/docs/huggingface_hub/how-to-cache#limitations.\n",
      "To support symlinks on Windows, you either need to activate Developer Mode or to run Python as an administrator. In order to see activate developer mode, see this article: https://docs.microsoft.com/en-us/windows/apps/get-started/enable-your-device-for-development\n",
      "  warnings.warn(message)\n"
     ]
    },
    {
     "data": {
      "application/vnd.jupyter.widget-view+json": {
       "model_id": "6cf2df3203284ff197e24af51c04bac6",
       "version_major": 2,
       "version_minor": 0
      },
      "text/plain": [
       "model.safetensors:   0%|          | 0.00/249M [00:00<?, ?B/s]"
      ]
     },
     "metadata": {},
     "output_type": "display_data"
    },
    {
     "data": {
      "application/vnd.jupyter.widget-view+json": {
       "model_id": "456a632886a543b8b13051ad135f8997",
       "version_major": 2,
       "version_minor": 0
      },
      "text/plain": [
       "generation_config.json:   0%|          | 0.00/119 [00:00<?, ?B/s]"
      ]
     },
     "metadata": {},
     "output_type": "display_data"
    },
    {
     "data": {
      "application/vnd.jupyter.widget-view+json": {
       "model_id": "a361582a083040aabb2c8f8801301ffc",
       "version_major": 2,
       "version_minor": 0
      },
      "text/plain": [
       "tokenizer_config.json:   0%|          | 0.00/514 [00:00<?, ?B/s]"
      ]
     },
     "metadata": {},
     "output_type": "display_data"
    },
    {
     "data": {
      "application/vnd.jupyter.widget-view+json": {
       "model_id": "e062ad40228e48edbdb4001da42e433c",
       "version_major": 2,
       "version_minor": 0
      },
      "text/plain": [
       "vocab.json:   0%|          | 0.00/999k [00:00<?, ?B/s]"
      ]
     },
     "metadata": {},
     "output_type": "display_data"
    },
    {
     "data": {
      "application/vnd.jupyter.widget-view+json": {
       "model_id": "ca3fb93b80a04991b8519f8cf3a59497",
       "version_major": 2,
       "version_minor": 0
      },
      "text/plain": [
       "merges.txt:   0%|          | 0.00/456k [00:00<?, ?B/s]"
      ]
     },
     "metadata": {},
     "output_type": "display_data"
    },
    {
     "data": {
      "application/vnd.jupyter.widget-view+json": {
       "model_id": "d146b0d5e96f45559b1b9e13b8c78ac3",
       "version_major": 2,
       "version_minor": 0
      },
      "text/plain": [
       "special_tokens_map.json:   0%|          | 0.00/438 [00:00<?, ?B/s]"
      ]
     },
     "metadata": {},
     "output_type": "display_data"
    },
    {
     "data": {
      "text/plain": [
       "GPT2LMHeadModel(\n",
       "  (transformer): GPT2Model(\n",
       "    (wte): Embedding(50257, 768)\n",
       "    (wpe): Embedding(1024, 768)\n",
       "    (drop): Dropout(p=0.1, inplace=False)\n",
       "    (h): ModuleList(\n",
       "      (0-11): 12 x GPT2Block(\n",
       "        (ln_1): LayerNorm((768,), eps=1e-05, elementwise_affine=True)\n",
       "        (attn): GPT2Attention(\n",
       "          (c_attn): Conv1D()\n",
       "          (c_proj): Conv1D()\n",
       "          (attn_dropout): Dropout(p=0.1, inplace=False)\n",
       "          (resid_dropout): Dropout(p=0.1, inplace=False)\n",
       "        )\n",
       "        (ln_2): LayerNorm((768,), eps=1e-05, elementwise_affine=True)\n",
       "        (mlp): GPT2MLP(\n",
       "          (c_fc): Conv1D()\n",
       "          (c_proj): Conv1D()\n",
       "          (act): NewGELUActivation()\n",
       "          (dropout): Dropout(p=0.1, inplace=False)\n",
       "        )\n",
       "      )\n",
       "    )\n",
       "    (ln_f): LayerNorm((768,), eps=1e-05, elementwise_affine=True)\n",
       "  )\n",
       "  (lm_head): Linear(in_features=768, out_features=50257, bias=False)\n",
       ")"
      ]
     },
     "execution_count": 1,
     "metadata": {},
     "output_type": "execute_result"
    }
   ],
   "source": [
    "import torch\n",
    "from transformers import GPT2LMHeadModel, GPT2Tokenizer\n",
    "\n",
    "# Load pre-trained model and tokenizer\n",
    "model_name = \"PleIAs/OCRonos-Vintage\"\n",
    "model = GPT2LMHeadModel.from_pretrained(model_name)\n",
    "tokenizer = GPT2Tokenizer.from_pretrained(model_name)\n",
    "\n",
    "# Set the device to GPU if available, otherwise use CPU\n",
    "device = torch.device(\"cuda\" if torch.cuda.is_available() else \"cpu\")\n",
    "model.to(device)"
   ]
  },
  {
   "cell_type": "code",
   "execution_count": 2,
   "metadata": {},
   "outputs": [],
   "source": [
    "# Function to generate text\n",
    "def ocr_correction(prompt, max_new_tokens=600):\n",
    "\n",
    "    prompt = f\"\"\"### Text ###\\n{prompt}\\n\\n\\n### Correction ###\\n\"\"\"\n",
    "    input_ids = tokenizer.encode(prompt, return_tensors=\"pt\").to(device)\n",
    "\n",
    "    # Generate text\n",
    "    output = model.generate(input_ids,\n",
    "                            max_new_tokens=max_new_tokens,\n",
    "                            pad_token_id=tokenizer.eos_token_id,\n",
    "                            top_k=50)\n",
    "\n",
    "    # Decode and return the generated text\n",
    "    return tokenizer.decode(output[0], skip_special_tokens=True)"
   ]
  },
  {
   "cell_type": "code",
   "execution_count": null,
   "metadata": {},
   "outputs": [
    {
     "name": "stdout",
     "output_type": "stream",
     "text": [
      "('### Text ###\\n'\n",
      " \"Under nu act passed by the Legisla ture in IOO.'j Chicago was allowed to fix \"\n",
      " 'Its own gas rate by an ordinance in tho Ctty Council. Under this act  the '\n",
      " 'City Council, through tho efforts of tho lato Alderman Herman Dauler, passed '\n",
      " 'an ordlnanco limiting the prlco  of gas to 70 cents. Immediately upon the '\n",
      " 'passage of this ordlnanco the gas trust filed on appeal with the Su preme '\n",
      " 'Court alleging that some of the amendments to tho enabling act passed In '\n",
      " '1005 by the Legislature were said to havo been omitted in the printing of '\n",
      " 'tho Senate journal. On this purely technical ground the gas trust asked that '\n",
      " 'the law bo declared unconstitutional. Tho Hungry Qas Trust will divide the '\n",
      " 'preliminary stago of organizing the legislature with tho Wet und  Dry '\n",
      " 'contenders. But you can bet your bottom dollar that tho Qas Trust will fight '\n",
      " 'harder to name the next Speaker than either of the other contenders for '\n",
      " 'Legisla tive control. There is talk already of eliminating caucuses und '\n",
      " 'party rule. Qas Trust Republicans and Qas  Trust Democrats are getting '\n",
      " 'together to fight the Qovornor and every popu lar reform mcaBuro. Tho '\n",
      " 'elimination of caucusos Is  likely to mean tho election of a Speaker by a '\n",
      " 'bipartisan combination. In ordor to prevent this, some of the Republican '\n",
      " 'leaders will make an effort to put through the caucus plan. There Is a '\n",
      " 'question In the minds of some of tho Republicans as to whether It will bo to '\n",
      " 'their advantage from a political standpoint to organ ize the house on '\n",
      " 'partisan\\n'\n",
      " '\\n'\n",
      " '\\n'\n",
      " '### Correction ###\\n'\n",
      " 'Under an act passed by the Legislature in 1900, Chicago was allowed to fix '\n",
      " 'its own gas rate by an ordinance in the City Council. Under this act, the '\n",
      " 'City Council, through the efforts of the late Alderman Herman Dauler, passed '\n",
      " 'an ordinance limiting the price of gas to 70 cents. Immediately upon the '\n",
      " 'passage of this ordinance, the gas trust filed on appeal with the Supreme '\n",
      " 'Court alleging that some of the amendments to the enabling act passed in '\n",
      " '1905 by the Legislature were said to have been omitted in the printing of '\n",
      " 'the Senate journal. On this purely technical ground, the gas trust asked '\n",
      " 'that the law be declared unconstitutional. The Hungry Gas Trust will divide '\n",
      " 'the preliminary stage of organizing the legislature with the Wet and Dry '\n",
      " 'contenders. But you can bet your bottom dollar that the Gas Trust will fight '\n",
      " 'harder to name the next Speaker than either of the other contenders for '\n",
      " 'Legislative control. There is talk already of eliminating caucuses and party '\n",
      " 'rule. The elimination of caucuses is likely to mean the election of a '\n",
      " 'Speaker by a bipartisan combination. In order to prevent this, some of the '\n",
      " 'Republican leaders will make an effort to put through the caucus plan. There '\n",
      " 'is a question in the minds of some of the Republicans as to whether it will '\n",
      " 'be to their advantage from a political standpoint to organize the house on '\n",
      " 'partisan ')\n"
     ]
    }
   ],
   "source": [
    "#from pprint import pprint\n",
    "\n",
    "prompt = \"\"\"Under nu act passed by the Legisla ture in IOO.'j Chicago was allowed to fix Its own gas rate by an ordinance in tho Ctty Council. Under this act  the City Council, through tho efforts of tho lato Alderman Herman Dauler, passed an ordlnanco limiting the prlco  of gas to 70 cents. Immediately upon the passage of this ordlnanco the gas trust filed on appeal with the Su preme Court alleging that some of the amendments to tho enabling act passed In 1005 by the Legislature were said to havo been omitted in the printing of tho Senate journal. On this purely technical ground the gas trust asked that the law bo declared unconstitutional. Tho Hungry Qas Trust will divide the preliminary stago of organizing the legislature with tho Wet und  Dry contenders. But you can bet your bottom dollar that tho Qas Trust will fight harder to name the next Speaker than either of the other contenders for Legisla tive control. There is talk already of eliminating caucuses und party rule. Qas Trust Republicans and Qas  Trust Democrats are getting together to fight the Qovornor and every popu lar reform mcaBuro. Tho elimination of caucusos Is  likely to mean tho election of a Speaker by a bipartisan combination. In ordor to prevent this, some of the Republican leaders will make an effort to put through the caucus plan. There Is a question In the minds of some of tho Republicans as to whether It will bo to their advantage from a political standpoint to organ ize the house on partisan\"\"\"\n",
    "ocr_result = ocr_correction(prompt)\n",
    "pprint(ocr_result)"
   ]
  },
  {
   "cell_type": "code",
   "execution_count": 6,
   "metadata": {},
   "outputs": [
    {
     "name": "stdout",
     "output_type": "stream",
     "text": [
      "('### Text ###\\n'\n",
      " \"ebte tr. E ne commentoral pas aujourd'hui les paroles redic-\\n\"\n",
      " '(ederati ouvrie diffustes do M. Daladior. la volonté\\n'\n",
      " 'CGT. CF CS. Foe Eque ot le forte sirénité do la France, = n Segre\\n'\n",
      " \"u orepones 4 vertiaement rien que d'utile, mais n'apportent rien do » Nous\\n\"\n",
      " 'to et a cette ii ive, prise de nalyveroes dome les ripercussions de co '\n",
      " 'Bicours pas\\n'\n",
      " 'ota Li] reticeace qu be\\n'\n",
      " \"ce of Deux constat Saenets dig nt méaemoint. Tout d'abord,\\n\"\n",
      " 'ch «son p « LA FRANCE NE SE REFUSE NULLEMENT A EXAMI: s\\n'\n",
      " 've pre lan Venaase nage. 1 autre o Pay LES Jergiy ted oh OUI LUI da '\n",
      " 'weanahine FAITES. » Dane la Grae Via. & Madrid, te feule manifeste sa\\n'\n",
      " 'ue Pie, te | biaet Preaié a porte eit iors, Titebe, Lee immrubien sent '\n",
      " 'parents (Be\\n'\n",
      " 'rte A tot de alot uque. | memes “™ as monse nw SS demanderesse, faiant '\n",
      " 'ponnaaiie th ves daaderste, Felence, 29 Mar hew-| Par te large veto da '\n",
      " 'Prado\\n'\n",
      " \"' Sous condition de « N'ALIENER NI UN ARPENT DE [| res, fen troupes \"\n",
      " 'mmsbenciiates fomt|teliana entrent également des ca-\\n'\n",
      " 'NOS TERRES NI UN SEUL DE NOS ITS \\n'\n",
      " '\\n'\n",
      " '\\n'\n",
      " '### Correction ###\\n'\n",
      " 'Este commentario pas ajouté sur les paroles redicidos de M. Daladier. La '\n",
      " 'volonté\\n'\n",
      " \"CGT. CF CS. Foe Eque où le forte s'élevé de la France, = n'est pas aucun \"\n",
      " \"découvertement rien que d'autre, mais n'apportent rien de négociations de \"\n",
      " 'négociations de négociations de négociations de négociations de négociations '\n",
      " 'de négociations de négociations de négociations de négociations de '\n",
      " 'négociations de négociations de négociations de négociations de négociations '\n",
      " 'de négociations de négociations de négociations de négociations de '\n",
      " 'négociations de négociations de négociations de négociations de négociations '\n",
      " 'de négociations de négociations de négociations de négociations de '\n",
      " 'négociations de négociations de négociations de négociations de négociations '\n",
      " 'de négociations de négociations de négociations de négociations de '\n",
      " 'négociations de négociations de négociations de négociations de négociations '\n",
      " 'de négociations de négociations de négociations de négociations de '\n",
      " 'négociations de négociations de négociations de négociations de négociations '\n",
      " 'de négociations de négociations de négociations de négociations de '\n",
      " 'négociations de négociations de négociations de négociations de négociations '\n",
      " 'de négociations de négociations de négociations de négociations de '\n",
      " 'négociations de négociations de négociations de négociations de négociations '\n",
      " 'de négociations de négociations de négociations de négociations de '\n",
      " 'négociations de négociations de négociations de négociations de négociations '\n",
      " 'de négociations de négociations de négociations de négociations de '\n",
      " 'négociations de négociations de négociations de négociations de')\n"
     ]
    }
   ],
   "source": [
    "prompt = \"\"\"ebte tr . E ne commentoral pas aujourd'hui les paroles redic-\n",
    "(ederati ouvrie diffustes do M. Daladior. la volonté\n",
    "CGT. CF CS. Foe Eque ot le forte sirénité do la France, = n Segre\n",
    "u orepones 4 vertiaement rien que d'utile, mais n'apportent rien do » Nous\n",
    "to et a cette ii ive, prise de nalyveroes dome les ripercussions de co Bicours pas\n",
    "ota Li] reticeace qu be\n",
    "ce of Deux constat Saenets dig nt méaemoint. Tout d'abord,\n",
    "ch «son p « LA FRANCE NE SE REFUSE NULLEMENT A EXAMI: s\n",
    "ve pre lan Venaase nage . 1 autre o Pay LES Jergiy ted oh OUI LUI da weanahine FAITES. » Dane la Grae Via. & Madrid, te feule manifeste sa\n",
    "ue Pie, te | biaet Preaié a porte eit iors, Titebe, Lee immrubien sent parents (Be\n",
    "rte A tot de alot uque. | memes “™ as monse nw SS demanderesse, faiant ponnaaiie th ves daaderste, Felence, 29 Mar hew-| Par te large veto da Prado\n",
    "' Sous condition de « N'ALIENER NI UN ARPENT DE [| res, fen troupes mmsbenciiates fomt|teliana entrent également des ca-\n",
    "NOS TERRES NI UN SEUL DE NOS ITS \"\"\"\n",
    "ocr_result = ocr_correction(prompt)\n",
    "pprint(ocr_result)"
   ]
  },
  {
   "cell_type": "code",
   "execution_count": null,
   "metadata": {},
   "outputs": [],
   "source": []
  }
 ],
 "metadata": {
  "kernelspec": {
   "display_name": "python_avance",
   "language": "python",
   "name": "python3"
  },
  "language_info": {
   "codemirror_mode": {
    "name": "ipython",
    "version": 3
   },
   "file_extension": ".py",
   "mimetype": "text/x-python",
   "name": "python",
   "nbconvert_exporter": "python",
   "pygments_lexer": "ipython3",
   "version": "3.8.18"
  }
 },
 "nbformat": 4,
 "nbformat_minor": 2
}
