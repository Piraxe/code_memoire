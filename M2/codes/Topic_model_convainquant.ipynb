{
  "cells": [
    {
      "cell_type": "code",
      "execution_count": 1,
      "metadata": {
        "id": "SNa-KtKDRnus"
      },
      "outputs": [],
      "source": [
        "%%capture\n",
        "!pip install bertopic"
      ]
    },
    {
      "cell_type": "code",
      "execution_count": 9,
      "metadata": {},
      "outputs": [],
      "source": [
        "with open(\"C:/Users/portable_laura/Documents/coursM1/Mémoire/Sources/french_stopwords.txt\",'r',encoding='utf-8') as s:\n",
        "    stop = s.read().split()"
      ]
    },
    {
      "cell_type": "code",
      "execution_count": null,
      "metadata": {},
      "outputs": [],
      "source": [
        "import pandas as pd\n",
        "from bertopic import BERTopic\n",
        "import json\n",
        "mot_cible = \"inond\"\n",
        "df_mot_cible = pd.read_csv(f\"C:/Users/portable_laura/Desktop/memoire_prod_finale/data/{mot_cible}.csv\")"
      ]
    },
    {
      "cell_type": "code",
      "execution_count": null,
      "metadata": {},
      "outputs": [],
      "source": [
        "#targets_canal = df_canal[\"date\"]\n",
        "#targets_inon = df_inon[\"date\"]\n",
        "targets = df_mot_cible[\"date\"]\n",
        "\n",
        "def remove_stopwords(text):\n",
        "    words = text.split()\n",
        "    filtered_words = [word for word in words if word.lower() not in stop]\n",
        "    return \" \".join(filtered_words)\n",
        "\n",
        "#===================================\n",
        "df_mot_cible[\"texte_total_cleaned\"] = df_mot_cible[\"texte_total\"].apply(remove_stopwords)\n",
        "docs_mot_cible = df_mot_cible[\"texte_total_cleaned\"]"
      ]
    },
    {
      "cell_type": "markdown",
      "metadata": {
        "id": "SivR3PQ4gq5b"
      },
      "source": [
        "## Première modélisation"
      ]
    },
    {
      "cell_type": "code",
      "execution_count": null,
      "metadata": {
        "colab": {
          "base_uri": "https://localhost:8080/",
          "height": 540,
          "referenced_widgets": [
            "ada1b60159a64dfcb0440d55ce52b211",
            "fb4a838c2cc842b0a6c35f8dff046f22",
            "40d9501befa8482cb9bf9d26c0d884e5",
            "fc3c5f1fe3db409c9f60f32966219a55",
            "325bc387ff1047889590c4cc5666a3cf",
            "58abd97af3504721a84fe8676b81d42a",
            "1689b342a2144932b35f7915cbfd009e",
            "e6f3b762fc0c43eb94bda38d902d73e3",
            "ce6460e0f450426e9a23a62767ea3519",
            "498a3c2b680047cebdab4fc9d1e26dba",
            "0d8353eb50c140c1b5b3faf4ceb36f9d",
            "0791ccf7f39c4b47b4f188e274d84077",
            "60c4badf1ff649f0a1e4ea0effb92fd4",
            "9c9b35c159bb4e6d8eb9d4b87be3c11b",
            "709efef007724e609bbbc06a9cd63d15",
            "790b6b5f120e418db08db7556c59e8ae",
            "c717afa0934145cc935281343b9b76f3",
            "1dd371b15c724324a065a2e90c644795",
            "14f6755b895a4fae961c21d468284f86",
            "a8db49a86316487193085fda646eca3a",
            "5f3eef230d9a43578a9ad13b7138169d",
            "ab22da5d350e4d77ae18ed0248db79ce",
            "40fbbf3bf0f1499680d858e59ddb201d",
            "15d7fba06e744930be0126c378027abf",
            "0ce033616fb2417284e2f7e221915fb3",
            "083b321262214023b1c07e569212e110",
            "a8665890c9b543609d8f5e325eb09655",
            "9400c81a097d4c0f93f2ee550fbfb823",
            "7a785cd45d6540d8920d2bb5173185c7",
            "f6129a6736244999bb4014a62c092f61",
            "3cf229d9f12b4dc08285e9378cfb2355",
            "102024e513de447591c14283e2a4b9cd",
            "f99e9380434f46609349e663beb78c62",
            "69a87b186d9943e7850990b39df88b6c",
            "8b2b446b82fc438890ce3062cfbb364c",
            "db4141d4e40348d184214c9fa0436c26",
            "31b7af65ca694444bd0d3bdd95f88e9e",
            "76dac1ac81d64965b9b2136c9452d46a",
            "fb98dd096c2e48f0ac53d77fd297206d",
            "a1985985dae746d28f9c5052d849c89a",
            "324c4f4850f34956bd1f02e01867d8d5",
            "52160e0a64de4d74b47c376275919f1f",
            "df3c2c15771f42bb9c93c138ace29ec4",
            "2cd3e35169c340de8c599280de7b9eda",
            "fdb7ebdbdb72415498b18a3015c1d2b6",
            "20fa26589a824967ab547eacec260f94",
            "728cf26bf0584675b536e5d66ac4dc32",
            "e4ceb77b05a144aea815475451acc9f9",
            "083da04ce16546649487d04e0746f293",
            "9501989a1d0c4425bdd252a5a0135c13",
            "29603221b1af4efeaeace5f1a1071e6e",
            "0686b1707cef45f1a5a088e467948a03",
            "36c18eb276c3459bbec41d52f8d8406a",
            "9e004d3609ed409e8e0927d94616602c",
            "72e99f824dab4a5ca17851608c433852",
            "463a74f8964748cc8c588660a7372bf0",
            "fd8db782327b412080f81b162e6d8f81",
            "18b32baa17e74aa48695a5b842c3aaba",
            "1be710669ffe4cfcab43c9f306e94452",
            "127e6fda67294e4e8cb0edb8632e52d3",
            "e6238828f6434a3da4f1c670a6e2a5c8",
            "bd2cd3517a9847fda042c4e29a02abf4",
            "e9c47383b67c4d8aa9735395a7272304",
            "a3d2bd35b3694f55b233a5275304d058",
            "c3539acebdd743f8aa8dbefba8cf4df2",
            "b02c15f4937747b18fa9a5c936eb2067",
            "4c25b9a6d87a405789c9c89802b61f02",
            "cc8de2098c0f4baba9b9dc8adbd8c242",
            "776f23e3f5874d6491f32b1566286c3c",
            "95640308ae2a4987a8f1690f66e2113a",
            "fe84d0dab1194e508141225915a74204",
            "ce4cfb58e984498fabeaaaeddfeb8cfc",
            "13cced5acf1f46c6b1d8bc9c00424e70",
            "0d2f0a2a88264029a5de79e7cf2e8efb",
            "8335b4fa49604485882225110671a78a",
            "b4e88f534b0849d689fe6ed4f49ece4f",
            "8def7a4fab5545d89307a9ed8c91dff8",
            "a813cf83bbea4a96a088c2a9b46249a1",
            "a63ead76c4754f73a757b50eded328a3",
            "e8c75c2842f74ec7939118ade3fc928f",
            "fbbf013d831949048061c137bbb9a5ff",
            "821fa33b66ac406e8fa6add40a550d9a",
            "e70d85e2ba2b4a75bbde5ac8b24619ea",
            "57df4c43920a4a1b8863309ff9169d80",
            "883e582b710743e4a1c56f2938b00e7c",
            "474d76c2359c447c9d7cec96749ab667",
            "54cf32168c5249f38b44c787123980d5",
            "ee9c336d36364088ac7d0ccf0cef1634",
            "db70493646f04cadbe8ea39b42a20ca6",
            "879fe0250e384656bbdf853cedbaa4ce",
            "490ff693090b49e99d7e558f7866656b",
            "8c22501ea20e4cdcabe202dbab0d0854",
            "5fc36c9fcf59405a9832ff5d1c05c94f",
            "5767e7fb57994db1a08ce6bdd21476bd",
            "7560b0b0b09d48cbaa8a95164ed16f24",
            "04f612bc6ecd44d1a3ce8928ea0f606b",
            "a760c6ea3468487d8bd50b9360aeddd5",
            "12392439f20b49a3ac68139f5c10f375",
            "0624384924fd484b8a730309b93e39b4",
            "ad1148919e1d4452a3eb25f25c476b7a",
            "7673d41d48ed4efbae782b6d298e1927",
            "741eccf685f44d8c84534ae4481f6859",
            "73a3fd286252407598dce852be2ee943",
            "9d92c28e8318481d81568679a969ef69",
            "678b7978106c496da1ab482aa446e10b",
            "4db7799c94124d35a8f0f849a2e93cda",
            "4d4a08d22ef342cbb689d775baec1aa3",
            "f5e5997fb91c40c58a2459be34ee8405",
            "cf3cb4a0131c4db6bb261b7ca70ccd03",
            "76b6591413e045238b1e9604bc0e433b",
            "e4c388782521477f85ceab4442e0ddc1",
            "ee18d23a6d9a442dbe555fe387ab75c7",
            "5f01780788bc4284a311fb623bf7c908",
            "ce96c9f3049a4f04a7815dc36b199375",
            "1b07d09a1dec49a3ae83974ae4b0790e",
            "14146dc7d0c7408f82fb17cbaaa38148",
            "4d53d4d43af2459985faf3abe7ad8421",
            "df2b361facf24a388c6d72f1be5faa66",
            "543537b91274415f8a5035f4c8b4f0f5",
            "13120c30ef55492fa862c1ece9e76810",
            "0ae559dc7d6e41a498f325796b173f4d",
            "7c1f7730c7a244e49272d95c3dd0bcc9",
            "28217a608a58480db6e025b093d014bd",
            "171ee11fe9954326a5b13c99f4a64c73",
            "2df07b2f863e4adf9a4b308fd752502f",
            "464cb07487c3414999de4513b93d5392",
            "dc806e7dde82494a8d2c9fc3e39448c5",
            "c8180975bcce465db543f576596d4a5d",
            "8c56e5f735a242d099b7cbfa641bc44e",
            "0635da18ea354c71b9cea1c09ab0140c",
            "3c835b283cec492f8790660cf6b8fece",
            "0a8801ee47f3460b954527344c077ad8"
          ]
        },
        "id": "ObH_2X8LcyNP",
        "outputId": "d423aaf8-6eab-4d0d-b08e-69f648a25114"
      },
      "outputs": [
        {
          "name": "stderr",
          "output_type": "stream",
          "text": [
            "2025-09-01 00:45:21,781 - BERTopic - Embedding - Transforming documents to embeddings.\n"
          ]
        },
        {
          "data": {
            "application/vnd.jupyter.widget-view+json": {
              "model_id": "5d5a5fcac39f4278aace6ddf85f691ce",
              "version_major": 2,
              "version_minor": 0
            },
            "text/plain": [
              "Batches:   0%|          | 0/29 [00:00<?, ?it/s]"
            ]
          },
          "metadata": {},
          "output_type": "display_data"
        },
        {
          "name": "stderr",
          "output_type": "stream",
          "text": [
            "2025-09-01 00:46:25,497 - BERTopic - Embedding - Completed ✓\n",
            "2025-09-01 00:46:25,498 - BERTopic - Dimensionality - Fitting the dimensionality reduction algorithm\n",
            "2025-09-01 00:46:30,673 - BERTopic - Dimensionality - Completed ✓\n",
            "2025-09-01 00:46:30,675 - BERTopic - Cluster - Start clustering the reduced embeddings\n",
            "2025-09-01 00:46:30,777 - BERTopic - Cluster - Completed ✓\n",
            "2025-09-01 00:46:30,788 - BERTopic - Representation - Extracting topics from clusters using representation models.\n",
            "2025-09-01 00:46:31,514 - BERTopic - Representation - Completed ✓\n"
          ]
        }
      ],
      "source": [
        "topic_model_mot_cible = BERTopic(verbose=True)\n",
        "topics_mot_cible, _ = topic_model_mot_cible.fit_transform(docs_mot_cible)"
      ]
    },
    {
      "cell_type": "code",
      "execution_count": null,
      "metadata": {
        "colab": {
          "base_uri": "https://localhost:8080/",
          "height": 519
        },
        "id": "ZsfxzEEHmsdm",
        "outputId": "cc0d2dda-717a-44c4-d589-358cf2e60ce1"
      },
      "outputs": [
        {
          "data": {
            "text/html": [
              "<div>\n",
              "<style scoped>\n",
              "    .dataframe tbody tr th:only-of-type {\n",
              "        vertical-align: middle;\n",
              "    }\n",
              "\n",
              "    .dataframe tbody tr th {\n",
              "        vertical-align: top;\n",
              "    }\n",
              "\n",
              "    .dataframe thead th {\n",
              "        text-align: right;\n",
              "    }\n",
              "</style>\n",
              "<table border=\"1\" class=\"dataframe\">\n",
              "  <thead>\n",
              "    <tr style=\"text-align: right;\">\n",
              "      <th></th>\n",
              "      <th>Topic</th>\n",
              "      <th>Count</th>\n",
              "      <th>Name</th>\n",
              "      <th>Representation</th>\n",
              "      <th>Representative_Docs</th>\n",
              "    </tr>\n",
              "  </thead>\n",
              "  <tbody>\n",
              "    <tr>\n",
              "      <th>0</th>\n",
              "      <td>0</td>\n",
              "      <td>916</td>\n",
              "      <td>0_travaux_barrage_fr_demande</td>\n",
              "      <td>[travaux, barrage, fr, demande, 000, publics, ...</td>\n",
              "      <td>[manche ose engager terrain techni demande grâ...</td>\n",
              "    </tr>\n",
              "    <tr>\n",
              "      <th>1</th>\n",
              "      <td>1</td>\n",
              "      <td>12</td>\n",
              "      <td>1_nantes_loire_lechalas_amont</td>\n",
              "      <td>[nantes, loire, lechalas, amont, port, kilomtr...</td>\n",
              "      <td>[erreur arrêté exact conduit penser levées pro...</td>\n",
              "    </tr>\n",
              "  </tbody>\n",
              "</table>\n",
              "</div>"
            ],
            "text/plain": [
              "   Topic  Count                           Name  \\\n",
              "0      0    916   0_travaux_barrage_fr_demande   \n",
              "1      1     12  1_nantes_loire_lechalas_amont   \n",
              "\n",
              "                                      Representation  \\\n",
              "0  [travaux, barrage, fr, demande, 000, publics, ...   \n",
              "1  [nantes, loire, lechalas, amont, port, kilomtr...   \n",
              "\n",
              "                                 Representative_Docs  \n",
              "0  [manche ose engager terrain techni demande grâ...  \n",
              "1  [erreur arrêté exact conduit penser levées pro...  "
            ]
          },
          "execution_count": 43,
          "metadata": {},
          "output_type": "execute_result"
        }
      ],
      "source": [
        "pd.reset_option('display.max_colwidth')\n",
        "\n",
        "topic_mode_mot_cible.get_topic_info().head(10)"
      ]
    },
    {
      "cell_type": "markdown",
      "metadata": {
        "id": "NJkDk7bQh4H1"
      },
      "source": [
        "Tentative de nouvelle visualisation, il est ici possible de choisir les topics souhaités"
      ]
    },
    {
      "cell_type": "code",
      "execution_count": null,
      "metadata": {},
      "outputs": [
        {
          "name": "stderr",
          "output_type": "stream",
          "text": [
            "411it [00:35, 11.49it/s]\n"
          ]
        },
        {
          "data": {
            "application/vnd.plotly.v1+json": {
              "config": {
                "plotlyServerURL": "https://plot.ly"
              },
              "data": [
                {
                  "hoverinfo": "text",
                  "hovertext": [
                    "<b>Topic 0</b><br>Words: crdit, fr, 000, chapitre, delglise",
                    "<b>Topic 0</b><br>Words: arme, citations, citation, corps, insigne",
                    "<b>Topic 0</b><br>Words: manifestants, rue, bousculade, ligueurs, coups",
                    "<b>Topic 0</b><br>Words: ingnieurs, ingnieur, ponts, travaux, conducteurs",
                    "<b>Topic 0</b><br>Words: 1930, avril, demande, finances, 1929",
                    "<b>Topic 0</b><br>Words: gauche, applaudissements, extrme, politique, guerre",
                    "<b>Topic 0</b><br>Words: paris, ville, seine, eaux, point",
                    "<b>Topic 0</b><br>Words: ballande, observations, bordeaux, travaux, publics",
                    "<b>Topic 0</b><br>Words: 1925, novembre, remise, do, demandantm",
                    "<b>Topic 0</b><br>Words: dlgu, mineur, mineurs, conditions, dlgus",
                    "<b>Topic 0</b><br>Words: guerre, traits, problme, ct, conflit",
                    "<b>Topic 0</b><br>Words: votons, extrme, petrus, faure, gauche",
                    "<b>Topic 0</b><br>Words: signatures, dpos, ptitions, dlibration, lre",
                    "<b>Topic 0</b><br>Words: usine, chassaing, dpartements, eau, commissaire",
                    "<b>Topic 0</b><br>Words: normale, art, adopt, travaux, ligne",
                    "<b>Topic 0</b><br>Words: compagnie, fermire, eaux, bains, concurrence",
                    "<b>Topic 0</b><br>Words: chap, crdits, 000, exercice, budget",
                    "<b>Topic 0</b><br>Words: travaux, 30, sociales, millions, assurances",
                    "<b>Topic 0</b><br>Words: pays, gauche, lections, ct, extrme",
                    "<b>Topic 0</b><br>Words: chap, fr, 000, ministre, matriel",
                    "<b>Topic 0</b><br>Words: lman, lac, niveau, suisse, crolard",
                    "<b>Topic 0</b><br>Words: gu, barrage, dragons, eau, arme",
                    "<b>Topic 0</b><br>Words: mdecins, dommange, trangers, disjonction, demande",
                    "<b>Topic 0</b><br>Words: assurs, travaux, etat, cours, imprims",
                    "<b>Topic 0</b><br>Words: 1927, traitement, guerre, bureau, agents",
                    "<b>Topic 0</b><br>Words: problme, lotissements, mottu, seine, parisienne",
                    "<b>Topic 0</b><br>Words: mazaud, ybarngaray, jean, vidal, amis",
                    "<b>Topic 0</b><br>Words: publicit, rles, fiscal, gauche, devoir",
                    "<b>Topic 0</b><br>Words: agriculture, communes, riont, guil, toy",
                    "<b>Topic 0</b><br>Words: noriot, police, couronne, cortge, manifestants",
                    "<b>Topic 0</b><br>Words: godart, parquets, justice, sceaux, leprsident",
                    "<b>Topic 0</b><br>Words: habitations, hygine, finances, paris, march",
                    "<b>Topic 0</b><br>Words: pleins, franais, barrage, applaudissements, politique",
                    "<b>Topic 0</b><br>Words: bases, mditerrane, lignes, mer, navales",
                    "<b>Topic 0</b><br>Words: mantes, vernon, seine, eure, dpartement",
                    "<b>Topic 0</b><br>Words: dfense, cornavin, gaston, ouvriers, ministre",
                    "<b>Topic 0</b><br>Words: sret, frontire, frontires, emmanuel, brousse",
                    "<b>Topic 0</b><br>Words: interpellation, discussion, colonies, gr, potel",
                    "<b>Topic 0</b><br>Words: interpellation, interpellations, guichard, sibille, demande",
                    "<b>Topic 0</b><br>Words: mines, puits, mineurs, accident, barrage",
                    "<b>Topic 0</b><br>Words: auxiliaires, postes, titularisation, transformation, 1937",
                    "<b>Topic 0</b><br>Words: rhne, lyon, compagnie, travaux, arles",
                    "<b>Topic 0</b><br>Words: barrage, eau, serre, redevance, concession",
                    "<b>Topic 0</b><br>Words: colonies, travaux, niger, fonctionnaires, millions",
                    "<b>Topic 0</b><br>Words: service, accident, accidents, fuse, occasion",
                    "<b>Topic 0</b><br>Words: peulevey, travaux, port, compagnie, convention",
                    "<b>Topic 0</b><br>Words: mars, prsidence, remise, 1920, demandant",
                    "<b>Topic 0</b><br>Words: mars, conomats, affirmative, demande, article",
                    "<b>Topic 0</b><br>Words: tixier, pay, impt, auriol, vincent",
                    "<b>Topic 0</b><br>Words: eaux, seine, gout, terrain, achres",
                    "<b>Topic 0</b><br>Words: travaux, seine, barrage, etat, approfondissement",
                    "<b>Topic 0</b><br>Words: portant, budget, exercice, titre, 1931",
                    "<b>Topic 0</b><br>Words: axe, rue, sarthe, canton, ligne",
                    "<b>Topic 0</b><br>Words: communications, 1916, verdun, picard, mars",
                    "<b>Topic 0</b><br>Words: valles, durance, eau, rhne, rgion",
                    "<b>Topic 0</b><br>Words: crolard, bougre, projets, chute, etat",
                    "<b>Topic 0</b><br>Words: discussion, urgence, 1881, drot, canalise",
                    "<b>Topic 0</b><br>Words: dme, puy, fuses, niagara, niagaras",
                    "<b>Topic 0</b><br>Words: lafont, ernest, krim, abd, madrid",
                    "<b>Topic 0</b><br>Words: 1920, pche, lamproie, alose, avril",
                    "<b>Topic 0</b><br>Words: table, mm, adopt, utilit, drac",
                    "<b>Topic 0</b><br>Words: art, eau, adopt, cas, travaux",
                    "<b>Topic 0</b><br>Words: rhin, strasbourg, trait, port, bateaux",
                    "<b>Topic 0</b><br>Words: 1931, 28, cong, mai, demande",
                    "<b>Topic 0</b><br>Words: ville, crteil, pandage, cornudet, gr",
                    "<b>Topic 0</b><br>Words: crdits, supplmentaires, bedouce, statistique, cahier",
                    "<b>Topic 0</b><br>Words: ministre, travail, ministres, del, inspecteurs",
                    "<b>Topic 0</b><br>Words: septembre, prix, 1918, ration, prsidence",
                    "<b>Topic 0</b><br>Words: concession, suisse, convention, genve, travaux",
                    "<b>Topic 0</b><br>Words: mamms, seine, renvoi, bateaux, demande",
                    "<b>Topic 0</b><br>Words: dpos, ptitions, ptition, dputs, exercice",
                    "<b>Topic 0</b><br>Words: 1911, mai, 29, demandant, remise",
                    "<b>Topic 0</b><br>Words: demande, mars, travaux, 1928, publics",
                    "<b>Topic 0</b><br>Words: eaux, gout, cubes, paris, berlin",
                    "<b>Topic 0</b><br>Words: prix, dflation, finances, gauche, albertin",
                    "<b>Topic 0</b><br>Words: marine, balanant, guerre, georges, berthon",
                    "<b>Topic 0</b><br>Words: guerre, organisation, peur, cot, terrain",
                    "<b>Topic 0</b><br>Words: discuss, proj, dp, amend, interpellation",
                    "<b>Topic 0</b><br>Words: artillerie, front, arme, verdun, communications",
                    "<b>Topic 0</b><br>Words: sommations, coups, gendarmes, prfecture, porte",
                    "<b>Topic 0</b><br>Words: ville, expertise, paris, vannes, oprations",
                    "<b>Topic 0</b><br>Words: eau, barrage, pyrnes, 000, fr",
                    "<b>Topic 0</b><br>Words: grve, applaudissements, gauche, droit, poste",
                    "<b>Topic 0</b><br>Words: justice, demande, 1935, dlais, rations",
                    "<b>Topic 0</b><br>Words: gr, fr, intrt, surtaxes, sevaistre",
                    "<b>Topic 0</b><br>Words: facteurs, postes, jeunes, intrimaires, auxiliaires",
                    "<b>Topic 0</b><br>Words: artillerie, viollette, maurice, colonel, tir",
                    "<b>Topic 0</b><br>Words: discussion, aubas, urgence, mm, etat",
                    "<b>Topic 0</b><br>Words: gauche, extrme, chartres, police, ligues",
                    "<b>Topic 0</b><br>Words: gier, canal, rachat, ville, givors",
                    "<b>Topic 0</b><br>Words: rhin, navigation, paris, canal, alsace",
                    "<b>Topic 0</b><br>Words: caisse, pargne, dpts, ricard, taux",
                    "<b>Topic 0</b><br>Words: eaux, seine, eau, paris, collecteurs",
                    "<b>Topic 0</b><br>Words: chap, fr, 000, chapitre, routes",
                    "<b>Topic 0</b><br>Words: brun, ybarngaray, flix, jean, extrme",
                    "<b>Topic 0</b><br>Words: boissons, durandy, lavoinne, spiritueux, dbits",
                    "<b>Topic 0</b><br>Words: proportionnelle, bonnet, reprsentation, siges, alexandre",
                    "<b>Topic 0</b><br>Words: canal, gaudin, villaine, lesseps, panama",
                    "<b>Topic 0</b><br>Words: vende, perptuer, songez, porte, prier",
                    "<b>Topic 0</b><br>Words: 000, jean, lignes, desbasses, tramway",
                    "<b>Topic 0</b><br>Words: obligations, pologne, pactes, nations, collective",
                    "<b>Topic 0</b><br>Words: gendarmerie, brigades, mobile, cheval, gendarmes",
                    "<b>Topic 0</b><br>Words: latin, leygues, instruction, sciences, grec",
                    "<b>Topic 0</b><br>Words: lves, cazals, enseignement, suprieur, professeur",
                    "<b>Topic 0</b><br>Words: politique, dantzig, autriche, gauche, allemagne",
                    "<b>Topic 0</b><br>Words: adopt, tendant, prcdemment, sances, dputs",
                    "<b>Topic 0</b><br>Words: seine, barrages, oise, travaux, inondations",
                    "<b>Topic 0</b><br>Words: concours, enfant, sries, nombre, lyce",
                    "<b>Topic 0</b><br>Words: sovitique, communistes, habsbourg, paix, france",
                    "<b>Topic 0</b><br>Words: mai, sentinelle, attaque, explose, avril",
                    "<b>Topic 0</b><br>Words: mditerrane, politique, reynaud, auguste, marine",
                    "<b>Topic 0</b><br>Words: travaux, canal, deluz, publics, saget",
                    "<b>Topic 0</b><br>Words: girod, agriculture, finances, communes, millions",
                    "<b>Topic 0</b><br>Words: amiral, transports, route, lapeyrre, salonique",
                    "<b>Topic 0</b><br>Words: artillerie, pices, front, thomas, affts",
                    "<b>Topic 0</b><br>Words: travaux, publics, cultivateurs, seine, administration",
                    "<b>Topic 0</b><br>Words: margaine, rhin, travaux, barrage, alsace",
                    "<b>Topic 0</b><br>Words: maximum, dbit, crolard, drivation, puissance",
                    "<b>Topic 0</b><br>Words: basly, gauche, courrires, mines, responsabilits",
                    "<b>Topic 0</b><br>Words: partis, allemagne, concentration, cot, weimar",
                    "<b>Topic 0</b><br>Words: agriculture, poissons, rivires, forts, attention",
                    "<b>Topic 0</b><br>Words: seine, paris, coulement, suresnes, travaux",
                    "<b>Topic 0</b><br>Words: aube, retraites, application, boisserin, pourquery",
                    "<b>Topic 0</b><br>Words: tendant, travaux, vot, objet, dpt",
                    "<b>Topic 0</b><br>Words: suite, discussion, dpartement, etat, fer",
                    "<b>Topic 0</b><br>Words: barrage, inondation, barrages, portes, administration",
                    "<b>Topic 0</b><br>Words: grisou, ingnieur, explosion, barrage, feu",
                    "<b>Topic 0</b><br>Words: gauche, applaudissements, painlev, instruction, bancs",
                    "<b>Topic 0</b><br>Words: gauche, units, dispositif, guernut, barrage",
                    "<b>Topic 0</b><br>Words: latin, leygues, grec, langues, georges",
                    "<b>Topic 0</b><br>Words: paris, seine, travaux, achres, ville",
                    "<b>Topic 0</b><br>Words: agriculture, directeur, assister, fr, 1934",
                    "<b>Topic 0</b><br>Words: chemin, ivoire, fer, cte, 1933",
                    "<b>Topic 0</b><br>Words: cuirasss, croiseurs, bataille, vitesse, navires",
                    "<b>Topic 0</b><br>Words: paix, trangres, affaires, allemagne, conversations",
                    "<b>Topic 0</b><br>Words: chap, fr, 000, ministre, exercice",
                    "<b>Topic 0</b><br>Words: rhne, faut, travaux, barrage, durance",
                    "<b>Topic 0</b><br>Words: lieutenants, 1913, postes, pose, mai",
                    "<b>Topic 0</b><br>Words: prfet, oise, inondation, seine, inonds",
                    "<b>Topic 0</b><br>Words: art, adopt, cours, eau, lit",
                    "<b>Topic 0</b><br>Words: fr, 000, etat, travaux, 25",
                    "<b>Topic 0</b><br>Words: pont, givors, isre, do, ville",
                    "<b>Topic 0</b><br>Words: poivres, indo, poivre, chine, march",
                    "<b>Topic 0</b><br>Words: marine, guerre, angleterre, marins, barrage",
                    "<b>Topic 0</b><br>Words: 1917, prsidence, remise, demandant, guerre",
                    "<b>Topic 0</b><br>Words: pche, inscrits, maritimes, point, eaux",
                    "<b>Topic 0</b><br>Words: adopt, dputs, modifications, prcdemment, adopte",
                    "<b>Topic 0</b><br>Words: organisation, volontaires, arme, goutor, conomique",
                    "<b>Topic 0</b><br>Words: prix, fr, bahier, production, consommation",
                    "<b>Topic 0</b><br>Words: compagnies, tarifs, centimes, 000, algrie",
                    "<b>Topic 0</b><br>Words: novembre, familles, 1924, travaux, lois",
                    "<b>Topic 0</b><br>Words: milliards, gauche, garantie, millions, faut",
                    "<b>Topic 0</b><br>Words: hrault, canal, voix, art, dpartement",
                    "<b>Topic 0</b><br>Words: 1920, prsidence, remise, juin, animaux",
                    "<b>Topic 0</b><br>Words: tombeau, sergent, aurelle, camp, combes",
                    "<b>Topic 0</b><br>Words: budget, forts, fr, 000, adopt",
                    "<b>Topic 0</b><br>Words: canal, fontblisse, montluon, tonnes, cubes",
                    "<b>Topic 0</b><br>Words: chap, fr, crdits, exercice, budget",
                    "<b>Topic 0</b><br>Words: dpos, 1851, coup, habitant, victimes",
                    "<b>Topic 0</b><br>Words: port, paris, pont, cluses, fleuve",
                    "<b>Topic 0</b><br>Words: constructions, millions, budget, adopt, art",
                    "<b>Topic 0</b><br>Words: gauche, extrme, bancs, cole, enseignement",
                    "<b>Topic 0</b><br>Words: indirectes, contributions, commis, agents, 17",
                    "<b>Topic 0</b><br>Words: raygrass, travaux, marais, peine, agriculture",
                    "<b>Topic 0</b><br>Words: politique, paix, berlin, rome, avenir",
                    "<b>Topic 0</b><br>Words: travaux, dordogne, tonnes, publics, millions",
                    "<b>Topic 0</b><br>Words: paix, allemagne, trangres, affaires, allis",
                    "<b>Topic 0</b><br>Words: presse, libert, calomnie, gauche, diffamation",
                    "<b>Topic 0</b><br>Words: combat, cuirasss, croiseurs, bataille, navires",
                    "<b>Topic 0</b><br>Words: banque, petit, vasseur, impts, alexandre",
                    "<b>Topic 0</b><br>Words: mistral, caillaux, journaux, dugueyt, manifestants",
                    "<b>Topic 0</b><br>Words: paix, communiste, france, espagne, gauche",
                    "<b>Topic 0</b><br>Words: vis, droulde, pauldroulde, trsbien, affaires",
                    "<b>Topic 0</b><br>Words: eau, seine, faut, source, eaux",
                    "<b>Topic 0</b><br>Words: alype, pierre, clture, contingent, subvention",
                    "<b>Topic 0</b><br>Words: barrage, rhne, rouland, pourquery, chanot",
                    "<b>Topic 0</b><br>Words: hommes, hpitaux, classes, lits, service",
                    "<b>Topic 0</b><br>Words: fr, crdit, 000, pisciculture, grenier",
                    "<b>Topic 0</b><br>Words: travaux, barrage, publics, seine, barrages",
                    "<b>Topic 0</b><br>Words: discuss, proj, budget, admis, lgislature",
                    "<b>Topic 0</b><br>Words: janv, guerre, demande, 1931, embauch",
                    "<b>Topic 0</b><br>Words: 1910, dpose, juillet, juin, tendant",
                    "<b>Topic 0</b><br>Words: thtres, compositeurs, film, 100, cinma",
                    "<b>Topic 0</b><br>Words: canal, berry, 1879, largissement, constans",
                    "<b>Topic 0</b><br>Words: identit, conduit, cartes, bureaux, devait",
                    "<b>Topic 0</b><br>Words: retraites, interpellation, application, ouvrires, berniolle",
                    "<b>Topic 0</b><br>Words: adopt, fr, 000, aillires, 1887",
                    "<b>Topic 0</b><br>Words: ministre, crdits, voix, adopt, exercices",
                    "<b>Topic 0</b><br>Words: fr, chapitre, 000, adopt, bernard",
                    "<b>Topic 0</b><br>Words: 1927, guerre, militaire, dcembre, pitri",
                    "<b>Topic 0</b><br>Words: torpilles, ouvriers, fabrication, navales, aiguier",
                    "<b>Topic 0</b><br>Words: contribuable, impts, faut, finances, spectacles",
                    "<b>Topic 0</b><br>Words: 1931, dommages, communaut, lire, page",
                    "<b>Topic 0</b><br>Words: ferrand, stanislas, berteaux, seine, maurice",
                    "<b>Topic 0</b><br>Words: sceaux, gauche, police, extrme, interviews",
                    "<b>Topic 0</b><br>Words: crdit, supplmentaire, fr, chap, 000",
                    "<b>Topic 0</b><br>Words: cabrol, boisage, boisages, explosion, point",
                    "<b>Topic 0</b><br>Words: travaux, 1936, clinique, 163, total",
                    "<b>Topic 0</b><br>Words: novembre, contentieux, 1924, travaux, 1920",
                    "<b>Topic 0</b><br>Words: espalion, ligne, lignes, arrondissement, travaux",
                    "<b>Topic 0</b><br>Words: compagnie, midi, gare, rseau, triage",
                    "<b>Topic 0</b><br>Words: guerre, effort, militaire, europe, part",
                    "<b>Topic 0</b><br>Words: divisions, arme, service, guerre, mobilisation",
                    "<b>Topic 0</b><br>Words: finances, valenciennes, bthune, instruction, berthon",
                    "<b>Topic 0</b><br>Words: adopt, conomat, conomats, employs, ouvriers",
                    "<b>Topic 0</b><br>Words: fr, revenu, 000, varet, fermier",
                    "<b>Topic 0</b><br>Words: taxe, article, consulte, tendant, inscrite",
                    "<b>Topic 0</b><br>Words: barrage, dommage, sane, etat, riverains",
                    "<b>Topic 0</b><br>Words: cadavres, survivants, mars, julie, mineurs",
                    "<b>Topic 0</b><br>Words: police, agents, revolvers, manifestants, manifestation",
                    "<b>Topic 0</b><br>Words: canal, sancoins, moulins, berry, constans",
                    "<b>Topic 0</b><br>Words: evain, frais, prfecture, contribuable, lefas",
                    "<b>Topic 0</b><br>Words: paysans, mthodes, paysan, routine, communiste",
                    "<b>Topic 0</b><br>Words: octobre, etat, socit, conditions, 1933",
                    "<b>Topic 0</b><br>Words: communiste, populaire, verrez, masses, tuez",
                    "<b>Topic 0</b><br>Words: sources, ville, loing, paris, eau",
                    "<b>Topic 0</b><br>Words: journaux, tourcoing, fvrier, canne, cannes",
                    "<b>Topic 0</b><br>Words: eau, durance, souterraines, garonne, sources",
                    "<b>Topic 0</b><br>Words: barrage, agriculture, bonniard, travaux, tudes",
                    "<b>Topic 0</b><br>Words: faut, lacensure, barrage, journal, messieurs",
                    "<b>Topic 0</b><br>Words: feu, mtres, bochet, signatures, barrage",
                    "<b>Topic 0</b><br>Words: ptition, renvoi, dcision, constantine, ancien",
                    "<b>Topic 0</b><br>Words: ribaute, canal, adopt, art, article",
                    "<b>Topic 0</b><br>Words: 1929, 17, remise, finances, janvier",
                    "<b>Topic 0</b><br>Words: grle, laurent, bonnevay, dfense, ligne",
                    "<b>Topic 0</b><br>Words: dp, proj, discuss, tendant, 1908",
                    "<b>Topic 0</b><br>Words: meyer, mesures, pipe, travaux, intresse",
                    "<b>Topic 0</b><br>Words: 1935, finances, traitement, millions, rduction",
                    "<b>Topic 0</b><br>Words: puration, villes, roubaix, tourcoing, 000",
                    "<b>Topic 0</b><br>Words: 000, andrieux, fr, dtenus, chapitre",
                    "<b>Topic 0</b><br>Words: goy, jean, interruptions, combattants, communiste",
                    "<b>Topic 0</b><br>Words: 000, travaux, reconstruction, fr, barrage",
                    "<b>Topic 0</b><br>Words: eaux, castelnaudary, bassin, midi, canal",
                    "<b>Topic 0</b><br>Words: experts, rparations, dollar, faut, 14",
                    "<b>Topic 0</b><br>Words: cherbourg, rade, port, offensive, torpilleurs",
                    "<b>Topic 0</b><br>Words: article, voix, urgence, discussion, demande",
                    "<b>Topic 0</b><br>Words: travail, rolland, chmeurs, fr, chmage",
                    "<b>Topic 0</b><br>Words: applaudissements, strasbourg, 1927, alsacienne, port",
                    "<b>Topic 0</b><br>Words: fort, guerre, artillerie, mtres, mitrailleuses",
                    "<b>Topic 0</b><br>Words: pont, travaux, chausse, givors, ville",
                    "<b>Topic 0</b><br>Words: luart, travaux, agit, finances, nullement",
                    "<b>Topic 0</b><br>Words: risle, port, seine, voix, basse",
                    "<b>Topic 0</b><br>Words: manufacture, armes, matriel, guerre, chtellerault",
                    "<b>Topic 0</b><br>Words: service, hydraulique, pyrnes, recensement, ministre",
                    "<b>Topic 0</b><br>Words: monestis, cennes, travaux, eau, tarn",
                    "<b>Topic 0</b><br>Words: nomm, tendant, collgues, pinault, objet",
                    "<b>Topic 0</b><br>Words: 10, demande, moulin, 1930, fr",
                    "<b>Topic 0</b><br>Words: discussion, exercice, budget, 1884, 000",
                    "<b>Topic 0</b><br>Words: discussion, fr, urgence, budget, dubief",
                    "<b>Topic 0</b><br>Words: inflation, gauche, chassaigne, aubriot, goyon",
                    "<b>Topic 0</b><br>Words: barrages, picard, lit, suresnes, monnaie",
                    "<b>Topic 0</b><br>Words: travaux, 000, crdit, fr, publics",
                    "<b>Topic 0</b><br>Words: discussion, budget, suite, dpt, objet",
                    "<b>Topic 0</b><br>Words: nomm, tendant, 1935, no, aot",
                    "<b>Topic 0</b><br>Words: places, fortes, forts, ouvrages, dfense",
                    "<b>Topic 0</b><br>Words: rgions, communes, services, guerre, etat",
                    "<b>Topic 0</b><br>Words: discuss, lgislature, admis, 1910, budget",
                    "<b>Topic 0</b><br>Words: fr, algrie, 000, chap, adopt",
                    "<b>Topic 0</b><br>Words: combattants, fr, anciens, 57, allocation",
                    "<b>Topic 0</b><br>Words: milliards, 100, gauche, heures, francs",
                    "<b>Topic 0</b><br>Words: nomm, tendant, no, mineurs, prcdente",
                    "<b>Topic 0</b><br>Words: officiers, retraite, guerre, vieux, lieutenants",
                    "<b>Topic 0</b><br>Words: imprim, distribu, reu, avis, chappedelaine",
                    "<b>Topic 0</b><br>Words: guerre, paix, offensive, union, allemagne",
                    "<b>Topic 0</b><br>Words: groux, deloncle, projets, var, verdon",
                    "<b>Topic 0</b><br>Words: svre, agriculture, niortaise, marais, emile",
                    "<b>Topic 0</b><br>Words: travaux, 000, amlioration, budget, fr",
                    "<b>Topic 0</b><br>Words: centimes, 000, 1894, porcs, prix",
                    "<b>Topic 0</b><br>Words: vins, reprsentants, centre, commerants, acidit",
                    "<b>Topic 0</b><br>Words: 1930, jeux, demande, avril, employ",
                    "<b>Topic 0</b><br>Words: bagages, berry, voyageurs, tarif, canal",
                    "<b>Topic 0</b><br>Words: droit, risques, polices, 1924, chelle",
                    "<b>Topic 0</b><br>Words: vapeur, production, richesse, paris, 000",
                    "<b>Topic 0</b><br>Words: fr, 000, travaux, entreprises, millions",
                    "<b>Topic 0</b><br>Words: agriculture, chambres, brousse, associations, travaux",
                    "<b>Topic 0</b><br>Words: boncour, navires, paul, remplacer, marine",
                    "<b>Topic 0</b><br>Words: gauche, extrme, bancs, organiser, tort",
                    "<b>Topic 0</b><br>Words: tardieu, andr, amnistie, bloc, briand",
                    "<b>Topic 0</b><br>Words: travaux, barrage, chavanon, mtres, excution",
                    "<b>Topic 0</b><br>Words: 1936, cooprative, 1937, bl, importations",
                    "<b>Topic 0</b><br>Words: mitrailleuses, vagues, appareil, troupes, tranches",
                    "<b>Topic 0</b><br>Words: trimestre, supplmentaires, heures, fr, rduction",
                    "<b>Topic 0</b><br>Words: autorisation, permissionnaire, paragraphe, indemnit, eau",
                    "<b>Topic 0</b><br>Words: gout, paris, municipal, pratiquer, matires",
                    "<b>Topic 0</b><br>Words: mtropole, algrie, budget, salaires, autonomie",
                    "<b>Topic 0</b><br>Words: 1923, barrage, permission, vins, crue",
                    "<b>Topic 0</b><br>Words: etat, role, monuments, clocher, historiques",
                    "<b>Topic 0</b><br>Words: travaux, propose, 632dposeparm, cueils, millions",
                    "<b>Topic 0</b><br>Words: travaux, demande, nantes, brest, publics",
                    "<b>Topic 0</b><br>Words: applaudissements, gauche, painlev, ans, instruction",
                    "<b>Topic 0</b><br>Words: dcide, consulte, marchs, prcdente, prescrites",
                    "<b>Topic 0</b><br>Words: ribaute, adopt, port, syndicale, canal",
                    "<b>Topic 0</b><br>Words: compagnie, franco, algrienne, gouverneur, rclamations",
                    "<b>Topic 0</b><br>Words: fauchon, constatations, maxime, arrter, finances",
                    "<b>Topic 0</b><br>Words: indfiniment, commune, haines, minorit, agit",
                    "<b>Topic 0</b><br>Words: etat, travaux, immdiate, discussion, article",
                    "<b>Topic 0</b><br>Words: gauche, herriot, edouard, minorit, pierre",
                    "<b>Topic 0</b><br>Words: ptrole, franaise, politique, russe, dollars",
                    "<b>Topic 0</b><br>Words: budget, exercice, ouverture, clture, 1884",
                    "<b>Topic 0</b><br>Words: application, retraites, mm, renvoi, dpt",
                    "<b>Topic 0</b><br>Words: objets, vallat, xavier, gage, dtournement",
                    "<b>Topic 0</b><br>Words: colliard, mm, lecture, leprsidentdu, tribune",
                    "<b>Topic 0</b><br>Words: 1930, tuberculose, argenton, postes, receveur",
                    "<b>Topic 0</b><br>Words: main, delesalle, uvre, fr, travail",
                    "<b>Topic 0</b><br>Words: arbres, eau, cours, valle, village",
                    "<b>Topic 0</b><br>Words: prsidence, dcembre, 1915, mcaniciens, demandant",
                    "<b>Topic 0</b><br>Words: travaux, barrage, roy, publics, millions",
                    "<b>Topic 0</b><br>Words: puits, lon, conservation, camlinat, say",
                    "<b>Topic 0</b><br>Words: bl, organisme, prix, minimum, juillet",
                    "<b>Topic 0</b><br>Words: priode, messieurs, pays, effort, france",
                    "<b>Topic 0</b><br>Words: prix, paysan, paysanne, producteur, betterave",
                    "<b>Topic 0</b><br>Words: ferdinand, bougre, compte, 1860, vannes",
                    "<b>Topic 0</b><br>Words: travaux, chap, fr, publics, services",
                    "<b>Topic 0</b><br>Words: loire, barrages, cubes, mtres, eaux",
                    "<b>Topic 0</b><br>Words: communes, monestier, autorisation, eau, avis",
                    "<b>Topic 0</b><br>Words: david, fernand, prix, reconstitution, industrielle",
                    "<b>Topic 0</b><br>Words: am, cong, emile, nomination, henri",
                    "<b>Topic 0</b><br>Words: office, bl, taxes, producteurs, prix",
                    "<b>Topic 0</b><br>Words: eau, eaux, rome, paris, berlin",
                    "<b>Topic 0</b><br>Words: fr, budget, travaux, gers, 000",
                    "<b>Topic 0</b><br>Words: marchande, marine, daher, andr, etat",
                    "<b>Topic 0</b><br>Words: coalition, politique, deschizeaux, france, louis",
                    "<b>Topic 0</b><br>Words: droits, douane, impt, indirect, bl",
                    "<b>Topic 0</b><br>Words: infanterie, thalamas, troisheures, treignier, collgues",
                    "<b>Topic 0</b><br>Words: demande, choix, affaires, classe, avril",
                    "<b>Topic 0</b><br>Words: canal, travaux, voies, publics, service",
                    "<b>Topic 0</b><br>Words: cortge, tisseurs, gauche, rue, janvier",
                    "<b>Topic 0</b><br>Words: travaux, canal, 000, article, port",
                    "<b>Topic 0</b><br>Words: bl, roux, freissineng, indignes, bls",
                    "<b>Topic 0</b><br>Words: brard, franais, leygues, certificat, applaudissements",
                    "<b>Topic 0</b><br>Words: millions, canal, compagnie, tranche, culebra",
                    "<b>Topic 0</b><br>Words: glace, accident, endroit, patineurs, gardes",
                    "<b>Topic 0</b><br>Words: barrages, directeur, barrage, vraiment, mineurs",
                    "<b>Topic 0</b><br>Words: emile, charles, savoie, louis, travaux",
                    "<b>Topic 0</b><br>Words: excdent, cours, 1033, brachard, rcolte",
                    "<b>Topic 0</b><br>Words: navigation, 1939, mars, publics, travaux",
                    "<b>Topic 0</b><br>Words: io, er, guerre, applaudissements, barrage",
                    "<b>Topic 0</b><br>Words: exposition, succs, monzie, 1937, anatole",
                    "<b>Topic 0</b><br>Words: pacte, russie, interruptions, creyssel, extrme",
                    "<b>Topic 0</b><br>Words: monnet, partis, quotient, circonscriptions, listes",
                    "<b>Topic 0</b><br>Words: bons, faut, travaux, payez, 100",
                    "<b>Topic 0</b><br>Words: chap, mm, laque, 29, pasd",
                    "<b>Topic 0</b><br>Words: travaux, seine, barrage, voies, travail",
                    "<b>Topic 0</b><br>Words: 1913, 14, mai, remise, prsidence",
                    "<b>Topic 0</b><br>Words: travail, chmage, sacrifice, chmeurs, industriels",
                    "<b>Topic 0</b><br>Words: bateaux, faut, calais, marin, guerre",
                    "<b>Topic 0</b><br>Words: daladier, edouard, gauche, fortifi, hussel",
                    "<b>Topic 0</b><br>Words: fr, chap, 000, ministre, crdits",
                    "<b>Topic 0</b><br>Words: sarraut, bluff, doumergue, albert, texte",
                    "<b>Topic 0</b><br>Words: plan, armes, macdonald, armements, aviation",
                    "<b>Topic 0</b><br>Words: page, colonne, lieu, ligne, lire",
                    "<b>Topic 0</b><br>Words: morinaud, rieunier, chapitre, etat, vice",
                    "<b>Topic 0</b><br>Words: nations, sanctions, socit, demain, guerre",
                    "<b>Topic 0</b><br>Words: compagnies, chelles, poisson, concessionnaires, engagements",
                    "<b>Topic 0</b><br>Words: marins, barrage, mines, nord, anglais",
                    "<b>Topic 0</b><br>Words: bl, quintal, fr, taxes, quintaux",
                    "<b>Topic 0</b><br>Words: garantie, obligations, capital, montant, charges",
                    "<b>Topic 0</b><br>Words: chine, millimtres, allemagne, canon, nations",
                    "<b>Topic 0</b><br>Words: 000, 1935, dpenses, 20, levage",
                    "<b>Topic 0</b><br>Words: perces, gaillemin, vosges, colmar, veulent",
                    "<b>Topic 0</b><br>Words: 1916, remise, prsidence, 18, demandant",
                    "<b>Topic 0</b><br>Words: travaux, yonne, canal, intresss, courlon",
                    "<b>Topic 0</b><br>Words: srol, changes, albert, capitaux, contrle",
                    "<b>Topic 0</b><br>Words: fouquet, eau, camille, travaux, eaux",
                    "<b>Topic 0</b><br>Words: passive, dfense, air, appareils, appareil",
                    "<b>Topic 0</b><br>Words: discuss, amend, proj, dp, assistance",
                    "<b>Topic 0</b><br>Words: lignes, millions, rseaux, travaux, raisonnable",
                    "<b>Topic 0</b><br>Words: villes, concessionnaire, usine, 000, 100",
                    "<b>Topic 0</b><br>Words: travaux, outillage, national, budget, louis",
                    "<b>Topic 0</b><br>Words: fr, bl, agriculture, 50, er",
                    "<b>Topic 0</b><br>Words: italie, bases, marine, mditerrane, navales",
                    "<b>Topic 0</b><br>Words: recrutement, postes, rgions, tlphones, facteurs",
                    "<b>Topic 0</b><br>Words: bourse, police, agents, prfet, ouvriers",
                    "<b>Topic 0</b><br>Words: agriculture, cathala, gauche, vraiment, centre",
                    "<b>Topic 0</b><br>Words: poissons, agriculture, rivires, forts, eaux",
                    "<b>Topic 0</b><br>Words: mlay, ville, commune, vanne, paris",
                    "<b>Topic 0</b><br>Words: amnistie, mirand, patureau, anselme, maintes",
                    "<b>Topic 0</b><br>Words: 1912, fvrier, manteau, hesse, guerre",
                    "<b>Topic 0</b><br>Words: travaux, publics, point, socit, canal",
                    "<b>Topic 0</b><br>Words: 1931, demande, fv, anciennet, remplacement",
                    "<b>Topic 0</b><br>Words: bokanowski, union, maurice, programme, pays",
                    "<b>Topic 0</b><br>Words: travaux, barrage, publics, cornavin, balance",
                    "<b>Topic 0</b><br>Words: demande, finances, nicotine, engerand, administration",
                    "<b>Topic 0</b><br>Words: organisation, parcs, ouvrages, permanentes, mobiles",
                    "<b>Topic 0</b><br>Words: croix, guerre, peyroux, nadi, chasseur",
                    "<b>Topic 0</b><br>Words: 1935, finances, 100, dcembre, millions",
                    "<b>Topic 0</b><br>Words: travaux, chap, publics, barrage, cluzel",
                    "<b>Topic 0</b><br>Words: gauche, soir, marin, politique, droit",
                    "<b>Topic 0</b><br>Words: honneur, lgion, fontane, cour, eiffel",
                    "<b>Topic 0</b><br>Words: bl, prix, droit, bls, pain",
                    "<b>Topic 0</b><br>Words: mutils, applaudissements, gauche, barrage, satisfaisants",
                    "<b>Topic 0</b><br>Words: lemire, pont, paris, marcel, prtends",
                    "<b>Topic 0</b><br>Words: lignes, nergie, compagnies, transport, intrt",
                    "<b>Topic 0</b><br>Words: revalorisation, fr, partielle, franc, prix",
                    "<b>Topic 0</b><br>Words: travaux, rhne, compagnie, navigation, amnagement",
                    "<b>Topic 0</b><br>Words: personnel, libres, 1930, rgions, ans",
                    "<b>Topic 0</b><br>Words: saint, prud, vot, seine, ptitions",
                    "<b>Topic 0</b><br>Words: classe, bousquet, 1935, anciennet, ducation",
                    "<b>Topic 0</b><br>Words: fr, commune, 50, communes, jours",
                    "<b>Topic 0</b><br>Words: enseignement, lves, tudes, primaire, secondaire",
                    "<b>Topic 0</b><br>Words: grve, ouvriers, montceau, gauche, mesures",
                    "<b>Topic 0</b><br>Words: loing, eau, eaux, paris, fleuve",
                    "<b>Topic 0</b><br>Words: tangs, poissons, rivires, eau, poisson",
                    "<b>Topic 0</b><br>Words: cherbourg, wickersheimer, mnard, dorian, conomie",
                    "<b>Topic 0</b><br>Words: trusts, ptrole, production, consortium, guerre",
                    "<b>Topic 0</b><br>Words: travaux, crdits, canal, nord, navigation"
                  ],
                  "marker": {
                    "color": "#E69F00"
                  },
                  "name": "0_travaux_barrage_fr_demande",
                  "orientation": "h",
                  "type": "bar",
                  "visible": true,
                  "x": [
                    1,
                    1,
                    3,
                    2,
                    1,
                    1,
                    2,
                    3,
                    1,
                    2,
                    1,
                    1,
                    1,
                    10,
                    2,
                    1,
                    2,
                    3,
                    1,
                    2,
                    3,
                    5,
                    1,
                    2,
                    1,
                    1,
                    1,
                    1,
                    5,
                    1,
                    1,
                    1,
                    1,
                    1,
                    2,
                    1,
                    1,
                    1,
                    2,
                    7,
                    1,
                    7,
                    15,
                    4,
                    1,
                    2,
                    1,
                    2,
                    1,
                    2,
                    5,
                    1,
                    3,
                    1,
                    3,
                    5,
                    1,
                    1,
                    1,
                    2,
                    2,
                    1,
                    1,
                    1,
                    2,
                    4,
                    1,
                    2,
                    1,
                    1,
                    1,
                    1,
                    1,
                    1,
                    2,
                    1,
                    2,
                    1,
                    4,
                    1,
                    1,
                    7,
                    2,
                    1,
                    1,
                    1,
                    2,
                    4,
                    1,
                    1,
                    1,
                    1,
                    2,
                    1,
                    1,
                    1,
                    1,
                    1,
                    1,
                    1,
                    1,
                    1,
                    2,
                    2,
                    1,
                    1,
                    6,
                    2,
                    2,
                    1,
                    1,
                    1,
                    1,
                    2,
                    1,
                    2,
                    18,
                    3,
                    1,
                    3,
                    3,
                    3,
                    1,
                    2,
                    1,
                    18,
                    19,
                    2,
                    5,
                    3,
                    1,
                    1,
                    1,
                    2,
                    1,
                    2,
                    10,
                    3,
                    1,
                    1,
                    1,
                    4,
                    2,
                    5,
                    1,
                    1,
                    1,
                    2,
                    1,
                    1,
                    1,
                    1,
                    1,
                    2,
                    2,
                    2,
                    3,
                    1,
                    1,
                    2,
                    1,
                    1,
                    1,
                    2,
                    1,
                    3,
                    1,
                    1,
                    1,
                    1,
                    2,
                    2,
                    1,
                    1,
                    1,
                    12,
                    1,
                    1,
                    17,
                    1,
                    1,
                    1,
                    1,
                    3,
                    1,
                    1,
                    4,
                    1,
                    1,
                    1,
                    1,
                    1,
                    1,
                    1,
                    1,
                    1,
                    1,
                    1,
                    1,
                    1,
                    1,
                    2,
                    1,
                    1,
                    1,
                    1,
                    1,
                    12,
                    2,
                    4,
                    1,
                    1,
                    1,
                    1,
                    1,
                    1,
                    1,
                    1,
                    7,
                    2,
                    8,
                    3,
                    1,
                    1,
                    1,
                    1,
                    1,
                    1,
                    1,
                    1,
                    1,
                    6,
                    1,
                    2,
                    1,
                    2,
                    2,
                    1,
                    4,
                    3,
                    1,
                    1,
                    1,
                    1,
                    1,
                    1,
                    3,
                    4,
                    1,
                    1,
                    3,
                    4,
                    2,
                    1,
                    3,
                    1,
                    1,
                    5,
                    2,
                    1,
                    1,
                    1,
                    1,
                    1,
                    10,
                    2,
                    1,
                    1,
                    1,
                    1,
                    1,
                    4,
                    3,
                    1,
                    3,
                    1,
                    1,
                    1,
                    10,
                    2,
                    5,
                    2,
                    10,
                    1,
                    1,
                    8,
                    1,
                    1,
                    4,
                    2,
                    1,
                    1,
                    3,
                    1,
                    1,
                    1,
                    1,
                    1,
                    2,
                    2,
                    1,
                    1,
                    2,
                    1,
                    2,
                    1,
                    14,
                    1,
                    1,
                    2,
                    1,
                    6,
                    2,
                    3,
                    2,
                    2,
                    1,
                    2,
                    1,
                    1,
                    1,
                    2,
                    1,
                    1,
                    1,
                    1,
                    1,
                    3,
                    1,
                    3,
                    1,
                    4,
                    6,
                    1,
                    2,
                    2,
                    1,
                    1,
                    2,
                    1,
                    1,
                    1,
                    9,
                    1,
                    1,
                    9,
                    1,
                    1,
                    1,
                    2,
                    2,
                    2,
                    1,
                    1,
                    28,
                    1,
                    2,
                    1,
                    2,
                    1,
                    2,
                    1,
                    1,
                    2,
                    1,
                    1,
                    2,
                    1,
                    1,
                    1,
                    1,
                    1,
                    2,
                    1,
                    4,
                    2,
                    1,
                    1,
                    4,
                    1,
                    1,
                    10,
                    2,
                    2,
                    1,
                    3,
                    8,
                    1,
                    1,
                    1,
                    1,
                    1,
                    1,
                    1,
                    10,
                    1,
                    1,
                    1,
                    3,
                    4,
                    1,
                    3,
                    8,
                    1,
                    1,
                    1
                  ],
                  "y": [
                    1907,
                    1915,
                    1925,
                    1905,
                    1930,
                    1935,
                    1888,
                    1907,
                    1925,
                    1895,
                    1933,
                    1933,
                    1905,
                    1919,
                    1908,
                    1893,
                    1888,
                    1935,
                    1931,
                    1889,
                    1919,
                    1910,
                    1935,
                    1913,
                    1928,
                    1932,
                    1931,
                    1926,
                    1913,
                    1913,
                    1909,
                    1923,
                    1939,
                    1937,
                    1897,
                    1937,
                    1918,
                    1900,
                    1913,
                    1890,
                    1936,
                    1936,
                    1919,
                    1934,
                    1918,
                    1884,
                    1920,
                    1939,
                    1923,
                    1888,
                    1918,
                    1931,
                    1892,
                    1916,
                    1906,
                    1919,
                    1882,
                    1912,
                    1925,
                    1920,
                    1911,
                    1934,
                    1919,
                    1931,
                    1900,
                    1930,
                    1918,
                    1918,
                    1913,
                    1916,
                    1884,
                    1911,
                    1928,
                    1889,
                    1934,
                    1921,
                    1929,
                    1904,
                    1916,
                    1907,
                    1897,
                    1907,
                    1910,
                    1935,
                    1888,
                    1911,
                    1916,
                    1905,
                    1935,
                    1883,
                    1925,
                    1897,
                    1883,
                    1893,
                    1939,
                    1915,
                    1923,
                    1889,
                    1912,
                    1912,
                    1939,
                    1922,
                    1923,
                    1923,
                    1936,
                    1910,
                    1910,
                    1933,
                    1935,
                    1923,
                    1927,
                    1920,
                    1922,
                    1916,
                    1916,
                    1914,
                    1927,
                    1919,
                    1906,
                    1939,
                    1909,
                    1924,
                    1911,
                    1904,
                    1911,
                    1910,
                    1891,
                    1923,
                    1935,
                    1923,
                    1892,
                    1934,
                    1934,
                    1913,
                    1917,
                    1890,
                    1921,
                    1913,
                    1925,
                    1898,
                    1897,
                    1931,
                    1909,
                    1916,
                    1917,
                    1898,
                    1906,
                    1919,
                    1931,
                    1904,
                    1924,
                    1935,
                    1882,
                    1920,
                    1902,
                    1884,
                    1910,
                    1888,
                    1884,
                    1917,
                    1927,
                    1934,
                    1929,
                    1912,
                    1938,
                    1902,
                    1933,
                    1936,
                    1912,
                    1931,
                    1921,
                    1936,
                    1891,
                    1890,
                    1882,
                    1912,
                    1917,
                    1898,
                    1924,
                    1906,
                    1934,
                    1910,
                    1936,
                    1905,
                    1916,
                    1911,
                    1887,
                    1890,
                    1900,
                    1927,
                    1922,
                    1919,
                    1931,
                    1900,
                    1929,
                    1883,
                    1913,
                    1936,
                    1924,
                    1926,
                    1908,
                    1937,
                    1927,
                    1922,
                    1910,
                    1908,
                    1931,
                    1883,
                    1906,
                    1919,
                    1903,
                    1925,
                    1924,
                    1934,
                    1937,
                    1897,
                    1935,
                    1906,
                    1910,
                    1940,
                    1886,
                    1924,
                    1893,
                    1929,
                    1939,
                    1908,
                    1936,
                    1935,
                    1896,
                    1921,
                    1938,
                    1912,
                    1905,
                    1924,
                    1888,
                    1912,
                    1935,
                    1929,
                    1928,
                    1929,
                    1939,
                    1889,
                    1919,
                    1908,
                    1899,
                    1933,
                    1930,
                    1884,
                    1899,
                    1921,
                    1913,
                    1899,
                    1904,
                    1936,
                    1907,
                    1933,
                    1910,
                    1900,
                    1932,
                    1938,
                    1928,
                    1911,
                    1928,
                    1940,
                    1914,
                    1912,
                    1895,
                    1896,
                    1930,
                    1930,
                    1905,
                    1925,
                    1910,
                    1897,
                    1919,
                    1931,
                    1935,
                    1922,
                    1928,
                    1937,
                    1917,
                    1939,
                    1919,
                    1888,
                    1933,
                    1923,
                    1912,
                    1882,
                    1931,
                    1923,
                    1928,
                    1893,
                    1885,
                    1934,
                    1886,
                    1927,
                    1932,
                    1931,
                    1884,
                    1911,
                    1937,
                    1903,
                    1930,
                    1920,
                    1898,
                    1915,
                    1931,
                    1886,
                    1933,
                    1940,
                    1939,
                    1919,
                    1928,
                    1909,
                    1919,
                    1919,
                    1891,
                    1939,
                    1894,
                    1910,
                    1937,
                    1939,
                    1909,
                    1912,
                    1930,
                    1932,
                    1900,
                    1910,
                    1929,
                    1924,
                    1888,
                    1908,
                    1906,
                    1911,
                    1934,
                    1939,
                    1925,
                    1937,
                    1936,
                    1939,
                    1927,
                    1912,
                    1929,
                    1913,
                    1935,
                    1917,
                    1934,
                    1889,
                    1905,
                    1933,
                    1920,
                    1899,
                    1935,
                    1928,
                    1916,
                    1938,
                    1924,
                    1937,
                    1935,
                    1935,
                    1916,
                    1906,
                    1937,
                    1890,
                    1938,
                    1905,
                    1929,
                    1901,
                    1933,
                    1933,
                    1924,
                    1926,
                    1904,
                    1937,
                    1909,
                    1892,
                    1920,
                    1912,
                    1932,
                    1931,
                    1926,
                    1937,
                    1911,
                    1929,
                    1917,
                    1936,
                    1924,
                    1931,
                    1895,
                    1885,
                    1921,
                    1910,
                    1920,
                    1928,
                    1934,
                    1932,
                    1892,
                    1935,
                    1912,
                    1923,
                    1901,
                    1897,
                    1922,
                    1889,
                    1923,
                    1925
                  ]
                },
                {
                  "hoverinfo": "text",
                  "hovertext": [
                    "<b>Topic 1</b><br>Words: loire, compagnie, gilbert, laurent, nantes",
                    "<b>Topic 1</b><br>Words: loire, nantes, art, landes, juin",
                    "<b>Topic 1</b><br>Words: loire, authion, valle, nantes, bourguignon",
                    "<b>Topic 1</b><br>Words: tudes, nantes, loire, travail, bassin",
                    "<b>Topic 1</b><br>Words: nantes, loire, lechalas, amont, port",
                    "<b>Topic 1</b><br>Words: loire, saumon, pcheurs, nantes, fleuve"
                  ],
                  "marker": {
                    "color": "#56B4E9"
                  },
                  "name": "1_nantes_loire_lechalas_amont",
                  "orientation": "h",
                  "type": "bar",
                  "visible": "legendonly",
                  "x": [
                    1,
                    1,
                    1,
                    1,
                    7,
                    1
                  ],
                  "y": [
                    1921,
                    1912,
                    1910,
                    1919,
                    1913,
                    1889
                  ]
                }
              ],
              "layout": {
                "height": 900,
                "hoverlabel": {
                  "bgcolor": "white",
                  "font": {
                    "family": "Rockwell",
                    "size": 16
                  }
                },
                "legend": {
                  "title": {
                    "text": "<b>Global Topic Representation"
                  }
                },
                "template": {
                  "data": {
                    "bar": [
                      {
                        "error_x": {
                          "color": "rgb(36,36,36)"
                        },
                        "error_y": {
                          "color": "rgb(36,36,36)"
                        },
                        "marker": {
                          "line": {
                            "color": "white",
                            "width": 0.5
                          },
                          "pattern": {
                            "fillmode": "overlay",
                            "size": 10,
                            "solidity": 0.2
                          }
                        },
                        "type": "bar"
                      }
                    ],
                    "barpolar": [
                      {
                        "marker": {
                          "line": {
                            "color": "white",
                            "width": 0.5
                          },
                          "pattern": {
                            "fillmode": "overlay",
                            "size": 10,
                            "solidity": 0.2
                          }
                        },
                        "type": "barpolar"
                      }
                    ],
                    "carpet": [
                      {
                        "aaxis": {
                          "endlinecolor": "rgb(36,36,36)",
                          "gridcolor": "white",
                          "linecolor": "white",
                          "minorgridcolor": "white",
                          "startlinecolor": "rgb(36,36,36)"
                        },
                        "baxis": {
                          "endlinecolor": "rgb(36,36,36)",
                          "gridcolor": "white",
                          "linecolor": "white",
                          "minorgridcolor": "white",
                          "startlinecolor": "rgb(36,36,36)"
                        },
                        "type": "carpet"
                      }
                    ],
                    "choropleth": [
                      {
                        "colorbar": {
                          "outlinewidth": 1,
                          "tickcolor": "rgb(36,36,36)",
                          "ticks": "outside"
                        },
                        "type": "choropleth"
                      }
                    ],
                    "contour": [
                      {
                        "colorbar": {
                          "outlinewidth": 1,
                          "tickcolor": "rgb(36,36,36)",
                          "ticks": "outside"
                        },
                        "colorscale": [
                          [
                            0,
                            "#440154"
                          ],
                          [
                            0.1111111111111111,
                            "#482878"
                          ],
                          [
                            0.2222222222222222,
                            "#3e4989"
                          ],
                          [
                            0.3333333333333333,
                            "#31688e"
                          ],
                          [
                            0.4444444444444444,
                            "#26828e"
                          ],
                          [
                            0.5555555555555556,
                            "#1f9e89"
                          ],
                          [
                            0.6666666666666666,
                            "#35b779"
                          ],
                          [
                            0.7777777777777778,
                            "#6ece58"
                          ],
                          [
                            0.8888888888888888,
                            "#b5de2b"
                          ],
                          [
                            1,
                            "#fde725"
                          ]
                        ],
                        "type": "contour"
                      }
                    ],
                    "contourcarpet": [
                      {
                        "colorbar": {
                          "outlinewidth": 1,
                          "tickcolor": "rgb(36,36,36)",
                          "ticks": "outside"
                        },
                        "type": "contourcarpet"
                      }
                    ],
                    "heatmap": [
                      {
                        "colorbar": {
                          "outlinewidth": 1,
                          "tickcolor": "rgb(36,36,36)",
                          "ticks": "outside"
                        },
                        "colorscale": [
                          [
                            0,
                            "#440154"
                          ],
                          [
                            0.1111111111111111,
                            "#482878"
                          ],
                          [
                            0.2222222222222222,
                            "#3e4989"
                          ],
                          [
                            0.3333333333333333,
                            "#31688e"
                          ],
                          [
                            0.4444444444444444,
                            "#26828e"
                          ],
                          [
                            0.5555555555555556,
                            "#1f9e89"
                          ],
                          [
                            0.6666666666666666,
                            "#35b779"
                          ],
                          [
                            0.7777777777777778,
                            "#6ece58"
                          ],
                          [
                            0.8888888888888888,
                            "#b5de2b"
                          ],
                          [
                            1,
                            "#fde725"
                          ]
                        ],
                        "type": "heatmap"
                      }
                    ],
                    "heatmapgl": [
                      {
                        "colorbar": {
                          "outlinewidth": 1,
                          "tickcolor": "rgb(36,36,36)",
                          "ticks": "outside"
                        },
                        "colorscale": [
                          [
                            0,
                            "#440154"
                          ],
                          [
                            0.1111111111111111,
                            "#482878"
                          ],
                          [
                            0.2222222222222222,
                            "#3e4989"
                          ],
                          [
                            0.3333333333333333,
                            "#31688e"
                          ],
                          [
                            0.4444444444444444,
                            "#26828e"
                          ],
                          [
                            0.5555555555555556,
                            "#1f9e89"
                          ],
                          [
                            0.6666666666666666,
                            "#35b779"
                          ],
                          [
                            0.7777777777777778,
                            "#6ece58"
                          ],
                          [
                            0.8888888888888888,
                            "#b5de2b"
                          ],
                          [
                            1,
                            "#fde725"
                          ]
                        ],
                        "type": "heatmapgl"
                      }
                    ],
                    "histogram": [
                      {
                        "marker": {
                          "line": {
                            "color": "white",
                            "width": 0.6
                          }
                        },
                        "type": "histogram"
                      }
                    ],
                    "histogram2d": [
                      {
                        "colorbar": {
                          "outlinewidth": 1,
                          "tickcolor": "rgb(36,36,36)",
                          "ticks": "outside"
                        },
                        "colorscale": [
                          [
                            0,
                            "#440154"
                          ],
                          [
                            0.1111111111111111,
                            "#482878"
                          ],
                          [
                            0.2222222222222222,
                            "#3e4989"
                          ],
                          [
                            0.3333333333333333,
                            "#31688e"
                          ],
                          [
                            0.4444444444444444,
                            "#26828e"
                          ],
                          [
                            0.5555555555555556,
                            "#1f9e89"
                          ],
                          [
                            0.6666666666666666,
                            "#35b779"
                          ],
                          [
                            0.7777777777777778,
                            "#6ece58"
                          ],
                          [
                            0.8888888888888888,
                            "#b5de2b"
                          ],
                          [
                            1,
                            "#fde725"
                          ]
                        ],
                        "type": "histogram2d"
                      }
                    ],
                    "histogram2dcontour": [
                      {
                        "colorbar": {
                          "outlinewidth": 1,
                          "tickcolor": "rgb(36,36,36)",
                          "ticks": "outside"
                        },
                        "colorscale": [
                          [
                            0,
                            "#440154"
                          ],
                          [
                            0.1111111111111111,
                            "#482878"
                          ],
                          [
                            0.2222222222222222,
                            "#3e4989"
                          ],
                          [
                            0.3333333333333333,
                            "#31688e"
                          ],
                          [
                            0.4444444444444444,
                            "#26828e"
                          ],
                          [
                            0.5555555555555556,
                            "#1f9e89"
                          ],
                          [
                            0.6666666666666666,
                            "#35b779"
                          ],
                          [
                            0.7777777777777778,
                            "#6ece58"
                          ],
                          [
                            0.8888888888888888,
                            "#b5de2b"
                          ],
                          [
                            1,
                            "#fde725"
                          ]
                        ],
                        "type": "histogram2dcontour"
                      }
                    ],
                    "mesh3d": [
                      {
                        "colorbar": {
                          "outlinewidth": 1,
                          "tickcolor": "rgb(36,36,36)",
                          "ticks": "outside"
                        },
                        "type": "mesh3d"
                      }
                    ],
                    "parcoords": [
                      {
                        "line": {
                          "colorbar": {
                            "outlinewidth": 1,
                            "tickcolor": "rgb(36,36,36)",
                            "ticks": "outside"
                          }
                        },
                        "type": "parcoords"
                      }
                    ],
                    "pie": [
                      {
                        "automargin": true,
                        "type": "pie"
                      }
                    ],
                    "scatter": [
                      {
                        "fillpattern": {
                          "fillmode": "overlay",
                          "size": 10,
                          "solidity": 0.2
                        },
                        "type": "scatter"
                      }
                    ],
                    "scatter3d": [
                      {
                        "line": {
                          "colorbar": {
                            "outlinewidth": 1,
                            "tickcolor": "rgb(36,36,36)",
                            "ticks": "outside"
                          }
                        },
                        "marker": {
                          "colorbar": {
                            "outlinewidth": 1,
                            "tickcolor": "rgb(36,36,36)",
                            "ticks": "outside"
                          }
                        },
                        "type": "scatter3d"
                      }
                    ],
                    "scattercarpet": [
                      {
                        "marker": {
                          "colorbar": {
                            "outlinewidth": 1,
                            "tickcolor": "rgb(36,36,36)",
                            "ticks": "outside"
                          }
                        },
                        "type": "scattercarpet"
                      }
                    ],
                    "scattergeo": [
                      {
                        "marker": {
                          "colorbar": {
                            "outlinewidth": 1,
                            "tickcolor": "rgb(36,36,36)",
                            "ticks": "outside"
                          }
                        },
                        "type": "scattergeo"
                      }
                    ],
                    "scattergl": [
                      {
                        "marker": {
                          "colorbar": {
                            "outlinewidth": 1,
                            "tickcolor": "rgb(36,36,36)",
                            "ticks": "outside"
                          }
                        },
                        "type": "scattergl"
                      }
                    ],
                    "scattermapbox": [
                      {
                        "marker": {
                          "colorbar": {
                            "outlinewidth": 1,
                            "tickcolor": "rgb(36,36,36)",
                            "ticks": "outside"
                          }
                        },
                        "type": "scattermapbox"
                      }
                    ],
                    "scatterpolar": [
                      {
                        "marker": {
                          "colorbar": {
                            "outlinewidth": 1,
                            "tickcolor": "rgb(36,36,36)",
                            "ticks": "outside"
                          }
                        },
                        "type": "scatterpolar"
                      }
                    ],
                    "scatterpolargl": [
                      {
                        "marker": {
                          "colorbar": {
                            "outlinewidth": 1,
                            "tickcolor": "rgb(36,36,36)",
                            "ticks": "outside"
                          }
                        },
                        "type": "scatterpolargl"
                      }
                    ],
                    "scatterternary": [
                      {
                        "marker": {
                          "colorbar": {
                            "outlinewidth": 1,
                            "tickcolor": "rgb(36,36,36)",
                            "ticks": "outside"
                          }
                        },
                        "type": "scatterternary"
                      }
                    ],
                    "surface": [
                      {
                        "colorbar": {
                          "outlinewidth": 1,
                          "tickcolor": "rgb(36,36,36)",
                          "ticks": "outside"
                        },
                        "colorscale": [
                          [
                            0,
                            "#440154"
                          ],
                          [
                            0.1111111111111111,
                            "#482878"
                          ],
                          [
                            0.2222222222222222,
                            "#3e4989"
                          ],
                          [
                            0.3333333333333333,
                            "#31688e"
                          ],
                          [
                            0.4444444444444444,
                            "#26828e"
                          ],
                          [
                            0.5555555555555556,
                            "#1f9e89"
                          ],
                          [
                            0.6666666666666666,
                            "#35b779"
                          ],
                          [
                            0.7777777777777778,
                            "#6ece58"
                          ],
                          [
                            0.8888888888888888,
                            "#b5de2b"
                          ],
                          [
                            1,
                            "#fde725"
                          ]
                        ],
                        "type": "surface"
                      }
                    ],
                    "table": [
                      {
                        "cells": {
                          "fill": {
                            "color": "rgb(237,237,237)"
                          },
                          "line": {
                            "color": "white"
                          }
                        },
                        "header": {
                          "fill": {
                            "color": "rgb(217,217,217)"
                          },
                          "line": {
                            "color": "white"
                          }
                        },
                        "type": "table"
                      }
                    ]
                  },
                  "layout": {
                    "annotationdefaults": {
                      "arrowhead": 0,
                      "arrowwidth": 1
                    },
                    "autotypenumbers": "strict",
                    "coloraxis": {
                      "colorbar": {
                        "outlinewidth": 1,
                        "tickcolor": "rgb(36,36,36)",
                        "ticks": "outside"
                      }
                    },
                    "colorscale": {
                      "diverging": [
                        [
                          0,
                          "rgb(103,0,31)"
                        ],
                        [
                          0.1,
                          "rgb(178,24,43)"
                        ],
                        [
                          0.2,
                          "rgb(214,96,77)"
                        ],
                        [
                          0.3,
                          "rgb(244,165,130)"
                        ],
                        [
                          0.4,
                          "rgb(253,219,199)"
                        ],
                        [
                          0.5,
                          "rgb(247,247,247)"
                        ],
                        [
                          0.6,
                          "rgb(209,229,240)"
                        ],
                        [
                          0.7,
                          "rgb(146,197,222)"
                        ],
                        [
                          0.8,
                          "rgb(67,147,195)"
                        ],
                        [
                          0.9,
                          "rgb(33,102,172)"
                        ],
                        [
                          1,
                          "rgb(5,48,97)"
                        ]
                      ],
                      "sequential": [
                        [
                          0,
                          "#440154"
                        ],
                        [
                          0.1111111111111111,
                          "#482878"
                        ],
                        [
                          0.2222222222222222,
                          "#3e4989"
                        ],
                        [
                          0.3333333333333333,
                          "#31688e"
                        ],
                        [
                          0.4444444444444444,
                          "#26828e"
                        ],
                        [
                          0.5555555555555556,
                          "#1f9e89"
                        ],
                        [
                          0.6666666666666666,
                          "#35b779"
                        ],
                        [
                          0.7777777777777778,
                          "#6ece58"
                        ],
                        [
                          0.8888888888888888,
                          "#b5de2b"
                        ],
                        [
                          1,
                          "#fde725"
                        ]
                      ],
                      "sequentialminus": [
                        [
                          0,
                          "#440154"
                        ],
                        [
                          0.1111111111111111,
                          "#482878"
                        ],
                        [
                          0.2222222222222222,
                          "#3e4989"
                        ],
                        [
                          0.3333333333333333,
                          "#31688e"
                        ],
                        [
                          0.4444444444444444,
                          "#26828e"
                        ],
                        [
                          0.5555555555555556,
                          "#1f9e89"
                        ],
                        [
                          0.6666666666666666,
                          "#35b779"
                        ],
                        [
                          0.7777777777777778,
                          "#6ece58"
                        ],
                        [
                          0.8888888888888888,
                          "#b5de2b"
                        ],
                        [
                          1,
                          "#fde725"
                        ]
                      ]
                    },
                    "colorway": [
                      "#1F77B4",
                      "#FF7F0E",
                      "#2CA02C",
                      "#D62728",
                      "#9467BD",
                      "#8C564B",
                      "#E377C2",
                      "#7F7F7F",
                      "#BCBD22",
                      "#17BECF"
                    ],
                    "font": {
                      "color": "rgb(36,36,36)"
                    },
                    "geo": {
                      "bgcolor": "white",
                      "lakecolor": "white",
                      "landcolor": "white",
                      "showlakes": true,
                      "showland": true,
                      "subunitcolor": "white"
                    },
                    "hoverlabel": {
                      "align": "left"
                    },
                    "hovermode": "closest",
                    "mapbox": {
                      "style": "light"
                    },
                    "paper_bgcolor": "white",
                    "plot_bgcolor": "white",
                    "polar": {
                      "angularaxis": {
                        "gridcolor": "rgb(232,232,232)",
                        "linecolor": "rgb(36,36,36)",
                        "showgrid": false,
                        "showline": true,
                        "ticks": "outside"
                      },
                      "bgcolor": "white",
                      "radialaxis": {
                        "gridcolor": "rgb(232,232,232)",
                        "linecolor": "rgb(36,36,36)",
                        "showgrid": false,
                        "showline": true,
                        "ticks": "outside"
                      }
                    },
                    "scene": {
                      "xaxis": {
                        "backgroundcolor": "white",
                        "gridcolor": "rgb(232,232,232)",
                        "gridwidth": 2,
                        "linecolor": "rgb(36,36,36)",
                        "showbackground": true,
                        "showgrid": false,
                        "showline": true,
                        "ticks": "outside",
                        "zeroline": false,
                        "zerolinecolor": "rgb(36,36,36)"
                      },
                      "yaxis": {
                        "backgroundcolor": "white",
                        "gridcolor": "rgb(232,232,232)",
                        "gridwidth": 2,
                        "linecolor": "rgb(36,36,36)",
                        "showbackground": true,
                        "showgrid": false,
                        "showline": true,
                        "ticks": "outside",
                        "zeroline": false,
                        "zerolinecolor": "rgb(36,36,36)"
                      },
                      "zaxis": {
                        "backgroundcolor": "white",
                        "gridcolor": "rgb(232,232,232)",
                        "gridwidth": 2,
                        "linecolor": "rgb(36,36,36)",
                        "showbackground": true,
                        "showgrid": false,
                        "showline": true,
                        "ticks": "outside",
                        "zeroline": false,
                        "zerolinecolor": "rgb(36,36,36)"
                      }
                    },
                    "shapedefaults": {
                      "fillcolor": "black",
                      "line": {
                        "width": 0
                      },
                      "opacity": 0.3
                    },
                    "ternary": {
                      "aaxis": {
                        "gridcolor": "rgb(232,232,232)",
                        "linecolor": "rgb(36,36,36)",
                        "showgrid": false,
                        "showline": true,
                        "ticks": "outside"
                      },
                      "baxis": {
                        "gridcolor": "rgb(232,232,232)",
                        "linecolor": "rgb(36,36,36)",
                        "showgrid": false,
                        "showline": true,
                        "ticks": "outside"
                      },
                      "bgcolor": "white",
                      "caxis": {
                        "gridcolor": "rgb(232,232,232)",
                        "linecolor": "rgb(36,36,36)",
                        "showgrid": false,
                        "showline": true,
                        "ticks": "outside"
                      }
                    },
                    "title": {
                      "x": 0.05
                    },
                    "xaxis": {
                      "automargin": true,
                      "gridcolor": "rgb(232,232,232)",
                      "linecolor": "rgb(36,36,36)",
                      "showgrid": false,
                      "showline": true,
                      "ticks": "outside",
                      "title": {
                        "standoff": 15
                      },
                      "zeroline": false,
                      "zerolinecolor": "rgb(36,36,36)"
                    },
                    "yaxis": {
                      "automargin": true,
                      "gridcolor": "rgb(232,232,232)",
                      "linecolor": "rgb(36,36,36)",
                      "showgrid": false,
                      "showline": true,
                      "ticks": "outside",
                      "title": {
                        "standoff": 15
                      },
                      "zeroline": false,
                      "zerolinecolor": "rgb(36,36,36)"
                    }
                  }
                },
                "title": {
                  "font": {
                    "color": "Black",
                    "size": 22
                  },
                  "text": "<b>Topics per Class</b>",
                  "x": 0.4,
                  "xanchor": "center",
                  "y": 0.95,
                  "yanchor": "top"
                },
                "width": 1250,
                "xaxis": {
                  "showgrid": true,
                  "title": {
                    "text": "Frequency"
                  }
                },
                "yaxis": {
                  "showgrid": true,
                  "title": {
                    "text": "Class"
                  }
                }
              }
            }
          },
          "metadata": {},
          "output_type": "display_data"
        }
      ],
      "source": [
        "topics_per_class_mot_cible = topic_model_mot_cible.topics_per_class(docs_mot_cible, classes=targets)\n",
        "topics_per_class_mot_cible['Class'] = pd.to_datetime(topics_per_class_mot_cible['Class'])\n",
        "topics_per_class_mot_cible['Class'] = topics_per_class_mot_cible['Class'].dt.year\n",
        "fig_unsupervised_mot_cible = topic_model_mot_cible.visualize_topics_per_class(topics_per_class_mot_cible, top_n_topics=10)\n",
        "fig_unsupervised_mot_cible"
      ]
    },
    {
      "cell_type": "markdown",
      "metadata": {
        "id": "Ovx5U4IeqmRz"
      },
      "source": [
        "Tri des ordonnées par ordre croissant pour un résultat plus cohérent"
      ]
    },
    {
      "cell_type": "code",
      "execution_count": null,
      "metadata": {
        "colab": {
          "base_uri": "https://localhost:8080/",
          "height": 188,
          "referenced_widgets": [
            "b867c016242d4544a78cc46692caaeea",
            "2f2c8a6dcc844d2e991f730de277ced5",
            "9b504ac189b940f2b802af8e3051f1d2",
            "978b4af9edea4e79a4de687c9be1288f",
            "3f1e76fc48564cfaa7a378431e98727d",
            "d3b6b6eaa39c475eabb7ac4b5bb7b29d",
            "e4acf88b90e9475fbd71b65c7074faa0",
            "b21511fa9b8e44f9a1b18ae680b6eefb",
            "1c800e6ed8c540458c7fc03f16241a3f",
            "62ea7697d52f46c3886b6df072a528c2",
            "f2960391fc7145db8e5ce4947f2d5b77"
          ]
        },
        "id": "s3_NfOtsc-mc",
        "outputId": "82681b4d-4e6e-49ae-be2a-1ad93a173e76"
      },
      "outputs": [
        {
          "name": "stderr",
          "output_type": "stream",
          "text": [
            "2025-09-01 00:47:07,716 - BERTopic - Embedding - Transforming documents to embeddings.\n"
          ]
        },
        {
          "data": {
            "application/vnd.jupyter.widget-view+json": {
              "model_id": "92043fb41b4245509ff618b8410e98c1",
              "version_major": 2,
              "version_minor": 0
            },
            "text/plain": [
              "Batches:   0%|          | 0/29 [00:00<?, ?it/s]"
            ]
          },
          "metadata": {},
          "output_type": "display_data"
        },
        {
          "name": "stderr",
          "output_type": "stream",
          "text": [
            "2025-09-01 00:48:09,132 - BERTopic - Embedding - Completed ✓\n",
            "2025-09-01 00:48:09,134 - BERTopic - Dimensionality - Fitting the dimensionality reduction algorithm\n",
            "2025-09-01 00:48:13,903 - BERTopic - Dimensionality - Completed ✓\n",
            "2025-09-01 00:48:13,906 - BERTopic - Cluster - Start clustering the reduced embeddings\n",
            "2025-09-01 00:48:14,004 - BERTopic - Cluster - Completed ✓\n",
            "2025-09-01 00:48:14,009 - BERTopic - Representation - Extracting topics from clusters using representation models.\n",
            "2025-09-01 00:48:14,932 - BERTopic - Representation - Completed ✓\n"
          ]
        }
      ],
      "source": [
        "df_mot_cible[\"année\"] = pd.to_datetime(df_mot_cible[\"date\"]).dt.year\n",
        "topic_model_mot_cible = BERTopic(verbose=True)\n",
        "topics_mot_cible, _ = topic_model_mot_cible.fit_transform(docs_mot_cible, y=df_mot_cible[\"année\"])"
      ]
    },
    {
      "cell_type": "code",
      "execution_count": null,
      "metadata": {
        "colab": {
          "base_uri": "https://localhost:8080/",
          "height": 519
        },
        "id": "J05ypKzhc-qG",
        "outputId": "a8cfc6c1-4265-439a-b4bd-cec1edd18fcd"
      },
      "outputs": [
        {
          "data": {
            "text/html": [
              "<div>\n",
              "<style scoped>\n",
              "    .dataframe tbody tr th:only-of-type {\n",
              "        vertical-align: middle;\n",
              "    }\n",
              "\n",
              "    .dataframe tbody tr th {\n",
              "        vertical-align: top;\n",
              "    }\n",
              "\n",
              "    .dataframe thead th {\n",
              "        text-align: right;\n",
              "    }\n",
              "</style>\n",
              "<table border=\"1\" class=\"dataframe\">\n",
              "  <thead>\n",
              "    <tr style=\"text-align: right;\">\n",
              "      <th></th>\n",
              "      <th>Topic</th>\n",
              "      <th>Count</th>\n",
              "      <th>Name</th>\n",
              "      <th>Representation</th>\n",
              "      <th>Representative_Docs</th>\n",
              "    </tr>\n",
              "  </thead>\n",
              "  <tbody>\n",
              "    <tr>\n",
              "      <th>0</th>\n",
              "      <td>-1</td>\n",
              "      <td>360</td>\n",
              "      <td>-1_travaux_barrage_fr_000</td>\n",
              "      <td>[travaux, barrage, fr, 000, etat, publics, dem...</td>\n",
              "      <td>[crédits levées rive prévoir rive gauche levée...</td>\n",
              "    </tr>\n",
              "    <tr>\n",
              "      <th>1</th>\n",
              "      <td>0</td>\n",
              "      <td>72</td>\n",
              "      <td>0_travaux_publics_barrage_navigation</td>\n",
              "      <td>[travaux, publics, barrage, navigation, demand...</td>\n",
              "      <td>[escompter moyennequ novacancespar an impossib...</td>\n",
              "    </tr>\n",
              "    <tr>\n",
              "      <th>2</th>\n",
              "      <td>1</td>\n",
              "      <td>59</td>\n",
              "      <td>1_marins_marine_btiments_anglais</td>\n",
              "      <td>[marins, marine, btiments, anglais, marin, min...</td>\n",
              "      <td>[quecouenespérions beauhoupderatés dernièremen...</td>\n",
              "    </tr>\n",
              "    <tr>\n",
              "      <th>3</th>\n",
              "      <td>2</td>\n",
              "      <td>51</td>\n",
              "      <td>2_gauche_extrme_politique_applaudissements</td>\n",
              "      <td>[gauche, extrme, politique, applaudissements, ...</td>\n",
              "      <td>[proclame droit dis interdit internationale sé...</td>\n",
              "    </tr>\n",
              "    <tr>\n",
              "      <th>4</th>\n",
              "      <td>3</td>\n",
              "      <td>46</td>\n",
              "      <td>3_fr_chap_000_crdit</td>\n",
              "      <td>[fr, chap, 000, crdit, travaux, chapitre, budg...</td>\n",
              "      <td>[mérite agricole 3 127 fr pourvu crédits moyen...</td>\n",
              "    </tr>\n",
              "    <tr>\n",
              "      <th>5</th>\n",
              "      <td>4</td>\n",
              "      <td>31</td>\n",
              "      <td>4_guerre_remise_prsidence_demandant</td>\n",
              "      <td>[guerre, remise, prsidence, demandant, arme, o...</td>\n",
              "      <td>[engageretnous engager voiesanssavoirexactemen...</td>\n",
              "    </tr>\n",
              "    <tr>\n",
              "      <th>6</th>\n",
              "      <td>5</td>\n",
              "      <td>30</td>\n",
              "      <td>5_avril_1930_droit_1920</td>\n",
              "      <td>[avril, 1930, droit, 1920, article, demande, n...</td>\n",
              "      <td>[biens intérêts privés saurait considéré établ...</td>\n",
              "    </tr>\n",
              "    <tr>\n",
              "      <th>7</th>\n",
              "      <td>6</td>\n",
              "      <td>27</td>\n",
              "      <td>6_grisou_explosion_ingnieur_accident</td>\n",
              "      <td>[grisou, explosion, ingnieur, accident, feu, g...</td>\n",
              "      <td>[points présent servi thème compagnie défendre...</td>\n",
              "    </tr>\n",
              "    <tr>\n",
              "      <th>8</th>\n",
              "      <td>7</td>\n",
              "      <td>24</td>\n",
              "      <td>7_crolard_autorisation_eau_permissionnaire</td>\n",
              "      <td>[crolard, autorisation, eau, permissionnaire, ...</td>\n",
              "      <td>[margaine plaisir crolard plaisir margaine pro...</td>\n",
              "    </tr>\n",
              "    <tr>\n",
              "      <th>9</th>\n",
              "      <td>8</td>\n",
              "      <td>19</td>\n",
              "      <td>8_margaine_rhin_alsace_kembs</td>\n",
              "      <td>[margaine, rhin, alsace, kembs, canal, grand, ...</td>\n",
              "      <td>[enquête bref délai construction dubarragede k...</td>\n",
              "    </tr>\n",
              "  </tbody>\n",
              "</table>\n",
              "</div>"
            ],
            "text/plain": [
              "   Topic  Count                                        Name  \\\n",
              "0     -1    360                   -1_travaux_barrage_fr_000   \n",
              "1      0     72        0_travaux_publics_barrage_navigation   \n",
              "2      1     59            1_marins_marine_btiments_anglais   \n",
              "3      2     51  2_gauche_extrme_politique_applaudissements   \n",
              "4      3     46                         3_fr_chap_000_crdit   \n",
              "5      4     31         4_guerre_remise_prsidence_demandant   \n",
              "6      5     30                     5_avril_1930_droit_1920   \n",
              "7      6     27        6_grisou_explosion_ingnieur_accident   \n",
              "8      7     24  7_crolard_autorisation_eau_permissionnaire   \n",
              "9      8     19                8_margaine_rhin_alsace_kembs   \n",
              "\n",
              "                                      Representation  \\\n",
              "0  [travaux, barrage, fr, 000, etat, publics, dem...   \n",
              "1  [travaux, publics, barrage, navigation, demand...   \n",
              "2  [marins, marine, btiments, anglais, marin, min...   \n",
              "3  [gauche, extrme, politique, applaudissements, ...   \n",
              "4  [fr, chap, 000, crdit, travaux, chapitre, budg...   \n",
              "5  [guerre, remise, prsidence, demandant, arme, o...   \n",
              "6  [avril, 1930, droit, 1920, article, demande, n...   \n",
              "7  [grisou, explosion, ingnieur, accident, feu, g...   \n",
              "8  [crolard, autorisation, eau, permissionnaire, ...   \n",
              "9  [margaine, rhin, alsace, kembs, canal, grand, ...   \n",
              "\n",
              "                                 Representative_Docs  \n",
              "0  [crédits levées rive prévoir rive gauche levée...  \n",
              "1  [escompter moyennequ novacancespar an impossib...  \n",
              "2  [quecouenespérions beauhoupderatés dernièremen...  \n",
              "3  [proclame droit dis interdit internationale sé...  \n",
              "4  [mérite agricole 3 127 fr pourvu crédits moyen...  \n",
              "5  [engageretnous engager voiesanssavoirexactemen...  \n",
              "6  [biens intérêts privés saurait considéré établ...  \n",
              "7  [points présent servi thème compagnie défendre...  \n",
              "8  [margaine plaisir crolard plaisir margaine pro...  \n",
              "9  [enquête bref délai construction dubarragede k...  "
            ]
          },
          "execution_count": 46,
          "metadata": {},
          "output_type": "execute_result"
        }
      ],
      "source": [
        "topic_model_mot_cible.get_topic_info().head(10)"
      ]
    },
    {
      "cell_type": "code",
      "execution_count": null,
      "metadata": {},
      "outputs": [
        {
          "data": {
            "application/vnd.plotly.v1+json": {
              "config": {
                "plotlyServerURL": "https://plot.ly"
              },
              "data": [
                {
                  "marker": {
                    "color": "#D55E00"
                  },
                  "orientation": "h",
                  "type": "bar",
                  "x": [
                    0.006708490534589736,
                    0.006775041057381536,
                    0.007950809128839737,
                    0.008765451145520891,
                    0.013674026688912811
                  ],
                  "xaxis": "x",
                  "y": [
                    "demande  ",
                    "navigation  ",
                    "barrage  ",
                    "publics  ",
                    "travaux  "
                  ],
                  "yaxis": "y"
                },
                {
                  "marker": {
                    "color": "#0072B2"
                  },
                  "orientation": "h",
                  "type": "bar",
                  "x": [
                    0.02144514966698479,
                    0.021879168719398955,
                    0.02283477368249523,
                    0.03305913168781793,
                    0.03644189715891132
                  ],
                  "xaxis": "x2",
                  "y": [
                    "marin  ",
                    "anglais  ",
                    "btiments  ",
                    "marine  ",
                    "marins  "
                  ],
                  "yaxis": "y2"
                },
                {
                  "marker": {
                    "color": "#CC79A7"
                  },
                  "orientation": "h",
                  "type": "bar",
                  "x": [
                    0.01535403454068082,
                    0.017695009754309828,
                    0.017870338335638142,
                    0.020945261980975648,
                    0.029461504055618568
                  ],
                  "xaxis": "x3",
                  "y": [
                    "paix  ",
                    "applaudissements  ",
                    "politique  ",
                    "extrme  ",
                    "gauche  "
                  ],
                  "yaxis": "y3"
                },
                {
                  "marker": {
                    "color": "#E69F00"
                  },
                  "orientation": "h",
                  "type": "bar",
                  "x": [
                    0.023459441446701763,
                    0.029456708549344686,
                    0.03722699802395246,
                    0.03864321962056311,
                    0.04584757445579668
                  ],
                  "xaxis": "x4",
                  "y": [
                    "travaux  ",
                    "crdit  ",
                    "000  ",
                    "chap  ",
                    "fr  "
                  ],
                  "yaxis": "y4"
                },
                {
                  "marker": {
                    "color": "#56B4E9"
                  },
                  "orientation": "h",
                  "type": "bar",
                  "x": [
                    0.018546530543456344,
                    0.018819473853212396,
                    0.020136366330914767,
                    0.02087440839882259,
                    0.04460385387584929
                  ],
                  "xaxis": "x5",
                  "y": [
                    "arme  ",
                    "demandant  ",
                    "prsidence  ",
                    "remise  ",
                    "guerre  "
                  ],
                  "yaxis": "y5"
                },
                {
                  "marker": {
                    "color": "#009E73"
                  },
                  "orientation": "h",
                  "type": "bar",
                  "x": [
                    0.015440488392661898,
                    0.015715528646783807,
                    0.015905447195312294,
                    0.016630765864196165,
                    0.01798413083563576
                  ],
                  "xaxis": "x6",
                  "y": [
                    "article  ",
                    "1920  ",
                    "droit  ",
                    "1930  ",
                    "avril  "
                  ],
                  "yaxis": "y6"
                },
                {
                  "marker": {
                    "color": "#F0E442"
                  },
                  "orientation": "h",
                  "type": "bar",
                  "x": [
                    0.044627222445503975,
                    0.04534814435551606,
                    0.05941289722808172,
                    0.06040945468006332,
                    0.0832049861833375
                  ],
                  "xaxis": "x7",
                  "y": [
                    "feu  ",
                    "accident  ",
                    "ingnieur  ",
                    "explosion  ",
                    "grisou  "
                  ],
                  "yaxis": "y7"
                },
                {
                  "marker": {
                    "color": "#D55E00"
                  },
                  "orientation": "h",
                  "type": "bar",
                  "x": [
                    0.03988028436999774,
                    0.04022178130001602,
                    0.041565826709482334,
                    0.0479021423648021,
                    0.06721901910797524
                  ],
                  "xaxis": "x8",
                  "y": [
                    "paragraphe  ",
                    "permissionnaire  ",
                    "eau  ",
                    "autorisation  ",
                    "crolard  "
                  ],
                  "yaxis": "y8"
                },
                {
                  "marker": {
                    "color": "#0072B2"
                  },
                  "orientation": "h",
                  "type": "bar",
                  "x": [
                    0.02507952689483502,
                    0.041241919308129996,
                    0.04920261690808972,
                    0.05310253783563403,
                    0.06155856047731085
                  ],
                  "xaxis": "x9",
                  "y": [
                    "canal  ",
                    "kembs  ",
                    "alsace  ",
                    "rhin  ",
                    "margaine  "
                  ],
                  "yaxis": "y9"
                },
                {
                  "marker": {
                    "color": "#CC79A7"
                  },
                  "orientation": "h",
                  "type": "bar",
                  "x": [
                    0.04022940205010522,
                    0.04138971429225586,
                    0.04350626800511457,
                    0.044366832211778416,
                    0.04789145824806856
                  ],
                  "xaxis": "x10",
                  "y": [
                    "barrage  ",
                    "seine  ",
                    "montereau  ",
                    "portes  ",
                    "inondation  "
                  ],
                  "yaxis": "y10"
                },
                {
                  "marker": {
                    "color": "#E69F00"
                  },
                  "orientation": "h",
                  "type": "bar",
                  "x": [
                    0.01261176494911118,
                    0.01321418883466325,
                    0.014045434056101643,
                    0.01936318247145772,
                    0.03925865748839296
                  ],
                  "xaxis": "x11",
                  "y": [
                    "000  ",
                    "bl  ",
                    "marais  ",
                    "chambres  ",
                    "agriculture  "
                  ],
                  "yaxis": "y11"
                },
                {
                  "marker": {
                    "color": "#56B4E9"
                  },
                  "orientation": "h",
                  "type": "bar",
                  "x": [
                    0.02008435220433407,
                    0.025115394173309498,
                    0.028686826319506243,
                    0.02878542568829739,
                    0.041699501612180286
                  ],
                  "xaxis": "x12",
                  "y": [
                    "kilomtres  ",
                    "000  ",
                    "reconstruction  ",
                    "travaux  ",
                    "canal  "
                  ],
                  "yaxis": "y12"
                },
                {
                  "marker": {
                    "color": "#009E73"
                  },
                  "orientation": "h",
                  "type": "bar",
                  "x": [
                    0.028578908563384176,
                    0.03321240772951724,
                    0.033238066940618614,
                    0.03406010914082912,
                    0.03618744484389294
                  ],
                  "xaxis": "x13",
                  "y": [
                    "voudrais  ",
                    "eau  ",
                    "redevance  ",
                    "barrage  ",
                    "serre  "
                  ],
                  "yaxis": "y13"
                },
                {
                  "marker": {
                    "color": "#F0E442"
                  },
                  "orientation": "h",
                  "type": "bar",
                  "x": [
                    0.019328953475474177,
                    0.0205027993708891,
                    0.021633560101414158,
                    0.023849078985464612,
                    0.027204192908085963
                  ],
                  "xaxis": "x14",
                  "y": [
                    "rservoir  ",
                    "chavanon  ",
                    "inquitudes  ",
                    "mtres  ",
                    "travaux  "
                  ],
                  "yaxis": "y14"
                },
                {
                  "marker": {
                    "color": "#D55E00"
                  },
                  "orientation": "h",
                  "type": "bar",
                  "x": [
                    0.022453148792478797,
                    0.0250270429436071,
                    0.026086369375062483,
                    0.042774483806987174,
                    0.045247149111930916
                  ],
                  "xaxis": "x15",
                  "y": [
                    "fleuve  ",
                    "barrages  ",
                    "ville  ",
                    "paris  ",
                    "seine  "
                  ],
                  "yaxis": "y15"
                },
                {
                  "marker": {
                    "color": "#0072B2"
                  },
                  "orientation": "h",
                  "type": "bar",
                  "x": [
                    0.028345396130085816,
                    0.03403354243090232,
                    0.034574592436548486,
                    0.03484041626130178,
                    0.04034172322478722
                  ],
                  "xaxis": "x16",
                  "y": [
                    "crue  ",
                    "vins  ",
                    "permission  ",
                    "agents  ",
                    "1923  "
                  ],
                  "yaxis": "y16"
                },
                {
                  "marker": {
                    "color": "#CC79A7"
                  },
                  "orientation": "h",
                  "type": "bar",
                  "x": [
                    0.03350283028835487,
                    0.036012053249430034,
                    0.036899490111204296,
                    0.03812954853600886,
                    0.056775344365124505
                  ],
                  "xaxis": "x17",
                  "y": [
                    "mines  ",
                    "signatures  ",
                    "mtres  ",
                    "bochet  ",
                    "feu  "
                  ],
                  "yaxis": "y17"
                },
                {
                  "marker": {
                    "color": "#E69F00"
                  },
                  "orientation": "h",
                  "type": "bar",
                  "x": [
                    0.02899524544608709,
                    0.032210084308874655,
                    0.0354702682669737,
                    0.03630184822441704,
                    0.04929397126457735
                  ],
                  "xaxis": "x18",
                  "y": [
                    "chap  ",
                    "jacques  ",
                    "louis  ",
                    "publics  ",
                    "travaux  "
                  ],
                  "yaxis": "y18"
                },
                {
                  "marker": {
                    "color": "#56B4E9"
                  },
                  "orientation": "h",
                  "type": "bar",
                  "x": [
                    0.028337852079030425,
                    0.029597059316013693,
                    0.03151782310839452,
                    0.03460711743776559,
                    0.08739680707809558
                  ],
                  "xaxis": "x19",
                  "y": [
                    "faut  ",
                    "travaux  ",
                    "lyon  ",
                    "compagnie  ",
                    "rhne  "
                  ],
                  "yaxis": "y19"
                },
                {
                  "marker": {
                    "color": "#009E73"
                  },
                  "orientation": "h",
                  "type": "bar",
                  "x": [
                    0.030735783326833754,
                    0.036443330629643056,
                    0.04848536002368892,
                    0.07120835038444641,
                    0.0884183248752637
                  ],
                  "xaxis": "x20",
                  "y": [
                    "port  ",
                    "amont  ",
                    "lechalas  ",
                    "loire  ",
                    "nantes  "
                  ],
                  "yaxis": "y20"
                }
              ],
              "layout": {
                "annotations": [
                  {
                    "font": {
                      "size": 16
                    },
                    "showarrow": false,
                    "text": "Topic 0",
                    "x": 0.0875,
                    "xanchor": "center",
                    "xref": "paper",
                    "y": 0.9999999999999999,
                    "yanchor": "bottom",
                    "yref": "paper"
                  },
                  {
                    "font": {
                      "size": 16
                    },
                    "showarrow": false,
                    "text": "Topic 1",
                    "x": 0.36250000000000004,
                    "xanchor": "center",
                    "xref": "paper",
                    "y": 0.9999999999999999,
                    "yanchor": "bottom",
                    "yref": "paper"
                  },
                  {
                    "font": {
                      "size": 16
                    },
                    "showarrow": false,
                    "text": "Topic 2",
                    "x": 0.6375000000000001,
                    "xanchor": "center",
                    "xref": "paper",
                    "y": 0.9999999999999999,
                    "yanchor": "bottom",
                    "yref": "paper"
                  },
                  {
                    "font": {
                      "size": 16
                    },
                    "showarrow": false,
                    "text": "Topic 3",
                    "x": 0.9125,
                    "xanchor": "center",
                    "xref": "paper",
                    "y": 0.9999999999999999,
                    "yanchor": "bottom",
                    "yref": "paper"
                  },
                  {
                    "font": {
                      "size": 16
                    },
                    "showarrow": false,
                    "text": "Topic 4",
                    "x": 0.0875,
                    "xanchor": "center",
                    "xref": "paper",
                    "y": 0.7839999999999999,
                    "yanchor": "bottom",
                    "yref": "paper"
                  },
                  {
                    "font": {
                      "size": 16
                    },
                    "showarrow": false,
                    "text": "Topic 5",
                    "x": 0.36250000000000004,
                    "xanchor": "center",
                    "xref": "paper",
                    "y": 0.7839999999999999,
                    "yanchor": "bottom",
                    "yref": "paper"
                  },
                  {
                    "font": {
                      "size": 16
                    },
                    "showarrow": false,
                    "text": "Topic 6",
                    "x": 0.6375000000000001,
                    "xanchor": "center",
                    "xref": "paper",
                    "y": 0.7839999999999999,
                    "yanchor": "bottom",
                    "yref": "paper"
                  },
                  {
                    "font": {
                      "size": 16
                    },
                    "showarrow": false,
                    "text": "Topic 7",
                    "x": 0.9125,
                    "xanchor": "center",
                    "xref": "paper",
                    "y": 0.7839999999999999,
                    "yanchor": "bottom",
                    "yref": "paper"
                  },
                  {
                    "font": {
                      "size": 16
                    },
                    "showarrow": false,
                    "text": "Topic 8",
                    "x": 0.0875,
                    "xanchor": "center",
                    "xref": "paper",
                    "y": 0.568,
                    "yanchor": "bottom",
                    "yref": "paper"
                  },
                  {
                    "font": {
                      "size": 16
                    },
                    "showarrow": false,
                    "text": "Topic 9",
                    "x": 0.36250000000000004,
                    "xanchor": "center",
                    "xref": "paper",
                    "y": 0.568,
                    "yanchor": "bottom",
                    "yref": "paper"
                  },
                  {
                    "font": {
                      "size": 16
                    },
                    "showarrow": false,
                    "text": "Topic 10",
                    "x": 0.6375000000000001,
                    "xanchor": "center",
                    "xref": "paper",
                    "y": 0.568,
                    "yanchor": "bottom",
                    "yref": "paper"
                  },
                  {
                    "font": {
                      "size": 16
                    },
                    "showarrow": false,
                    "text": "Topic 11",
                    "x": 0.9125,
                    "xanchor": "center",
                    "xref": "paper",
                    "y": 0.568,
                    "yanchor": "bottom",
                    "yref": "paper"
                  },
                  {
                    "font": {
                      "size": 16
                    },
                    "showarrow": false,
                    "text": "Topic 12",
                    "x": 0.0875,
                    "xanchor": "center",
                    "xref": "paper",
                    "y": 0.352,
                    "yanchor": "bottom",
                    "yref": "paper"
                  },
                  {
                    "font": {
                      "size": 16
                    },
                    "showarrow": false,
                    "text": "Topic 13",
                    "x": 0.36250000000000004,
                    "xanchor": "center",
                    "xref": "paper",
                    "y": 0.352,
                    "yanchor": "bottom",
                    "yref": "paper"
                  },
                  {
                    "font": {
                      "size": 16
                    },
                    "showarrow": false,
                    "text": "Topic 14",
                    "x": 0.6375000000000001,
                    "xanchor": "center",
                    "xref": "paper",
                    "y": 0.352,
                    "yanchor": "bottom",
                    "yref": "paper"
                  },
                  {
                    "font": {
                      "size": 16
                    },
                    "showarrow": false,
                    "text": "Topic 15",
                    "x": 0.9125,
                    "xanchor": "center",
                    "xref": "paper",
                    "y": 0.352,
                    "yanchor": "bottom",
                    "yref": "paper"
                  },
                  {
                    "font": {
                      "size": 16
                    },
                    "showarrow": false,
                    "text": "Topic 16",
                    "x": 0.0875,
                    "xanchor": "center",
                    "xref": "paper",
                    "y": 0.13599999999999998,
                    "yanchor": "bottom",
                    "yref": "paper"
                  },
                  {
                    "font": {
                      "size": 16
                    },
                    "showarrow": false,
                    "text": "Topic 17",
                    "x": 0.36250000000000004,
                    "xanchor": "center",
                    "xref": "paper",
                    "y": 0.13599999999999998,
                    "yanchor": "bottom",
                    "yref": "paper"
                  },
                  {
                    "font": {
                      "size": 16
                    },
                    "showarrow": false,
                    "text": "Topic 18",
                    "x": 0.6375000000000001,
                    "xanchor": "center",
                    "xref": "paper",
                    "y": 0.13599999999999998,
                    "yanchor": "bottom",
                    "yref": "paper"
                  },
                  {
                    "font": {
                      "size": 16
                    },
                    "showarrow": false,
                    "text": "Topic 19",
                    "x": 0.9125,
                    "xanchor": "center",
                    "xref": "paper",
                    "y": 0.13599999999999998,
                    "yanchor": "bottom",
                    "yref": "paper"
                  }
                ],
                "height": 1250,
                "hoverlabel": {
                  "bgcolor": "white",
                  "font": {
                    "family": "Rockwell",
                    "size": 16
                  }
                },
                "showlegend": false,
                "template": {
                  "data": {
                    "bar": [
                      {
                        "error_x": {
                          "color": "#2a3f5f"
                        },
                        "error_y": {
                          "color": "#2a3f5f"
                        },
                        "marker": {
                          "line": {
                            "color": "white",
                            "width": 0.5
                          },
                          "pattern": {
                            "fillmode": "overlay",
                            "size": 10,
                            "solidity": 0.2
                          }
                        },
                        "type": "bar"
                      }
                    ],
                    "barpolar": [
                      {
                        "marker": {
                          "line": {
                            "color": "white",
                            "width": 0.5
                          },
                          "pattern": {
                            "fillmode": "overlay",
                            "size": 10,
                            "solidity": 0.2
                          }
                        },
                        "type": "barpolar"
                      }
                    ],
                    "carpet": [
                      {
                        "aaxis": {
                          "endlinecolor": "#2a3f5f",
                          "gridcolor": "#C8D4E3",
                          "linecolor": "#C8D4E3",
                          "minorgridcolor": "#C8D4E3",
                          "startlinecolor": "#2a3f5f"
                        },
                        "baxis": {
                          "endlinecolor": "#2a3f5f",
                          "gridcolor": "#C8D4E3",
                          "linecolor": "#C8D4E3",
                          "minorgridcolor": "#C8D4E3",
                          "startlinecolor": "#2a3f5f"
                        },
                        "type": "carpet"
                      }
                    ],
                    "choropleth": [
                      {
                        "colorbar": {
                          "outlinewidth": 0,
                          "ticks": ""
                        },
                        "type": "choropleth"
                      }
                    ],
                    "contour": [
                      {
                        "colorbar": {
                          "outlinewidth": 0,
                          "ticks": ""
                        },
                        "colorscale": [
                          [
                            0,
                            "#0d0887"
                          ],
                          [
                            0.1111111111111111,
                            "#46039f"
                          ],
                          [
                            0.2222222222222222,
                            "#7201a8"
                          ],
                          [
                            0.3333333333333333,
                            "#9c179e"
                          ],
                          [
                            0.4444444444444444,
                            "#bd3786"
                          ],
                          [
                            0.5555555555555556,
                            "#d8576b"
                          ],
                          [
                            0.6666666666666666,
                            "#ed7953"
                          ],
                          [
                            0.7777777777777778,
                            "#fb9f3a"
                          ],
                          [
                            0.8888888888888888,
                            "#fdca26"
                          ],
                          [
                            1,
                            "#f0f921"
                          ]
                        ],
                        "type": "contour"
                      }
                    ],
                    "contourcarpet": [
                      {
                        "colorbar": {
                          "outlinewidth": 0,
                          "ticks": ""
                        },
                        "type": "contourcarpet"
                      }
                    ],
                    "heatmap": [
                      {
                        "colorbar": {
                          "outlinewidth": 0,
                          "ticks": ""
                        },
                        "colorscale": [
                          [
                            0,
                            "#0d0887"
                          ],
                          [
                            0.1111111111111111,
                            "#46039f"
                          ],
                          [
                            0.2222222222222222,
                            "#7201a8"
                          ],
                          [
                            0.3333333333333333,
                            "#9c179e"
                          ],
                          [
                            0.4444444444444444,
                            "#bd3786"
                          ],
                          [
                            0.5555555555555556,
                            "#d8576b"
                          ],
                          [
                            0.6666666666666666,
                            "#ed7953"
                          ],
                          [
                            0.7777777777777778,
                            "#fb9f3a"
                          ],
                          [
                            0.8888888888888888,
                            "#fdca26"
                          ],
                          [
                            1,
                            "#f0f921"
                          ]
                        ],
                        "type": "heatmap"
                      }
                    ],
                    "heatmapgl": [
                      {
                        "colorbar": {
                          "outlinewidth": 0,
                          "ticks": ""
                        },
                        "colorscale": [
                          [
                            0,
                            "#0d0887"
                          ],
                          [
                            0.1111111111111111,
                            "#46039f"
                          ],
                          [
                            0.2222222222222222,
                            "#7201a8"
                          ],
                          [
                            0.3333333333333333,
                            "#9c179e"
                          ],
                          [
                            0.4444444444444444,
                            "#bd3786"
                          ],
                          [
                            0.5555555555555556,
                            "#d8576b"
                          ],
                          [
                            0.6666666666666666,
                            "#ed7953"
                          ],
                          [
                            0.7777777777777778,
                            "#fb9f3a"
                          ],
                          [
                            0.8888888888888888,
                            "#fdca26"
                          ],
                          [
                            1,
                            "#f0f921"
                          ]
                        ],
                        "type": "heatmapgl"
                      }
                    ],
                    "histogram": [
                      {
                        "marker": {
                          "pattern": {
                            "fillmode": "overlay",
                            "size": 10,
                            "solidity": 0.2
                          }
                        },
                        "type": "histogram"
                      }
                    ],
                    "histogram2d": [
                      {
                        "colorbar": {
                          "outlinewidth": 0,
                          "ticks": ""
                        },
                        "colorscale": [
                          [
                            0,
                            "#0d0887"
                          ],
                          [
                            0.1111111111111111,
                            "#46039f"
                          ],
                          [
                            0.2222222222222222,
                            "#7201a8"
                          ],
                          [
                            0.3333333333333333,
                            "#9c179e"
                          ],
                          [
                            0.4444444444444444,
                            "#bd3786"
                          ],
                          [
                            0.5555555555555556,
                            "#d8576b"
                          ],
                          [
                            0.6666666666666666,
                            "#ed7953"
                          ],
                          [
                            0.7777777777777778,
                            "#fb9f3a"
                          ],
                          [
                            0.8888888888888888,
                            "#fdca26"
                          ],
                          [
                            1,
                            "#f0f921"
                          ]
                        ],
                        "type": "histogram2d"
                      }
                    ],
                    "histogram2dcontour": [
                      {
                        "colorbar": {
                          "outlinewidth": 0,
                          "ticks": ""
                        },
                        "colorscale": [
                          [
                            0,
                            "#0d0887"
                          ],
                          [
                            0.1111111111111111,
                            "#46039f"
                          ],
                          [
                            0.2222222222222222,
                            "#7201a8"
                          ],
                          [
                            0.3333333333333333,
                            "#9c179e"
                          ],
                          [
                            0.4444444444444444,
                            "#bd3786"
                          ],
                          [
                            0.5555555555555556,
                            "#d8576b"
                          ],
                          [
                            0.6666666666666666,
                            "#ed7953"
                          ],
                          [
                            0.7777777777777778,
                            "#fb9f3a"
                          ],
                          [
                            0.8888888888888888,
                            "#fdca26"
                          ],
                          [
                            1,
                            "#f0f921"
                          ]
                        ],
                        "type": "histogram2dcontour"
                      }
                    ],
                    "mesh3d": [
                      {
                        "colorbar": {
                          "outlinewidth": 0,
                          "ticks": ""
                        },
                        "type": "mesh3d"
                      }
                    ],
                    "parcoords": [
                      {
                        "line": {
                          "colorbar": {
                            "outlinewidth": 0,
                            "ticks": ""
                          }
                        },
                        "type": "parcoords"
                      }
                    ],
                    "pie": [
                      {
                        "automargin": true,
                        "type": "pie"
                      }
                    ],
                    "scatter": [
                      {
                        "fillpattern": {
                          "fillmode": "overlay",
                          "size": 10,
                          "solidity": 0.2
                        },
                        "type": "scatter"
                      }
                    ],
                    "scatter3d": [
                      {
                        "line": {
                          "colorbar": {
                            "outlinewidth": 0,
                            "ticks": ""
                          }
                        },
                        "marker": {
                          "colorbar": {
                            "outlinewidth": 0,
                            "ticks": ""
                          }
                        },
                        "type": "scatter3d"
                      }
                    ],
                    "scattercarpet": [
                      {
                        "marker": {
                          "colorbar": {
                            "outlinewidth": 0,
                            "ticks": ""
                          }
                        },
                        "type": "scattercarpet"
                      }
                    ],
                    "scattergeo": [
                      {
                        "marker": {
                          "colorbar": {
                            "outlinewidth": 0,
                            "ticks": ""
                          }
                        },
                        "type": "scattergeo"
                      }
                    ],
                    "scattergl": [
                      {
                        "marker": {
                          "colorbar": {
                            "outlinewidth": 0,
                            "ticks": ""
                          }
                        },
                        "type": "scattergl"
                      }
                    ],
                    "scattermapbox": [
                      {
                        "marker": {
                          "colorbar": {
                            "outlinewidth": 0,
                            "ticks": ""
                          }
                        },
                        "type": "scattermapbox"
                      }
                    ],
                    "scatterpolar": [
                      {
                        "marker": {
                          "colorbar": {
                            "outlinewidth": 0,
                            "ticks": ""
                          }
                        },
                        "type": "scatterpolar"
                      }
                    ],
                    "scatterpolargl": [
                      {
                        "marker": {
                          "colorbar": {
                            "outlinewidth": 0,
                            "ticks": ""
                          }
                        },
                        "type": "scatterpolargl"
                      }
                    ],
                    "scatterternary": [
                      {
                        "marker": {
                          "colorbar": {
                            "outlinewidth": 0,
                            "ticks": ""
                          }
                        },
                        "type": "scatterternary"
                      }
                    ],
                    "surface": [
                      {
                        "colorbar": {
                          "outlinewidth": 0,
                          "ticks": ""
                        },
                        "colorscale": [
                          [
                            0,
                            "#0d0887"
                          ],
                          [
                            0.1111111111111111,
                            "#46039f"
                          ],
                          [
                            0.2222222222222222,
                            "#7201a8"
                          ],
                          [
                            0.3333333333333333,
                            "#9c179e"
                          ],
                          [
                            0.4444444444444444,
                            "#bd3786"
                          ],
                          [
                            0.5555555555555556,
                            "#d8576b"
                          ],
                          [
                            0.6666666666666666,
                            "#ed7953"
                          ],
                          [
                            0.7777777777777778,
                            "#fb9f3a"
                          ],
                          [
                            0.8888888888888888,
                            "#fdca26"
                          ],
                          [
                            1,
                            "#f0f921"
                          ]
                        ],
                        "type": "surface"
                      }
                    ],
                    "table": [
                      {
                        "cells": {
                          "fill": {
                            "color": "#EBF0F8"
                          },
                          "line": {
                            "color": "white"
                          }
                        },
                        "header": {
                          "fill": {
                            "color": "#C8D4E3"
                          },
                          "line": {
                            "color": "white"
                          }
                        },
                        "type": "table"
                      }
                    ]
                  },
                  "layout": {
                    "annotationdefaults": {
                      "arrowcolor": "#2a3f5f",
                      "arrowhead": 0,
                      "arrowwidth": 1
                    },
                    "autotypenumbers": "strict",
                    "coloraxis": {
                      "colorbar": {
                        "outlinewidth": 0,
                        "ticks": ""
                      }
                    },
                    "colorscale": {
                      "diverging": [
                        [
                          0,
                          "#8e0152"
                        ],
                        [
                          0.1,
                          "#c51b7d"
                        ],
                        [
                          0.2,
                          "#de77ae"
                        ],
                        [
                          0.3,
                          "#f1b6da"
                        ],
                        [
                          0.4,
                          "#fde0ef"
                        ],
                        [
                          0.5,
                          "#f7f7f7"
                        ],
                        [
                          0.6,
                          "#e6f5d0"
                        ],
                        [
                          0.7,
                          "#b8e186"
                        ],
                        [
                          0.8,
                          "#7fbc41"
                        ],
                        [
                          0.9,
                          "#4d9221"
                        ],
                        [
                          1,
                          "#276419"
                        ]
                      ],
                      "sequential": [
                        [
                          0,
                          "#0d0887"
                        ],
                        [
                          0.1111111111111111,
                          "#46039f"
                        ],
                        [
                          0.2222222222222222,
                          "#7201a8"
                        ],
                        [
                          0.3333333333333333,
                          "#9c179e"
                        ],
                        [
                          0.4444444444444444,
                          "#bd3786"
                        ],
                        [
                          0.5555555555555556,
                          "#d8576b"
                        ],
                        [
                          0.6666666666666666,
                          "#ed7953"
                        ],
                        [
                          0.7777777777777778,
                          "#fb9f3a"
                        ],
                        [
                          0.8888888888888888,
                          "#fdca26"
                        ],
                        [
                          1,
                          "#f0f921"
                        ]
                      ],
                      "sequentialminus": [
                        [
                          0,
                          "#0d0887"
                        ],
                        [
                          0.1111111111111111,
                          "#46039f"
                        ],
                        [
                          0.2222222222222222,
                          "#7201a8"
                        ],
                        [
                          0.3333333333333333,
                          "#9c179e"
                        ],
                        [
                          0.4444444444444444,
                          "#bd3786"
                        ],
                        [
                          0.5555555555555556,
                          "#d8576b"
                        ],
                        [
                          0.6666666666666666,
                          "#ed7953"
                        ],
                        [
                          0.7777777777777778,
                          "#fb9f3a"
                        ],
                        [
                          0.8888888888888888,
                          "#fdca26"
                        ],
                        [
                          1,
                          "#f0f921"
                        ]
                      ]
                    },
                    "colorway": [
                      "#636efa",
                      "#EF553B",
                      "#00cc96",
                      "#ab63fa",
                      "#FFA15A",
                      "#19d3f3",
                      "#FF6692",
                      "#B6E880",
                      "#FF97FF",
                      "#FECB52"
                    ],
                    "font": {
                      "color": "#2a3f5f"
                    },
                    "geo": {
                      "bgcolor": "white",
                      "lakecolor": "white",
                      "landcolor": "white",
                      "showlakes": true,
                      "showland": true,
                      "subunitcolor": "#C8D4E3"
                    },
                    "hoverlabel": {
                      "align": "left"
                    },
                    "hovermode": "closest",
                    "mapbox": {
                      "style": "light"
                    },
                    "paper_bgcolor": "white",
                    "plot_bgcolor": "white",
                    "polar": {
                      "angularaxis": {
                        "gridcolor": "#EBF0F8",
                        "linecolor": "#EBF0F8",
                        "ticks": ""
                      },
                      "bgcolor": "white",
                      "radialaxis": {
                        "gridcolor": "#EBF0F8",
                        "linecolor": "#EBF0F8",
                        "ticks": ""
                      }
                    },
                    "scene": {
                      "xaxis": {
                        "backgroundcolor": "white",
                        "gridcolor": "#DFE8F3",
                        "gridwidth": 2,
                        "linecolor": "#EBF0F8",
                        "showbackground": true,
                        "ticks": "",
                        "zerolinecolor": "#EBF0F8"
                      },
                      "yaxis": {
                        "backgroundcolor": "white",
                        "gridcolor": "#DFE8F3",
                        "gridwidth": 2,
                        "linecolor": "#EBF0F8",
                        "showbackground": true,
                        "ticks": "",
                        "zerolinecolor": "#EBF0F8"
                      },
                      "zaxis": {
                        "backgroundcolor": "white",
                        "gridcolor": "#DFE8F3",
                        "gridwidth": 2,
                        "linecolor": "#EBF0F8",
                        "showbackground": true,
                        "ticks": "",
                        "zerolinecolor": "#EBF0F8"
                      }
                    },
                    "shapedefaults": {
                      "line": {
                        "color": "#2a3f5f"
                      }
                    },
                    "ternary": {
                      "aaxis": {
                        "gridcolor": "#DFE8F3",
                        "linecolor": "#A2B1C6",
                        "ticks": ""
                      },
                      "baxis": {
                        "gridcolor": "#DFE8F3",
                        "linecolor": "#A2B1C6",
                        "ticks": ""
                      },
                      "bgcolor": "white",
                      "caxis": {
                        "gridcolor": "#DFE8F3",
                        "linecolor": "#A2B1C6",
                        "ticks": ""
                      }
                    },
                    "title": {
                      "x": 0.05
                    },
                    "xaxis": {
                      "automargin": true,
                      "gridcolor": "#EBF0F8",
                      "linecolor": "#EBF0F8",
                      "ticks": "",
                      "title": {
                        "standoff": 15
                      },
                      "zerolinecolor": "#EBF0F8",
                      "zerolinewidth": 2
                    },
                    "yaxis": {
                      "automargin": true,
                      "gridcolor": "#EBF0F8",
                      "linecolor": "#EBF0F8",
                      "ticks": "",
                      "title": {
                        "standoff": 15
                      },
                      "zerolinecolor": "#EBF0F8",
                      "zerolinewidth": 2
                    }
                  }
                },
                "title": {
                  "font": {
                    "color": "Black",
                    "size": 22
                  },
                  "text": "Topic Word Scores",
                  "x": 0.5,
                  "xanchor": "center",
                  "yanchor": "top"
                },
                "width": 1000,
                "xaxis": {
                  "anchor": "y",
                  "domain": [
                    0,
                    0.175
                  ],
                  "showgrid": true
                },
                "xaxis10": {
                  "anchor": "y10",
                  "domain": [
                    0.275,
                    0.45
                  ],
                  "showgrid": true
                },
                "xaxis11": {
                  "anchor": "y11",
                  "domain": [
                    0.55,
                    0.7250000000000001
                  ],
                  "showgrid": true
                },
                "xaxis12": {
                  "anchor": "y12",
                  "domain": [
                    0.825,
                    1
                  ],
                  "showgrid": true
                },
                "xaxis13": {
                  "anchor": "y13",
                  "domain": [
                    0,
                    0.175
                  ],
                  "showgrid": true
                },
                "xaxis14": {
                  "anchor": "y14",
                  "domain": [
                    0.275,
                    0.45
                  ],
                  "showgrid": true
                },
                "xaxis15": {
                  "anchor": "y15",
                  "domain": [
                    0.55,
                    0.7250000000000001
                  ],
                  "showgrid": true
                },
                "xaxis16": {
                  "anchor": "y16",
                  "domain": [
                    0.825,
                    1
                  ],
                  "showgrid": true
                },
                "xaxis17": {
                  "anchor": "y17",
                  "domain": [
                    0,
                    0.175
                  ],
                  "showgrid": true
                },
                "xaxis18": {
                  "anchor": "y18",
                  "domain": [
                    0.275,
                    0.45
                  ],
                  "showgrid": true
                },
                "xaxis19": {
                  "anchor": "y19",
                  "domain": [
                    0.55,
                    0.7250000000000001
                  ],
                  "showgrid": true
                },
                "xaxis2": {
                  "anchor": "y2",
                  "domain": [
                    0.275,
                    0.45
                  ],
                  "showgrid": true
                },
                "xaxis20": {
                  "anchor": "y20",
                  "domain": [
                    0.825,
                    1
                  ],
                  "showgrid": true
                },
                "xaxis3": {
                  "anchor": "y3",
                  "domain": [
                    0.55,
                    0.7250000000000001
                  ],
                  "showgrid": true
                },
                "xaxis4": {
                  "anchor": "y4",
                  "domain": [
                    0.825,
                    1
                  ],
                  "showgrid": true
                },
                "xaxis5": {
                  "anchor": "y5",
                  "domain": [
                    0,
                    0.175
                  ],
                  "showgrid": true
                },
                "xaxis6": {
                  "anchor": "y6",
                  "domain": [
                    0.275,
                    0.45
                  ],
                  "showgrid": true
                },
                "xaxis7": {
                  "anchor": "y7",
                  "domain": [
                    0.55,
                    0.7250000000000001
                  ],
                  "showgrid": true
                },
                "xaxis8": {
                  "anchor": "y8",
                  "domain": [
                    0.825,
                    1
                  ],
                  "showgrid": true
                },
                "xaxis9": {
                  "anchor": "y9",
                  "domain": [
                    0,
                    0.175
                  ],
                  "showgrid": true
                },
                "yaxis": {
                  "anchor": "x",
                  "domain": [
                    0.8639999999999999,
                    0.9999999999999999
                  ],
                  "showgrid": true
                },
                "yaxis10": {
                  "anchor": "x10",
                  "domain": [
                    0.43199999999999994,
                    0.568
                  ],
                  "showgrid": true
                },
                "yaxis11": {
                  "anchor": "x11",
                  "domain": [
                    0.43199999999999994,
                    0.568
                  ],
                  "showgrid": true
                },
                "yaxis12": {
                  "anchor": "x12",
                  "domain": [
                    0.43199999999999994,
                    0.568
                  ],
                  "showgrid": true
                },
                "yaxis13": {
                  "anchor": "x13",
                  "domain": [
                    0.21599999999999997,
                    0.352
                  ],
                  "showgrid": true
                },
                "yaxis14": {
                  "anchor": "x14",
                  "domain": [
                    0.21599999999999997,
                    0.352
                  ],
                  "showgrid": true
                },
                "yaxis15": {
                  "anchor": "x15",
                  "domain": [
                    0.21599999999999997,
                    0.352
                  ],
                  "showgrid": true
                },
                "yaxis16": {
                  "anchor": "x16",
                  "domain": [
                    0.21599999999999997,
                    0.352
                  ],
                  "showgrid": true
                },
                "yaxis17": {
                  "anchor": "x17",
                  "domain": [
                    0,
                    0.13599999999999998
                  ],
                  "showgrid": true
                },
                "yaxis18": {
                  "anchor": "x18",
                  "domain": [
                    0,
                    0.13599999999999998
                  ],
                  "showgrid": true
                },
                "yaxis19": {
                  "anchor": "x19",
                  "domain": [
                    0,
                    0.13599999999999998
                  ],
                  "showgrid": true
                },
                "yaxis2": {
                  "anchor": "x2",
                  "domain": [
                    0.8639999999999999,
                    0.9999999999999999
                  ],
                  "showgrid": true
                },
                "yaxis20": {
                  "anchor": "x20",
                  "domain": [
                    0,
                    0.13599999999999998
                  ],
                  "showgrid": true
                },
                "yaxis3": {
                  "anchor": "x3",
                  "domain": [
                    0.8639999999999999,
                    0.9999999999999999
                  ],
                  "showgrid": true
                },
                "yaxis4": {
                  "anchor": "x4",
                  "domain": [
                    0.8639999999999999,
                    0.9999999999999999
                  ],
                  "showgrid": true
                },
                "yaxis5": {
                  "anchor": "x5",
                  "domain": [
                    0.6479999999999999,
                    0.7839999999999999
                  ],
                  "showgrid": true
                },
                "yaxis6": {
                  "anchor": "x6",
                  "domain": [
                    0.6479999999999999,
                    0.7839999999999999
                  ],
                  "showgrid": true
                },
                "yaxis7": {
                  "anchor": "x7",
                  "domain": [
                    0.6479999999999999,
                    0.7839999999999999
                  ],
                  "showgrid": true
                },
                "yaxis8": {
                  "anchor": "x8",
                  "domain": [
                    0.6479999999999999,
                    0.7839999999999999
                  ],
                  "showgrid": true
                },
                "yaxis9": {
                  "anchor": "x9",
                  "domain": [
                    0.43199999999999994,
                    0.568
                  ],
                  "showgrid": true
                }
              }
            }
          },
          "metadata": {},
          "output_type": "display_data"
        }
      ],
      "source": [
        "topic_model_mot_cible.visualize_barchart(top_n_topics=20)\n"
      ]
    },
    {
      "cell_type": "code",
      "execution_count": null,
      "metadata": {},
      "outputs": [],
      "source": [
        "fig = topic_model_mot_cible.visualize_barchart(top_n_topics=20)\n",
        "fig.write_image(f\"C:/Users/portable_laura/Desktop/memoire_prod_finale/data/barchart_topics_{mot_cible}.png\")"
      ]
    },
    {
      "cell_type": "code",
      "execution_count": null,
      "metadata": {},
      "outputs": [
        {
          "ename": "IndexError",
          "evalue": "index 0 is out of bounds for axis 0 with size 0",
          "output_type": "error",
          "traceback": [
            "\u001b[1;31m---------------------------------------------------------------------------\u001b[0m",
            "\u001b[1;31mIndexError\u001b[0m                                Traceback (most recent call last)",
            "Cell \u001b[1;32mIn[49], line 20\u001b[0m\n\u001b[0;32m     17\u001b[0m topics_per_class_barrage[\u001b[38;5;124m'\u001b[39m\u001b[38;5;124mClass\u001b[39m\u001b[38;5;124m'\u001b[39m] \u001b[38;5;241m=\u001b[39m topics_per_class_barrage[\u001b[38;5;124m'\u001b[39m\u001b[38;5;124mClass\u001b[39m\u001b[38;5;124m'\u001b[39m]\u001b[38;5;241m.\u001b[39mdt\u001b[38;5;241m.\u001b[39myear\n\u001b[0;32m     18\u001b[0m topics_sorted_barrage \u001b[38;5;241m=\u001b[39m topics_per_class_barrage\u001b[38;5;241m.\u001b[39msort_values(by\u001b[38;5;241m=\u001b[39m\u001b[38;5;124m'\u001b[39m\u001b[38;5;124mClass\u001b[39m\u001b[38;5;124m'\u001b[39m)\n\u001b[1;32m---> 20\u001b[0m fig_unsupervised \u001b[38;5;241m=\u001b[39m \u001b[43mtopic_model_barrage\u001b[49m\u001b[38;5;241;43m.\u001b[39;49m\u001b[43mvisualize_topics_per_class\u001b[49m\u001b[43m(\u001b[49m\u001b[43mtopics_sorted_barrage\u001b[49m\u001b[43m,\u001b[49m\u001b[43m \u001b[49m\u001b[43mtop_n_topics\u001b[49m\u001b[38;5;241;43m=\u001b[39;49m\u001b[38;5;241;43m10\u001b[39;49m\u001b[43m)\u001b[49m\n\u001b[0;32m     21\u001b[0m fig_unsupervised\n",
            "File \u001b[1;32mc:\\Users\\portable_laura\\anaconda3\\envs\\python_avance\\lib\\site-packages\\bertopic\\_bertopic.py:2715\u001b[0m, in \u001b[0;36mBERTopic.visualize_topics_per_class\u001b[1;34m(self, topics_per_class, top_n_topics, topics, normalize_frequency, custom_labels, title, width, height)\u001b[0m\n\u001b[0;32m   2681\u001b[0m \u001b[38;5;250m\u001b[39m\u001b[38;5;124;03m\"\"\" Visualize topics per class\u001b[39;00m\n\u001b[0;32m   2682\u001b[0m \n\u001b[0;32m   2683\u001b[0m \u001b[38;5;124;03mArguments:\u001b[39;00m\n\u001b[1;32m   (...)\u001b[0m\n\u001b[0;32m   2712\u001b[0m \u001b[38;5;124;03m```\u001b[39;00m\n\u001b[0;32m   2713\u001b[0m \u001b[38;5;124;03m\"\"\"\u001b[39;00m\n\u001b[0;32m   2714\u001b[0m check_is_fitted(\u001b[38;5;28mself\u001b[39m)\n\u001b[1;32m-> 2715\u001b[0m \u001b[38;5;28;01mreturn\u001b[39;00m \u001b[43mplotting\u001b[49m\u001b[38;5;241;43m.\u001b[39;49m\u001b[43mvisualize_topics_per_class\u001b[49m\u001b[43m(\u001b[49m\u001b[38;5;28;43mself\u001b[39;49m\u001b[43m,\u001b[49m\n\u001b[0;32m   2716\u001b[0m \u001b[43m                                           \u001b[49m\u001b[43mtopics_per_class\u001b[49m\u001b[38;5;241;43m=\u001b[39;49m\u001b[43mtopics_per_class\u001b[49m\u001b[43m,\u001b[49m\n\u001b[0;32m   2717\u001b[0m \u001b[43m                                           \u001b[49m\u001b[43mtop_n_topics\u001b[49m\u001b[38;5;241;43m=\u001b[39;49m\u001b[43mtop_n_topics\u001b[49m\u001b[43m,\u001b[49m\n\u001b[0;32m   2718\u001b[0m \u001b[43m                                           \u001b[49m\u001b[43mtopics\u001b[49m\u001b[38;5;241;43m=\u001b[39;49m\u001b[43mtopics\u001b[49m\u001b[43m,\u001b[49m\n\u001b[0;32m   2719\u001b[0m \u001b[43m                                           \u001b[49m\u001b[43mnormalize_frequency\u001b[49m\u001b[38;5;241;43m=\u001b[39;49m\u001b[43mnormalize_frequency\u001b[49m\u001b[43m,\u001b[49m\n\u001b[0;32m   2720\u001b[0m \u001b[43m                                           \u001b[49m\u001b[43mcustom_labels\u001b[49m\u001b[38;5;241;43m=\u001b[39;49m\u001b[43mcustom_labels\u001b[49m\u001b[43m,\u001b[49m\n\u001b[0;32m   2721\u001b[0m \u001b[43m                                           \u001b[49m\u001b[43mtitle\u001b[49m\u001b[38;5;241;43m=\u001b[39;49m\u001b[43mtitle\u001b[49m\u001b[43m,\u001b[49m\n\u001b[0;32m   2722\u001b[0m \u001b[43m                                           \u001b[49m\u001b[43mwidth\u001b[49m\u001b[38;5;241;43m=\u001b[39;49m\u001b[43mwidth\u001b[49m\u001b[43m,\u001b[49m\n\u001b[0;32m   2723\u001b[0m \u001b[43m                                           \u001b[49m\u001b[43mheight\u001b[49m\u001b[38;5;241;43m=\u001b[39;49m\u001b[43mheight\u001b[49m\u001b[43m)\u001b[49m\n",
            "File \u001b[1;32mc:\\Users\\portable_laura\\anaconda3\\envs\\python_avance\\lib\\site-packages\\bertopic\\plotting\\_topics_per_class.py:87\u001b[0m, in \u001b[0;36mvisualize_topics_per_class\u001b[1;34m(topic_model, topics_per_class, top_n_topics, topics, normalize_frequency, custom_labels, title, width, height)\u001b[0m\n\u001b[0;32m     85\u001b[0m     visible \u001b[38;5;241m=\u001b[39m \u001b[38;5;124m\"\u001b[39m\u001b[38;5;124mlegendonly\u001b[39m\u001b[38;5;124m\"\u001b[39m\n\u001b[0;32m     86\u001b[0m trace_data \u001b[38;5;241m=\u001b[39m data\u001b[38;5;241m.\u001b[39mloc[data\u001b[38;5;241m.\u001b[39mTopic \u001b[38;5;241m==\u001b[39m topic, :]\n\u001b[1;32m---> 87\u001b[0m topic_name \u001b[38;5;241m=\u001b[39m \u001b[43mtrace_data\u001b[49m\u001b[38;5;241;43m.\u001b[39;49m\u001b[43mName\u001b[49m\u001b[38;5;241;43m.\u001b[39;49m\u001b[43mvalues\u001b[49m\u001b[43m[\u001b[49m\u001b[38;5;241;43m0\u001b[39;49m\u001b[43m]\u001b[49m\n\u001b[0;32m     88\u001b[0m words \u001b[38;5;241m=\u001b[39m trace_data\u001b[38;5;241m.\u001b[39mWords\u001b[38;5;241m.\u001b[39mvalues\n\u001b[0;32m     89\u001b[0m \u001b[38;5;28;01mif\u001b[39;00m normalize_frequency:\n",
            "\u001b[1;31mIndexError\u001b[0m: index 0 is out of bounds for axis 0 with size 0"
          ]
        }
      ],
      "source": [
        "\n",
        "\n",
        "topics_per_class_mot_cible['Class'] = pd.to_datetime(topics_per_class_mot_cible['Class'])\n",
        "topics_per_class_mot_cible['Class'] = topics_per_class_mot_cible['Class'].dt.year\n",
        "topics_sorted_mot_cible = topics_per_class_mot_cible.sort_values(by='Class')\n",
        "\n",
        "fig_unsupervised = topic_model_mot_cible.visualize_topics_per_class(topics_sorted_mot_cible, top_n_topics=10)\n",
        "fig_unsupervised"
      ]
    },
    {
      "cell_type": "markdown",
      "metadata": {},
      "source": [
        "#### Tentative de vectorisation TF-IDF"
      ]
    },
    {
      "cell_type": "code",
      "execution_count": null,
      "metadata": {},
      "outputs": [
        {
          "ename": "InvalidParameterError",
          "evalue": "The 'stop_words' parameter of TfidfVectorizer must be a str among {'english'}, an instance of 'list' or None. Got \"a\\nabord\\nabsolument\\nafin\\nah\\nai\\naie\\naient\\naies\\nailleurs\\nainsi\\nait\\nallaient\\nallo\\nallons\\nallô\\nalors\\nanterieur\\nanterieure\\nanterieures\\napres\\naprès\\nas\\nassez\\nattendu\\nau\\naucun\\naucune\\naucuns\\naujourd\\naujourd'hui\\naupres\\nauquel\\naura\\naurai\\nauraient\\naurais\\naurait\\nauras\\naurez\\nauriez\\naurions\\naurons\\nauront\\naussi\\nautant\\nautre\\nautrefois\\nautrement\\nautres\\nautrui\\naux\\nauxquelles\\nauxquels\\navaient\\navais\\navait\\navant\\navec\\navez\\naviez\\navions\\navoir\\navons\\nayant\\nayez\\nayons\\nb\\nbah\\nbas\\nbasee\\nbat\\nbeau\\nbeaucoup\\nbien\\nbigre\\nbon\\nboum\\nbravo\\nbrrr\\nc\\ncar\\nce\\nceci\\ncela\\ncelle\\ncelle-ci\\ncelle-là\\ncelles\\ncelles-ci\\ncelles-là\\ncelui\\ncelui-ci\\ncelui-là\\ncelà\\ncent\\ncependant\\ncertain\\ncertaine\\ncertaines\\ncertains\\ncertes\\nces\\ncet\\ncette\\nceux\\nceux-ci\\nceux-là\\nchacun\\nchacune\\nchaque\\ncher\\nchers\\nchez\\nchiche\\nchut\\nchère\\nchères\\nci\\ncinq\\ncinquantaine\\ncinquante\\ncinquantième\\ncinquième\\nclac\\nclic\\ncombien\\ncomme\\ncomment\\ncomparable\\ncomparables\\ncompris\\nconcernant\\ncontre\\ncouic\\ncrac\\nd\\nda\\ndans\\nde\\ndebout\\ndedans\\ndehors\\ndeja\\ndelà\\ndepuis\\ndernier\\nderniere\\nderriere\\nderrière\\ndes\\ndesormais\\ndesquelles\\ndesquels\\ndessous\\ndessus\\ndeux\\ndeuxième\\ndeuxièmement\\ndevant\\ndevers\\ndevra\\ndevrait\\ndifferent\\ndifferentes\\ndifferents\\ndifférent\\ndifférente\\ndifférentes\\ndifférents\\ndire\\ndirecte\\ndirectement\\ndit\\ndite\\ndits\\ndivers\\ndiverse\\ndiverses\\ndix\\ndix-huit\\ndix-neuf\\ndix-sept\\ndixième\\ndoit\\ndoivent\\ndonc\\ndont\\ndos\\ndouze\\ndouzième\\ndring\\ndroite\\ndu\\nduquel\\ndurant\\ndès\\ndébut\\ndésormais\\ne\\neffet\\negale\\negalement\\negales\\neh\\nelle\\nelle-même\\nelles\\nelles-mêmes\\nen\\nencore\\nenfin\\nentre\\nenvers\\nenviron\\nes\\nessai\\nest\\net\\netant\\netc\\netre\\neu\\neue\\neues\\neuh\\neurent\\neus\\neusse\\neussent\\neusses\\neussiez\\neussions\\neut\\neux\\neux-mêmes\\nexactement\\nexcepté\\nextenso\\nexterieur\\neûmes\\neût\\neûtes\\nf\\nfais\\nfaisaient\\nfaisant\\nfait\\nfaites\\nfaçon\\nferont\\nfi\\nflac\\nfloc\\nfois\\nfont\\nforce\\nfurent\\nfus\\nfusse\\nfussent\\nfusses\\nfussiez\\nfussions\\nfut\\nfûmes\\nfût\\nfûtes\\ng\\ngens\\nh\\nha\\nhaut\\nhein\\nhem\\nhep\\nhi\\nho\\nholà\\nhop\\nhormis\\nhors\\nhou\\nhoup\\nhue\\nhui\\nhuit\\nhuitième\\nhum\\nhurrah\\nhé\\nhélas\\ni\\nici\\nil\\nils\\nimporte\\nj\\nje\\njusqu\\njusque\\njuste\\nk\\nl\\nla\\nlaisser\\nlaquelle\\nlas\\nle\\nlequel\\nles\\nlesquelles\\nlesquels\\nleur\\nleurs\\nlongtemps\\nlors\\nlorsque\\nlui\\nlui-meme\\nlui-même\\nlà\\nlès\\nm\\nma\\nmaint\\nmaintenant\\nmais\\nmalgre\\nmalgré\\nmaximale\\nme\\nmeme\\nmemes\\nmerci\\nmes\\nmien\\nmienne\\nmiennes\\nmiens\\nmille\\nmince\\nmine\\nminimale\\nmoi\\nmoi-meme\\nmoi-même\\nmoindres\\nmoins\\nmon\\nmot\\nmoyennant\\nmultiple\\nmultiples\\nmême\\nmêmes\\nn\\nna\\nnaturel\\nnaturelle\\nnaturelles\\nne\\nneanmoins\\nnecessaire\\nnecessairement\\nneuf\\nneuvième\\nni\\nnombreuses\\nnombreux\\nnommés\\nnon\\nnos\\nnotamment\\nnotre\\nnous\\nnous-mêmes\\nnouveau\\nnouveaux\\nnul\\nnéanmoins\\nnôtre\\nnôtres\\no\\noh\\nohé\\nollé\\nolé\\non\\nont\\nonze\\nonzième\\nore\\nou\\nouf\\nouias\\noust\\nouste\\noutre\\nouvert\\nouverte\\nouverts\\no|\\noù\\np\\npaf\\npan\\npar\\nparce\\nparfois\\nparle\\nparlent\\nparler\\nparmi\\nparole\\nparseme\\npartant\\nparticulier\\nparticulière\\nparticulièrement\\npas\\npassé\\npendant\\npense\\npermet\\npersonne\\npersonnes\\npeu\\npeut\\npeuvent\\npeux\\npff\\npfft\\npfut\\npif\\npire\\npièce\\nplein\\nplouf\\nplupart\\nplus\\nplusieurs\\nplutôt\\npossessif\\npossessifs\\npossible\\npossibles\\npouah\\npour\\npourquoi\\npourrais\\npourrait\\npouvait\\nprealable\\nprecisement\\npremier\\npremière\\npremièrement\\npres\\nprobable\\nprobante\\nprocedant\\nproche\\nprès\\npsitt\\npu\\npuis\\npuisque\\npur\\npure\\nq\\nqu\\nquand\\nquant\\nquant-à-soi\\nquanta\\nquarante\\nquatorze\\nquatre\\nquatre-vingt\\nquatrième\\nquatrièmement\\nque\\nquel\\nquelconque\\nquelle\\nquelles\\nquelqu'un\\nquelque\\nquelques\\nquels\\nqui\\nquiconque\\nquinze\\nquoi\\nquoique\\nr\\nrare\\nrarement\\nrares\\nrelative\\nrelativement\\nremarquable\\nrend\\nrendre\\nrestant\\nreste\\nrestent\\nrestrictif\\nretour\\nrevoici\\nrevoilà\\nrien\\ns\\nsa\\nsacrebleu\\nsait\\nsans\\nsapristi\\nsauf\\nse\\nsein\\nseize\\nselon\\nsemblable\\nsemblaient\\nsemble\\nsemblent\\nsent\\nsept\\nseptième\\nsera\\nserai\\nseraient\\nserais\\nserait\\nseras\\nserez\\nseriez\\nserions\\nserons\\nseront\\nses\\nseul\\nseule\\nseulement\\nsi\\nsien\\nsienne\\nsiennes\\nsiens\\nsinon\\nsix\\nsixième\\nsoi\\nsoi-même\\nsoient\\nsois\\nsoit\\nsoixante\\nsommes\\nson\\nsont\\nsous\\nsouvent\\nsoyez\\nsoyons\\nspecifique\\nspecifiques\\nspeculatif\\nstop\\nstrictement\\nsubtiles\\nsuffisant\\nsuffisante\\nsuffit\\nsuis\\nsuit\\nsuivant\\nsuivante\\nsuivantes\\nsuivants\\nsuivre\\nsujet\\nsuperpose\\nsur\\nsurtout\\nt\\nta\\ntac\\ntandis\\ntant\\ntardive\\nte\\ntel\\ntelle\\ntellement\\ntelles\\ntels\\ntenant\\ntend\\ntenir\\ntente\\ntes\\ntic\\ntien\\ntienne\\ntiennes\\ntiens\\ntoc\\ntoi\\ntoi-même\\nton\\ntouchant\\ntoujours\\ntous\\ntout\\ntoute\\ntoutefois\\ntoutes\\ntreize\\ntrente\\ntres\\ntrois\\ntroisième\\ntroisièmement\\ntrop\\ntrès\\ntsoin\\ntsouin\\ntu\\nté\\nu\\nun\\nune\\nunes\\nuniformement\\nunique\\nuniques\\nuns\\nv\\nva\\nvais\\nvaleur\\nvas\\nvers\\nvia\\nvif\\nvifs\\nvingt\\nvivat\\nvive\\nvives\\nvlan\\nvoici\\nvoie\\nvoient\\nvoilà\\nvoire\\nvont\\nvos\\nvotre\\nvous\\nvous-mêmes\\nvu\\nvé\\nvôtre\\nvôtres\\nw\\nx\\ny\\nz\\nzut\\nà\\nâ\\nça\\nès\\nétaient\\nétais\\nétait\\nétant\\nétat\\nétiez\\nétions\\nété\\nétée\\nétées\\nétés\\nêtes\\nêtre\\nô\\na\\nà\\nâ\\nabord\\nafin\\nah\\nai\\naie\\nainsi\\nallaient\\nallo\\nallô\\nallons\\naprès\\nassez\\nattendu\\nau\\naucun\\naucune\\naujourd\\naujourd'hui\\nauquel\\naura\\nauront\\naussi\\nautre\\nautres\\naux\\nauxquelles\\nauxquels\\navaient\\navais\\navait\\navant\\navec\\navoir\\nayant\\nb\\nbah\\nbeaucoup\\nbien\\nbigre\\nboum\\nbravo\\nbrrr\\nc\\nça\\ncar\\nce\\nceci\\ncela\\ncelle\\ncelle-ci\\ncelle-là\\ncelles\\ncelles-ci\\ncelles-là\\ncelui\\ncelui-ci\\ncelui-là\\ncent\\ncependant\\ncertain\\ncertaine\\ncertaines\\ncertains\\ncertes\\nces\\ncet\\ncette\\nceux\\nceux-ci\\nceux-là\\nchacun\\nchaque\\ncher\\nchère\\nchères\\nchers\\nchez\\nchiche\\nchut\\nci\\ncinq\\ncinquantaine\\ncinquante\\ncinquantième\\ncinquième\\nclac\\nclic\\ncombien\\ncomme\\ncomment\\ncompris\\nconcernant\\ncontre\\ncouic\\ncrac\\nd\\nda\\ndans\\nde\\ndebout\\ndedans\\ndehors\\ndelà\\ndepuis\\nderrière\\ndes\\ndès\\ndésormais\\ndesquelles\\ndesquels\\ndessous\\ndessus\\ndeux\\ndeuxième\\ndeuxièmement\\ndevant\\ndevers\\ndevra\\ndifférent\\ndifférente\\ndifférentes\\ndifférents\\ndire\\ndivers\\ndiverse\\ndiverses\\ndix\\ndix-huit\\ndixième\\ndix-neuf\\ndix-sept\\ndoit\\ndoivent\\ndonc\\ndont\\ndouze\\ndouzième\\ndring\\ndu\\nduquel\\ndurant\\ne\\neffet\\neh\\nelle\\nelle-même\\nelles\\nelles-mêmes\\nen\\nencore\\nentre\\nenvers\\nenviron\\nes\\nès\\nest\\net\\netant\\nétaient\\nétais\\nétait\\nétant\\netc\\nété\\netre\\nêtre\\neu\\neuh\\neux\\neux-mêmes\\nexcepté\\nf\\nfaçon\\nfais\\nfaisaient\\nfaisant\\nfait\\nferont\\nfi\\nflac\\nfloc\\nfont\\ng\\ngens\\nh\\nha\\nhé\\nhein\\nhélas\\nhem\\nhep\\nhi\\nho\\nholà\\nhop\\nhormis\\nhors\\nhou\\nhoup\\nhue\\nhui\\nhuit\\nhuitième\\nhum\\nhurrah\\ni\\nil\\nils\\nimporte\\nj\\nje\\njusqu\\njusque\\nk\\nl\\nla\\nlà\\nlaquelle\\nlas\\nle\\nlequel\\nles\\nlès\\nlesquelles\\nlesquels\\nleur\\nleurs\\nlongtemps\\nlorsque\\nlui\\nlui-même\\nm\\nma\\nmaint\\nmais\\nmalgré\\nme\\nmême\\nmêmes\\nmerci\\nmes\\nmien\\nmienne\\nmiennes\\nmiens\\nmille\\nmince\\nmoi\\nmoi-même\\nmoins\\nmon\\nmoyennant\\nn\\nna\\nne\\nnéanmoins\\nneuf\\nneuvième\\nni\\nnombreuses\\nnombreux\\nnon\\nnos\\nnotre\\nnôtre\\nnôtres\\nnous\\nnous-mêmes\\nnul\\no\\no|\\nô\\noh\\nohé\\nolé\\nollé\\non\\nont\\nonze\\nonzième\\nore\\nou\\noù\\nouf\\nouias\\noust\\nouste\\noutre\\np\\npaf\\npan\\npar\\nparmi\\npartant\\nparticulier\\nparticulière\\nparticulièrement\\npas\\npassé\\npendant\\npersonne\\npeu\\npeut\\npeuvent\\npeux\\npff\\npfft\\npfut\\npif\\nplein\\nplouf\\nplus\\nplusieurs\\nplutôt\\npouah\\npour\\npourquoi\\npremier\\npremière\\npremièrement\\nprès\\nproche\\npsitt\\npuisque\\nq\\nqu\\nquand\\nquant\\nquanta\\nquant-à-soi\\nquarante\\nquatorze\\nquatre\\nquatre-vingt\\nquatrième\\nquatrièmement\\nque\\nquel\\nquelconque\\nquelle\\nquelles\\nquelque\\nquelques\\nquelqu'un\\nquels\\nqui\\nquiconque\\nquinze\\nquoi\\nquoique\\nr\\nrevoici\\nrevoilà\\nrien\\ns\\nsa\\nsacrebleu\\nsans\\nsapristi\\nsauf\\nse\\nseize\\nselon\\nsept\\nseptième\\nsera\\nseront\\nses\\nsi\\nsien\\nsienne\\nsiennes\\nsiens\\nsinon\\nsix\\nsixième\\nsoi\\nsoi-même\\nsoit\\nsoixante\\nson\\nsont\\nsous\\nstop\\nsuis\\nsuivant\\nsur\\nsurtout\\nt\\nta\\ntac\\ntant\\nte\\nté\\ntel\\ntelle\\ntellement\\ntelles\\ntels\\ntenant\\ntes\\ntic\\ntien\\ntienne\\ntiennes\\ntiens\\ntoc\\ntoi\\ntoi-même\\nton\\ntouchant\\ntoujours\\ntous\\ntout\\ntoute\\ntoutes\\ntreize\\ntrente\\ntrès\\ntrois\\ntroisième\\ntroisièmement\\ntrop\\ntsoin\\ntsouin\\ntu\\nu\\nun\\nune\\nunes\\nuns\\nv\\nva\\nvais\\nvas\\nvé\\nvers\\nvia\\nvif\\nvifs\\nvingt\\nvivat\\nvive\\nvives\\nvlan\\nvoici\\nvoilà\\nvont\\nvos\\nvotre\\nvôtre\\nvôtres\\nvous\\nvous-mêmes\\nvu\\nw\\nx\\ny\\nz\\nzut\\nalors\\naucuns\\nbon\\ndevrait\\ndos\\ndroite\\ndébut\\nessai\\nfaites\\nfois\\nforce\\nhaut\\nici\\njuste\\nmaintenant\\nmine\\nmot\\nnommés\\nnouveaux\\nparce\\nparole\\npersonnes\\npièce\\nplupart\\nseulement\\nsoyez\\nsujet\\ntandis\\nvaleur\\nvoie\\nvoient\\nétat\\nétions\\n\\n\\n\\nle\\nla \\nles \\nun \\nune \\ndes \\ndu \\nde \\nau \\naux \\nen \\nà \\npar \\npour \\nsur \\nsous \\navec \\nsans \\nentre \\ncontre \\nchez \\nvers \\ndevant \\nderrière \\ndans \\naprès \\navant \\ndepuis \\npendant \\njusqu'à \\njusq\\nà \\nlors \\nde \\nje \\ntu \\nil \\nelle \\nnous \\nvous \\nils \\nelles \\nmoi \\ntoi \\nlui \\nleur \\neux \\nce \\nceci \\ncela \\nça \\ncelui \\ncelle \\nceux \\ncelles\\nmien \\ntien \\nsien \\nnotre \\nvotre \\nleur \\nleurs \\nmes \\ntes \\nses \\nnos \\nvos \\nêtre \\navoir \\nfaire \\n\\naller \\ndire \\nvouloir \\nvenir \\nfalloir \\ntrouver \\nprendre \\nmettre \\ndonner \\nparler \\npasser \\nrester \\ntenir \\nporter \\nmontrer \\ncontinuer \\nentendre \\nsembler \\nlaisser \\nrevenir \\nrendre\\nrépondre \\nattendre \\nappeler \\npartir \\narriver \\nsentir \\nchercher \\nremettre \\n\\net \\nou \\ndonc \\nmais \\nni \\nor \\ncar \\npourtant \\ncependant \\nnéanmoins \\naussi \\nainsi \\nmême \\ncomme \\nsi \\nbien \\ntrès \\npeu \\nbeaucoup \\ntrop \\nassez \\nautant \\nplus \\nmoins \\nencore \\ndéjà \\nseulement \\npresque \\nplutôt \\nencore \\ntoujours \\nparfois \\nsouvent \\njamais \\ntout \\ntous \\ntoutes \\naussi \\nautant \\naussi \\nbien \\nque \\n\\ndéputé \\nsénateur \\nministre \\nprésident \\ngouvernement \\nassemblée \\nparlement \\nrépublique \\nconstitution \\namendement \\ncommission \\nsession \\nproposition \\nquestion \\nréponse \\ndébat \\ndiscours \\nvote \\nscrutin \\nloi \\ndécret \\nordonnance \\nlégislation \\nrèglement \\nparti \\nmajorité \\nopposition \\nmotion \\namendement \\nintervention \\nséance \\nsession \\naudition \\ncomité \\nrapport \\nmandat \\nélection \\nréélection \\ncampagne \\nsuffrage \\nélectorat \\ncitoyen \\nélecteur \\n\\nen \\neffet \\nfait \\npar \\nconséquent \\nconséquence\\nà \\nd'une\\nd\\nune\\nautre \\nexemple \\nce \\nqui \\nconcerne \\nde \\npropos\\ncet \\négard \\nmanière \\ngénérale \\nplus \\noutre \\nailleurs \\nainsi \\nque \\nentendu \\nrapport \\nau \\nregard \\nvue \\nfaçon \\ntant \\ndans \\nle \\ncadre \\nselon \\nconformément \\nfaveur \\nnom \\nproposition \\nloi \\nprojet \\namendement \\nadoption \\nréforme \\nvote \\nmajorité \\nrelative \\nabsolue \\nabstention \\nséance \\npublique \\ncommission \\npermanente \\ncommission \\nspéciale \\ngroupe \\nparlementaire \\nhémicycle \\nordre \\njour \\nquestion \\norale \\nquestion \\nécrite \\nquestion \\nau \\ngouvernement \\nrapporteur \\ngénéral \\npremier \\nministre \\nchef \\nl \\nétat \\nchef \\nsecrétaire \\nconseil \\ndes \\nministres \\nassemblée \\nnationale \\nsénat \\nconstitutionnelle \\nlégislatif \\nexécutif \\njudiciaire \\npouvoir \\npublic \\npolitiques\\nsystèmes\\n\\n\\nmarquis \\nmarquise \\nduc \\nduchesse \\ncomte \\ncomtesse \\nvicomte \\nvicomtesse \\nbaron \\nbaronne \\nchevalier \\ndame\\nmessire \\nmonseigneur \\nseigneur \\nmadame \\nmonsieur \\nmademoiselle \\nsire \\nhonorable \\nmon \\ncher \\nhautement\\n\\n\\nloi\\ncommission\\nchambre\\nprésident\\nprsident\\n\" instead.",
          "output_type": "error",
          "traceback": [
            "\u001b[1;31m---------------------------------------------------------------------------\u001b[0m",
            "\u001b[1;31mInvalidParameterError\u001b[0m                     Traceback (most recent call last)",
            "Cell \u001b[1;32mIn[32], line 14\u001b[0m\n\u001b[0;32m      7\u001b[0m \u001b[38;5;66;03m#ou alternative manuelle:\u001b[39;00m\n\u001b[0;32m      8\u001b[0m \u001b[38;5;66;03m#custom_stopwords=[\"fr\",\"demande\",\"applaudissements\",\"gauche\"]\u001b[39;00m\n\u001b[0;32m      9\u001b[0m \n\u001b[0;32m     10\u001b[0m \n\u001b[0;32m     11\u001b[0m \u001b[38;5;66;03m#On créé un vectoriseur TF-IDF avec des stopwords que l'on rajoute manuellement\u001b[39;00m\n\u001b[0;32m     12\u001b[0m vectorizer \u001b[38;5;241m=\u001b[39m TfidfVectorizer(stop_words\u001b[38;5;241m=\u001b[39mcustom_stopwords)\n\u001b[1;32m---> 14\u001b[0m X \u001b[38;5;241m=\u001b[39m \u001b[43mvectorizer\u001b[49m\u001b[38;5;241;43m.\u001b[39;49m\u001b[43mfit_transform\u001b[49m\u001b[43m(\u001b[49m\u001b[43mdocs_canal\u001b[49m\u001b[43m)\u001b[49m\n\u001b[0;32m     17\u001b[0m topic_model_test2 \u001b[38;5;241m=\u001b[39m BERTopic(verbose\u001b[38;5;241m=\u001b[39m\u001b[38;5;28;01mTrue\u001b[39;00m)\n\u001b[0;32m     19\u001b[0m docs_list \u001b[38;5;241m=\u001b[39m []\n",
            "File \u001b[1;32mc:\\Users\\portable_laura\\anaconda3\\envs\\python_avance\\lib\\site-packages\\sklearn\\feature_extraction\\text.py:2139\u001b[0m, in \u001b[0;36mTfidfVectorizer.fit_transform\u001b[1;34m(self, raw_documents, y)\u001b[0m\n\u001b[0;32m   2132\u001b[0m \u001b[38;5;28mself\u001b[39m\u001b[38;5;241m.\u001b[39m_check_params()\n\u001b[0;32m   2133\u001b[0m \u001b[38;5;28mself\u001b[39m\u001b[38;5;241m.\u001b[39m_tfidf \u001b[38;5;241m=\u001b[39m TfidfTransformer(\n\u001b[0;32m   2134\u001b[0m     norm\u001b[38;5;241m=\u001b[39m\u001b[38;5;28mself\u001b[39m\u001b[38;5;241m.\u001b[39mnorm,\n\u001b[0;32m   2135\u001b[0m     use_idf\u001b[38;5;241m=\u001b[39m\u001b[38;5;28mself\u001b[39m\u001b[38;5;241m.\u001b[39muse_idf,\n\u001b[0;32m   2136\u001b[0m     smooth_idf\u001b[38;5;241m=\u001b[39m\u001b[38;5;28mself\u001b[39m\u001b[38;5;241m.\u001b[39msmooth_idf,\n\u001b[0;32m   2137\u001b[0m     sublinear_tf\u001b[38;5;241m=\u001b[39m\u001b[38;5;28mself\u001b[39m\u001b[38;5;241m.\u001b[39msublinear_tf,\n\u001b[0;32m   2138\u001b[0m )\n\u001b[1;32m-> 2139\u001b[0m X \u001b[38;5;241m=\u001b[39m \u001b[38;5;28;43msuper\u001b[39;49m\u001b[43m(\u001b[49m\u001b[43m)\u001b[49m\u001b[38;5;241;43m.\u001b[39;49m\u001b[43mfit_transform\u001b[49m\u001b[43m(\u001b[49m\u001b[43mraw_documents\u001b[49m\u001b[43m)\u001b[49m\n\u001b[0;32m   2140\u001b[0m \u001b[38;5;28mself\u001b[39m\u001b[38;5;241m.\u001b[39m_tfidf\u001b[38;5;241m.\u001b[39mfit(X)\n\u001b[0;32m   2141\u001b[0m \u001b[38;5;66;03m# X is already a transformed view of raw_documents so\u001b[39;00m\n\u001b[0;32m   2142\u001b[0m \u001b[38;5;66;03m# we set copy to False\u001b[39;00m\n",
            "File \u001b[1;32mc:\\Users\\portable_laura\\anaconda3\\envs\\python_avance\\lib\\site-packages\\sklearn\\base.py:1145\u001b[0m, in \u001b[0;36m_fit_context.<locals>.decorator.<locals>.wrapper\u001b[1;34m(estimator, *args, **kwargs)\u001b[0m\n\u001b[0;32m   1140\u001b[0m partial_fit_and_fitted \u001b[38;5;241m=\u001b[39m (\n\u001b[0;32m   1141\u001b[0m     fit_method\u001b[38;5;241m.\u001b[39m\u001b[38;5;18m__name__\u001b[39m \u001b[38;5;241m==\u001b[39m \u001b[38;5;124m\"\u001b[39m\u001b[38;5;124mpartial_fit\u001b[39m\u001b[38;5;124m\"\u001b[39m \u001b[38;5;129;01mand\u001b[39;00m _is_fitted(estimator)\n\u001b[0;32m   1142\u001b[0m )\n\u001b[0;32m   1144\u001b[0m \u001b[38;5;28;01mif\u001b[39;00m \u001b[38;5;129;01mnot\u001b[39;00m global_skip_validation \u001b[38;5;129;01mand\u001b[39;00m \u001b[38;5;129;01mnot\u001b[39;00m partial_fit_and_fitted:\n\u001b[1;32m-> 1145\u001b[0m     \u001b[43mestimator\u001b[49m\u001b[38;5;241;43m.\u001b[39;49m\u001b[43m_validate_params\u001b[49m\u001b[43m(\u001b[49m\u001b[43m)\u001b[49m\n\u001b[0;32m   1147\u001b[0m \u001b[38;5;28;01mwith\u001b[39;00m config_context(\n\u001b[0;32m   1148\u001b[0m     skip_parameter_validation\u001b[38;5;241m=\u001b[39m(\n\u001b[0;32m   1149\u001b[0m         prefer_skip_nested_validation \u001b[38;5;129;01mor\u001b[39;00m global_skip_validation\n\u001b[0;32m   1150\u001b[0m     )\n\u001b[0;32m   1151\u001b[0m ):\n\u001b[0;32m   1152\u001b[0m     \u001b[38;5;28;01mreturn\u001b[39;00m fit_method(estimator, \u001b[38;5;241m*\u001b[39margs, \u001b[38;5;241m*\u001b[39m\u001b[38;5;241m*\u001b[39mkwargs)\n",
            "File \u001b[1;32mc:\\Users\\portable_laura\\anaconda3\\envs\\python_avance\\lib\\site-packages\\sklearn\\base.py:638\u001b[0m, in \u001b[0;36mBaseEstimator._validate_params\u001b[1;34m(self)\u001b[0m\n\u001b[0;32m    630\u001b[0m \u001b[38;5;28;01mdef\u001b[39;00m \u001b[38;5;21m_validate_params\u001b[39m(\u001b[38;5;28mself\u001b[39m):\n\u001b[0;32m    631\u001b[0m \u001b[38;5;250m    \u001b[39m\u001b[38;5;124;03m\"\"\"Validate types and values of constructor parameters\u001b[39;00m\n\u001b[0;32m    632\u001b[0m \n\u001b[0;32m    633\u001b[0m \u001b[38;5;124;03m    The expected type and values must be defined in the `_parameter_constraints`\u001b[39;00m\n\u001b[1;32m   (...)\u001b[0m\n\u001b[0;32m    636\u001b[0m \u001b[38;5;124;03m    accepted constraints.\u001b[39;00m\n\u001b[0;32m    637\u001b[0m \u001b[38;5;124;03m    \"\"\"\u001b[39;00m\n\u001b[1;32m--> 638\u001b[0m     \u001b[43mvalidate_parameter_constraints\u001b[49m\u001b[43m(\u001b[49m\n\u001b[0;32m    639\u001b[0m \u001b[43m        \u001b[49m\u001b[38;5;28;43mself\u001b[39;49m\u001b[38;5;241;43m.\u001b[39;49m\u001b[43m_parameter_constraints\u001b[49m\u001b[43m,\u001b[49m\n\u001b[0;32m    640\u001b[0m \u001b[43m        \u001b[49m\u001b[38;5;28;43mself\u001b[39;49m\u001b[38;5;241;43m.\u001b[39;49m\u001b[43mget_params\u001b[49m\u001b[43m(\u001b[49m\u001b[43mdeep\u001b[49m\u001b[38;5;241;43m=\u001b[39;49m\u001b[38;5;28;43;01mFalse\u001b[39;49;00m\u001b[43m)\u001b[49m\u001b[43m,\u001b[49m\n\u001b[0;32m    641\u001b[0m \u001b[43m        \u001b[49m\u001b[43mcaller_name\u001b[49m\u001b[38;5;241;43m=\u001b[39;49m\u001b[38;5;28;43mself\u001b[39;49m\u001b[38;5;241;43m.\u001b[39;49m\u001b[38;5;18;43m__class__\u001b[39;49m\u001b[38;5;241;43m.\u001b[39;49m\u001b[38;5;18;43m__name__\u001b[39;49m\u001b[43m,\u001b[49m\n\u001b[0;32m    642\u001b[0m \u001b[43m    \u001b[49m\u001b[43m)\u001b[49m\n",
            "File \u001b[1;32mc:\\Users\\portable_laura\\anaconda3\\envs\\python_avance\\lib\\site-packages\\sklearn\\utils\\_param_validation.py:96\u001b[0m, in \u001b[0;36mvalidate_parameter_constraints\u001b[1;34m(parameter_constraints, params, caller_name)\u001b[0m\n\u001b[0;32m     90\u001b[0m \u001b[38;5;28;01melse\u001b[39;00m:\n\u001b[0;32m     91\u001b[0m     constraints_str \u001b[38;5;241m=\u001b[39m (\n\u001b[0;32m     92\u001b[0m         \u001b[38;5;124mf\u001b[39m\u001b[38;5;124m\"\u001b[39m\u001b[38;5;132;01m{\u001b[39;00m\u001b[38;5;124m'\u001b[39m\u001b[38;5;124m, \u001b[39m\u001b[38;5;124m'\u001b[39m\u001b[38;5;241m.\u001b[39mjoin([\u001b[38;5;28mstr\u001b[39m(c)\u001b[38;5;250m \u001b[39m\u001b[38;5;28;01mfor\u001b[39;00m\u001b[38;5;250m \u001b[39mc\u001b[38;5;250m \u001b[39m\u001b[38;5;129;01min\u001b[39;00m\u001b[38;5;250m \u001b[39mconstraints[:\u001b[38;5;241m-\u001b[39m\u001b[38;5;241m1\u001b[39m]])\u001b[38;5;132;01m}\u001b[39;00m\u001b[38;5;124m or\u001b[39m\u001b[38;5;124m\"\u001b[39m\n\u001b[0;32m     93\u001b[0m         \u001b[38;5;124mf\u001b[39m\u001b[38;5;124m\"\u001b[39m\u001b[38;5;124m \u001b[39m\u001b[38;5;132;01m{\u001b[39;00mconstraints[\u001b[38;5;241m-\u001b[39m\u001b[38;5;241m1\u001b[39m]\u001b[38;5;132;01m}\u001b[39;00m\u001b[38;5;124m\"\u001b[39m\n\u001b[0;32m     94\u001b[0m     )\n\u001b[1;32m---> 96\u001b[0m \u001b[38;5;28;01mraise\u001b[39;00m InvalidParameterError(\n\u001b[0;32m     97\u001b[0m     \u001b[38;5;124mf\u001b[39m\u001b[38;5;124m\"\u001b[39m\u001b[38;5;124mThe \u001b[39m\u001b[38;5;132;01m{\u001b[39;00mparam_name\u001b[38;5;132;01m!r}\u001b[39;00m\u001b[38;5;124m parameter of \u001b[39m\u001b[38;5;132;01m{\u001b[39;00mcaller_name\u001b[38;5;132;01m}\u001b[39;00m\u001b[38;5;124m must be\u001b[39m\u001b[38;5;124m\"\u001b[39m\n\u001b[0;32m     98\u001b[0m     \u001b[38;5;124mf\u001b[39m\u001b[38;5;124m\"\u001b[39m\u001b[38;5;124m \u001b[39m\u001b[38;5;132;01m{\u001b[39;00mconstraints_str\u001b[38;5;132;01m}\u001b[39;00m\u001b[38;5;124m. Got \u001b[39m\u001b[38;5;132;01m{\u001b[39;00mparam_val\u001b[38;5;132;01m!r}\u001b[39;00m\u001b[38;5;124m instead.\u001b[39m\u001b[38;5;124m\"\u001b[39m\n\u001b[0;32m     99\u001b[0m )\n",
            "\u001b[1;31mInvalidParameterError\u001b[0m: The 'stop_words' parameter of TfidfVectorizer must be a str among {'english'}, an instance of 'list' or None. Got \"a\\nabord\\nabsolument\\nafin\\nah\\nai\\naie\\naient\\naies\\nailleurs\\nainsi\\nait\\nallaient\\nallo\\nallons\\nallô\\nalors\\nanterieur\\nanterieure\\nanterieures\\napres\\naprès\\nas\\nassez\\nattendu\\nau\\naucun\\naucune\\naucuns\\naujourd\\naujourd'hui\\naupres\\nauquel\\naura\\naurai\\nauraient\\naurais\\naurait\\nauras\\naurez\\nauriez\\naurions\\naurons\\nauront\\naussi\\nautant\\nautre\\nautrefois\\nautrement\\nautres\\nautrui\\naux\\nauxquelles\\nauxquels\\navaient\\navais\\navait\\navant\\navec\\navez\\naviez\\navions\\navoir\\navons\\nayant\\nayez\\nayons\\nb\\nbah\\nbas\\nbasee\\nbat\\nbeau\\nbeaucoup\\nbien\\nbigre\\nbon\\nboum\\nbravo\\nbrrr\\nc\\ncar\\nce\\nceci\\ncela\\ncelle\\ncelle-ci\\ncelle-là\\ncelles\\ncelles-ci\\ncelles-là\\ncelui\\ncelui-ci\\ncelui-là\\ncelà\\ncent\\ncependant\\ncertain\\ncertaine\\ncertaines\\ncertains\\ncertes\\nces\\ncet\\ncette\\nceux\\nceux-ci\\nceux-là\\nchacun\\nchacune\\nchaque\\ncher\\nchers\\nchez\\nchiche\\nchut\\nchère\\nchères\\nci\\ncinq\\ncinquantaine\\ncinquante\\ncinquantième\\ncinquième\\nclac\\nclic\\ncombien\\ncomme\\ncomment\\ncomparable\\ncomparables\\ncompris\\nconcernant\\ncontre\\ncouic\\ncrac\\nd\\nda\\ndans\\nde\\ndebout\\ndedans\\ndehors\\ndeja\\ndelà\\ndepuis\\ndernier\\nderniere\\nderriere\\nderrière\\ndes\\ndesormais\\ndesquelles\\ndesquels\\ndessous\\ndessus\\ndeux\\ndeuxième\\ndeuxièmement\\ndevant\\ndevers\\ndevra\\ndevrait\\ndifferent\\ndifferentes\\ndifferents\\ndifférent\\ndifférente\\ndifférentes\\ndifférents\\ndire\\ndirecte\\ndirectement\\ndit\\ndite\\ndits\\ndivers\\ndiverse\\ndiverses\\ndix\\ndix-huit\\ndix-neuf\\ndix-sept\\ndixième\\ndoit\\ndoivent\\ndonc\\ndont\\ndos\\ndouze\\ndouzième\\ndring\\ndroite\\ndu\\nduquel\\ndurant\\ndès\\ndébut\\ndésormais\\ne\\neffet\\negale\\negalement\\negales\\neh\\nelle\\nelle-même\\nelles\\nelles-mêmes\\nen\\nencore\\nenfin\\nentre\\nenvers\\nenviron\\nes\\nessai\\nest\\net\\netant\\netc\\netre\\neu\\neue\\neues\\neuh\\neurent\\neus\\neusse\\neussent\\neusses\\neussiez\\neussions\\neut\\neux\\neux-mêmes\\nexactement\\nexcepté\\nextenso\\nexterieur\\neûmes\\neût\\neûtes\\nf\\nfais\\nfaisaient\\nfaisant\\nfait\\nfaites\\nfaçon\\nferont\\nfi\\nflac\\nfloc\\nfois\\nfont\\nforce\\nfurent\\nfus\\nfusse\\nfussent\\nfusses\\nfussiez\\nfussions\\nfut\\nfûmes\\nfût\\nfûtes\\ng\\ngens\\nh\\nha\\nhaut\\nhein\\nhem\\nhep\\nhi\\nho\\nholà\\nhop\\nhormis\\nhors\\nhou\\nhoup\\nhue\\nhui\\nhuit\\nhuitième\\nhum\\nhurrah\\nhé\\nhélas\\ni\\nici\\nil\\nils\\nimporte\\nj\\nje\\njusqu\\njusque\\njuste\\nk\\nl\\nla\\nlaisser\\nlaquelle\\nlas\\nle\\nlequel\\nles\\nlesquelles\\nlesquels\\nleur\\nleurs\\nlongtemps\\nlors\\nlorsque\\nlui\\nlui-meme\\nlui-même\\nlà\\nlès\\nm\\nma\\nmaint\\nmaintenant\\nmais\\nmalgre\\nmalgré\\nmaximale\\nme\\nmeme\\nmemes\\nmerci\\nmes\\nmien\\nmienne\\nmiennes\\nmiens\\nmille\\nmince\\nmine\\nminimale\\nmoi\\nmoi-meme\\nmoi-même\\nmoindres\\nmoins\\nmon\\nmot\\nmoyennant\\nmultiple\\nmultiples\\nmême\\nmêmes\\nn\\nna\\nnaturel\\nnaturelle\\nnaturelles\\nne\\nneanmoins\\nnecessaire\\nnecessairement\\nneuf\\nneuvième\\nni\\nnombreuses\\nnombreux\\nnommés\\nnon\\nnos\\nnotamment\\nnotre\\nnous\\nnous-mêmes\\nnouveau\\nnouveaux\\nnul\\nnéanmoins\\nnôtre\\nnôtres\\no\\noh\\nohé\\nollé\\nolé\\non\\nont\\nonze\\nonzième\\nore\\nou\\nouf\\nouias\\noust\\nouste\\noutre\\nouvert\\nouverte\\nouverts\\no|\\noù\\np\\npaf\\npan\\npar\\nparce\\nparfois\\nparle\\nparlent\\nparler\\nparmi\\nparole\\nparseme\\npartant\\nparticulier\\nparticulière\\nparticulièrement\\npas\\npassé\\npendant\\npense\\npermet\\npersonne\\npersonnes\\npeu\\npeut\\npeuvent\\npeux\\npff\\npfft\\npfut\\npif\\npire\\npièce\\nplein\\nplouf\\nplupart\\nplus\\nplusieurs\\nplutôt\\npossessif\\npossessifs\\npossible\\npossibles\\npouah\\npour\\npourquoi\\npourrais\\npourrait\\npouvait\\nprealable\\nprecisement\\npremier\\npremière\\npremièrement\\npres\\nprobable\\nprobante\\nprocedant\\nproche\\nprès\\npsitt\\npu\\npuis\\npuisque\\npur\\npure\\nq\\nqu\\nquand\\nquant\\nquant-à-soi\\nquanta\\nquarante\\nquatorze\\nquatre\\nquatre-vingt\\nquatrième\\nquatrièmement\\nque\\nquel\\nquelconque\\nquelle\\nquelles\\nquelqu'un\\nquelque\\nquelques\\nquels\\nqui\\nquiconque\\nquinze\\nquoi\\nquoique\\nr\\nrare\\nrarement\\nrares\\nrelative\\nrelativement\\nremarquable\\nrend\\nrendre\\nrestant\\nreste\\nrestent\\nrestrictif\\nretour\\nrevoici\\nrevoilà\\nrien\\ns\\nsa\\nsacrebleu\\nsait\\nsans\\nsapristi\\nsauf\\nse\\nsein\\nseize\\nselon\\nsemblable\\nsemblaient\\nsemble\\nsemblent\\nsent\\nsept\\nseptième\\nsera\\nserai\\nseraient\\nserais\\nserait\\nseras\\nserez\\nseriez\\nserions\\nserons\\nseront\\nses\\nseul\\nseule\\nseulement\\nsi\\nsien\\nsienne\\nsiennes\\nsiens\\nsinon\\nsix\\nsixième\\nsoi\\nsoi-même\\nsoient\\nsois\\nsoit\\nsoixante\\nsommes\\nson\\nsont\\nsous\\nsouvent\\nsoyez\\nsoyons\\nspecifique\\nspecifiques\\nspeculatif\\nstop\\nstrictement\\nsubtiles\\nsuffisant\\nsuffisante\\nsuffit\\nsuis\\nsuit\\nsuivant\\nsuivante\\nsuivantes\\nsuivants\\nsuivre\\nsujet\\nsuperpose\\nsur\\nsurtout\\nt\\nta\\ntac\\ntandis\\ntant\\ntardive\\nte\\ntel\\ntelle\\ntellement\\ntelles\\ntels\\ntenant\\ntend\\ntenir\\ntente\\ntes\\ntic\\ntien\\ntienne\\ntiennes\\ntiens\\ntoc\\ntoi\\ntoi-même\\nton\\ntouchant\\ntoujours\\ntous\\ntout\\ntoute\\ntoutefois\\ntoutes\\ntreize\\ntrente\\ntres\\ntrois\\ntroisième\\ntroisièmement\\ntrop\\ntrès\\ntsoin\\ntsouin\\ntu\\nté\\nu\\nun\\nune\\nunes\\nuniformement\\nunique\\nuniques\\nuns\\nv\\nva\\nvais\\nvaleur\\nvas\\nvers\\nvia\\nvif\\nvifs\\nvingt\\nvivat\\nvive\\nvives\\nvlan\\nvoici\\nvoie\\nvoient\\nvoilà\\nvoire\\nvont\\nvos\\nvotre\\nvous\\nvous-mêmes\\nvu\\nvé\\nvôtre\\nvôtres\\nw\\nx\\ny\\nz\\nzut\\nà\\nâ\\nça\\nès\\nétaient\\nétais\\nétait\\nétant\\nétat\\nétiez\\nétions\\nété\\nétée\\nétées\\nétés\\nêtes\\nêtre\\nô\\na\\nà\\nâ\\nabord\\nafin\\nah\\nai\\naie\\nainsi\\nallaient\\nallo\\nallô\\nallons\\naprès\\nassez\\nattendu\\nau\\naucun\\naucune\\naujourd\\naujourd'hui\\nauquel\\naura\\nauront\\naussi\\nautre\\nautres\\naux\\nauxquelles\\nauxquels\\navaient\\navais\\navait\\navant\\navec\\navoir\\nayant\\nb\\nbah\\nbeaucoup\\nbien\\nbigre\\nboum\\nbravo\\nbrrr\\nc\\nça\\ncar\\nce\\nceci\\ncela\\ncelle\\ncelle-ci\\ncelle-là\\ncelles\\ncelles-ci\\ncelles-là\\ncelui\\ncelui-ci\\ncelui-là\\ncent\\ncependant\\ncertain\\ncertaine\\ncertaines\\ncertains\\ncertes\\nces\\ncet\\ncette\\nceux\\nceux-ci\\nceux-là\\nchacun\\nchaque\\ncher\\nchère\\nchères\\nchers\\nchez\\nchiche\\nchut\\nci\\ncinq\\ncinquantaine\\ncinquante\\ncinquantième\\ncinquième\\nclac\\nclic\\ncombien\\ncomme\\ncomment\\ncompris\\nconcernant\\ncontre\\ncouic\\ncrac\\nd\\nda\\ndans\\nde\\ndebout\\ndedans\\ndehors\\ndelà\\ndepuis\\nderrière\\ndes\\ndès\\ndésormais\\ndesquelles\\ndesquels\\ndessous\\ndessus\\ndeux\\ndeuxième\\ndeuxièmement\\ndevant\\ndevers\\ndevra\\ndifférent\\ndifférente\\ndifférentes\\ndifférents\\ndire\\ndivers\\ndiverse\\ndiverses\\ndix\\ndix-huit\\ndixième\\ndix-neuf\\ndix-sept\\ndoit\\ndoivent\\ndonc\\ndont\\ndouze\\ndouzième\\ndring\\ndu\\nduquel\\ndurant\\ne\\neffet\\neh\\nelle\\nelle-même\\nelles\\nelles-mêmes\\nen\\nencore\\nentre\\nenvers\\nenviron\\nes\\nès\\nest\\net\\netant\\nétaient\\nétais\\nétait\\nétant\\netc\\nété\\netre\\nêtre\\neu\\neuh\\neux\\neux-mêmes\\nexcepté\\nf\\nfaçon\\nfais\\nfaisaient\\nfaisant\\nfait\\nferont\\nfi\\nflac\\nfloc\\nfont\\ng\\ngens\\nh\\nha\\nhé\\nhein\\nhélas\\nhem\\nhep\\nhi\\nho\\nholà\\nhop\\nhormis\\nhors\\nhou\\nhoup\\nhue\\nhui\\nhuit\\nhuitième\\nhum\\nhurrah\\ni\\nil\\nils\\nimporte\\nj\\nje\\njusqu\\njusque\\nk\\nl\\nla\\nlà\\nlaquelle\\nlas\\nle\\nlequel\\nles\\nlès\\nlesquelles\\nlesquels\\nleur\\nleurs\\nlongtemps\\nlorsque\\nlui\\nlui-même\\nm\\nma\\nmaint\\nmais\\nmalgré\\nme\\nmême\\nmêmes\\nmerci\\nmes\\nmien\\nmienne\\nmiennes\\nmiens\\nmille\\nmince\\nmoi\\nmoi-même\\nmoins\\nmon\\nmoyennant\\nn\\nna\\nne\\nnéanmoins\\nneuf\\nneuvième\\nni\\nnombreuses\\nnombreux\\nnon\\nnos\\nnotre\\nnôtre\\nnôtres\\nnous\\nnous-mêmes\\nnul\\no\\no|\\nô\\noh\\nohé\\nolé\\nollé\\non\\nont\\nonze\\nonzième\\nore\\nou\\noù\\nouf\\nouias\\noust\\nouste\\noutre\\np\\npaf\\npan\\npar\\nparmi\\npartant\\nparticulier\\nparticulière\\nparticulièrement\\npas\\npassé\\npendant\\npersonne\\npeu\\npeut\\npeuvent\\npeux\\npff\\npfft\\npfut\\npif\\nplein\\nplouf\\nplus\\nplusieurs\\nplutôt\\npouah\\npour\\npourquoi\\npremier\\npremière\\npremièrement\\nprès\\nproche\\npsitt\\npuisque\\nq\\nqu\\nquand\\nquant\\nquanta\\nquant-à-soi\\nquarante\\nquatorze\\nquatre\\nquatre-vingt\\nquatrième\\nquatrièmement\\nque\\nquel\\nquelconque\\nquelle\\nquelles\\nquelque\\nquelques\\nquelqu'un\\nquels\\nqui\\nquiconque\\nquinze\\nquoi\\nquoique\\nr\\nrevoici\\nrevoilà\\nrien\\ns\\nsa\\nsacrebleu\\nsans\\nsapristi\\nsauf\\nse\\nseize\\nselon\\nsept\\nseptième\\nsera\\nseront\\nses\\nsi\\nsien\\nsienne\\nsiennes\\nsiens\\nsinon\\nsix\\nsixième\\nsoi\\nsoi-même\\nsoit\\nsoixante\\nson\\nsont\\nsous\\nstop\\nsuis\\nsuivant\\nsur\\nsurtout\\nt\\nta\\ntac\\ntant\\nte\\nté\\ntel\\ntelle\\ntellement\\ntelles\\ntels\\ntenant\\ntes\\ntic\\ntien\\ntienne\\ntiennes\\ntiens\\ntoc\\ntoi\\ntoi-même\\nton\\ntouchant\\ntoujours\\ntous\\ntout\\ntoute\\ntoutes\\ntreize\\ntrente\\ntrès\\ntrois\\ntroisième\\ntroisièmement\\ntrop\\ntsoin\\ntsouin\\ntu\\nu\\nun\\nune\\nunes\\nuns\\nv\\nva\\nvais\\nvas\\nvé\\nvers\\nvia\\nvif\\nvifs\\nvingt\\nvivat\\nvive\\nvives\\nvlan\\nvoici\\nvoilà\\nvont\\nvos\\nvotre\\nvôtre\\nvôtres\\nvous\\nvous-mêmes\\nvu\\nw\\nx\\ny\\nz\\nzut\\nalors\\naucuns\\nbon\\ndevrait\\ndos\\ndroite\\ndébut\\nessai\\nfaites\\nfois\\nforce\\nhaut\\nici\\njuste\\nmaintenant\\nmine\\nmot\\nnommés\\nnouveaux\\nparce\\nparole\\npersonnes\\npièce\\nplupart\\nseulement\\nsoyez\\nsujet\\ntandis\\nvaleur\\nvoie\\nvoient\\nétat\\nétions\\n\\n\\n\\nle\\nla \\nles \\nun \\nune \\ndes \\ndu \\nde \\nau \\naux \\nen \\nà \\npar \\npour \\nsur \\nsous \\navec \\nsans \\nentre \\ncontre \\nchez \\nvers \\ndevant \\nderrière \\ndans \\naprès \\navant \\ndepuis \\npendant \\njusqu'à \\njusq\\nà \\nlors \\nde \\nje \\ntu \\nil \\nelle \\nnous \\nvous \\nils \\nelles \\nmoi \\ntoi \\nlui \\nleur \\neux \\nce \\nceci \\ncela \\nça \\ncelui \\ncelle \\nceux \\ncelles\\nmien \\ntien \\nsien \\nnotre \\nvotre \\nleur \\nleurs \\nmes \\ntes \\nses \\nnos \\nvos \\nêtre \\navoir \\nfaire \\n\\naller \\ndire \\nvouloir \\nvenir \\nfalloir \\ntrouver \\nprendre \\nmettre \\ndonner \\nparler \\npasser \\nrester \\ntenir \\nporter \\nmontrer \\ncontinuer \\nentendre \\nsembler \\nlaisser \\nrevenir \\nrendre\\nrépondre \\nattendre \\nappeler \\npartir \\narriver \\nsentir \\nchercher \\nremettre \\n\\net \\nou \\ndonc \\nmais \\nni \\nor \\ncar \\npourtant \\ncependant \\nnéanmoins \\naussi \\nainsi \\nmême \\ncomme \\nsi \\nbien \\ntrès \\npeu \\nbeaucoup \\ntrop \\nassez \\nautant \\nplus \\nmoins \\nencore \\ndéjà \\nseulement \\npresque \\nplutôt \\nencore \\ntoujours \\nparfois \\nsouvent \\njamais \\ntout \\ntous \\ntoutes \\naussi \\nautant \\naussi \\nbien \\nque \\n\\ndéputé \\nsénateur \\nministre \\nprésident \\ngouvernement \\nassemblée \\nparlement \\nrépublique \\nconstitution \\namendement \\ncommission \\nsession \\nproposition \\nquestion \\nréponse \\ndébat \\ndiscours \\nvote \\nscrutin \\nloi \\ndécret \\nordonnance \\nlégislation \\nrèglement \\nparti \\nmajorité \\nopposition \\nmotion \\namendement \\nintervention \\nséance \\nsession \\naudition \\ncomité \\nrapport \\nmandat \\nélection \\nréélection \\ncampagne \\nsuffrage \\nélectorat \\ncitoyen \\nélecteur \\n\\nen \\neffet \\nfait \\npar \\nconséquent \\nconséquence\\nà \\nd'une\\nd\\nune\\nautre \\nexemple \\nce \\nqui \\nconcerne \\nde \\npropos\\ncet \\négard \\nmanière \\ngénérale \\nplus \\noutre \\nailleurs \\nainsi \\nque \\nentendu \\nrapport \\nau \\nregard \\nvue \\nfaçon \\ntant \\ndans \\nle \\ncadre \\nselon \\nconformément \\nfaveur \\nnom \\nproposition \\nloi \\nprojet \\namendement \\nadoption \\nréforme \\nvote \\nmajorité \\nrelative \\nabsolue \\nabstention \\nséance \\npublique \\ncommission \\npermanente \\ncommission \\nspéciale \\ngroupe \\nparlementaire \\nhémicycle \\nordre \\njour \\nquestion \\norale \\nquestion \\nécrite \\nquestion \\nau \\ngouvernement \\nrapporteur \\ngénéral \\npremier \\nministre \\nchef \\nl \\nétat \\nchef \\nsecrétaire \\nconseil \\ndes \\nministres \\nassemblée \\nnationale \\nsénat \\nconstitutionnelle \\nlégislatif \\nexécutif \\njudiciaire \\npouvoir \\npublic \\npolitiques\\nsystèmes\\n\\n\\nmarquis \\nmarquise \\nduc \\nduchesse \\ncomte \\ncomtesse \\nvicomte \\nvicomtesse \\nbaron \\nbaronne \\nchevalier \\ndame\\nmessire \\nmonseigneur \\nseigneur \\nmadame \\nmonsieur \\nmademoiselle \\nsire \\nhonorable \\nmon \\ncher \\nhautement\\n\\n\\nloi\\ncommission\\nchambre\\nprésident\\nprsident\\n\" instead."
          ]
        }
      ],
      "source": [
        "from sklearn.feature_extraction.text import TfidfVectorizer\n",
        "from bertopic import BERTopic\n",
        "\n",
        "chemin_stopwords = \"C:/Users/portable_laura/Documents/coursM1/Mémoire/Sources/french_stopwords.txt\"\n",
        "with open(chemin_stopwords,'r',encoding=\"utf-8\") as fichier_stop:\n",
        "    custom_stopwords = fichier_stop.read().strip()\n",
        "#ou alternative manuelle:\n",
        "#custom_stopwords=[\"fr\",\"demande\",\"applaudissements\",\"gauche\"]\n",
        "\n",
        "\n",
        "#On créé un vectoriseur TF-IDF avec des stopwords que l'on rajoute manuellement\n",
        "vectorizer = TfidfVectorizer(stop_words=custom_stopwords)\n",
        "\n",
        "X = vectorizer.fit_transform(docs_mot_cible)\n",
        "\n",
        "\n",
        "topic_model_test2 = BERTopic(verbose=True)\n",
        "\n",
        "docs_list = []\n",
        "for doc_idx in range(X.shape[0]):\n",
        "    doc = ' '.join(vectorizer.inverse_transform(X[doc_idx])[0])\n",
        "    docs_list.append(doc)\n",
        "\n",
        "topics_barrage, _ = topic_model_test2.fit_transform(X)"
      ]
    },
    {
      "cell_type": "code",
      "execution_count": null,
      "metadata": {},
      "outputs": [
        {
          "data": {
            "application/vnd.plotly.v1+json": {
              "config": {
                "plotlyServerURL": "https://plot.ly"
              },
              "data": [
                {
                  "customdata": [
                    [
                      0,
                      "seine | jules | paul | louis | georges",
                      430
                    ],
                    [
                      1,
                      "guerre | arme | officiers | service | remise",
                      374
                    ],
                    [
                      2,
                      "budget | fr | finances | millions | dpenses",
                      373
                    ],
                    [
                      3,
                      "suffrages | bulletins | obtenu | exprims | nombre",
                      357
                    ],
                    [
                      4,
                      "chambre | fr | gauche | demande | finances",
                      258
                    ],
                    [
                      5,
                      "agriculture | fr | agricoles | agricole | bl",
                      242
                    ],
                    [
                      6,
                      "pensions | pension | fr | finances | demande",
                      160
                    ],
                    [
                      7,
                      "marine | navires | amiral | flotte | marins",
                      142
                    ],
                    [
                      8,
                      "communes | commune | etat | demande | adopt",
                      110
                    ],
                    [
                      9,
                      "gauche | applaudissements | extrme | centre | interruptions",
                      96
                    ],
                    [
                      10,
                      "france | gauche | banque | applaudissements | pays",
                      80
                    ],
                    [
                      11,
                      "tribunal | justice | sceaux | garde | juge",
                      79
                    ],
                    [
                      12,
                      "enseignement | instruction | coles | cole | instituteurs",
                      76
                    ],
                    [
                      13,
                      "paris | ville | fr | municipal | demande",
                      69
                    ],
                    [
                      14,
                      "personnel | agents | administration | contrle | fer",
                      62
                    ],
                    [
                      15,
                      "tunisie | chap | algrie | adopt | fr",
                      57
                    ],
                    [
                      16,
                      "dpt | tendant | objet | intrt | fer",
                      55
                    ],
                    [
                      17,
                      "colonies | colonisation | colonie | algrie | colonial",
                      54
                    ],
                    [
                      18,
                      "commerce | vins | commerants | droit | tarif",
                      47
                    ],
                    [
                      19,
                      "chambre | finances | remise | loire | demandant",
                      44
                    ],
                    [
                      20,
                      "ouvriers | chambre | fr | demande | prix",
                      41
                    ],
                    [
                      21,
                      "gauche | garde | sceaux | applaudissements | droit",
                      41
                    ],
                    [
                      22,
                      "gauche | extrme | applaudissements | admis | socialiste",
                      36
                    ],
                    [
                      23,
                      "mars | demande | avril | finances | juillet",
                      36
                    ],
                    [
                      24,
                      "mdecin | mdecins | mdecine | tudiants | cas",
                      36
                    ],
                    [
                      25,
                      "demande | finances | travail | sociales | mars",
                      35
                    ],
                    [
                      26,
                      "travail | prix | fr | chambre | code",
                      35
                    ],
                    [
                      27,
                      "interpellation | chambre | demande | gauche | interpellations",
                      33
                    ],
                    [
                      28,
                      "chap | fr | chapitre | adopt | chiffre",
                      33
                    ],
                    [
                      29,
                      "travaux | ports | port | commerce | etat",
                      32
                    ],
                    [
                      30,
                      "franais | trangers | france | demande | sarre",
                      32
                    ],
                    [
                      31,
                      "fer | compagnies | trains | travaux | chemins",
                      32
                    ],
                    [
                      32,
                      "mines | ouvriers | mineurs | minerai | travail",
                      31
                    ],
                    [
                      33,
                      "idem | gauche | applaudissements | chambre | kilogr",
                      31
                    ],
                    [
                      34,
                      "taxe | impt | finances | fr | prix",
                      29
                    ],
                    [
                      35,
                      "arts | beaux | thtres | musique | fr",
                      29
                    ],
                    [
                      36,
                      "centimes | gr | fr | art | emprunt",
                      28
                    ],
                    [
                      37,
                      "congrgations | congrgation | gauche | eglise | religieuses",
                      28
                    ],
                    [
                      38,
                      "prix | fr | industrie | nicotine | france",
                      27
                    ],
                    [
                      39,
                      "accidents | accident | ouvrier | travail | indemnit",
                      26
                    ],
                    [
                      40,
                      "milliards | millions | budget | dpenses | dette",
                      26
                    ],
                    [
                      41,
                      "ministre | fr | mistelles | chambre | budget",
                      26
                    ],
                    [
                      42,
                      "gauche | applaudissements | bancs | chambre | panama",
                      26
                    ],
                    [
                      43,
                      "budget | chambre | millions | arbres | finances",
                      26
                    ],
                    [
                      44,
                      "madagascar | france | niger | expdition | soudan",
                      26
                    ],
                    [
                      45,
                      "russie | russe | banque | guerre | russes",
                      25
                    ],
                    [
                      46,
                      "police | prfecture | intrieur | demande | droit",
                      24
                    ],
                    [
                      47,
                      "hygine | etat | appareils | travail | mesures",
                      24
                    ],
                    [
                      48,
                      "soie | tarifs | millions | revenu | pays",
                      22
                    ],
                    [
                      49,
                      "fabrication | industrie | droit | vins | raisins",
                      21
                    ],
                    [
                      50,
                      "breton | jules | louis | proportionnelle | gauche",
                      20
                    ],
                    [
                      51,
                      "lyon | octroi | soie | tissus | lyonnaise",
                      19
                    ],
                    [
                      52,
                      "monuments | exposition | arts | beaux | muse",
                      18
                    ],
                    [
                      53,
                      "guerre | budget | finances | crdits | chambre",
                      16
                    ],
                    [
                      54,
                      "alsace | lorraine | assurances | sociales | applaudissements",
                      16
                    ],
                    [
                      55,
                      "vins | sucre | fraude | vin | alcool",
                      16
                    ],
                    [
                      56,
                      "cole | parents | enfants | famille | dchance",
                      15
                    ],
                    [
                      57,
                      "socits | mutuels | liquidateur | socit | secours",
                      14
                    ],
                    [
                      58,
                      "concession | etat | compagnies | conventions | taxis",
                      14
                    ],
                    [
                      59,
                      "capital | rserves | impt | finances | bnfices",
                      14
                    ],
                    [
                      60,
                      "prisons | pelzer | prison | travail | relgation",
                      14
                    ],
                    [
                      61,
                      "gauche | extrme | budget | impt | applaudissements",
                      12
                    ],
                    [
                      62,
                      "faute | lourde | pension | acqureur | cas",
                      12
                    ],
                    [
                      63,
                      "marseille | ligne | docks | lignes | rseau",
                      12
                    ],
                    [
                      64,
                      "surtaxe | hectolitre | autorise | inclusivement | vie",
                      12
                    ],
                    [
                      65,
                      "aro | club | air | aronautique | aviation",
                      12
                    ],
                    [
                      66,
                      "mars | guerre | avril | militaires | demande",
                      12
                    ],
                    [
                      67,
                      "tabac | mouton | offices | ministriels | impt",
                      11
                    ],
                    [
                      68,
                      "cuivre | sulfate | france | pierres | pays",
                      11
                    ],
                    [
                      69,
                      "film | daudet | gauche | france | lettre",
                      11
                    ],
                    [
                      70,
                      "commerce | impt | patentes | commerants | patente",
                      11
                    ]
                  ],
                  "hovertemplate": "<b>Topic %{customdata[0]}</b><br>%{customdata[1]}<br>Size: %{customdata[2]}",
                  "legendgroup": "",
                  "marker": {
                    "color": "#B0BEC5",
                    "line": {
                      "color": "DarkSlateGrey",
                      "width": 2
                    },
                    "size": [
                      430,
                      374,
                      373,
                      357,
                      258,
                      242,
                      160,
                      142,
                      110,
                      96,
                      80,
                      79,
                      76,
                      69,
                      62,
                      57,
                      55,
                      54,
                      47,
                      44,
                      41,
                      41,
                      36,
                      36,
                      36,
                      35,
                      35,
                      33,
                      33,
                      32,
                      32,
                      32,
                      31,
                      31,
                      29,
                      29,
                      28,
                      28,
                      27,
                      26,
                      26,
                      26,
                      26,
                      26,
                      26,
                      25,
                      24,
                      24,
                      22,
                      21,
                      20,
                      19,
                      18,
                      16,
                      16,
                      16,
                      15,
                      14,
                      14,
                      14,
                      14,
                      12,
                      12,
                      12,
                      12,
                      12,
                      12,
                      11,
                      11,
                      11,
                      11
                    ],
                    "sizemode": "area",
                    "sizeref": 0.26875,
                    "symbol": "circle"
                  },
                  "mode": "markers",
                  "name": "",
                  "orientation": "v",
                  "showlegend": false,
                  "type": "scatter",
                  "x": [
                    0.0625561997294426,
                    -16.797008514404297,
                    -3.138974905014038,
                    -2.2025046348571777,
                    -13.34305477142334,
                    -12.977341651916504,
                    -5.947925567626953,
                    15.357455253601074,
                    1.8013499975204468,
                    0.3013101816177368,
                    0.90810626745224,
                    -0.475023478269577,
                    -4.216269493103027,
                    1.8471980094909668,
                    -4.138526916503906,
                    -16.923059463500977,
                    1.9538806676864624,
                    1.6766597032546997,
                    -1.5320838689804077,
                    1.8794618844985962,
                    -2.7269959449768066,
                    -0.10261261463165283,
                    0.33608579635620117,
                    2.1541225910186768,
                    -15.100384712219238,
                    -6.008681297302246,
                    -12.801074028015137,
                    -2.850605010986328,
                    -5.948563575744629,
                    15.277664184570312,
                    1.5425441265106201,
                    -0.6143943667411804,
                    -12.912908554077148,
                    0.061419133096933365,
                    -1.4568443298339844,
                    18.980823516845703,
                    -3.112492322921753,
                    0.077105313539505,
                    -0.6856900453567505,
                    -3.9234859943389893,
                    -3.3488380908966064,
                    -2.1652309894561768,
                    -2.1957197189331055,
                    -12.783835411071777,
                    0.8819143176078796,
                    0.9168397188186646,
                    0.1685892641544342,
                    -15.100382804870605,
                    -12.9315767288208,
                    -0.739038348197937,
                    0.06382504850625992,
                    2.085455894470215,
                    18.981225967407227,
                    -16.840723037719727,
                    0.9978875517845154,
                    -0.9857882261276245,
                    -4.3517889976501465,
                    -2.7532076835632324,
                    -6.334815979003906,
                    -6.246103763580322,
                    -0.48370829224586487,
                    -3.257418632507324,
                    -0.5850673913955688,
                    2.266143560409546,
                    -1.3996118307113647,
                    15.389698028564453,
                    2.1541287899017334,
                    -13.295804023742676,
                    1.13895583152771,
                    0.18557067215442657,
                    -1.1059802770614624
                  ],
                  "xaxis": "x",
                  "y": [
                    7.563344955444336,
                    10.212041854858398,
                    -10.030506134033203,
                    -2.1421632766723633,
                    4.663750648498535,
                    5.337274551391602,
                    -8.973922729492188,
                    1.9190510511398315,
                    2.3491063117980957,
                    5.556921005249023,
                    7.598321437835693,
                    5.672347068786621,
                    -8.411704063415527,
                    2.303365468978882,
                    -8.7637300491333,
                    10.338061332702637,
                    2.197251081466675,
                    7.515044212341309,
                    -8.321389198303223,
                    2.2707202434539795,
                    -9.25412368774414,
                    5.94770622253418,
                    5.488393306732178,
                    15.126916885375977,
                    -13.068894386291504,
                    -8.786237716674805,
                    4.609484672546387,
                    -9.162918090820312,
                    -8.86072063446045,
                    1.9986096620559692,
                    7.60725212097168,
                    -7.978024482727051,
                    5.5262980461120605,
                    6.861893653869629,
                    -8.434946060180664,
                    -4.4686479568481445,
                    -9.719523429870605,
                    6.121577262878418,
                    -7.951730728149414,
                    -8.576745986938477,
                    -10.277812004089355,
                    -2.1051816940307617,
                    -2.1354012489318848,
                    4.654281139373779,
                    8.043917655944824,
                    8.017900466918945,
                    6.060916423797607,
                    -13.068890571594238,
                    4.968881607055664,
                    -8.042850494384766,
                    7.68510627746582,
                    2.064923048019409,
                    -4.469663143157959,
                    10.255769729614258,
                    7.927204132080078,
                    -8.911181449890137,
                    -8.204791069030762,
                    -9.275640487670898,
                    -8.524923324584961,
                    -8.600883483886719,
                    5.69557523727417,
                    -10.207782745361328,
                    5.572427272796631,
                    1.8906493186950684,
                    -8.500711441040039,
                    1.8865129947662354,
                    15.126951217651367,
                    4.708714962005615,
                    7.77854585647583,
                    7.539241790771484,
                    -8.79920768737793
                  ],
                  "yaxis": "y"
                }
              ],
              "layout": {
                "annotations": [
                  {
                    "showarrow": false,
                    "text": "D1",
                    "x": -19.461518383026124,
                    "y": 1.1833826780319212,
                    "yshift": 10
                  },
                  {
                    "showarrow": false,
                    "text": "D2",
                    "x": 1.1834457397460927,
                    "xshift": 10,
                    "y": 17.39599390029907
                  }
                ],
                "height": 650,
                "hoverlabel": {
                  "bgcolor": "white",
                  "font": {
                    "family": "Rockwell",
                    "size": 16
                  }
                },
                "legend": {
                  "itemsizing": "constant",
                  "tracegroupgap": 0
                },
                "margin": {
                  "t": 60
                },
                "shapes": [
                  {
                    "line": {
                      "color": "#CFD8DC",
                      "width": 2
                    },
                    "type": "line",
                    "x0": 1.1834457397460927,
                    "x1": 1.1834457397460927,
                    "y0": -15.02922854423523,
                    "y1": 17.39599390029907
                  },
                  {
                    "line": {
                      "color": "#9E9E9E",
                      "width": 2
                    },
                    "type": "line",
                    "x0": -19.461518383026124,
                    "x1": 21.82840986251831,
                    "y0": 1.1833826780319212,
                    "y1": 1.1833826780319212
                  }
                ],
                "sliders": [
                  {
                    "active": 0,
                    "pad": {
                      "t": 50
                    },
                    "steps": [
                      {
                        "args": [
                          {
                            "marker.color": [
                              [
                                "red",
                                "#B0BEC5",
                                "#B0BEC5",
                                "#B0BEC5",
                                "#B0BEC5",
                                "#B0BEC5",
                                "#B0BEC5",
                                "#B0BEC5",
                                "#B0BEC5",
                                "#B0BEC5",
                                "#B0BEC5",
                                "#B0BEC5",
                                "#B0BEC5",
                                "#B0BEC5",
                                "#B0BEC5",
                                "#B0BEC5",
                                "#B0BEC5",
                                "#B0BEC5",
                                "#B0BEC5",
                                "#B0BEC5",
                                "#B0BEC5",
                                "#B0BEC5",
                                "#B0BEC5",
                                "#B0BEC5",
                                "#B0BEC5",
                                "#B0BEC5",
                                "#B0BEC5",
                                "#B0BEC5",
                                "#B0BEC5",
                                "#B0BEC5",
                                "#B0BEC5",
                                "#B0BEC5",
                                "#B0BEC5",
                                "#B0BEC5",
                                "#B0BEC5",
                                "#B0BEC5",
                                "#B0BEC5",
                                "#B0BEC5",
                                "#B0BEC5",
                                "#B0BEC5",
                                "#B0BEC5",
                                "#B0BEC5",
                                "#B0BEC5",
                                "#B0BEC5",
                                "#B0BEC5",
                                "#B0BEC5",
                                "#B0BEC5",
                                "#B0BEC5",
                                "#B0BEC5",
                                "#B0BEC5",
                                "#B0BEC5",
                                "#B0BEC5",
                                "#B0BEC5",
                                "#B0BEC5",
                                "#B0BEC5",
                                "#B0BEC5",
                                "#B0BEC5",
                                "#B0BEC5",
                                "#B0BEC5",
                                "#B0BEC5",
                                "#B0BEC5",
                                "#B0BEC5",
                                "#B0BEC5",
                                "#B0BEC5",
                                "#B0BEC5",
                                "#B0BEC5",
                                "#B0BEC5",
                                "#B0BEC5",
                                "#B0BEC5",
                                "#B0BEC5",
                                "#B0BEC5"
                              ]
                            ]
                          }
                        ],
                        "label": "Topic 0",
                        "method": "update"
                      },
                      {
                        "args": [
                          {
                            "marker.color": [
                              [
                                "#B0BEC5",
                                "red",
                                "#B0BEC5",
                                "#B0BEC5",
                                "#B0BEC5",
                                "#B0BEC5",
                                "#B0BEC5",
                                "#B0BEC5",
                                "#B0BEC5",
                                "#B0BEC5",
                                "#B0BEC5",
                                "#B0BEC5",
                                "#B0BEC5",
                                "#B0BEC5",
                                "#B0BEC5",
                                "#B0BEC5",
                                "#B0BEC5",
                                "#B0BEC5",
                                "#B0BEC5",
                                "#B0BEC5",
                                "#B0BEC5",
                                "#B0BEC5",
                                "#B0BEC5",
                                "#B0BEC5",
                                "#B0BEC5",
                                "#B0BEC5",
                                "#B0BEC5",
                                "#B0BEC5",
                                "#B0BEC5",
                                "#B0BEC5",
                                "#B0BEC5",
                                "#B0BEC5",
                                "#B0BEC5",
                                "#B0BEC5",
                                "#B0BEC5",
                                "#B0BEC5",
                                "#B0BEC5",
                                "#B0BEC5",
                                "#B0BEC5",
                                "#B0BEC5",
                                "#B0BEC5",
                                "#B0BEC5",
                                "#B0BEC5",
                                "#B0BEC5",
                                "#B0BEC5",
                                "#B0BEC5",
                                "#B0BEC5",
                                "#B0BEC5",
                                "#B0BEC5",
                                "#B0BEC5",
                                "#B0BEC5",
                                "#B0BEC5",
                                "#B0BEC5",
                                "#B0BEC5",
                                "#B0BEC5",
                                "#B0BEC5",
                                "#B0BEC5",
                                "#B0BEC5",
                                "#B0BEC5",
                                "#B0BEC5",
                                "#B0BEC5",
                                "#B0BEC5",
                                "#B0BEC5",
                                "#B0BEC5",
                                "#B0BEC5",
                                "#B0BEC5",
                                "#B0BEC5",
                                "#B0BEC5",
                                "#B0BEC5",
                                "#B0BEC5",
                                "#B0BEC5"
                              ]
                            ]
                          }
                        ],
                        "label": "Topic 1",
                        "method": "update"
                      },
                      {
                        "args": [
                          {
                            "marker.color": [
                              [
                                "#B0BEC5",
                                "#B0BEC5",
                                "red",
                                "#B0BEC5",
                                "#B0BEC5",
                                "#B0BEC5",
                                "#B0BEC5",
                                "#B0BEC5",
                                "#B0BEC5",
                                "#B0BEC5",
                                "#B0BEC5",
                                "#B0BEC5",
                                "#B0BEC5",
                                "#B0BEC5",
                                "#B0BEC5",
                                "#B0BEC5",
                                "#B0BEC5",
                                "#B0BEC5",
                                "#B0BEC5",
                                "#B0BEC5",
                                "#B0BEC5",
                                "#B0BEC5",
                                "#B0BEC5",
                                "#B0BEC5",
                                "#B0BEC5",
                                "#B0BEC5",
                                "#B0BEC5",
                                "#B0BEC5",
                                "#B0BEC5",
                                "#B0BEC5",
                                "#B0BEC5",
                                "#B0BEC5",
                                "#B0BEC5",
                                "#B0BEC5",
                                "#B0BEC5",
                                "#B0BEC5",
                                "#B0BEC5",
                                "#B0BEC5",
                                "#B0BEC5",
                                "#B0BEC5",
                                "#B0BEC5",
                                "#B0BEC5",
                                "#B0BEC5",
                                "#B0BEC5",
                                "#B0BEC5",
                                "#B0BEC5",
                                "#B0BEC5",
                                "#B0BEC5",
                                "#B0BEC5",
                                "#B0BEC5",
                                "#B0BEC5",
                                "#B0BEC5",
                                "#B0BEC5",
                                "#B0BEC5",
                                "#B0BEC5",
                                "#B0BEC5",
                                "#B0BEC5",
                                "#B0BEC5",
                                "#B0BEC5",
                                "#B0BEC5",
                                "#B0BEC5",
                                "#B0BEC5",
                                "#B0BEC5",
                                "#B0BEC5",
                                "#B0BEC5",
                                "#B0BEC5",
                                "#B0BEC5",
                                "#B0BEC5",
                                "#B0BEC5",
                                "#B0BEC5",
                                "#B0BEC5"
                              ]
                            ]
                          }
                        ],
                        "label": "Topic 2",
                        "method": "update"
                      },
                      {
                        "args": [
                          {
                            "marker.color": [
                              [
                                "#B0BEC5",
                                "#B0BEC5",
                                "#B0BEC5",
                                "red",
                                "#B0BEC5",
                                "#B0BEC5",
                                "#B0BEC5",
                                "#B0BEC5",
                                "#B0BEC5",
                                "#B0BEC5",
                                "#B0BEC5",
                                "#B0BEC5",
                                "#B0BEC5",
                                "#B0BEC5",
                                "#B0BEC5",
                                "#B0BEC5",
                                "#B0BEC5",
                                "#B0BEC5",
                                "#B0BEC5",
                                "#B0BEC5",
                                "#B0BEC5",
                                "#B0BEC5",
                                "#B0BEC5",
                                "#B0BEC5",
                                "#B0BEC5",
                                "#B0BEC5",
                                "#B0BEC5",
                                "#B0BEC5",
                                "#B0BEC5",
                                "#B0BEC5",
                                "#B0BEC5",
                                "#B0BEC5",
                                "#B0BEC5",
                                "#B0BEC5",
                                "#B0BEC5",
                                "#B0BEC5",
                                "#B0BEC5",
                                "#B0BEC5",
                                "#B0BEC5",
                                "#B0BEC5",
                                "#B0BEC5",
                                "#B0BEC5",
                                "#B0BEC5",
                                "#B0BEC5",
                                "#B0BEC5",
                                "#B0BEC5",
                                "#B0BEC5",
                                "#B0BEC5",
                                "#B0BEC5",
                                "#B0BEC5",
                                "#B0BEC5",
                                "#B0BEC5",
                                "#B0BEC5",
                                "#B0BEC5",
                                "#B0BEC5",
                                "#B0BEC5",
                                "#B0BEC5",
                                "#B0BEC5",
                                "#B0BEC5",
                                "#B0BEC5",
                                "#B0BEC5",
                                "#B0BEC5",
                                "#B0BEC5",
                                "#B0BEC5",
                                "#B0BEC5",
                                "#B0BEC5",
                                "#B0BEC5",
                                "#B0BEC5",
                                "#B0BEC5",
                                "#B0BEC5",
                                "#B0BEC5"
                              ]
                            ]
                          }
                        ],
                        "label": "Topic 3",
                        "method": "update"
                      },
                      {
                        "args": [
                          {
                            "marker.color": [
                              [
                                "#B0BEC5",
                                "#B0BEC5",
                                "#B0BEC5",
                                "#B0BEC5",
                                "red",
                                "#B0BEC5",
                                "#B0BEC5",
                                "#B0BEC5",
                                "#B0BEC5",
                                "#B0BEC5",
                                "#B0BEC5",
                                "#B0BEC5",
                                "#B0BEC5",
                                "#B0BEC5",
                                "#B0BEC5",
                                "#B0BEC5",
                                "#B0BEC5",
                                "#B0BEC5",
                                "#B0BEC5",
                                "#B0BEC5",
                                "#B0BEC5",
                                "#B0BEC5",
                                "#B0BEC5",
                                "#B0BEC5",
                                "#B0BEC5",
                                "#B0BEC5",
                                "#B0BEC5",
                                "#B0BEC5",
                                "#B0BEC5",
                                "#B0BEC5",
                                "#B0BEC5",
                                "#B0BEC5",
                                "#B0BEC5",
                                "#B0BEC5",
                                "#B0BEC5",
                                "#B0BEC5",
                                "#B0BEC5",
                                "#B0BEC5",
                                "#B0BEC5",
                                "#B0BEC5",
                                "#B0BEC5",
                                "#B0BEC5",
                                "#B0BEC5",
                                "#B0BEC5",
                                "#B0BEC5",
                                "#B0BEC5",
                                "#B0BEC5",
                                "#B0BEC5",
                                "#B0BEC5",
                                "#B0BEC5",
                                "#B0BEC5",
                                "#B0BEC5",
                                "#B0BEC5",
                                "#B0BEC5",
                                "#B0BEC5",
                                "#B0BEC5",
                                "#B0BEC5",
                                "#B0BEC5",
                                "#B0BEC5",
                                "#B0BEC5",
                                "#B0BEC5",
                                "#B0BEC5",
                                "#B0BEC5",
                                "#B0BEC5",
                                "#B0BEC5",
                                "#B0BEC5",
                                "#B0BEC5",
                                "#B0BEC5",
                                "#B0BEC5",
                                "#B0BEC5",
                                "#B0BEC5"
                              ]
                            ]
                          }
                        ],
                        "label": "Topic 4",
                        "method": "update"
                      },
                      {
                        "args": [
                          {
                            "marker.color": [
                              [
                                "#B0BEC5",
                                "#B0BEC5",
                                "#B0BEC5",
                                "#B0BEC5",
                                "#B0BEC5",
                                "red",
                                "#B0BEC5",
                                "#B0BEC5",
                                "#B0BEC5",
                                "#B0BEC5",
                                "#B0BEC5",
                                "#B0BEC5",
                                "#B0BEC5",
                                "#B0BEC5",
                                "#B0BEC5",
                                "#B0BEC5",
                                "#B0BEC5",
                                "#B0BEC5",
                                "#B0BEC5",
                                "#B0BEC5",
                                "#B0BEC5",
                                "#B0BEC5",
                                "#B0BEC5",
                                "#B0BEC5",
                                "#B0BEC5",
                                "#B0BEC5",
                                "#B0BEC5",
                                "#B0BEC5",
                                "#B0BEC5",
                                "#B0BEC5",
                                "#B0BEC5",
                                "#B0BEC5",
                                "#B0BEC5",
                                "#B0BEC5",
                                "#B0BEC5",
                                "#B0BEC5",
                                "#B0BEC5",
                                "#B0BEC5",
                                "#B0BEC5",
                                "#B0BEC5",
                                "#B0BEC5",
                                "#B0BEC5",
                                "#B0BEC5",
                                "#B0BEC5",
                                "#B0BEC5",
                                "#B0BEC5",
                                "#B0BEC5",
                                "#B0BEC5",
                                "#B0BEC5",
                                "#B0BEC5",
                                "#B0BEC5",
                                "#B0BEC5",
                                "#B0BEC5",
                                "#B0BEC5",
                                "#B0BEC5",
                                "#B0BEC5",
                                "#B0BEC5",
                                "#B0BEC5",
                                "#B0BEC5",
                                "#B0BEC5",
                                "#B0BEC5",
                                "#B0BEC5",
                                "#B0BEC5",
                                "#B0BEC5",
                                "#B0BEC5",
                                "#B0BEC5",
                                "#B0BEC5",
                                "#B0BEC5",
                                "#B0BEC5",
                                "#B0BEC5",
                                "#B0BEC5"
                              ]
                            ]
                          }
                        ],
                        "label": "Topic 5",
                        "method": "update"
                      },
                      {
                        "args": [
                          {
                            "marker.color": [
                              [
                                "#B0BEC5",
                                "#B0BEC5",
                                "#B0BEC5",
                                "#B0BEC5",
                                "#B0BEC5",
                                "#B0BEC5",
                                "red",
                                "#B0BEC5",
                                "#B0BEC5",
                                "#B0BEC5",
                                "#B0BEC5",
                                "#B0BEC5",
                                "#B0BEC5",
                                "#B0BEC5",
                                "#B0BEC5",
                                "#B0BEC5",
                                "#B0BEC5",
                                "#B0BEC5",
                                "#B0BEC5",
                                "#B0BEC5",
                                "#B0BEC5",
                                "#B0BEC5",
                                "#B0BEC5",
                                "#B0BEC5",
                                "#B0BEC5",
                                "#B0BEC5",
                                "#B0BEC5",
                                "#B0BEC5",
                                "#B0BEC5",
                                "#B0BEC5",
                                "#B0BEC5",
                                "#B0BEC5",
                                "#B0BEC5",
                                "#B0BEC5",
                                "#B0BEC5",
                                "#B0BEC5",
                                "#B0BEC5",
                                "#B0BEC5",
                                "#B0BEC5",
                                "#B0BEC5",
                                "#B0BEC5",
                                "#B0BEC5",
                                "#B0BEC5",
                                "#B0BEC5",
                                "#B0BEC5",
                                "#B0BEC5",
                                "#B0BEC5",
                                "#B0BEC5",
                                "#B0BEC5",
                                "#B0BEC5",
                                "#B0BEC5",
                                "#B0BEC5",
                                "#B0BEC5",
                                "#B0BEC5",
                                "#B0BEC5",
                                "#B0BEC5",
                                "#B0BEC5",
                                "#B0BEC5",
                                "#B0BEC5",
                                "#B0BEC5",
                                "#B0BEC5",
                                "#B0BEC5",
                                "#B0BEC5",
                                "#B0BEC5",
                                "#B0BEC5",
                                "#B0BEC5",
                                "#B0BEC5",
                                "#B0BEC5",
                                "#B0BEC5",
                                "#B0BEC5",
                                "#B0BEC5"
                              ]
                            ]
                          }
                        ],
                        "label": "Topic 6",
                        "method": "update"
                      },
                      {
                        "args": [
                          {
                            "marker.color": [
                              [
                                "#B0BEC5",
                                "#B0BEC5",
                                "#B0BEC5",
                                "#B0BEC5",
                                "#B0BEC5",
                                "#B0BEC5",
                                "#B0BEC5",
                                "red",
                                "#B0BEC5",
                                "#B0BEC5",
                                "#B0BEC5",
                                "#B0BEC5",
                                "#B0BEC5",
                                "#B0BEC5",
                                "#B0BEC5",
                                "#B0BEC5",
                                "#B0BEC5",
                                "#B0BEC5",
                                "#B0BEC5",
                                "#B0BEC5",
                                "#B0BEC5",
                                "#B0BEC5",
                                "#B0BEC5",
                                "#B0BEC5",
                                "#B0BEC5",
                                "#B0BEC5",
                                "#B0BEC5",
                                "#B0BEC5",
                                "#B0BEC5",
                                "#B0BEC5",
                                "#B0BEC5",
                                "#B0BEC5",
                                "#B0BEC5",
                                "#B0BEC5",
                                "#B0BEC5",
                                "#B0BEC5",
                                "#B0BEC5",
                                "#B0BEC5",
                                "#B0BEC5",
                                "#B0BEC5",
                                "#B0BEC5",
                                "#B0BEC5",
                                "#B0BEC5",
                                "#B0BEC5",
                                "#B0BEC5",
                                "#B0BEC5",
                                "#B0BEC5",
                                "#B0BEC5",
                                "#B0BEC5",
                                "#B0BEC5",
                                "#B0BEC5",
                                "#B0BEC5",
                                "#B0BEC5",
                                "#B0BEC5",
                                "#B0BEC5",
                                "#B0BEC5",
                                "#B0BEC5",
                                "#B0BEC5",
                                "#B0BEC5",
                                "#B0BEC5",
                                "#B0BEC5",
                                "#B0BEC5",
                                "#B0BEC5",
                                "#B0BEC5",
                                "#B0BEC5",
                                "#B0BEC5",
                                "#B0BEC5",
                                "#B0BEC5",
                                "#B0BEC5",
                                "#B0BEC5",
                                "#B0BEC5"
                              ]
                            ]
                          }
                        ],
                        "label": "Topic 7",
                        "method": "update"
                      },
                      {
                        "args": [
                          {
                            "marker.color": [
                              [
                                "#B0BEC5",
                                "#B0BEC5",
                                "#B0BEC5",
                                "#B0BEC5",
                                "#B0BEC5",
                                "#B0BEC5",
                                "#B0BEC5",
                                "#B0BEC5",
                                "red",
                                "#B0BEC5",
                                "#B0BEC5",
                                "#B0BEC5",
                                "#B0BEC5",
                                "#B0BEC5",
                                "#B0BEC5",
                                "#B0BEC5",
                                "#B0BEC5",
                                "#B0BEC5",
                                "#B0BEC5",
                                "#B0BEC5",
                                "#B0BEC5",
                                "#B0BEC5",
                                "#B0BEC5",
                                "#B0BEC5",
                                "#B0BEC5",
                                "#B0BEC5",
                                "#B0BEC5",
                                "#B0BEC5",
                                "#B0BEC5",
                                "#B0BEC5",
                                "#B0BEC5",
                                "#B0BEC5",
                                "#B0BEC5",
                                "#B0BEC5",
                                "#B0BEC5",
                                "#B0BEC5",
                                "#B0BEC5",
                                "#B0BEC5",
                                "#B0BEC5",
                                "#B0BEC5",
                                "#B0BEC5",
                                "#B0BEC5",
                                "#B0BEC5",
                                "#B0BEC5",
                                "#B0BEC5",
                                "#B0BEC5",
                                "#B0BEC5",
                                "#B0BEC5",
                                "#B0BEC5",
                                "#B0BEC5",
                                "#B0BEC5",
                                "#B0BEC5",
                                "#B0BEC5",
                                "#B0BEC5",
                                "#B0BEC5",
                                "#B0BEC5",
                                "#B0BEC5",
                                "#B0BEC5",
                                "#B0BEC5",
                                "#B0BEC5",
                                "#B0BEC5",
                                "#B0BEC5",
                                "#B0BEC5",
                                "#B0BEC5",
                                "#B0BEC5",
                                "#B0BEC5",
                                "#B0BEC5",
                                "#B0BEC5",
                                "#B0BEC5",
                                "#B0BEC5",
                                "#B0BEC5"
                              ]
                            ]
                          }
                        ],
                        "label": "Topic 8",
                        "method": "update"
                      },
                      {
                        "args": [
                          {
                            "marker.color": [
                              [
                                "#B0BEC5",
                                "#B0BEC5",
                                "#B0BEC5",
                                "#B0BEC5",
                                "#B0BEC5",
                                "#B0BEC5",
                                "#B0BEC5",
                                "#B0BEC5",
                                "#B0BEC5",
                                "red",
                                "#B0BEC5",
                                "#B0BEC5",
                                "#B0BEC5",
                                "#B0BEC5",
                                "#B0BEC5",
                                "#B0BEC5",
                                "#B0BEC5",
                                "#B0BEC5",
                                "#B0BEC5",
                                "#B0BEC5",
                                "#B0BEC5",
                                "#B0BEC5",
                                "#B0BEC5",
                                "#B0BEC5",
                                "#B0BEC5",
                                "#B0BEC5",
                                "#B0BEC5",
                                "#B0BEC5",
                                "#B0BEC5",
                                "#B0BEC5",
                                "#B0BEC5",
                                "#B0BEC5",
                                "#B0BEC5",
                                "#B0BEC5",
                                "#B0BEC5",
                                "#B0BEC5",
                                "#B0BEC5",
                                "#B0BEC5",
                                "#B0BEC5",
                                "#B0BEC5",
                                "#B0BEC5",
                                "#B0BEC5",
                                "#B0BEC5",
                                "#B0BEC5",
                                "#B0BEC5",
                                "#B0BEC5",
                                "#B0BEC5",
                                "#B0BEC5",
                                "#B0BEC5",
                                "#B0BEC5",
                                "#B0BEC5",
                                "#B0BEC5",
                                "#B0BEC5",
                                "#B0BEC5",
                                "#B0BEC5",
                                "#B0BEC5",
                                "#B0BEC5",
                                "#B0BEC5",
                                "#B0BEC5",
                                "#B0BEC5",
                                "#B0BEC5",
                                "#B0BEC5",
                                "#B0BEC5",
                                "#B0BEC5",
                                "#B0BEC5",
                                "#B0BEC5",
                                "#B0BEC5",
                                "#B0BEC5",
                                "#B0BEC5",
                                "#B0BEC5",
                                "#B0BEC5"
                              ]
                            ]
                          }
                        ],
                        "label": "Topic 9",
                        "method": "update"
                      },
                      {
                        "args": [
                          {
                            "marker.color": [
                              [
                                "#B0BEC5",
                                "#B0BEC5",
                                "#B0BEC5",
                                "#B0BEC5",
                                "#B0BEC5",
                                "#B0BEC5",
                                "#B0BEC5",
                                "#B0BEC5",
                                "#B0BEC5",
                                "#B0BEC5",
                                "red",
                                "#B0BEC5",
                                "#B0BEC5",
                                "#B0BEC5",
                                "#B0BEC5",
                                "#B0BEC5",
                                "#B0BEC5",
                                "#B0BEC5",
                                "#B0BEC5",
                                "#B0BEC5",
                                "#B0BEC5",
                                "#B0BEC5",
                                "#B0BEC5",
                                "#B0BEC5",
                                "#B0BEC5",
                                "#B0BEC5",
                                "#B0BEC5",
                                "#B0BEC5",
                                "#B0BEC5",
                                "#B0BEC5",
                                "#B0BEC5",
                                "#B0BEC5",
                                "#B0BEC5",
                                "#B0BEC5",
                                "#B0BEC5",
                                "#B0BEC5",
                                "#B0BEC5",
                                "#B0BEC5",
                                "#B0BEC5",
                                "#B0BEC5",
                                "#B0BEC5",
                                "#B0BEC5",
                                "#B0BEC5",
                                "#B0BEC5",
                                "#B0BEC5",
                                "#B0BEC5",
                                "#B0BEC5",
                                "#B0BEC5",
                                "#B0BEC5",
                                "#B0BEC5",
                                "#B0BEC5",
                                "#B0BEC5",
                                "#B0BEC5",
                                "#B0BEC5",
                                "#B0BEC5",
                                "#B0BEC5",
                                "#B0BEC5",
                                "#B0BEC5",
                                "#B0BEC5",
                                "#B0BEC5",
                                "#B0BEC5",
                                "#B0BEC5",
                                "#B0BEC5",
                                "#B0BEC5",
                                "#B0BEC5",
                                "#B0BEC5",
                                "#B0BEC5",
                                "#B0BEC5",
                                "#B0BEC5",
                                "#B0BEC5",
                                "#B0BEC5"
                              ]
                            ]
                          }
                        ],
                        "label": "Topic 10",
                        "method": "update"
                      },
                      {
                        "args": [
                          {
                            "marker.color": [
                              [
                                "#B0BEC5",
                                "#B0BEC5",
                                "#B0BEC5",
                                "#B0BEC5",
                                "#B0BEC5",
                                "#B0BEC5",
                                "#B0BEC5",
                                "#B0BEC5",
                                "#B0BEC5",
                                "#B0BEC5",
                                "#B0BEC5",
                                "red",
                                "#B0BEC5",
                                "#B0BEC5",
                                "#B0BEC5",
                                "#B0BEC5",
                                "#B0BEC5",
                                "#B0BEC5",
                                "#B0BEC5",
                                "#B0BEC5",
                                "#B0BEC5",
                                "#B0BEC5",
                                "#B0BEC5",
                                "#B0BEC5",
                                "#B0BEC5",
                                "#B0BEC5",
                                "#B0BEC5",
                                "#B0BEC5",
                                "#B0BEC5",
                                "#B0BEC5",
                                "#B0BEC5",
                                "#B0BEC5",
                                "#B0BEC5",
                                "#B0BEC5",
                                "#B0BEC5",
                                "#B0BEC5",
                                "#B0BEC5",
                                "#B0BEC5",
                                "#B0BEC5",
                                "#B0BEC5",
                                "#B0BEC5",
                                "#B0BEC5",
                                "#B0BEC5",
                                "#B0BEC5",
                                "#B0BEC5",
                                "#B0BEC5",
                                "#B0BEC5",
                                "#B0BEC5",
                                "#B0BEC5",
                                "#B0BEC5",
                                "#B0BEC5",
                                "#B0BEC5",
                                "#B0BEC5",
                                "#B0BEC5",
                                "#B0BEC5",
                                "#B0BEC5",
                                "#B0BEC5",
                                "#B0BEC5",
                                "#B0BEC5",
                                "#B0BEC5",
                                "#B0BEC5",
                                "#B0BEC5",
                                "#B0BEC5",
                                "#B0BEC5",
                                "#B0BEC5",
                                "#B0BEC5",
                                "#B0BEC5",
                                "#B0BEC5",
                                "#B0BEC5",
                                "#B0BEC5",
                                "#B0BEC5"
                              ]
                            ]
                          }
                        ],
                        "label": "Topic 11",
                        "method": "update"
                      },
                      {
                        "args": [
                          {
                            "marker.color": [
                              [
                                "#B0BEC5",
                                "#B0BEC5",
                                "#B0BEC5",
                                "#B0BEC5",
                                "#B0BEC5",
                                "#B0BEC5",
                                "#B0BEC5",
                                "#B0BEC5",
                                "#B0BEC5",
                                "#B0BEC5",
                                "#B0BEC5",
                                "#B0BEC5",
                                "red",
                                "#B0BEC5",
                                "#B0BEC5",
                                "#B0BEC5",
                                "#B0BEC5",
                                "#B0BEC5",
                                "#B0BEC5",
                                "#B0BEC5",
                                "#B0BEC5",
                                "#B0BEC5",
                                "#B0BEC5",
                                "#B0BEC5",
                                "#B0BEC5",
                                "#B0BEC5",
                                "#B0BEC5",
                                "#B0BEC5",
                                "#B0BEC5",
                                "#B0BEC5",
                                "#B0BEC5",
                                "#B0BEC5",
                                "#B0BEC5",
                                "#B0BEC5",
                                "#B0BEC5",
                                "#B0BEC5",
                                "#B0BEC5",
                                "#B0BEC5",
                                "#B0BEC5",
                                "#B0BEC5",
                                "#B0BEC5",
                                "#B0BEC5",
                                "#B0BEC5",
                                "#B0BEC5",
                                "#B0BEC5",
                                "#B0BEC5",
                                "#B0BEC5",
                                "#B0BEC5",
                                "#B0BEC5",
                                "#B0BEC5",
                                "#B0BEC5",
                                "#B0BEC5",
                                "#B0BEC5",
                                "#B0BEC5",
                                "#B0BEC5",
                                "#B0BEC5",
                                "#B0BEC5",
                                "#B0BEC5",
                                "#B0BEC5",
                                "#B0BEC5",
                                "#B0BEC5",
                                "#B0BEC5",
                                "#B0BEC5",
                                "#B0BEC5",
                                "#B0BEC5",
                                "#B0BEC5",
                                "#B0BEC5",
                                "#B0BEC5",
                                "#B0BEC5",
                                "#B0BEC5",
                                "#B0BEC5"
                              ]
                            ]
                          }
                        ],
                        "label": "Topic 12",
                        "method": "update"
                      },
                      {
                        "args": [
                          {
                            "marker.color": [
                              [
                                "#B0BEC5",
                                "#B0BEC5",
                                "#B0BEC5",
                                "#B0BEC5",
                                "#B0BEC5",
                                "#B0BEC5",
                                "#B0BEC5",
                                "#B0BEC5",
                                "#B0BEC5",
                                "#B0BEC5",
                                "#B0BEC5",
                                "#B0BEC5",
                                "#B0BEC5",
                                "red",
                                "#B0BEC5",
                                "#B0BEC5",
                                "#B0BEC5",
                                "#B0BEC5",
                                "#B0BEC5",
                                "#B0BEC5",
                                "#B0BEC5",
                                "#B0BEC5",
                                "#B0BEC5",
                                "#B0BEC5",
                                "#B0BEC5",
                                "#B0BEC5",
                                "#B0BEC5",
                                "#B0BEC5",
                                "#B0BEC5",
                                "#B0BEC5",
                                "#B0BEC5",
                                "#B0BEC5",
                                "#B0BEC5",
                                "#B0BEC5",
                                "#B0BEC5",
                                "#B0BEC5",
                                "#B0BEC5",
                                "#B0BEC5",
                                "#B0BEC5",
                                "#B0BEC5",
                                "#B0BEC5",
                                "#B0BEC5",
                                "#B0BEC5",
                                "#B0BEC5",
                                "#B0BEC5",
                                "#B0BEC5",
                                "#B0BEC5",
                                "#B0BEC5",
                                "#B0BEC5",
                                "#B0BEC5",
                                "#B0BEC5",
                                "#B0BEC5",
                                "#B0BEC5",
                                "#B0BEC5",
                                "#B0BEC5",
                                "#B0BEC5",
                                "#B0BEC5",
                                "#B0BEC5",
                                "#B0BEC5",
                                "#B0BEC5",
                                "#B0BEC5",
                                "#B0BEC5",
                                "#B0BEC5",
                                "#B0BEC5",
                                "#B0BEC5",
                                "#B0BEC5",
                                "#B0BEC5",
                                "#B0BEC5",
                                "#B0BEC5",
                                "#B0BEC5",
                                "#B0BEC5"
                              ]
                            ]
                          }
                        ],
                        "label": "Topic 13",
                        "method": "update"
                      },
                      {
                        "args": [
                          {
                            "marker.color": [
                              [
                                "#B0BEC5",
                                "#B0BEC5",
                                "#B0BEC5",
                                "#B0BEC5",
                                "#B0BEC5",
                                "#B0BEC5",
                                "#B0BEC5",
                                "#B0BEC5",
                                "#B0BEC5",
                                "#B0BEC5",
                                "#B0BEC5",
                                "#B0BEC5",
                                "#B0BEC5",
                                "#B0BEC5",
                                "red",
                                "#B0BEC5",
                                "#B0BEC5",
                                "#B0BEC5",
                                "#B0BEC5",
                                "#B0BEC5",
                                "#B0BEC5",
                                "#B0BEC5",
                                "#B0BEC5",
                                "#B0BEC5",
                                "#B0BEC5",
                                "#B0BEC5",
                                "#B0BEC5",
                                "#B0BEC5",
                                "#B0BEC5",
                                "#B0BEC5",
                                "#B0BEC5",
                                "#B0BEC5",
                                "#B0BEC5",
                                "#B0BEC5",
                                "#B0BEC5",
                                "#B0BEC5",
                                "#B0BEC5",
                                "#B0BEC5",
                                "#B0BEC5",
                                "#B0BEC5",
                                "#B0BEC5",
                                "#B0BEC5",
                                "#B0BEC5",
                                "#B0BEC5",
                                "#B0BEC5",
                                "#B0BEC5",
                                "#B0BEC5",
                                "#B0BEC5",
                                "#B0BEC5",
                                "#B0BEC5",
                                "#B0BEC5",
                                "#B0BEC5",
                                "#B0BEC5",
                                "#B0BEC5",
                                "#B0BEC5",
                                "#B0BEC5",
                                "#B0BEC5",
                                "#B0BEC5",
                                "#B0BEC5",
                                "#B0BEC5",
                                "#B0BEC5",
                                "#B0BEC5",
                                "#B0BEC5",
                                "#B0BEC5",
                                "#B0BEC5",
                                "#B0BEC5",
                                "#B0BEC5",
                                "#B0BEC5",
                                "#B0BEC5",
                                "#B0BEC5",
                                "#B0BEC5"
                              ]
                            ]
                          }
                        ],
                        "label": "Topic 14",
                        "method": "update"
                      },
                      {
                        "args": [
                          {
                            "marker.color": [
                              [
                                "#B0BEC5",
                                "#B0BEC5",
                                "#B0BEC5",
                                "#B0BEC5",
                                "#B0BEC5",
                                "#B0BEC5",
                                "#B0BEC5",
                                "#B0BEC5",
                                "#B0BEC5",
                                "#B0BEC5",
                                "#B0BEC5",
                                "#B0BEC5",
                                "#B0BEC5",
                                "#B0BEC5",
                                "#B0BEC5",
                                "red",
                                "#B0BEC5",
                                "#B0BEC5",
                                "#B0BEC5",
                                "#B0BEC5",
                                "#B0BEC5",
                                "#B0BEC5",
                                "#B0BEC5",
                                "#B0BEC5",
                                "#B0BEC5",
                                "#B0BEC5",
                                "#B0BEC5",
                                "#B0BEC5",
                                "#B0BEC5",
                                "#B0BEC5",
                                "#B0BEC5",
                                "#B0BEC5",
                                "#B0BEC5",
                                "#B0BEC5",
                                "#B0BEC5",
                                "#B0BEC5",
                                "#B0BEC5",
                                "#B0BEC5",
                                "#B0BEC5",
                                "#B0BEC5",
                                "#B0BEC5",
                                "#B0BEC5",
                                "#B0BEC5",
                                "#B0BEC5",
                                "#B0BEC5",
                                "#B0BEC5",
                                "#B0BEC5",
                                "#B0BEC5",
                                "#B0BEC5",
                                "#B0BEC5",
                                "#B0BEC5",
                                "#B0BEC5",
                                "#B0BEC5",
                                "#B0BEC5",
                                "#B0BEC5",
                                "#B0BEC5",
                                "#B0BEC5",
                                "#B0BEC5",
                                "#B0BEC5",
                                "#B0BEC5",
                                "#B0BEC5",
                                "#B0BEC5",
                                "#B0BEC5",
                                "#B0BEC5",
                                "#B0BEC5",
                                "#B0BEC5",
                                "#B0BEC5",
                                "#B0BEC5",
                                "#B0BEC5",
                                "#B0BEC5",
                                "#B0BEC5"
                              ]
                            ]
                          }
                        ],
                        "label": "Topic 15",
                        "method": "update"
                      },
                      {
                        "args": [
                          {
                            "marker.color": [
                              [
                                "#B0BEC5",
                                "#B0BEC5",
                                "#B0BEC5",
                                "#B0BEC5",
                                "#B0BEC5",
                                "#B0BEC5",
                                "#B0BEC5",
                                "#B0BEC5",
                                "#B0BEC5",
                                "#B0BEC5",
                                "#B0BEC5",
                                "#B0BEC5",
                                "#B0BEC5",
                                "#B0BEC5",
                                "#B0BEC5",
                                "#B0BEC5",
                                "red",
                                "#B0BEC5",
                                "#B0BEC5",
                                "#B0BEC5",
                                "#B0BEC5",
                                "#B0BEC5",
                                "#B0BEC5",
                                "#B0BEC5",
                                "#B0BEC5",
                                "#B0BEC5",
                                "#B0BEC5",
                                "#B0BEC5",
                                "#B0BEC5",
                                "#B0BEC5",
                                "#B0BEC5",
                                "#B0BEC5",
                                "#B0BEC5",
                                "#B0BEC5",
                                "#B0BEC5",
                                "#B0BEC5",
                                "#B0BEC5",
                                "#B0BEC5",
                                "#B0BEC5",
                                "#B0BEC5",
                                "#B0BEC5",
                                "#B0BEC5",
                                "#B0BEC5",
                                "#B0BEC5",
                                "#B0BEC5",
                                "#B0BEC5",
                                "#B0BEC5",
                                "#B0BEC5",
                                "#B0BEC5",
                                "#B0BEC5",
                                "#B0BEC5",
                                "#B0BEC5",
                                "#B0BEC5",
                                "#B0BEC5",
                                "#B0BEC5",
                                "#B0BEC5",
                                "#B0BEC5",
                                "#B0BEC5",
                                "#B0BEC5",
                                "#B0BEC5",
                                "#B0BEC5",
                                "#B0BEC5",
                                "#B0BEC5",
                                "#B0BEC5",
                                "#B0BEC5",
                                "#B0BEC5",
                                "#B0BEC5",
                                "#B0BEC5",
                                "#B0BEC5",
                                "#B0BEC5",
                                "#B0BEC5"
                              ]
                            ]
                          }
                        ],
                        "label": "Topic 16",
                        "method": "update"
                      },
                      {
                        "args": [
                          {
                            "marker.color": [
                              [
                                "#B0BEC5",
                                "#B0BEC5",
                                "#B0BEC5",
                                "#B0BEC5",
                                "#B0BEC5",
                                "#B0BEC5",
                                "#B0BEC5",
                                "#B0BEC5",
                                "#B0BEC5",
                                "#B0BEC5",
                                "#B0BEC5",
                                "#B0BEC5",
                                "#B0BEC5",
                                "#B0BEC5",
                                "#B0BEC5",
                                "#B0BEC5",
                                "#B0BEC5",
                                "red",
                                "#B0BEC5",
                                "#B0BEC5",
                                "#B0BEC5",
                                "#B0BEC5",
                                "#B0BEC5",
                                "#B0BEC5",
                                "#B0BEC5",
                                "#B0BEC5",
                                "#B0BEC5",
                                "#B0BEC5",
                                "#B0BEC5",
                                "#B0BEC5",
                                "#B0BEC5",
                                "#B0BEC5",
                                "#B0BEC5",
                                "#B0BEC5",
                                "#B0BEC5",
                                "#B0BEC5",
                                "#B0BEC5",
                                "#B0BEC5",
                                "#B0BEC5",
                                "#B0BEC5",
                                "#B0BEC5",
                                "#B0BEC5",
                                "#B0BEC5",
                                "#B0BEC5",
                                "#B0BEC5",
                                "#B0BEC5",
                                "#B0BEC5",
                                "#B0BEC5",
                                "#B0BEC5",
                                "#B0BEC5",
                                "#B0BEC5",
                                "#B0BEC5",
                                "#B0BEC5",
                                "#B0BEC5",
                                "#B0BEC5",
                                "#B0BEC5",
                                "#B0BEC5",
                                "#B0BEC5",
                                "#B0BEC5",
                                "#B0BEC5",
                                "#B0BEC5",
                                "#B0BEC5",
                                "#B0BEC5",
                                "#B0BEC5",
                                "#B0BEC5",
                                "#B0BEC5",
                                "#B0BEC5",
                                "#B0BEC5",
                                "#B0BEC5",
                                "#B0BEC5",
                                "#B0BEC5"
                              ]
                            ]
                          }
                        ],
                        "label": "Topic 17",
                        "method": "update"
                      },
                      {
                        "args": [
                          {
                            "marker.color": [
                              [
                                "#B0BEC5",
                                "#B0BEC5",
                                "#B0BEC5",
                                "#B0BEC5",
                                "#B0BEC5",
                                "#B0BEC5",
                                "#B0BEC5",
                                "#B0BEC5",
                                "#B0BEC5",
                                "#B0BEC5",
                                "#B0BEC5",
                                "#B0BEC5",
                                "#B0BEC5",
                                "#B0BEC5",
                                "#B0BEC5",
                                "#B0BEC5",
                                "#B0BEC5",
                                "#B0BEC5",
                                "red",
                                "#B0BEC5",
                                "#B0BEC5",
                                "#B0BEC5",
                                "#B0BEC5",
                                "#B0BEC5",
                                "#B0BEC5",
                                "#B0BEC5",
                                "#B0BEC5",
                                "#B0BEC5",
                                "#B0BEC5",
                                "#B0BEC5",
                                "#B0BEC5",
                                "#B0BEC5",
                                "#B0BEC5",
                                "#B0BEC5",
                                "#B0BEC5",
                                "#B0BEC5",
                                "#B0BEC5",
                                "#B0BEC5",
                                "#B0BEC5",
                                "#B0BEC5",
                                "#B0BEC5",
                                "#B0BEC5",
                                "#B0BEC5",
                                "#B0BEC5",
                                "#B0BEC5",
                                "#B0BEC5",
                                "#B0BEC5",
                                "#B0BEC5",
                                "#B0BEC5",
                                "#B0BEC5",
                                "#B0BEC5",
                                "#B0BEC5",
                                "#B0BEC5",
                                "#B0BEC5",
                                "#B0BEC5",
                                "#B0BEC5",
                                "#B0BEC5",
                                "#B0BEC5",
                                "#B0BEC5",
                                "#B0BEC5",
                                "#B0BEC5",
                                "#B0BEC5",
                                "#B0BEC5",
                                "#B0BEC5",
                                "#B0BEC5",
                                "#B0BEC5",
                                "#B0BEC5",
                                "#B0BEC5",
                                "#B0BEC5",
                                "#B0BEC5",
                                "#B0BEC5"
                              ]
                            ]
                          }
                        ],
                        "label": "Topic 18",
                        "method": "update"
                      },
                      {
                        "args": [
                          {
                            "marker.color": [
                              [
                                "#B0BEC5",
                                "#B0BEC5",
                                "#B0BEC5",
                                "#B0BEC5",
                                "#B0BEC5",
                                "#B0BEC5",
                                "#B0BEC5",
                                "#B0BEC5",
                                "#B0BEC5",
                                "#B0BEC5",
                                "#B0BEC5",
                                "#B0BEC5",
                                "#B0BEC5",
                                "#B0BEC5",
                                "#B0BEC5",
                                "#B0BEC5",
                                "#B0BEC5",
                                "#B0BEC5",
                                "#B0BEC5",
                                "red",
                                "#B0BEC5",
                                "#B0BEC5",
                                "#B0BEC5",
                                "#B0BEC5",
                                "#B0BEC5",
                                "#B0BEC5",
                                "#B0BEC5",
                                "#B0BEC5",
                                "#B0BEC5",
                                "#B0BEC5",
                                "#B0BEC5",
                                "#B0BEC5",
                                "#B0BEC5",
                                "#B0BEC5",
                                "#B0BEC5",
                                "#B0BEC5",
                                "#B0BEC5",
                                "#B0BEC5",
                                "#B0BEC5",
                                "#B0BEC5",
                                "#B0BEC5",
                                "#B0BEC5",
                                "#B0BEC5",
                                "#B0BEC5",
                                "#B0BEC5",
                                "#B0BEC5",
                                "#B0BEC5",
                                "#B0BEC5",
                                "#B0BEC5",
                                "#B0BEC5",
                                "#B0BEC5",
                                "#B0BEC5",
                                "#B0BEC5",
                                "#B0BEC5",
                                "#B0BEC5",
                                "#B0BEC5",
                                "#B0BEC5",
                                "#B0BEC5",
                                "#B0BEC5",
                                "#B0BEC5",
                                "#B0BEC5",
                                "#B0BEC5",
                                "#B0BEC5",
                                "#B0BEC5",
                                "#B0BEC5",
                                "#B0BEC5",
                                "#B0BEC5",
                                "#B0BEC5",
                                "#B0BEC5",
                                "#B0BEC5",
                                "#B0BEC5"
                              ]
                            ]
                          }
                        ],
                        "label": "Topic 19",
                        "method": "update"
                      },
                      {
                        "args": [
                          {
                            "marker.color": [
                              [
                                "#B0BEC5",
                                "#B0BEC5",
                                "#B0BEC5",
                                "#B0BEC5",
                                "#B0BEC5",
                                "#B0BEC5",
                                "#B0BEC5",
                                "#B0BEC5",
                                "#B0BEC5",
                                "#B0BEC5",
                                "#B0BEC5",
                                "#B0BEC5",
                                "#B0BEC5",
                                "#B0BEC5",
                                "#B0BEC5",
                                "#B0BEC5",
                                "#B0BEC5",
                                "#B0BEC5",
                                "#B0BEC5",
                                "#B0BEC5",
                                "red",
                                "#B0BEC5",
                                "#B0BEC5",
                                "#B0BEC5",
                                "#B0BEC5",
                                "#B0BEC5",
                                "#B0BEC5",
                                "#B0BEC5",
                                "#B0BEC5",
                                "#B0BEC5",
                                "#B0BEC5",
                                "#B0BEC5",
                                "#B0BEC5",
                                "#B0BEC5",
                                "#B0BEC5",
                                "#B0BEC5",
                                "#B0BEC5",
                                "#B0BEC5",
                                "#B0BEC5",
                                "#B0BEC5",
                                "#B0BEC5",
                                "#B0BEC5",
                                "#B0BEC5",
                                "#B0BEC5",
                                "#B0BEC5",
                                "#B0BEC5",
                                "#B0BEC5",
                                "#B0BEC5",
                                "#B0BEC5",
                                "#B0BEC5",
                                "#B0BEC5",
                                "#B0BEC5",
                                "#B0BEC5",
                                "#B0BEC5",
                                "#B0BEC5",
                                "#B0BEC5",
                                "#B0BEC5",
                                "#B0BEC5",
                                "#B0BEC5",
                                "#B0BEC5",
                                "#B0BEC5",
                                "#B0BEC5",
                                "#B0BEC5",
                                "#B0BEC5",
                                "#B0BEC5",
                                "#B0BEC5",
                                "#B0BEC5",
                                "#B0BEC5",
                                "#B0BEC5",
                                "#B0BEC5",
                                "#B0BEC5"
                              ]
                            ]
                          }
                        ],
                        "label": "Topic 20",
                        "method": "update"
                      },
                      {
                        "args": [
                          {
                            "marker.color": [
                              [
                                "#B0BEC5",
                                "#B0BEC5",
                                "#B0BEC5",
                                "#B0BEC5",
                                "#B0BEC5",
                                "#B0BEC5",
                                "#B0BEC5",
                                "#B0BEC5",
                                "#B0BEC5",
                                "#B0BEC5",
                                "#B0BEC5",
                                "#B0BEC5",
                                "#B0BEC5",
                                "#B0BEC5",
                                "#B0BEC5",
                                "#B0BEC5",
                                "#B0BEC5",
                                "#B0BEC5",
                                "#B0BEC5",
                                "#B0BEC5",
                                "#B0BEC5",
                                "red",
                                "#B0BEC5",
                                "#B0BEC5",
                                "#B0BEC5",
                                "#B0BEC5",
                                "#B0BEC5",
                                "#B0BEC5",
                                "#B0BEC5",
                                "#B0BEC5",
                                "#B0BEC5",
                                "#B0BEC5",
                                "#B0BEC5",
                                "#B0BEC5",
                                "#B0BEC5",
                                "#B0BEC5",
                                "#B0BEC5",
                                "#B0BEC5",
                                "#B0BEC5",
                                "#B0BEC5",
                                "#B0BEC5",
                                "#B0BEC5",
                                "#B0BEC5",
                                "#B0BEC5",
                                "#B0BEC5",
                                "#B0BEC5",
                                "#B0BEC5",
                                "#B0BEC5",
                                "#B0BEC5",
                                "#B0BEC5",
                                "#B0BEC5",
                                "#B0BEC5",
                                "#B0BEC5",
                                "#B0BEC5",
                                "#B0BEC5",
                                "#B0BEC5",
                                "#B0BEC5",
                                "#B0BEC5",
                                "#B0BEC5",
                                "#B0BEC5",
                                "#B0BEC5",
                                "#B0BEC5",
                                "#B0BEC5",
                                "#B0BEC5",
                                "#B0BEC5",
                                "#B0BEC5",
                                "#B0BEC5",
                                "#B0BEC5",
                                "#B0BEC5",
                                "#B0BEC5",
                                "#B0BEC5"
                              ]
                            ]
                          }
                        ],
                        "label": "Topic 21",
                        "method": "update"
                      },
                      {
                        "args": [
                          {
                            "marker.color": [
                              [
                                "#B0BEC5",
                                "#B0BEC5",
                                "#B0BEC5",
                                "#B0BEC5",
                                "#B0BEC5",
                                "#B0BEC5",
                                "#B0BEC5",
                                "#B0BEC5",
                                "#B0BEC5",
                                "#B0BEC5",
                                "#B0BEC5",
                                "#B0BEC5",
                                "#B0BEC5",
                                "#B0BEC5",
                                "#B0BEC5",
                                "#B0BEC5",
                                "#B0BEC5",
                                "#B0BEC5",
                                "#B0BEC5",
                                "#B0BEC5",
                                "#B0BEC5",
                                "#B0BEC5",
                                "red",
                                "#B0BEC5",
                                "#B0BEC5",
                                "#B0BEC5",
                                "#B0BEC5",
                                "#B0BEC5",
                                "#B0BEC5",
                                "#B0BEC5",
                                "#B0BEC5",
                                "#B0BEC5",
                                "#B0BEC5",
                                "#B0BEC5",
                                "#B0BEC5",
                                "#B0BEC5",
                                "#B0BEC5",
                                "#B0BEC5",
                                "#B0BEC5",
                                "#B0BEC5",
                                "#B0BEC5",
                                "#B0BEC5",
                                "#B0BEC5",
                                "#B0BEC5",
                                "#B0BEC5",
                                "#B0BEC5",
                                "#B0BEC5",
                                "#B0BEC5",
                                "#B0BEC5",
                                "#B0BEC5",
                                "#B0BEC5",
                                "#B0BEC5",
                                "#B0BEC5",
                                "#B0BEC5",
                                "#B0BEC5",
                                "#B0BEC5",
                                "#B0BEC5",
                                "#B0BEC5",
                                "#B0BEC5",
                                "#B0BEC5",
                                "#B0BEC5",
                                "#B0BEC5",
                                "#B0BEC5",
                                "#B0BEC5",
                                "#B0BEC5",
                                "#B0BEC5",
                                "#B0BEC5",
                                "#B0BEC5",
                                "#B0BEC5",
                                "#B0BEC5",
                                "#B0BEC5"
                              ]
                            ]
                          }
                        ],
                        "label": "Topic 22",
                        "method": "update"
                      },
                      {
                        "args": [
                          {
                            "marker.color": [
                              [
                                "#B0BEC5",
                                "#B0BEC5",
                                "#B0BEC5",
                                "#B0BEC5",
                                "#B0BEC5",
                                "#B0BEC5",
                                "#B0BEC5",
                                "#B0BEC5",
                                "#B0BEC5",
                                "#B0BEC5",
                                "#B0BEC5",
                                "#B0BEC5",
                                "#B0BEC5",
                                "#B0BEC5",
                                "#B0BEC5",
                                "#B0BEC5",
                                "#B0BEC5",
                                "#B0BEC5",
                                "#B0BEC5",
                                "#B0BEC5",
                                "#B0BEC5",
                                "#B0BEC5",
                                "#B0BEC5",
                                "red",
                                "#B0BEC5",
                                "#B0BEC5",
                                "#B0BEC5",
                                "#B0BEC5",
                                "#B0BEC5",
                                "#B0BEC5",
                                "#B0BEC5",
                                "#B0BEC5",
                                "#B0BEC5",
                                "#B0BEC5",
                                "#B0BEC5",
                                "#B0BEC5",
                                "#B0BEC5",
                                "#B0BEC5",
                                "#B0BEC5",
                                "#B0BEC5",
                                "#B0BEC5",
                                "#B0BEC5",
                                "#B0BEC5",
                                "#B0BEC5",
                                "#B0BEC5",
                                "#B0BEC5",
                                "#B0BEC5",
                                "#B0BEC5",
                                "#B0BEC5",
                                "#B0BEC5",
                                "#B0BEC5",
                                "#B0BEC5",
                                "#B0BEC5",
                                "#B0BEC5",
                                "#B0BEC5",
                                "#B0BEC5",
                                "#B0BEC5",
                                "#B0BEC5",
                                "#B0BEC5",
                                "#B0BEC5",
                                "#B0BEC5",
                                "#B0BEC5",
                                "#B0BEC5",
                                "#B0BEC5",
                                "#B0BEC5",
                                "#B0BEC5",
                                "#B0BEC5",
                                "#B0BEC5",
                                "#B0BEC5",
                                "#B0BEC5",
                                "#B0BEC5"
                              ]
                            ]
                          }
                        ],
                        "label": "Topic 23",
                        "method": "update"
                      },
                      {
                        "args": [
                          {
                            "marker.color": [
                              [
                                "#B0BEC5",
                                "#B0BEC5",
                                "#B0BEC5",
                                "#B0BEC5",
                                "#B0BEC5",
                                "#B0BEC5",
                                "#B0BEC5",
                                "#B0BEC5",
                                "#B0BEC5",
                                "#B0BEC5",
                                "#B0BEC5",
                                "#B0BEC5",
                                "#B0BEC5",
                                "#B0BEC5",
                                "#B0BEC5",
                                "#B0BEC5",
                                "#B0BEC5",
                                "#B0BEC5",
                                "#B0BEC5",
                                "#B0BEC5",
                                "#B0BEC5",
                                "#B0BEC5",
                                "#B0BEC5",
                                "#B0BEC5",
                                "red",
                                "#B0BEC5",
                                "#B0BEC5",
                                "#B0BEC5",
                                "#B0BEC5",
                                "#B0BEC5",
                                "#B0BEC5",
                                "#B0BEC5",
                                "#B0BEC5",
                                "#B0BEC5",
                                "#B0BEC5",
                                "#B0BEC5",
                                "#B0BEC5",
                                "#B0BEC5",
                                "#B0BEC5",
                                "#B0BEC5",
                                "#B0BEC5",
                                "#B0BEC5",
                                "#B0BEC5",
                                "#B0BEC5",
                                "#B0BEC5",
                                "#B0BEC5",
                                "#B0BEC5",
                                "#B0BEC5",
                                "#B0BEC5",
                                "#B0BEC5",
                                "#B0BEC5",
                                "#B0BEC5",
                                "#B0BEC5",
                                "#B0BEC5",
                                "#B0BEC5",
                                "#B0BEC5",
                                "#B0BEC5",
                                "#B0BEC5",
                                "#B0BEC5",
                                "#B0BEC5",
                                "#B0BEC5",
                                "#B0BEC5",
                                "#B0BEC5",
                                "#B0BEC5",
                                "#B0BEC5",
                                "#B0BEC5",
                                "#B0BEC5",
                                "#B0BEC5",
                                "#B0BEC5",
                                "#B0BEC5",
                                "#B0BEC5"
                              ]
                            ]
                          }
                        ],
                        "label": "Topic 24",
                        "method": "update"
                      },
                      {
                        "args": [
                          {
                            "marker.color": [
                              [
                                "#B0BEC5",
                                "#B0BEC5",
                                "#B0BEC5",
                                "#B0BEC5",
                                "#B0BEC5",
                                "#B0BEC5",
                                "#B0BEC5",
                                "#B0BEC5",
                                "#B0BEC5",
                                "#B0BEC5",
                                "#B0BEC5",
                                "#B0BEC5",
                                "#B0BEC5",
                                "#B0BEC5",
                                "#B0BEC5",
                                "#B0BEC5",
                                "#B0BEC5",
                                "#B0BEC5",
                                "#B0BEC5",
                                "#B0BEC5",
                                "#B0BEC5",
                                "#B0BEC5",
                                "#B0BEC5",
                                "#B0BEC5",
                                "#B0BEC5",
                                "red",
                                "#B0BEC5",
                                "#B0BEC5",
                                "#B0BEC5",
                                "#B0BEC5",
                                "#B0BEC5",
                                "#B0BEC5",
                                "#B0BEC5",
                                "#B0BEC5",
                                "#B0BEC5",
                                "#B0BEC5",
                                "#B0BEC5",
                                "#B0BEC5",
                                "#B0BEC5",
                                "#B0BEC5",
                                "#B0BEC5",
                                "#B0BEC5",
                                "#B0BEC5",
                                "#B0BEC5",
                                "#B0BEC5",
                                "#B0BEC5",
                                "#B0BEC5",
                                "#B0BEC5",
                                "#B0BEC5",
                                "#B0BEC5",
                                "#B0BEC5",
                                "#B0BEC5",
                                "#B0BEC5",
                                "#B0BEC5",
                                "#B0BEC5",
                                "#B0BEC5",
                                "#B0BEC5",
                                "#B0BEC5",
                                "#B0BEC5",
                                "#B0BEC5",
                                "#B0BEC5",
                                "#B0BEC5",
                                "#B0BEC5",
                                "#B0BEC5",
                                "#B0BEC5",
                                "#B0BEC5",
                                "#B0BEC5",
                                "#B0BEC5",
                                "#B0BEC5",
                                "#B0BEC5",
                                "#B0BEC5"
                              ]
                            ]
                          }
                        ],
                        "label": "Topic 25",
                        "method": "update"
                      },
                      {
                        "args": [
                          {
                            "marker.color": [
                              [
                                "#B0BEC5",
                                "#B0BEC5",
                                "#B0BEC5",
                                "#B0BEC5",
                                "#B0BEC5",
                                "#B0BEC5",
                                "#B0BEC5",
                                "#B0BEC5",
                                "#B0BEC5",
                                "#B0BEC5",
                                "#B0BEC5",
                                "#B0BEC5",
                                "#B0BEC5",
                                "#B0BEC5",
                                "#B0BEC5",
                                "#B0BEC5",
                                "#B0BEC5",
                                "#B0BEC5",
                                "#B0BEC5",
                                "#B0BEC5",
                                "#B0BEC5",
                                "#B0BEC5",
                                "#B0BEC5",
                                "#B0BEC5",
                                "#B0BEC5",
                                "#B0BEC5",
                                "red",
                                "#B0BEC5",
                                "#B0BEC5",
                                "#B0BEC5",
                                "#B0BEC5",
                                "#B0BEC5",
                                "#B0BEC5",
                                "#B0BEC5",
                                "#B0BEC5",
                                "#B0BEC5",
                                "#B0BEC5",
                                "#B0BEC5",
                                "#B0BEC5",
                                "#B0BEC5",
                                "#B0BEC5",
                                "#B0BEC5",
                                "#B0BEC5",
                                "#B0BEC5",
                                "#B0BEC5",
                                "#B0BEC5",
                                "#B0BEC5",
                                "#B0BEC5",
                                "#B0BEC5",
                                "#B0BEC5",
                                "#B0BEC5",
                                "#B0BEC5",
                                "#B0BEC5",
                                "#B0BEC5",
                                "#B0BEC5",
                                "#B0BEC5",
                                "#B0BEC5",
                                "#B0BEC5",
                                "#B0BEC5",
                                "#B0BEC5",
                                "#B0BEC5",
                                "#B0BEC5",
                                "#B0BEC5",
                                "#B0BEC5",
                                "#B0BEC5",
                                "#B0BEC5",
                                "#B0BEC5",
                                "#B0BEC5",
                                "#B0BEC5",
                                "#B0BEC5",
                                "#B0BEC5"
                              ]
                            ]
                          }
                        ],
                        "label": "Topic 26",
                        "method": "update"
                      },
                      {
                        "args": [
                          {
                            "marker.color": [
                              [
                                "#B0BEC5",
                                "#B0BEC5",
                                "#B0BEC5",
                                "#B0BEC5",
                                "#B0BEC5",
                                "#B0BEC5",
                                "#B0BEC5",
                                "#B0BEC5",
                                "#B0BEC5",
                                "#B0BEC5",
                                "#B0BEC5",
                                "#B0BEC5",
                                "#B0BEC5",
                                "#B0BEC5",
                                "#B0BEC5",
                                "#B0BEC5",
                                "#B0BEC5",
                                "#B0BEC5",
                                "#B0BEC5",
                                "#B0BEC5",
                                "#B0BEC5",
                                "#B0BEC5",
                                "#B0BEC5",
                                "#B0BEC5",
                                "#B0BEC5",
                                "#B0BEC5",
                                "#B0BEC5",
                                "red",
                                "#B0BEC5",
                                "#B0BEC5",
                                "#B0BEC5",
                                "#B0BEC5",
                                "#B0BEC5",
                                "#B0BEC5",
                                "#B0BEC5",
                                "#B0BEC5",
                                "#B0BEC5",
                                "#B0BEC5",
                                "#B0BEC5",
                                "#B0BEC5",
                                "#B0BEC5",
                                "#B0BEC5",
                                "#B0BEC5",
                                "#B0BEC5",
                                "#B0BEC5",
                                "#B0BEC5",
                                "#B0BEC5",
                                "#B0BEC5",
                                "#B0BEC5",
                                "#B0BEC5",
                                "#B0BEC5",
                                "#B0BEC5",
                                "#B0BEC5",
                                "#B0BEC5",
                                "#B0BEC5",
                                "#B0BEC5",
                                "#B0BEC5",
                                "#B0BEC5",
                                "#B0BEC5",
                                "#B0BEC5",
                                "#B0BEC5",
                                "#B0BEC5",
                                "#B0BEC5",
                                "#B0BEC5",
                                "#B0BEC5",
                                "#B0BEC5",
                                "#B0BEC5",
                                "#B0BEC5",
                                "#B0BEC5",
                                "#B0BEC5",
                                "#B0BEC5"
                              ]
                            ]
                          }
                        ],
                        "label": "Topic 27",
                        "method": "update"
                      },
                      {
                        "args": [
                          {
                            "marker.color": [
                              [
                                "#B0BEC5",
                                "#B0BEC5",
                                "#B0BEC5",
                                "#B0BEC5",
                                "#B0BEC5",
                                "#B0BEC5",
                                "#B0BEC5",
                                "#B0BEC5",
                                "#B0BEC5",
                                "#B0BEC5",
                                "#B0BEC5",
                                "#B0BEC5",
                                "#B0BEC5",
                                "#B0BEC5",
                                "#B0BEC5",
                                "#B0BEC5",
                                "#B0BEC5",
                                "#B0BEC5",
                                "#B0BEC5",
                                "#B0BEC5",
                                "#B0BEC5",
                                "#B0BEC5",
                                "#B0BEC5",
                                "#B0BEC5",
                                "#B0BEC5",
                                "#B0BEC5",
                                "#B0BEC5",
                                "#B0BEC5",
                                "red",
                                "#B0BEC5",
                                "#B0BEC5",
                                "#B0BEC5",
                                "#B0BEC5",
                                "#B0BEC5",
                                "#B0BEC5",
                                "#B0BEC5",
                                "#B0BEC5",
                                "#B0BEC5",
                                "#B0BEC5",
                                "#B0BEC5",
                                "#B0BEC5",
                                "#B0BEC5",
                                "#B0BEC5",
                                "#B0BEC5",
                                "#B0BEC5",
                                "#B0BEC5",
                                "#B0BEC5",
                                "#B0BEC5",
                                "#B0BEC5",
                                "#B0BEC5",
                                "#B0BEC5",
                                "#B0BEC5",
                                "#B0BEC5",
                                "#B0BEC5",
                                "#B0BEC5",
                                "#B0BEC5",
                                "#B0BEC5",
                                "#B0BEC5",
                                "#B0BEC5",
                                "#B0BEC5",
                                "#B0BEC5",
                                "#B0BEC5",
                                "#B0BEC5",
                                "#B0BEC5",
                                "#B0BEC5",
                                "#B0BEC5",
                                "#B0BEC5",
                                "#B0BEC5",
                                "#B0BEC5",
                                "#B0BEC5",
                                "#B0BEC5"
                              ]
                            ]
                          }
                        ],
                        "label": "Topic 28",
                        "method": "update"
                      },
                      {
                        "args": [
                          {
                            "marker.color": [
                              [
                                "#B0BEC5",
                                "#B0BEC5",
                                "#B0BEC5",
                                "#B0BEC5",
                                "#B0BEC5",
                                "#B0BEC5",
                                "#B0BEC5",
                                "#B0BEC5",
                                "#B0BEC5",
                                "#B0BEC5",
                                "#B0BEC5",
                                "#B0BEC5",
                                "#B0BEC5",
                                "#B0BEC5",
                                "#B0BEC5",
                                "#B0BEC5",
                                "#B0BEC5",
                                "#B0BEC5",
                                "#B0BEC5",
                                "#B0BEC5",
                                "#B0BEC5",
                                "#B0BEC5",
                                "#B0BEC5",
                                "#B0BEC5",
                                "#B0BEC5",
                                "#B0BEC5",
                                "#B0BEC5",
                                "#B0BEC5",
                                "#B0BEC5",
                                "red",
                                "#B0BEC5",
                                "#B0BEC5",
                                "#B0BEC5",
                                "#B0BEC5",
                                "#B0BEC5",
                                "#B0BEC5",
                                "#B0BEC5",
                                "#B0BEC5",
                                "#B0BEC5",
                                "#B0BEC5",
                                "#B0BEC5",
                                "#B0BEC5",
                                "#B0BEC5",
                                "#B0BEC5",
                                "#B0BEC5",
                                "#B0BEC5",
                                "#B0BEC5",
                                "#B0BEC5",
                                "#B0BEC5",
                                "#B0BEC5",
                                "#B0BEC5",
                                "#B0BEC5",
                                "#B0BEC5",
                                "#B0BEC5",
                                "#B0BEC5",
                                "#B0BEC5",
                                "#B0BEC5",
                                "#B0BEC5",
                                "#B0BEC5",
                                "#B0BEC5",
                                "#B0BEC5",
                                "#B0BEC5",
                                "#B0BEC5",
                                "#B0BEC5",
                                "#B0BEC5",
                                "#B0BEC5",
                                "#B0BEC5",
                                "#B0BEC5",
                                "#B0BEC5",
                                "#B0BEC5",
                                "#B0BEC5"
                              ]
                            ]
                          }
                        ],
                        "label": "Topic 29",
                        "method": "update"
                      },
                      {
                        "args": [
                          {
                            "marker.color": [
                              [
                                "#B0BEC5",
                                "#B0BEC5",
                                "#B0BEC5",
                                "#B0BEC5",
                                "#B0BEC5",
                                "#B0BEC5",
                                "#B0BEC5",
                                "#B0BEC5",
                                "#B0BEC5",
                                "#B0BEC5",
                                "#B0BEC5",
                                "#B0BEC5",
                                "#B0BEC5",
                                "#B0BEC5",
                                "#B0BEC5",
                                "#B0BEC5",
                                "#B0BEC5",
                                "#B0BEC5",
                                "#B0BEC5",
                                "#B0BEC5",
                                "#B0BEC5",
                                "#B0BEC5",
                                "#B0BEC5",
                                "#B0BEC5",
                                "#B0BEC5",
                                "#B0BEC5",
                                "#B0BEC5",
                                "#B0BEC5",
                                "#B0BEC5",
                                "#B0BEC5",
                                "red",
                                "#B0BEC5",
                                "#B0BEC5",
                                "#B0BEC5",
                                "#B0BEC5",
                                "#B0BEC5",
                                "#B0BEC5",
                                "#B0BEC5",
                                "#B0BEC5",
                                "#B0BEC5",
                                "#B0BEC5",
                                "#B0BEC5",
                                "#B0BEC5",
                                "#B0BEC5",
                                "#B0BEC5",
                                "#B0BEC5",
                                "#B0BEC5",
                                "#B0BEC5",
                                "#B0BEC5",
                                "#B0BEC5",
                                "#B0BEC5",
                                "#B0BEC5",
                                "#B0BEC5",
                                "#B0BEC5",
                                "#B0BEC5",
                                "#B0BEC5",
                                "#B0BEC5",
                                "#B0BEC5",
                                "#B0BEC5",
                                "#B0BEC5",
                                "#B0BEC5",
                                "#B0BEC5",
                                "#B0BEC5",
                                "#B0BEC5",
                                "#B0BEC5",
                                "#B0BEC5",
                                "#B0BEC5",
                                "#B0BEC5",
                                "#B0BEC5",
                                "#B0BEC5",
                                "#B0BEC5"
                              ]
                            ]
                          }
                        ],
                        "label": "Topic 30",
                        "method": "update"
                      },
                      {
                        "args": [
                          {
                            "marker.color": [
                              [
                                "#B0BEC5",
                                "#B0BEC5",
                                "#B0BEC5",
                                "#B0BEC5",
                                "#B0BEC5",
                                "#B0BEC5",
                                "#B0BEC5",
                                "#B0BEC5",
                                "#B0BEC5",
                                "#B0BEC5",
                                "#B0BEC5",
                                "#B0BEC5",
                                "#B0BEC5",
                                "#B0BEC5",
                                "#B0BEC5",
                                "#B0BEC5",
                                "#B0BEC5",
                                "#B0BEC5",
                                "#B0BEC5",
                                "#B0BEC5",
                                "#B0BEC5",
                                "#B0BEC5",
                                "#B0BEC5",
                                "#B0BEC5",
                                "#B0BEC5",
                                "#B0BEC5",
                                "#B0BEC5",
                                "#B0BEC5",
                                "#B0BEC5",
                                "#B0BEC5",
                                "#B0BEC5",
                                "red",
                                "#B0BEC5",
                                "#B0BEC5",
                                "#B0BEC5",
                                "#B0BEC5",
                                "#B0BEC5",
                                "#B0BEC5",
                                "#B0BEC5",
                                "#B0BEC5",
                                "#B0BEC5",
                                "#B0BEC5",
                                "#B0BEC5",
                                "#B0BEC5",
                                "#B0BEC5",
                                "#B0BEC5",
                                "#B0BEC5",
                                "#B0BEC5",
                                "#B0BEC5",
                                "#B0BEC5",
                                "#B0BEC5",
                                "#B0BEC5",
                                "#B0BEC5",
                                "#B0BEC5",
                                "#B0BEC5",
                                "#B0BEC5",
                                "#B0BEC5",
                                "#B0BEC5",
                                "#B0BEC5",
                                "#B0BEC5",
                                "#B0BEC5",
                                "#B0BEC5",
                                "#B0BEC5",
                                "#B0BEC5",
                                "#B0BEC5",
                                "#B0BEC5",
                                "#B0BEC5",
                                "#B0BEC5",
                                "#B0BEC5",
                                "#B0BEC5",
                                "#B0BEC5"
                              ]
                            ]
                          }
                        ],
                        "label": "Topic 31",
                        "method": "update"
                      },
                      {
                        "args": [
                          {
                            "marker.color": [
                              [
                                "#B0BEC5",
                                "#B0BEC5",
                                "#B0BEC5",
                                "#B0BEC5",
                                "#B0BEC5",
                                "#B0BEC5",
                                "#B0BEC5",
                                "#B0BEC5",
                                "#B0BEC5",
                                "#B0BEC5",
                                "#B0BEC5",
                                "#B0BEC5",
                                "#B0BEC5",
                                "#B0BEC5",
                                "#B0BEC5",
                                "#B0BEC5",
                                "#B0BEC5",
                                "#B0BEC5",
                                "#B0BEC5",
                                "#B0BEC5",
                                "#B0BEC5",
                                "#B0BEC5",
                                "#B0BEC5",
                                "#B0BEC5",
                                "#B0BEC5",
                                "#B0BEC5",
                                "#B0BEC5",
                                "#B0BEC5",
                                "#B0BEC5",
                                "#B0BEC5",
                                "#B0BEC5",
                                "#B0BEC5",
                                "red",
                                "#B0BEC5",
                                "#B0BEC5",
                                "#B0BEC5",
                                "#B0BEC5",
                                "#B0BEC5",
                                "#B0BEC5",
                                "#B0BEC5",
                                "#B0BEC5",
                                "#B0BEC5",
                                "#B0BEC5",
                                "#B0BEC5",
                                "#B0BEC5",
                                "#B0BEC5",
                                "#B0BEC5",
                                "#B0BEC5",
                                "#B0BEC5",
                                "#B0BEC5",
                                "#B0BEC5",
                                "#B0BEC5",
                                "#B0BEC5",
                                "#B0BEC5",
                                "#B0BEC5",
                                "#B0BEC5",
                                "#B0BEC5",
                                "#B0BEC5",
                                "#B0BEC5",
                                "#B0BEC5",
                                "#B0BEC5",
                                "#B0BEC5",
                                "#B0BEC5",
                                "#B0BEC5",
                                "#B0BEC5",
                                "#B0BEC5",
                                "#B0BEC5",
                                "#B0BEC5",
                                "#B0BEC5",
                                "#B0BEC5",
                                "#B0BEC5"
                              ]
                            ]
                          }
                        ],
                        "label": "Topic 32",
                        "method": "update"
                      },
                      {
                        "args": [
                          {
                            "marker.color": [
                              [
                                "#B0BEC5",
                                "#B0BEC5",
                                "#B0BEC5",
                                "#B0BEC5",
                                "#B0BEC5",
                                "#B0BEC5",
                                "#B0BEC5",
                                "#B0BEC5",
                                "#B0BEC5",
                                "#B0BEC5",
                                "#B0BEC5",
                                "#B0BEC5",
                                "#B0BEC5",
                                "#B0BEC5",
                                "#B0BEC5",
                                "#B0BEC5",
                                "#B0BEC5",
                                "#B0BEC5",
                                "#B0BEC5",
                                "#B0BEC5",
                                "#B0BEC5",
                                "#B0BEC5",
                                "#B0BEC5",
                                "#B0BEC5",
                                "#B0BEC5",
                                "#B0BEC5",
                                "#B0BEC5",
                                "#B0BEC5",
                                "#B0BEC5",
                                "#B0BEC5",
                                "#B0BEC5",
                                "#B0BEC5",
                                "#B0BEC5",
                                "red",
                                "#B0BEC5",
                                "#B0BEC5",
                                "#B0BEC5",
                                "#B0BEC5",
                                "#B0BEC5",
                                "#B0BEC5",
                                "#B0BEC5",
                                "#B0BEC5",
                                "#B0BEC5",
                                "#B0BEC5",
                                "#B0BEC5",
                                "#B0BEC5",
                                "#B0BEC5",
                                "#B0BEC5",
                                "#B0BEC5",
                                "#B0BEC5",
                                "#B0BEC5",
                                "#B0BEC5",
                                "#B0BEC5",
                                "#B0BEC5",
                                "#B0BEC5",
                                "#B0BEC5",
                                "#B0BEC5",
                                "#B0BEC5",
                                "#B0BEC5",
                                "#B0BEC5",
                                "#B0BEC5",
                                "#B0BEC5",
                                "#B0BEC5",
                                "#B0BEC5",
                                "#B0BEC5",
                                "#B0BEC5",
                                "#B0BEC5",
                                "#B0BEC5",
                                "#B0BEC5",
                                "#B0BEC5",
                                "#B0BEC5"
                              ]
                            ]
                          }
                        ],
                        "label": "Topic 33",
                        "method": "update"
                      },
                      {
                        "args": [
                          {
                            "marker.color": [
                              [
                                "#B0BEC5",
                                "#B0BEC5",
                                "#B0BEC5",
                                "#B0BEC5",
                                "#B0BEC5",
                                "#B0BEC5",
                                "#B0BEC5",
                                "#B0BEC5",
                                "#B0BEC5",
                                "#B0BEC5",
                                "#B0BEC5",
                                "#B0BEC5",
                                "#B0BEC5",
                                "#B0BEC5",
                                "#B0BEC5",
                                "#B0BEC5",
                                "#B0BEC5",
                                "#B0BEC5",
                                "#B0BEC5",
                                "#B0BEC5",
                                "#B0BEC5",
                                "#B0BEC5",
                                "#B0BEC5",
                                "#B0BEC5",
                                "#B0BEC5",
                                "#B0BEC5",
                                "#B0BEC5",
                                "#B0BEC5",
                                "#B0BEC5",
                                "#B0BEC5",
                                "#B0BEC5",
                                "#B0BEC5",
                                "#B0BEC5",
                                "#B0BEC5",
                                "red",
                                "#B0BEC5",
                                "#B0BEC5",
                                "#B0BEC5",
                                "#B0BEC5",
                                "#B0BEC5",
                                "#B0BEC5",
                                "#B0BEC5",
                                "#B0BEC5",
                                "#B0BEC5",
                                "#B0BEC5",
                                "#B0BEC5",
                                "#B0BEC5",
                                "#B0BEC5",
                                "#B0BEC5",
                                "#B0BEC5",
                                "#B0BEC5",
                                "#B0BEC5",
                                "#B0BEC5",
                                "#B0BEC5",
                                "#B0BEC5",
                                "#B0BEC5",
                                "#B0BEC5",
                                "#B0BEC5",
                                "#B0BEC5",
                                "#B0BEC5",
                                "#B0BEC5",
                                "#B0BEC5",
                                "#B0BEC5",
                                "#B0BEC5",
                                "#B0BEC5",
                                "#B0BEC5",
                                "#B0BEC5",
                                "#B0BEC5",
                                "#B0BEC5",
                                "#B0BEC5",
                                "#B0BEC5"
                              ]
                            ]
                          }
                        ],
                        "label": "Topic 34",
                        "method": "update"
                      },
                      {
                        "args": [
                          {
                            "marker.color": [
                              [
                                "#B0BEC5",
                                "#B0BEC5",
                                "#B0BEC5",
                                "#B0BEC5",
                                "#B0BEC5",
                                "#B0BEC5",
                                "#B0BEC5",
                                "#B0BEC5",
                                "#B0BEC5",
                                "#B0BEC5",
                                "#B0BEC5",
                                "#B0BEC5",
                                "#B0BEC5",
                                "#B0BEC5",
                                "#B0BEC5",
                                "#B0BEC5",
                                "#B0BEC5",
                                "#B0BEC5",
                                "#B0BEC5",
                                "#B0BEC5",
                                "#B0BEC5",
                                "#B0BEC5",
                                "#B0BEC5",
                                "#B0BEC5",
                                "#B0BEC5",
                                "#B0BEC5",
                                "#B0BEC5",
                                "#B0BEC5",
                                "#B0BEC5",
                                "#B0BEC5",
                                "#B0BEC5",
                                "#B0BEC5",
                                "#B0BEC5",
                                "#B0BEC5",
                                "#B0BEC5",
                                "red",
                                "#B0BEC5",
                                "#B0BEC5",
                                "#B0BEC5",
                                "#B0BEC5",
                                "#B0BEC5",
                                "#B0BEC5",
                                "#B0BEC5",
                                "#B0BEC5",
                                "#B0BEC5",
                                "#B0BEC5",
                                "#B0BEC5",
                                "#B0BEC5",
                                "#B0BEC5",
                                "#B0BEC5",
                                "#B0BEC5",
                                "#B0BEC5",
                                "#B0BEC5",
                                "#B0BEC5",
                                "#B0BEC5",
                                "#B0BEC5",
                                "#B0BEC5",
                                "#B0BEC5",
                                "#B0BEC5",
                                "#B0BEC5",
                                "#B0BEC5",
                                "#B0BEC5",
                                "#B0BEC5",
                                "#B0BEC5",
                                "#B0BEC5",
                                "#B0BEC5",
                                "#B0BEC5",
                                "#B0BEC5",
                                "#B0BEC5",
                                "#B0BEC5",
                                "#B0BEC5"
                              ]
                            ]
                          }
                        ],
                        "label": "Topic 35",
                        "method": "update"
                      },
                      {
                        "args": [
                          {
                            "marker.color": [
                              [
                                "#B0BEC5",
                                "#B0BEC5",
                                "#B0BEC5",
                                "#B0BEC5",
                                "#B0BEC5",
                                "#B0BEC5",
                                "#B0BEC5",
                                "#B0BEC5",
                                "#B0BEC5",
                                "#B0BEC5",
                                "#B0BEC5",
                                "#B0BEC5",
                                "#B0BEC5",
                                "#B0BEC5",
                                "#B0BEC5",
                                "#B0BEC5",
                                "#B0BEC5",
                                "#B0BEC5",
                                "#B0BEC5",
                                "#B0BEC5",
                                "#B0BEC5",
                                "#B0BEC5",
                                "#B0BEC5",
                                "#B0BEC5",
                                "#B0BEC5",
                                "#B0BEC5",
                                "#B0BEC5",
                                "#B0BEC5",
                                "#B0BEC5",
                                "#B0BEC5",
                                "#B0BEC5",
                                "#B0BEC5",
                                "#B0BEC5",
                                "#B0BEC5",
                                "#B0BEC5",
                                "#B0BEC5",
                                "red",
                                "#B0BEC5",
                                "#B0BEC5",
                                "#B0BEC5",
                                "#B0BEC5",
                                "#B0BEC5",
                                "#B0BEC5",
                                "#B0BEC5",
                                "#B0BEC5",
                                "#B0BEC5",
                                "#B0BEC5",
                                "#B0BEC5",
                                "#B0BEC5",
                                "#B0BEC5",
                                "#B0BEC5",
                                "#B0BEC5",
                                "#B0BEC5",
                                "#B0BEC5",
                                "#B0BEC5",
                                "#B0BEC5",
                                "#B0BEC5",
                                "#B0BEC5",
                                "#B0BEC5",
                                "#B0BEC5",
                                "#B0BEC5",
                                "#B0BEC5",
                                "#B0BEC5",
                                "#B0BEC5",
                                "#B0BEC5",
                                "#B0BEC5",
                                "#B0BEC5",
                                "#B0BEC5",
                                "#B0BEC5",
                                "#B0BEC5",
                                "#B0BEC5"
                              ]
                            ]
                          }
                        ],
                        "label": "Topic 36",
                        "method": "update"
                      },
                      {
                        "args": [
                          {
                            "marker.color": [
                              [
                                "#B0BEC5",
                                "#B0BEC5",
                                "#B0BEC5",
                                "#B0BEC5",
                                "#B0BEC5",
                                "#B0BEC5",
                                "#B0BEC5",
                                "#B0BEC5",
                                "#B0BEC5",
                                "#B0BEC5",
                                "#B0BEC5",
                                "#B0BEC5",
                                "#B0BEC5",
                                "#B0BEC5",
                                "#B0BEC5",
                                "#B0BEC5",
                                "#B0BEC5",
                                "#B0BEC5",
                                "#B0BEC5",
                                "#B0BEC5",
                                "#B0BEC5",
                                "#B0BEC5",
                                "#B0BEC5",
                                "#B0BEC5",
                                "#B0BEC5",
                                "#B0BEC5",
                                "#B0BEC5",
                                "#B0BEC5",
                                "#B0BEC5",
                                "#B0BEC5",
                                "#B0BEC5",
                                "#B0BEC5",
                                "#B0BEC5",
                                "#B0BEC5",
                                "#B0BEC5",
                                "#B0BEC5",
                                "#B0BEC5",
                                "red",
                                "#B0BEC5",
                                "#B0BEC5",
                                "#B0BEC5",
                                "#B0BEC5",
                                "#B0BEC5",
                                "#B0BEC5",
                                "#B0BEC5",
                                "#B0BEC5",
                                "#B0BEC5",
                                "#B0BEC5",
                                "#B0BEC5",
                                "#B0BEC5",
                                "#B0BEC5",
                                "#B0BEC5",
                                "#B0BEC5",
                                "#B0BEC5",
                                "#B0BEC5",
                                "#B0BEC5",
                                "#B0BEC5",
                                "#B0BEC5",
                                "#B0BEC5",
                                "#B0BEC5",
                                "#B0BEC5",
                                "#B0BEC5",
                                "#B0BEC5",
                                "#B0BEC5",
                                "#B0BEC5",
                                "#B0BEC5",
                                "#B0BEC5",
                                "#B0BEC5",
                                "#B0BEC5",
                                "#B0BEC5",
                                "#B0BEC5"
                              ]
                            ]
                          }
                        ],
                        "label": "Topic 37",
                        "method": "update"
                      },
                      {
                        "args": [
                          {
                            "marker.color": [
                              [
                                "#B0BEC5",
                                "#B0BEC5",
                                "#B0BEC5",
                                "#B0BEC5",
                                "#B0BEC5",
                                "#B0BEC5",
                                "#B0BEC5",
                                "#B0BEC5",
                                "#B0BEC5",
                                "#B0BEC5",
                                "#B0BEC5",
                                "#B0BEC5",
                                "#B0BEC5",
                                "#B0BEC5",
                                "#B0BEC5",
                                "#B0BEC5",
                                "#B0BEC5",
                                "#B0BEC5",
                                "#B0BEC5",
                                "#B0BEC5",
                                "#B0BEC5",
                                "#B0BEC5",
                                "#B0BEC5",
                                "#B0BEC5",
                                "#B0BEC5",
                                "#B0BEC5",
                                "#B0BEC5",
                                "#B0BEC5",
                                "#B0BEC5",
                                "#B0BEC5",
                                "#B0BEC5",
                                "#B0BEC5",
                                "#B0BEC5",
                                "#B0BEC5",
                                "#B0BEC5",
                                "#B0BEC5",
                                "#B0BEC5",
                                "#B0BEC5",
                                "red",
                                "#B0BEC5",
                                "#B0BEC5",
                                "#B0BEC5",
                                "#B0BEC5",
                                "#B0BEC5",
                                "#B0BEC5",
                                "#B0BEC5",
                                "#B0BEC5",
                                "#B0BEC5",
                                "#B0BEC5",
                                "#B0BEC5",
                                "#B0BEC5",
                                "#B0BEC5",
                                "#B0BEC5",
                                "#B0BEC5",
                                "#B0BEC5",
                                "#B0BEC5",
                                "#B0BEC5",
                                "#B0BEC5",
                                "#B0BEC5",
                                "#B0BEC5",
                                "#B0BEC5",
                                "#B0BEC5",
                                "#B0BEC5",
                                "#B0BEC5",
                                "#B0BEC5",
                                "#B0BEC5",
                                "#B0BEC5",
                                "#B0BEC5",
                                "#B0BEC5",
                                "#B0BEC5",
                                "#B0BEC5"
                              ]
                            ]
                          }
                        ],
                        "label": "Topic 38",
                        "method": "update"
                      },
                      {
                        "args": [
                          {
                            "marker.color": [
                              [
                                "#B0BEC5",
                                "#B0BEC5",
                                "#B0BEC5",
                                "#B0BEC5",
                                "#B0BEC5",
                                "#B0BEC5",
                                "#B0BEC5",
                                "#B0BEC5",
                                "#B0BEC5",
                                "#B0BEC5",
                                "#B0BEC5",
                                "#B0BEC5",
                                "#B0BEC5",
                                "#B0BEC5",
                                "#B0BEC5",
                                "#B0BEC5",
                                "#B0BEC5",
                                "#B0BEC5",
                                "#B0BEC5",
                                "#B0BEC5",
                                "#B0BEC5",
                                "#B0BEC5",
                                "#B0BEC5",
                                "#B0BEC5",
                                "#B0BEC5",
                                "#B0BEC5",
                                "#B0BEC5",
                                "#B0BEC5",
                                "#B0BEC5",
                                "#B0BEC5",
                                "#B0BEC5",
                                "#B0BEC5",
                                "#B0BEC5",
                                "#B0BEC5",
                                "#B0BEC5",
                                "#B0BEC5",
                                "#B0BEC5",
                                "#B0BEC5",
                                "#B0BEC5",
                                "red",
                                "#B0BEC5",
                                "#B0BEC5",
                                "#B0BEC5",
                                "#B0BEC5",
                                "#B0BEC5",
                                "#B0BEC5",
                                "#B0BEC5",
                                "#B0BEC5",
                                "#B0BEC5",
                                "#B0BEC5",
                                "#B0BEC5",
                                "#B0BEC5",
                                "#B0BEC5",
                                "#B0BEC5",
                                "#B0BEC5",
                                "#B0BEC5",
                                "#B0BEC5",
                                "#B0BEC5",
                                "#B0BEC5",
                                "#B0BEC5",
                                "#B0BEC5",
                                "#B0BEC5",
                                "#B0BEC5",
                                "#B0BEC5",
                                "#B0BEC5",
                                "#B0BEC5",
                                "#B0BEC5",
                                "#B0BEC5",
                                "#B0BEC5",
                                "#B0BEC5",
                                "#B0BEC5"
                              ]
                            ]
                          }
                        ],
                        "label": "Topic 39",
                        "method": "update"
                      },
                      {
                        "args": [
                          {
                            "marker.color": [
                              [
                                "#B0BEC5",
                                "#B0BEC5",
                                "#B0BEC5",
                                "#B0BEC5",
                                "#B0BEC5",
                                "#B0BEC5",
                                "#B0BEC5",
                                "#B0BEC5",
                                "#B0BEC5",
                                "#B0BEC5",
                                "#B0BEC5",
                                "#B0BEC5",
                                "#B0BEC5",
                                "#B0BEC5",
                                "#B0BEC5",
                                "#B0BEC5",
                                "#B0BEC5",
                                "#B0BEC5",
                                "#B0BEC5",
                                "#B0BEC5",
                                "#B0BEC5",
                                "#B0BEC5",
                                "#B0BEC5",
                                "#B0BEC5",
                                "#B0BEC5",
                                "#B0BEC5",
                                "#B0BEC5",
                                "#B0BEC5",
                                "#B0BEC5",
                                "#B0BEC5",
                                "#B0BEC5",
                                "#B0BEC5",
                                "#B0BEC5",
                                "#B0BEC5",
                                "#B0BEC5",
                                "#B0BEC5",
                                "#B0BEC5",
                                "#B0BEC5",
                                "#B0BEC5",
                                "#B0BEC5",
                                "red",
                                "#B0BEC5",
                                "#B0BEC5",
                                "#B0BEC5",
                                "#B0BEC5",
                                "#B0BEC5",
                                "#B0BEC5",
                                "#B0BEC5",
                                "#B0BEC5",
                                "#B0BEC5",
                                "#B0BEC5",
                                "#B0BEC5",
                                "#B0BEC5",
                                "#B0BEC5",
                                "#B0BEC5",
                                "#B0BEC5",
                                "#B0BEC5",
                                "#B0BEC5",
                                "#B0BEC5",
                                "#B0BEC5",
                                "#B0BEC5",
                                "#B0BEC5",
                                "#B0BEC5",
                                "#B0BEC5",
                                "#B0BEC5",
                                "#B0BEC5",
                                "#B0BEC5",
                                "#B0BEC5",
                                "#B0BEC5",
                                "#B0BEC5",
                                "#B0BEC5"
                              ]
                            ]
                          }
                        ],
                        "label": "Topic 40",
                        "method": "update"
                      },
                      {
                        "args": [
                          {
                            "marker.color": [
                              [
                                "#B0BEC5",
                                "#B0BEC5",
                                "#B0BEC5",
                                "#B0BEC5",
                                "#B0BEC5",
                                "#B0BEC5",
                                "#B0BEC5",
                                "#B0BEC5",
                                "#B0BEC5",
                                "#B0BEC5",
                                "#B0BEC5",
                                "#B0BEC5",
                                "#B0BEC5",
                                "#B0BEC5",
                                "#B0BEC5",
                                "#B0BEC5",
                                "#B0BEC5",
                                "#B0BEC5",
                                "#B0BEC5",
                                "#B0BEC5",
                                "#B0BEC5",
                                "#B0BEC5",
                                "#B0BEC5",
                                "#B0BEC5",
                                "#B0BEC5",
                                "#B0BEC5",
                                "#B0BEC5",
                                "#B0BEC5",
                                "#B0BEC5",
                                "#B0BEC5",
                                "#B0BEC5",
                                "#B0BEC5",
                                "#B0BEC5",
                                "#B0BEC5",
                                "#B0BEC5",
                                "#B0BEC5",
                                "#B0BEC5",
                                "#B0BEC5",
                                "#B0BEC5",
                                "#B0BEC5",
                                "#B0BEC5",
                                "red",
                                "#B0BEC5",
                                "#B0BEC5",
                                "#B0BEC5",
                                "#B0BEC5",
                                "#B0BEC5",
                                "#B0BEC5",
                                "#B0BEC5",
                                "#B0BEC5",
                                "#B0BEC5",
                                "#B0BEC5",
                                "#B0BEC5",
                                "#B0BEC5",
                                "#B0BEC5",
                                "#B0BEC5",
                                "#B0BEC5",
                                "#B0BEC5",
                                "#B0BEC5",
                                "#B0BEC5",
                                "#B0BEC5",
                                "#B0BEC5",
                                "#B0BEC5",
                                "#B0BEC5",
                                "#B0BEC5",
                                "#B0BEC5",
                                "#B0BEC5",
                                "#B0BEC5",
                                "#B0BEC5",
                                "#B0BEC5",
                                "#B0BEC5"
                              ]
                            ]
                          }
                        ],
                        "label": "Topic 41",
                        "method": "update"
                      },
                      {
                        "args": [
                          {
                            "marker.color": [
                              [
                                "#B0BEC5",
                                "#B0BEC5",
                                "#B0BEC5",
                                "#B0BEC5",
                                "#B0BEC5",
                                "#B0BEC5",
                                "#B0BEC5",
                                "#B0BEC5",
                                "#B0BEC5",
                                "#B0BEC5",
                                "#B0BEC5",
                                "#B0BEC5",
                                "#B0BEC5",
                                "#B0BEC5",
                                "#B0BEC5",
                                "#B0BEC5",
                                "#B0BEC5",
                                "#B0BEC5",
                                "#B0BEC5",
                                "#B0BEC5",
                                "#B0BEC5",
                                "#B0BEC5",
                                "#B0BEC5",
                                "#B0BEC5",
                                "#B0BEC5",
                                "#B0BEC5",
                                "#B0BEC5",
                                "#B0BEC5",
                                "#B0BEC5",
                                "#B0BEC5",
                                "#B0BEC5",
                                "#B0BEC5",
                                "#B0BEC5",
                                "#B0BEC5",
                                "#B0BEC5",
                                "#B0BEC5",
                                "#B0BEC5",
                                "#B0BEC5",
                                "#B0BEC5",
                                "#B0BEC5",
                                "#B0BEC5",
                                "#B0BEC5",
                                "red",
                                "#B0BEC5",
                                "#B0BEC5",
                                "#B0BEC5",
                                "#B0BEC5",
                                "#B0BEC5",
                                "#B0BEC5",
                                "#B0BEC5",
                                "#B0BEC5",
                                "#B0BEC5",
                                "#B0BEC5",
                                "#B0BEC5",
                                "#B0BEC5",
                                "#B0BEC5",
                                "#B0BEC5",
                                "#B0BEC5",
                                "#B0BEC5",
                                "#B0BEC5",
                                "#B0BEC5",
                                "#B0BEC5",
                                "#B0BEC5",
                                "#B0BEC5",
                                "#B0BEC5",
                                "#B0BEC5",
                                "#B0BEC5",
                                "#B0BEC5",
                                "#B0BEC5",
                                "#B0BEC5",
                                "#B0BEC5"
                              ]
                            ]
                          }
                        ],
                        "label": "Topic 42",
                        "method": "update"
                      },
                      {
                        "args": [
                          {
                            "marker.color": [
                              [
                                "#B0BEC5",
                                "#B0BEC5",
                                "#B0BEC5",
                                "#B0BEC5",
                                "#B0BEC5",
                                "#B0BEC5",
                                "#B0BEC5",
                                "#B0BEC5",
                                "#B0BEC5",
                                "#B0BEC5",
                                "#B0BEC5",
                                "#B0BEC5",
                                "#B0BEC5",
                                "#B0BEC5",
                                "#B0BEC5",
                                "#B0BEC5",
                                "#B0BEC5",
                                "#B0BEC5",
                                "#B0BEC5",
                                "#B0BEC5",
                                "#B0BEC5",
                                "#B0BEC5",
                                "#B0BEC5",
                                "#B0BEC5",
                                "#B0BEC5",
                                "#B0BEC5",
                                "#B0BEC5",
                                "#B0BEC5",
                                "#B0BEC5",
                                "#B0BEC5",
                                "#B0BEC5",
                                "#B0BEC5",
                                "#B0BEC5",
                                "#B0BEC5",
                                "#B0BEC5",
                                "#B0BEC5",
                                "#B0BEC5",
                                "#B0BEC5",
                                "#B0BEC5",
                                "#B0BEC5",
                                "#B0BEC5",
                                "#B0BEC5",
                                "#B0BEC5",
                                "red",
                                "#B0BEC5",
                                "#B0BEC5",
                                "#B0BEC5",
                                "#B0BEC5",
                                "#B0BEC5",
                                "#B0BEC5",
                                "#B0BEC5",
                                "#B0BEC5",
                                "#B0BEC5",
                                "#B0BEC5",
                                "#B0BEC5",
                                "#B0BEC5",
                                "#B0BEC5",
                                "#B0BEC5",
                                "#B0BEC5",
                                "#B0BEC5",
                                "#B0BEC5",
                                "#B0BEC5",
                                "#B0BEC5",
                                "#B0BEC5",
                                "#B0BEC5",
                                "#B0BEC5",
                                "#B0BEC5",
                                "#B0BEC5",
                                "#B0BEC5",
                                "#B0BEC5",
                                "#B0BEC5"
                              ]
                            ]
                          }
                        ],
                        "label": "Topic 43",
                        "method": "update"
                      },
                      {
                        "args": [
                          {
                            "marker.color": [
                              [
                                "#B0BEC5",
                                "#B0BEC5",
                                "#B0BEC5",
                                "#B0BEC5",
                                "#B0BEC5",
                                "#B0BEC5",
                                "#B0BEC5",
                                "#B0BEC5",
                                "#B0BEC5",
                                "#B0BEC5",
                                "#B0BEC5",
                                "#B0BEC5",
                                "#B0BEC5",
                                "#B0BEC5",
                                "#B0BEC5",
                                "#B0BEC5",
                                "#B0BEC5",
                                "#B0BEC5",
                                "#B0BEC5",
                                "#B0BEC5",
                                "#B0BEC5",
                                "#B0BEC5",
                                "#B0BEC5",
                                "#B0BEC5",
                                "#B0BEC5",
                                "#B0BEC5",
                                "#B0BEC5",
                                "#B0BEC5",
                                "#B0BEC5",
                                "#B0BEC5",
                                "#B0BEC5",
                                "#B0BEC5",
                                "#B0BEC5",
                                "#B0BEC5",
                                "#B0BEC5",
                                "#B0BEC5",
                                "#B0BEC5",
                                "#B0BEC5",
                                "#B0BEC5",
                                "#B0BEC5",
                                "#B0BEC5",
                                "#B0BEC5",
                                "#B0BEC5",
                                "#B0BEC5",
                                "red",
                                "#B0BEC5",
                                "#B0BEC5",
                                "#B0BEC5",
                                "#B0BEC5",
                                "#B0BEC5",
                                "#B0BEC5",
                                "#B0BEC5",
                                "#B0BEC5",
                                "#B0BEC5",
                                "#B0BEC5",
                                "#B0BEC5",
                                "#B0BEC5",
                                "#B0BEC5",
                                "#B0BEC5",
                                "#B0BEC5",
                                "#B0BEC5",
                                "#B0BEC5",
                                "#B0BEC5",
                                "#B0BEC5",
                                "#B0BEC5",
                                "#B0BEC5",
                                "#B0BEC5",
                                "#B0BEC5",
                                "#B0BEC5",
                                "#B0BEC5",
                                "#B0BEC5"
                              ]
                            ]
                          }
                        ],
                        "label": "Topic 44",
                        "method": "update"
                      },
                      {
                        "args": [
                          {
                            "marker.color": [
                              [
                                "#B0BEC5",
                                "#B0BEC5",
                                "#B0BEC5",
                                "#B0BEC5",
                                "#B0BEC5",
                                "#B0BEC5",
                                "#B0BEC5",
                                "#B0BEC5",
                                "#B0BEC5",
                                "#B0BEC5",
                                "#B0BEC5",
                                "#B0BEC5",
                                "#B0BEC5",
                                "#B0BEC5",
                                "#B0BEC5",
                                "#B0BEC5",
                                "#B0BEC5",
                                "#B0BEC5",
                                "#B0BEC5",
                                "#B0BEC5",
                                "#B0BEC5",
                                "#B0BEC5",
                                "#B0BEC5",
                                "#B0BEC5",
                                "#B0BEC5",
                                "#B0BEC5",
                                "#B0BEC5",
                                "#B0BEC5",
                                "#B0BEC5",
                                "#B0BEC5",
                                "#B0BEC5",
                                "#B0BEC5",
                                "#B0BEC5",
                                "#B0BEC5",
                                "#B0BEC5",
                                "#B0BEC5",
                                "#B0BEC5",
                                "#B0BEC5",
                                "#B0BEC5",
                                "#B0BEC5",
                                "#B0BEC5",
                                "#B0BEC5",
                                "#B0BEC5",
                                "#B0BEC5",
                                "#B0BEC5",
                                "red",
                                "#B0BEC5",
                                "#B0BEC5",
                                "#B0BEC5",
                                "#B0BEC5",
                                "#B0BEC5",
                                "#B0BEC5",
                                "#B0BEC5",
                                "#B0BEC5",
                                "#B0BEC5",
                                "#B0BEC5",
                                "#B0BEC5",
                                "#B0BEC5",
                                "#B0BEC5",
                                "#B0BEC5",
                                "#B0BEC5",
                                "#B0BEC5",
                                "#B0BEC5",
                                "#B0BEC5",
                                "#B0BEC5",
                                "#B0BEC5",
                                "#B0BEC5",
                                "#B0BEC5",
                                "#B0BEC5",
                                "#B0BEC5",
                                "#B0BEC5"
                              ]
                            ]
                          }
                        ],
                        "label": "Topic 45",
                        "method": "update"
                      },
                      {
                        "args": [
                          {
                            "marker.color": [
                              [
                                "#B0BEC5",
                                "#B0BEC5",
                                "#B0BEC5",
                                "#B0BEC5",
                                "#B0BEC5",
                                "#B0BEC5",
                                "#B0BEC5",
                                "#B0BEC5",
                                "#B0BEC5",
                                "#B0BEC5",
                                "#B0BEC5",
                                "#B0BEC5",
                                "#B0BEC5",
                                "#B0BEC5",
                                "#B0BEC5",
                                "#B0BEC5",
                                "#B0BEC5",
                                "#B0BEC5",
                                "#B0BEC5",
                                "#B0BEC5",
                                "#B0BEC5",
                                "#B0BEC5",
                                "#B0BEC5",
                                "#B0BEC5",
                                "#B0BEC5",
                                "#B0BEC5",
                                "#B0BEC5",
                                "#B0BEC5",
                                "#B0BEC5",
                                "#B0BEC5",
                                "#B0BEC5",
                                "#B0BEC5",
                                "#B0BEC5",
                                "#B0BEC5",
                                "#B0BEC5",
                                "#B0BEC5",
                                "#B0BEC5",
                                "#B0BEC5",
                                "#B0BEC5",
                                "#B0BEC5",
                                "#B0BEC5",
                                "#B0BEC5",
                                "#B0BEC5",
                                "#B0BEC5",
                                "#B0BEC5",
                                "#B0BEC5",
                                "red",
                                "#B0BEC5",
                                "#B0BEC5",
                                "#B0BEC5",
                                "#B0BEC5",
                                "#B0BEC5",
                                "#B0BEC5",
                                "#B0BEC5",
                                "#B0BEC5",
                                "#B0BEC5",
                                "#B0BEC5",
                                "#B0BEC5",
                                "#B0BEC5",
                                "#B0BEC5",
                                "#B0BEC5",
                                "#B0BEC5",
                                "#B0BEC5",
                                "#B0BEC5",
                                "#B0BEC5",
                                "#B0BEC5",
                                "#B0BEC5",
                                "#B0BEC5",
                                "#B0BEC5",
                                "#B0BEC5",
                                "#B0BEC5"
                              ]
                            ]
                          }
                        ],
                        "label": "Topic 46",
                        "method": "update"
                      },
                      {
                        "args": [
                          {
                            "marker.color": [
                              [
                                "#B0BEC5",
                                "#B0BEC5",
                                "#B0BEC5",
                                "#B0BEC5",
                                "#B0BEC5",
                                "#B0BEC5",
                                "#B0BEC5",
                                "#B0BEC5",
                                "#B0BEC5",
                                "#B0BEC5",
                                "#B0BEC5",
                                "#B0BEC5",
                                "#B0BEC5",
                                "#B0BEC5",
                                "#B0BEC5",
                                "#B0BEC5",
                                "#B0BEC5",
                                "#B0BEC5",
                                "#B0BEC5",
                                "#B0BEC5",
                                "#B0BEC5",
                                "#B0BEC5",
                                "#B0BEC5",
                                "#B0BEC5",
                                "#B0BEC5",
                                "#B0BEC5",
                                "#B0BEC5",
                                "#B0BEC5",
                                "#B0BEC5",
                                "#B0BEC5",
                                "#B0BEC5",
                                "#B0BEC5",
                                "#B0BEC5",
                                "#B0BEC5",
                                "#B0BEC5",
                                "#B0BEC5",
                                "#B0BEC5",
                                "#B0BEC5",
                                "#B0BEC5",
                                "#B0BEC5",
                                "#B0BEC5",
                                "#B0BEC5",
                                "#B0BEC5",
                                "#B0BEC5",
                                "#B0BEC5",
                                "#B0BEC5",
                                "#B0BEC5",
                                "red",
                                "#B0BEC5",
                                "#B0BEC5",
                                "#B0BEC5",
                                "#B0BEC5",
                                "#B0BEC5",
                                "#B0BEC5",
                                "#B0BEC5",
                                "#B0BEC5",
                                "#B0BEC5",
                                "#B0BEC5",
                                "#B0BEC5",
                                "#B0BEC5",
                                "#B0BEC5",
                                "#B0BEC5",
                                "#B0BEC5",
                                "#B0BEC5",
                                "#B0BEC5",
                                "#B0BEC5",
                                "#B0BEC5",
                                "#B0BEC5",
                                "#B0BEC5",
                                "#B0BEC5",
                                "#B0BEC5"
                              ]
                            ]
                          }
                        ],
                        "label": "Topic 47",
                        "method": "update"
                      },
                      {
                        "args": [
                          {
                            "marker.color": [
                              [
                                "#B0BEC5",
                                "#B0BEC5",
                                "#B0BEC5",
                                "#B0BEC5",
                                "#B0BEC5",
                                "#B0BEC5",
                                "#B0BEC5",
                                "#B0BEC5",
                                "#B0BEC5",
                                "#B0BEC5",
                                "#B0BEC5",
                                "#B0BEC5",
                                "#B0BEC5",
                                "#B0BEC5",
                                "#B0BEC5",
                                "#B0BEC5",
                                "#B0BEC5",
                                "#B0BEC5",
                                "#B0BEC5",
                                "#B0BEC5",
                                "#B0BEC5",
                                "#B0BEC5",
                                "#B0BEC5",
                                "#B0BEC5",
                                "#B0BEC5",
                                "#B0BEC5",
                                "#B0BEC5",
                                "#B0BEC5",
                                "#B0BEC5",
                                "#B0BEC5",
                                "#B0BEC5",
                                "#B0BEC5",
                                "#B0BEC5",
                                "#B0BEC5",
                                "#B0BEC5",
                                "#B0BEC5",
                                "#B0BEC5",
                                "#B0BEC5",
                                "#B0BEC5",
                                "#B0BEC5",
                                "#B0BEC5",
                                "#B0BEC5",
                                "#B0BEC5",
                                "#B0BEC5",
                                "#B0BEC5",
                                "#B0BEC5",
                                "#B0BEC5",
                                "#B0BEC5",
                                "red",
                                "#B0BEC5",
                                "#B0BEC5",
                                "#B0BEC5",
                                "#B0BEC5",
                                "#B0BEC5",
                                "#B0BEC5",
                                "#B0BEC5",
                                "#B0BEC5",
                                "#B0BEC5",
                                "#B0BEC5",
                                "#B0BEC5",
                                "#B0BEC5",
                                "#B0BEC5",
                                "#B0BEC5",
                                "#B0BEC5",
                                "#B0BEC5",
                                "#B0BEC5",
                                "#B0BEC5",
                                "#B0BEC5",
                                "#B0BEC5",
                                "#B0BEC5",
                                "#B0BEC5"
                              ]
                            ]
                          }
                        ],
                        "label": "Topic 48",
                        "method": "update"
                      },
                      {
                        "args": [
                          {
                            "marker.color": [
                              [
                                "#B0BEC5",
                                "#B0BEC5",
                                "#B0BEC5",
                                "#B0BEC5",
                                "#B0BEC5",
                                "#B0BEC5",
                                "#B0BEC5",
                                "#B0BEC5",
                                "#B0BEC5",
                                "#B0BEC5",
                                "#B0BEC5",
                                "#B0BEC5",
                                "#B0BEC5",
                                "#B0BEC5",
                                "#B0BEC5",
                                "#B0BEC5",
                                "#B0BEC5",
                                "#B0BEC5",
                                "#B0BEC5",
                                "#B0BEC5",
                                "#B0BEC5",
                                "#B0BEC5",
                                "#B0BEC5",
                                "#B0BEC5",
                                "#B0BEC5",
                                "#B0BEC5",
                                "#B0BEC5",
                                "#B0BEC5",
                                "#B0BEC5",
                                "#B0BEC5",
                                "#B0BEC5",
                                "#B0BEC5",
                                "#B0BEC5",
                                "#B0BEC5",
                                "#B0BEC5",
                                "#B0BEC5",
                                "#B0BEC5",
                                "#B0BEC5",
                                "#B0BEC5",
                                "#B0BEC5",
                                "#B0BEC5",
                                "#B0BEC5",
                                "#B0BEC5",
                                "#B0BEC5",
                                "#B0BEC5",
                                "#B0BEC5",
                                "#B0BEC5",
                                "#B0BEC5",
                                "#B0BEC5",
                                "red",
                                "#B0BEC5",
                                "#B0BEC5",
                                "#B0BEC5",
                                "#B0BEC5",
                                "#B0BEC5",
                                "#B0BEC5",
                                "#B0BEC5",
                                "#B0BEC5",
                                "#B0BEC5",
                                "#B0BEC5",
                                "#B0BEC5",
                                "#B0BEC5",
                                "#B0BEC5",
                                "#B0BEC5",
                                "#B0BEC5",
                                "#B0BEC5",
                                "#B0BEC5",
                                "#B0BEC5",
                                "#B0BEC5",
                                "#B0BEC5",
                                "#B0BEC5"
                              ]
                            ]
                          }
                        ],
                        "label": "Topic 49",
                        "method": "update"
                      },
                      {
                        "args": [
                          {
                            "marker.color": [
                              [
                                "#B0BEC5",
                                "#B0BEC5",
                                "#B0BEC5",
                                "#B0BEC5",
                                "#B0BEC5",
                                "#B0BEC5",
                                "#B0BEC5",
                                "#B0BEC5",
                                "#B0BEC5",
                                "#B0BEC5",
                                "#B0BEC5",
                                "#B0BEC5",
                                "#B0BEC5",
                                "#B0BEC5",
                                "#B0BEC5",
                                "#B0BEC5",
                                "#B0BEC5",
                                "#B0BEC5",
                                "#B0BEC5",
                                "#B0BEC5",
                                "#B0BEC5",
                                "#B0BEC5",
                                "#B0BEC5",
                                "#B0BEC5",
                                "#B0BEC5",
                                "#B0BEC5",
                                "#B0BEC5",
                                "#B0BEC5",
                                "#B0BEC5",
                                "#B0BEC5",
                                "#B0BEC5",
                                "#B0BEC5",
                                "#B0BEC5",
                                "#B0BEC5",
                                "#B0BEC5",
                                "#B0BEC5",
                                "#B0BEC5",
                                "#B0BEC5",
                                "#B0BEC5",
                                "#B0BEC5",
                                "#B0BEC5",
                                "#B0BEC5",
                                "#B0BEC5",
                                "#B0BEC5",
                                "#B0BEC5",
                                "#B0BEC5",
                                "#B0BEC5",
                                "#B0BEC5",
                                "#B0BEC5",
                                "#B0BEC5",
                                "red",
                                "#B0BEC5",
                                "#B0BEC5",
                                "#B0BEC5",
                                "#B0BEC5",
                                "#B0BEC5",
                                "#B0BEC5",
                                "#B0BEC5",
                                "#B0BEC5",
                                "#B0BEC5",
                                "#B0BEC5",
                                "#B0BEC5",
                                "#B0BEC5",
                                "#B0BEC5",
                                "#B0BEC5",
                                "#B0BEC5",
                                "#B0BEC5",
                                "#B0BEC5",
                                "#B0BEC5",
                                "#B0BEC5",
                                "#B0BEC5"
                              ]
                            ]
                          }
                        ],
                        "label": "Topic 50",
                        "method": "update"
                      },
                      {
                        "args": [
                          {
                            "marker.color": [
                              [
                                "#B0BEC5",
                                "#B0BEC5",
                                "#B0BEC5",
                                "#B0BEC5",
                                "#B0BEC5",
                                "#B0BEC5",
                                "#B0BEC5",
                                "#B0BEC5",
                                "#B0BEC5",
                                "#B0BEC5",
                                "#B0BEC5",
                                "#B0BEC5",
                                "#B0BEC5",
                                "#B0BEC5",
                                "#B0BEC5",
                                "#B0BEC5",
                                "#B0BEC5",
                                "#B0BEC5",
                                "#B0BEC5",
                                "#B0BEC5",
                                "#B0BEC5",
                                "#B0BEC5",
                                "#B0BEC5",
                                "#B0BEC5",
                                "#B0BEC5",
                                "#B0BEC5",
                                "#B0BEC5",
                                "#B0BEC5",
                                "#B0BEC5",
                                "#B0BEC5",
                                "#B0BEC5",
                                "#B0BEC5",
                                "#B0BEC5",
                                "#B0BEC5",
                                "#B0BEC5",
                                "#B0BEC5",
                                "#B0BEC5",
                                "#B0BEC5",
                                "#B0BEC5",
                                "#B0BEC5",
                                "#B0BEC5",
                                "#B0BEC5",
                                "#B0BEC5",
                                "#B0BEC5",
                                "#B0BEC5",
                                "#B0BEC5",
                                "#B0BEC5",
                                "#B0BEC5",
                                "#B0BEC5",
                                "#B0BEC5",
                                "#B0BEC5",
                                "red",
                                "#B0BEC5",
                                "#B0BEC5",
                                "#B0BEC5",
                                "#B0BEC5",
                                "#B0BEC5",
                                "#B0BEC5",
                                "#B0BEC5",
                                "#B0BEC5",
                                "#B0BEC5",
                                "#B0BEC5",
                                "#B0BEC5",
                                "#B0BEC5",
                                "#B0BEC5",
                                "#B0BEC5",
                                "#B0BEC5",
                                "#B0BEC5",
                                "#B0BEC5",
                                "#B0BEC5",
                                "#B0BEC5"
                              ]
                            ]
                          }
                        ],
                        "label": "Topic 51",
                        "method": "update"
                      },
                      {
                        "args": [
                          {
                            "marker.color": [
                              [
                                "#B0BEC5",
                                "#B0BEC5",
                                "#B0BEC5",
                                "#B0BEC5",
                                "#B0BEC5",
                                "#B0BEC5",
                                "#B0BEC5",
                                "#B0BEC5",
                                "#B0BEC5",
                                "#B0BEC5",
                                "#B0BEC5",
                                "#B0BEC5",
                                "#B0BEC5",
                                "#B0BEC5",
                                "#B0BEC5",
                                "#B0BEC5",
                                "#B0BEC5",
                                "#B0BEC5",
                                "#B0BEC5",
                                "#B0BEC5",
                                "#B0BEC5",
                                "#B0BEC5",
                                "#B0BEC5",
                                "#B0BEC5",
                                "#B0BEC5",
                                "#B0BEC5",
                                "#B0BEC5",
                                "#B0BEC5",
                                "#B0BEC5",
                                "#B0BEC5",
                                "#B0BEC5",
                                "#B0BEC5",
                                "#B0BEC5",
                                "#B0BEC5",
                                "#B0BEC5",
                                "#B0BEC5",
                                "#B0BEC5",
                                "#B0BEC5",
                                "#B0BEC5",
                                "#B0BEC5",
                                "#B0BEC5",
                                "#B0BEC5",
                                "#B0BEC5",
                                "#B0BEC5",
                                "#B0BEC5",
                                "#B0BEC5",
                                "#B0BEC5",
                                "#B0BEC5",
                                "#B0BEC5",
                                "#B0BEC5",
                                "#B0BEC5",
                                "#B0BEC5",
                                "red",
                                "#B0BEC5",
                                "#B0BEC5",
                                "#B0BEC5",
                                "#B0BEC5",
                                "#B0BEC5",
                                "#B0BEC5",
                                "#B0BEC5",
                                "#B0BEC5",
                                "#B0BEC5",
                                "#B0BEC5",
                                "#B0BEC5",
                                "#B0BEC5",
                                "#B0BEC5",
                                "#B0BEC5",
                                "#B0BEC5",
                                "#B0BEC5",
                                "#B0BEC5",
                                "#B0BEC5"
                              ]
                            ]
                          }
                        ],
                        "label": "Topic 52",
                        "method": "update"
                      },
                      {
                        "args": [
                          {
                            "marker.color": [
                              [
                                "#B0BEC5",
                                "#B0BEC5",
                                "#B0BEC5",
                                "#B0BEC5",
                                "#B0BEC5",
                                "#B0BEC5",
                                "#B0BEC5",
                                "#B0BEC5",
                                "#B0BEC5",
                                "#B0BEC5",
                                "#B0BEC5",
                                "#B0BEC5",
                                "#B0BEC5",
                                "#B0BEC5",
                                "#B0BEC5",
                                "#B0BEC5",
                                "#B0BEC5",
                                "#B0BEC5",
                                "#B0BEC5",
                                "#B0BEC5",
                                "#B0BEC5",
                                "#B0BEC5",
                                "#B0BEC5",
                                "#B0BEC5",
                                "#B0BEC5",
                                "#B0BEC5",
                                "#B0BEC5",
                                "#B0BEC5",
                                "#B0BEC5",
                                "#B0BEC5",
                                "#B0BEC5",
                                "#B0BEC5",
                                "#B0BEC5",
                                "#B0BEC5",
                                "#B0BEC5",
                                "#B0BEC5",
                                "#B0BEC5",
                                "#B0BEC5",
                                "#B0BEC5",
                                "#B0BEC5",
                                "#B0BEC5",
                                "#B0BEC5",
                                "#B0BEC5",
                                "#B0BEC5",
                                "#B0BEC5",
                                "#B0BEC5",
                                "#B0BEC5",
                                "#B0BEC5",
                                "#B0BEC5",
                                "#B0BEC5",
                                "#B0BEC5",
                                "#B0BEC5",
                                "#B0BEC5",
                                "red",
                                "#B0BEC5",
                                "#B0BEC5",
                                "#B0BEC5",
                                "#B0BEC5",
                                "#B0BEC5",
                                "#B0BEC5",
                                "#B0BEC5",
                                "#B0BEC5",
                                "#B0BEC5",
                                "#B0BEC5",
                                "#B0BEC5",
                                "#B0BEC5",
                                "#B0BEC5",
                                "#B0BEC5",
                                "#B0BEC5",
                                "#B0BEC5",
                                "#B0BEC5"
                              ]
                            ]
                          }
                        ],
                        "label": "Topic 53",
                        "method": "update"
                      },
                      {
                        "args": [
                          {
                            "marker.color": [
                              [
                                "#B0BEC5",
                                "#B0BEC5",
                                "#B0BEC5",
                                "#B0BEC5",
                                "#B0BEC5",
                                "#B0BEC5",
                                "#B0BEC5",
                                "#B0BEC5",
                                "#B0BEC5",
                                "#B0BEC5",
                                "#B0BEC5",
                                "#B0BEC5",
                                "#B0BEC5",
                                "#B0BEC5",
                                "#B0BEC5",
                                "#B0BEC5",
                                "#B0BEC5",
                                "#B0BEC5",
                                "#B0BEC5",
                                "#B0BEC5",
                                "#B0BEC5",
                                "#B0BEC5",
                                "#B0BEC5",
                                "#B0BEC5",
                                "#B0BEC5",
                                "#B0BEC5",
                                "#B0BEC5",
                                "#B0BEC5",
                                "#B0BEC5",
                                "#B0BEC5",
                                "#B0BEC5",
                                "#B0BEC5",
                                "#B0BEC5",
                                "#B0BEC5",
                                "#B0BEC5",
                                "#B0BEC5",
                                "#B0BEC5",
                                "#B0BEC5",
                                "#B0BEC5",
                                "#B0BEC5",
                                "#B0BEC5",
                                "#B0BEC5",
                                "#B0BEC5",
                                "#B0BEC5",
                                "#B0BEC5",
                                "#B0BEC5",
                                "#B0BEC5",
                                "#B0BEC5",
                                "#B0BEC5",
                                "#B0BEC5",
                                "#B0BEC5",
                                "#B0BEC5",
                                "#B0BEC5",
                                "#B0BEC5",
                                "red",
                                "#B0BEC5",
                                "#B0BEC5",
                                "#B0BEC5",
                                "#B0BEC5",
                                "#B0BEC5",
                                "#B0BEC5",
                                "#B0BEC5",
                                "#B0BEC5",
                                "#B0BEC5",
                                "#B0BEC5",
                                "#B0BEC5",
                                "#B0BEC5",
                                "#B0BEC5",
                                "#B0BEC5",
                                "#B0BEC5",
                                "#B0BEC5"
                              ]
                            ]
                          }
                        ],
                        "label": "Topic 54",
                        "method": "update"
                      },
                      {
                        "args": [
                          {
                            "marker.color": [
                              [
                                "#B0BEC5",
                                "#B0BEC5",
                                "#B0BEC5",
                                "#B0BEC5",
                                "#B0BEC5",
                                "#B0BEC5",
                                "#B0BEC5",
                                "#B0BEC5",
                                "#B0BEC5",
                                "#B0BEC5",
                                "#B0BEC5",
                                "#B0BEC5",
                                "#B0BEC5",
                                "#B0BEC5",
                                "#B0BEC5",
                                "#B0BEC5",
                                "#B0BEC5",
                                "#B0BEC5",
                                "#B0BEC5",
                                "#B0BEC5",
                                "#B0BEC5",
                                "#B0BEC5",
                                "#B0BEC5",
                                "#B0BEC5",
                                "#B0BEC5",
                                "#B0BEC5",
                                "#B0BEC5",
                                "#B0BEC5",
                                "#B0BEC5",
                                "#B0BEC5",
                                "#B0BEC5",
                                "#B0BEC5",
                                "#B0BEC5",
                                "#B0BEC5",
                                "#B0BEC5",
                                "#B0BEC5",
                                "#B0BEC5",
                                "#B0BEC5",
                                "#B0BEC5",
                                "#B0BEC5",
                                "#B0BEC5",
                                "#B0BEC5",
                                "#B0BEC5",
                                "#B0BEC5",
                                "#B0BEC5",
                                "#B0BEC5",
                                "#B0BEC5",
                                "#B0BEC5",
                                "#B0BEC5",
                                "#B0BEC5",
                                "#B0BEC5",
                                "#B0BEC5",
                                "#B0BEC5",
                                "#B0BEC5",
                                "#B0BEC5",
                                "red",
                                "#B0BEC5",
                                "#B0BEC5",
                                "#B0BEC5",
                                "#B0BEC5",
                                "#B0BEC5",
                                "#B0BEC5",
                                "#B0BEC5",
                                "#B0BEC5",
                                "#B0BEC5",
                                "#B0BEC5",
                                "#B0BEC5",
                                "#B0BEC5",
                                "#B0BEC5",
                                "#B0BEC5",
                                "#B0BEC5"
                              ]
                            ]
                          }
                        ],
                        "label": "Topic 55",
                        "method": "update"
                      },
                      {
                        "args": [
                          {
                            "marker.color": [
                              [
                                "#B0BEC5",
                                "#B0BEC5",
                                "#B0BEC5",
                                "#B0BEC5",
                                "#B0BEC5",
                                "#B0BEC5",
                                "#B0BEC5",
                                "#B0BEC5",
                                "#B0BEC5",
                                "#B0BEC5",
                                "#B0BEC5",
                                "#B0BEC5",
                                "#B0BEC5",
                                "#B0BEC5",
                                "#B0BEC5",
                                "#B0BEC5",
                                "#B0BEC5",
                                "#B0BEC5",
                                "#B0BEC5",
                                "#B0BEC5",
                                "#B0BEC5",
                                "#B0BEC5",
                                "#B0BEC5",
                                "#B0BEC5",
                                "#B0BEC5",
                                "#B0BEC5",
                                "#B0BEC5",
                                "#B0BEC5",
                                "#B0BEC5",
                                "#B0BEC5",
                                "#B0BEC5",
                                "#B0BEC5",
                                "#B0BEC5",
                                "#B0BEC5",
                                "#B0BEC5",
                                "#B0BEC5",
                                "#B0BEC5",
                                "#B0BEC5",
                                "#B0BEC5",
                                "#B0BEC5",
                                "#B0BEC5",
                                "#B0BEC5",
                                "#B0BEC5",
                                "#B0BEC5",
                                "#B0BEC5",
                                "#B0BEC5",
                                "#B0BEC5",
                                "#B0BEC5",
                                "#B0BEC5",
                                "#B0BEC5",
                                "#B0BEC5",
                                "#B0BEC5",
                                "#B0BEC5",
                                "#B0BEC5",
                                "#B0BEC5",
                                "#B0BEC5",
                                "red",
                                "#B0BEC5",
                                "#B0BEC5",
                                "#B0BEC5",
                                "#B0BEC5",
                                "#B0BEC5",
                                "#B0BEC5",
                                "#B0BEC5",
                                "#B0BEC5",
                                "#B0BEC5",
                                "#B0BEC5",
                                "#B0BEC5",
                                "#B0BEC5",
                                "#B0BEC5",
                                "#B0BEC5"
                              ]
                            ]
                          }
                        ],
                        "label": "Topic 56",
                        "method": "update"
                      },
                      {
                        "args": [
                          {
                            "marker.color": [
                              [
                                "#B0BEC5",
                                "#B0BEC5",
                                "#B0BEC5",
                                "#B0BEC5",
                                "#B0BEC5",
                                "#B0BEC5",
                                "#B0BEC5",
                                "#B0BEC5",
                                "#B0BEC5",
                                "#B0BEC5",
                                "#B0BEC5",
                                "#B0BEC5",
                                "#B0BEC5",
                                "#B0BEC5",
                                "#B0BEC5",
                                "#B0BEC5",
                                "#B0BEC5",
                                "#B0BEC5",
                                "#B0BEC5",
                                "#B0BEC5",
                                "#B0BEC5",
                                "#B0BEC5",
                                "#B0BEC5",
                                "#B0BEC5",
                                "#B0BEC5",
                                "#B0BEC5",
                                "#B0BEC5",
                                "#B0BEC5",
                                "#B0BEC5",
                                "#B0BEC5",
                                "#B0BEC5",
                                "#B0BEC5",
                                "#B0BEC5",
                                "#B0BEC5",
                                "#B0BEC5",
                                "#B0BEC5",
                                "#B0BEC5",
                                "#B0BEC5",
                                "#B0BEC5",
                                "#B0BEC5",
                                "#B0BEC5",
                                "#B0BEC5",
                                "#B0BEC5",
                                "#B0BEC5",
                                "#B0BEC5",
                                "#B0BEC5",
                                "#B0BEC5",
                                "#B0BEC5",
                                "#B0BEC5",
                                "#B0BEC5",
                                "#B0BEC5",
                                "#B0BEC5",
                                "#B0BEC5",
                                "#B0BEC5",
                                "#B0BEC5",
                                "#B0BEC5",
                                "#B0BEC5",
                                "red",
                                "#B0BEC5",
                                "#B0BEC5",
                                "#B0BEC5",
                                "#B0BEC5",
                                "#B0BEC5",
                                "#B0BEC5",
                                "#B0BEC5",
                                "#B0BEC5",
                                "#B0BEC5",
                                "#B0BEC5",
                                "#B0BEC5",
                                "#B0BEC5",
                                "#B0BEC5"
                              ]
                            ]
                          }
                        ],
                        "label": "Topic 57",
                        "method": "update"
                      },
                      {
                        "args": [
                          {
                            "marker.color": [
                              [
                                "#B0BEC5",
                                "#B0BEC5",
                                "#B0BEC5",
                                "#B0BEC5",
                                "#B0BEC5",
                                "#B0BEC5",
                                "#B0BEC5",
                                "#B0BEC5",
                                "#B0BEC5",
                                "#B0BEC5",
                                "#B0BEC5",
                                "#B0BEC5",
                                "#B0BEC5",
                                "#B0BEC5",
                                "#B0BEC5",
                                "#B0BEC5",
                                "#B0BEC5",
                                "#B0BEC5",
                                "#B0BEC5",
                                "#B0BEC5",
                                "#B0BEC5",
                                "#B0BEC5",
                                "#B0BEC5",
                                "#B0BEC5",
                                "#B0BEC5",
                                "#B0BEC5",
                                "#B0BEC5",
                                "#B0BEC5",
                                "#B0BEC5",
                                "#B0BEC5",
                                "#B0BEC5",
                                "#B0BEC5",
                                "#B0BEC5",
                                "#B0BEC5",
                                "#B0BEC5",
                                "#B0BEC5",
                                "#B0BEC5",
                                "#B0BEC5",
                                "#B0BEC5",
                                "#B0BEC5",
                                "#B0BEC5",
                                "#B0BEC5",
                                "#B0BEC5",
                                "#B0BEC5",
                                "#B0BEC5",
                                "#B0BEC5",
                                "#B0BEC5",
                                "#B0BEC5",
                                "#B0BEC5",
                                "#B0BEC5",
                                "#B0BEC5",
                                "#B0BEC5",
                                "#B0BEC5",
                                "#B0BEC5",
                                "#B0BEC5",
                                "#B0BEC5",
                                "#B0BEC5",
                                "#B0BEC5",
                                "red",
                                "#B0BEC5",
                                "#B0BEC5",
                                "#B0BEC5",
                                "#B0BEC5",
                                "#B0BEC5",
                                "#B0BEC5",
                                "#B0BEC5",
                                "#B0BEC5",
                                "#B0BEC5",
                                "#B0BEC5",
                                "#B0BEC5",
                                "#B0BEC5"
                              ]
                            ]
                          }
                        ],
                        "label": "Topic 58",
                        "method": "update"
                      },
                      {
                        "args": [
                          {
                            "marker.color": [
                              [
                                "#B0BEC5",
                                "#B0BEC5",
                                "#B0BEC5",
                                "#B0BEC5",
                                "#B0BEC5",
                                "#B0BEC5",
                                "#B0BEC5",
                                "#B0BEC5",
                                "#B0BEC5",
                                "#B0BEC5",
                                "#B0BEC5",
                                "#B0BEC5",
                                "#B0BEC5",
                                "#B0BEC5",
                                "#B0BEC5",
                                "#B0BEC5",
                                "#B0BEC5",
                                "#B0BEC5",
                                "#B0BEC5",
                                "#B0BEC5",
                                "#B0BEC5",
                                "#B0BEC5",
                                "#B0BEC5",
                                "#B0BEC5",
                                "#B0BEC5",
                                "#B0BEC5",
                                "#B0BEC5",
                                "#B0BEC5",
                                "#B0BEC5",
                                "#B0BEC5",
                                "#B0BEC5",
                                "#B0BEC5",
                                "#B0BEC5",
                                "#B0BEC5",
                                "#B0BEC5",
                                "#B0BEC5",
                                "#B0BEC5",
                                "#B0BEC5",
                                "#B0BEC5",
                                "#B0BEC5",
                                "#B0BEC5",
                                "#B0BEC5",
                                "#B0BEC5",
                                "#B0BEC5",
                                "#B0BEC5",
                                "#B0BEC5",
                                "#B0BEC5",
                                "#B0BEC5",
                                "#B0BEC5",
                                "#B0BEC5",
                                "#B0BEC5",
                                "#B0BEC5",
                                "#B0BEC5",
                                "#B0BEC5",
                                "#B0BEC5",
                                "#B0BEC5",
                                "#B0BEC5",
                                "#B0BEC5",
                                "#B0BEC5",
                                "red",
                                "#B0BEC5",
                                "#B0BEC5",
                                "#B0BEC5",
                                "#B0BEC5",
                                "#B0BEC5",
                                "#B0BEC5",
                                "#B0BEC5",
                                "#B0BEC5",
                                "#B0BEC5",
                                "#B0BEC5",
                                "#B0BEC5"
                              ]
                            ]
                          }
                        ],
                        "label": "Topic 59",
                        "method": "update"
                      },
                      {
                        "args": [
                          {
                            "marker.color": [
                              [
                                "#B0BEC5",
                                "#B0BEC5",
                                "#B0BEC5",
                                "#B0BEC5",
                                "#B0BEC5",
                                "#B0BEC5",
                                "#B0BEC5",
                                "#B0BEC5",
                                "#B0BEC5",
                                "#B0BEC5",
                                "#B0BEC5",
                                "#B0BEC5",
                                "#B0BEC5",
                                "#B0BEC5",
                                "#B0BEC5",
                                "#B0BEC5",
                                "#B0BEC5",
                                "#B0BEC5",
                                "#B0BEC5",
                                "#B0BEC5",
                                "#B0BEC5",
                                "#B0BEC5",
                                "#B0BEC5",
                                "#B0BEC5",
                                "#B0BEC5",
                                "#B0BEC5",
                                "#B0BEC5",
                                "#B0BEC5",
                                "#B0BEC5",
                                "#B0BEC5",
                                "#B0BEC5",
                                "#B0BEC5",
                                "#B0BEC5",
                                "#B0BEC5",
                                "#B0BEC5",
                                "#B0BEC5",
                                "#B0BEC5",
                                "#B0BEC5",
                                "#B0BEC5",
                                "#B0BEC5",
                                "#B0BEC5",
                                "#B0BEC5",
                                "#B0BEC5",
                                "#B0BEC5",
                                "#B0BEC5",
                                "#B0BEC5",
                                "#B0BEC5",
                                "#B0BEC5",
                                "#B0BEC5",
                                "#B0BEC5",
                                "#B0BEC5",
                                "#B0BEC5",
                                "#B0BEC5",
                                "#B0BEC5",
                                "#B0BEC5",
                                "#B0BEC5",
                                "#B0BEC5",
                                "#B0BEC5",
                                "#B0BEC5",
                                "#B0BEC5",
                                "red",
                                "#B0BEC5",
                                "#B0BEC5",
                                "#B0BEC5",
                                "#B0BEC5",
                                "#B0BEC5",
                                "#B0BEC5",
                                "#B0BEC5",
                                "#B0BEC5",
                                "#B0BEC5",
                                "#B0BEC5"
                              ]
                            ]
                          }
                        ],
                        "label": "Topic 60",
                        "method": "update"
                      },
                      {
                        "args": [
                          {
                            "marker.color": [
                              [
                                "#B0BEC5",
                                "#B0BEC5",
                                "#B0BEC5",
                                "#B0BEC5",
                                "#B0BEC5",
                                "#B0BEC5",
                                "#B0BEC5",
                                "#B0BEC5",
                                "#B0BEC5",
                                "#B0BEC5",
                                "#B0BEC5",
                                "#B0BEC5",
                                "#B0BEC5",
                                "#B0BEC5",
                                "#B0BEC5",
                                "#B0BEC5",
                                "#B0BEC5",
                                "#B0BEC5",
                                "#B0BEC5",
                                "#B0BEC5",
                                "#B0BEC5",
                                "#B0BEC5",
                                "#B0BEC5",
                                "#B0BEC5",
                                "#B0BEC5",
                                "#B0BEC5",
                                "#B0BEC5",
                                "#B0BEC5",
                                "#B0BEC5",
                                "#B0BEC5",
                                "#B0BEC5",
                                "#B0BEC5",
                                "#B0BEC5",
                                "#B0BEC5",
                                "#B0BEC5",
                                "#B0BEC5",
                                "#B0BEC5",
                                "#B0BEC5",
                                "#B0BEC5",
                                "#B0BEC5",
                                "#B0BEC5",
                                "#B0BEC5",
                                "#B0BEC5",
                                "#B0BEC5",
                                "#B0BEC5",
                                "#B0BEC5",
                                "#B0BEC5",
                                "#B0BEC5",
                                "#B0BEC5",
                                "#B0BEC5",
                                "#B0BEC5",
                                "#B0BEC5",
                                "#B0BEC5",
                                "#B0BEC5",
                                "#B0BEC5",
                                "#B0BEC5",
                                "#B0BEC5",
                                "#B0BEC5",
                                "#B0BEC5",
                                "#B0BEC5",
                                "#B0BEC5",
                                "red",
                                "#B0BEC5",
                                "#B0BEC5",
                                "#B0BEC5",
                                "#B0BEC5",
                                "#B0BEC5",
                                "#B0BEC5",
                                "#B0BEC5",
                                "#B0BEC5",
                                "#B0BEC5"
                              ]
                            ]
                          }
                        ],
                        "label": "Topic 61",
                        "method": "update"
                      },
                      {
                        "args": [
                          {
                            "marker.color": [
                              [
                                "#B0BEC5",
                                "#B0BEC5",
                                "#B0BEC5",
                                "#B0BEC5",
                                "#B0BEC5",
                                "#B0BEC5",
                                "#B0BEC5",
                                "#B0BEC5",
                                "#B0BEC5",
                                "#B0BEC5",
                                "#B0BEC5",
                                "#B0BEC5",
                                "#B0BEC5",
                                "#B0BEC5",
                                "#B0BEC5",
                                "#B0BEC5",
                                "#B0BEC5",
                                "#B0BEC5",
                                "#B0BEC5",
                                "#B0BEC5",
                                "#B0BEC5",
                                "#B0BEC5",
                                "#B0BEC5",
                                "#B0BEC5",
                                "#B0BEC5",
                                "#B0BEC5",
                                "#B0BEC5",
                                "#B0BEC5",
                                "#B0BEC5",
                                "#B0BEC5",
                                "#B0BEC5",
                                "#B0BEC5",
                                "#B0BEC5",
                                "#B0BEC5",
                                "#B0BEC5",
                                "#B0BEC5",
                                "#B0BEC5",
                                "#B0BEC5",
                                "#B0BEC5",
                                "#B0BEC5",
                                "#B0BEC5",
                                "#B0BEC5",
                                "#B0BEC5",
                                "#B0BEC5",
                                "#B0BEC5",
                                "#B0BEC5",
                                "#B0BEC5",
                                "#B0BEC5",
                                "#B0BEC5",
                                "#B0BEC5",
                                "#B0BEC5",
                                "#B0BEC5",
                                "#B0BEC5",
                                "#B0BEC5",
                                "#B0BEC5",
                                "#B0BEC5",
                                "#B0BEC5",
                                "#B0BEC5",
                                "#B0BEC5",
                                "#B0BEC5",
                                "#B0BEC5",
                                "#B0BEC5",
                                "red",
                                "#B0BEC5",
                                "#B0BEC5",
                                "#B0BEC5",
                                "#B0BEC5",
                                "#B0BEC5",
                                "#B0BEC5",
                                "#B0BEC5",
                                "#B0BEC5"
                              ]
                            ]
                          }
                        ],
                        "label": "Topic 62",
                        "method": "update"
                      },
                      {
                        "args": [
                          {
                            "marker.color": [
                              [
                                "#B0BEC5",
                                "#B0BEC5",
                                "#B0BEC5",
                                "#B0BEC5",
                                "#B0BEC5",
                                "#B0BEC5",
                                "#B0BEC5",
                                "#B0BEC5",
                                "#B0BEC5",
                                "#B0BEC5",
                                "#B0BEC5",
                                "#B0BEC5",
                                "#B0BEC5",
                                "#B0BEC5",
                                "#B0BEC5",
                                "#B0BEC5",
                                "#B0BEC5",
                                "#B0BEC5",
                                "#B0BEC5",
                                "#B0BEC5",
                                "#B0BEC5",
                                "#B0BEC5",
                                "#B0BEC5",
                                "#B0BEC5",
                                "#B0BEC5",
                                "#B0BEC5",
                                "#B0BEC5",
                                "#B0BEC5",
                                "#B0BEC5",
                                "#B0BEC5",
                                "#B0BEC5",
                                "#B0BEC5",
                                "#B0BEC5",
                                "#B0BEC5",
                                "#B0BEC5",
                                "#B0BEC5",
                                "#B0BEC5",
                                "#B0BEC5",
                                "#B0BEC5",
                                "#B0BEC5",
                                "#B0BEC5",
                                "#B0BEC5",
                                "#B0BEC5",
                                "#B0BEC5",
                                "#B0BEC5",
                                "#B0BEC5",
                                "#B0BEC5",
                                "#B0BEC5",
                                "#B0BEC5",
                                "#B0BEC5",
                                "#B0BEC5",
                                "#B0BEC5",
                                "#B0BEC5",
                                "#B0BEC5",
                                "#B0BEC5",
                                "#B0BEC5",
                                "#B0BEC5",
                                "#B0BEC5",
                                "#B0BEC5",
                                "#B0BEC5",
                                "#B0BEC5",
                                "#B0BEC5",
                                "#B0BEC5",
                                "red",
                                "#B0BEC5",
                                "#B0BEC5",
                                "#B0BEC5",
                                "#B0BEC5",
                                "#B0BEC5",
                                "#B0BEC5",
                                "#B0BEC5"
                              ]
                            ]
                          }
                        ],
                        "label": "Topic 63",
                        "method": "update"
                      },
                      {
                        "args": [
                          {
                            "marker.color": [
                              [
                                "#B0BEC5",
                                "#B0BEC5",
                                "#B0BEC5",
                                "#B0BEC5",
                                "#B0BEC5",
                                "#B0BEC5",
                                "#B0BEC5",
                                "#B0BEC5",
                                "#B0BEC5",
                                "#B0BEC5",
                                "#B0BEC5",
                                "#B0BEC5",
                                "#B0BEC5",
                                "#B0BEC5",
                                "#B0BEC5",
                                "#B0BEC5",
                                "#B0BEC5",
                                "#B0BEC5",
                                "#B0BEC5",
                                "#B0BEC5",
                                "#B0BEC5",
                                "#B0BEC5",
                                "#B0BEC5",
                                "#B0BEC5",
                                "#B0BEC5",
                                "#B0BEC5",
                                "#B0BEC5",
                                "#B0BEC5",
                                "#B0BEC5",
                                "#B0BEC5",
                                "#B0BEC5",
                                "#B0BEC5",
                                "#B0BEC5",
                                "#B0BEC5",
                                "#B0BEC5",
                                "#B0BEC5",
                                "#B0BEC5",
                                "#B0BEC5",
                                "#B0BEC5",
                                "#B0BEC5",
                                "#B0BEC5",
                                "#B0BEC5",
                                "#B0BEC5",
                                "#B0BEC5",
                                "#B0BEC5",
                                "#B0BEC5",
                                "#B0BEC5",
                                "#B0BEC5",
                                "#B0BEC5",
                                "#B0BEC5",
                                "#B0BEC5",
                                "#B0BEC5",
                                "#B0BEC5",
                                "#B0BEC5",
                                "#B0BEC5",
                                "#B0BEC5",
                                "#B0BEC5",
                                "#B0BEC5",
                                "#B0BEC5",
                                "#B0BEC5",
                                "#B0BEC5",
                                "#B0BEC5",
                                "#B0BEC5",
                                "#B0BEC5",
                                "red",
                                "#B0BEC5",
                                "#B0BEC5",
                                "#B0BEC5",
                                "#B0BEC5",
                                "#B0BEC5",
                                "#B0BEC5"
                              ]
                            ]
                          }
                        ],
                        "label": "Topic 64",
                        "method": "update"
                      },
                      {
                        "args": [
                          {
                            "marker.color": [
                              [
                                "#B0BEC5",
                                "#B0BEC5",
                                "#B0BEC5",
                                "#B0BEC5",
                                "#B0BEC5",
                                "#B0BEC5",
                                "#B0BEC5",
                                "#B0BEC5",
                                "#B0BEC5",
                                "#B0BEC5",
                                "#B0BEC5",
                                "#B0BEC5",
                                "#B0BEC5",
                                "#B0BEC5",
                                "#B0BEC5",
                                "#B0BEC5",
                                "#B0BEC5",
                                "#B0BEC5",
                                "#B0BEC5",
                                "#B0BEC5",
                                "#B0BEC5",
                                "#B0BEC5",
                                "#B0BEC5",
                                "#B0BEC5",
                                "#B0BEC5",
                                "#B0BEC5",
                                "#B0BEC5",
                                "#B0BEC5",
                                "#B0BEC5",
                                "#B0BEC5",
                                "#B0BEC5",
                                "#B0BEC5",
                                "#B0BEC5",
                                "#B0BEC5",
                                "#B0BEC5",
                                "#B0BEC5",
                                "#B0BEC5",
                                "#B0BEC5",
                                "#B0BEC5",
                                "#B0BEC5",
                                "#B0BEC5",
                                "#B0BEC5",
                                "#B0BEC5",
                                "#B0BEC5",
                                "#B0BEC5",
                                "#B0BEC5",
                                "#B0BEC5",
                                "#B0BEC5",
                                "#B0BEC5",
                                "#B0BEC5",
                                "#B0BEC5",
                                "#B0BEC5",
                                "#B0BEC5",
                                "#B0BEC5",
                                "#B0BEC5",
                                "#B0BEC5",
                                "#B0BEC5",
                                "#B0BEC5",
                                "#B0BEC5",
                                "#B0BEC5",
                                "#B0BEC5",
                                "#B0BEC5",
                                "#B0BEC5",
                                "#B0BEC5",
                                "#B0BEC5",
                                "red",
                                "#B0BEC5",
                                "#B0BEC5",
                                "#B0BEC5",
                                "#B0BEC5",
                                "#B0BEC5"
                              ]
                            ]
                          }
                        ],
                        "label": "Topic 65",
                        "method": "update"
                      },
                      {
                        "args": [
                          {
                            "marker.color": [
                              [
                                "#B0BEC5",
                                "#B0BEC5",
                                "#B0BEC5",
                                "#B0BEC5",
                                "#B0BEC5",
                                "#B0BEC5",
                                "#B0BEC5",
                                "#B0BEC5",
                                "#B0BEC5",
                                "#B0BEC5",
                                "#B0BEC5",
                                "#B0BEC5",
                                "#B0BEC5",
                                "#B0BEC5",
                                "#B0BEC5",
                                "#B0BEC5",
                                "#B0BEC5",
                                "#B0BEC5",
                                "#B0BEC5",
                                "#B0BEC5",
                                "#B0BEC5",
                                "#B0BEC5",
                                "#B0BEC5",
                                "#B0BEC5",
                                "#B0BEC5",
                                "#B0BEC5",
                                "#B0BEC5",
                                "#B0BEC5",
                                "#B0BEC5",
                                "#B0BEC5",
                                "#B0BEC5",
                                "#B0BEC5",
                                "#B0BEC5",
                                "#B0BEC5",
                                "#B0BEC5",
                                "#B0BEC5",
                                "#B0BEC5",
                                "#B0BEC5",
                                "#B0BEC5",
                                "#B0BEC5",
                                "#B0BEC5",
                                "#B0BEC5",
                                "#B0BEC5",
                                "#B0BEC5",
                                "#B0BEC5",
                                "#B0BEC5",
                                "#B0BEC5",
                                "#B0BEC5",
                                "#B0BEC5",
                                "#B0BEC5",
                                "#B0BEC5",
                                "#B0BEC5",
                                "#B0BEC5",
                                "#B0BEC5",
                                "#B0BEC5",
                                "#B0BEC5",
                                "#B0BEC5",
                                "#B0BEC5",
                                "#B0BEC5",
                                "#B0BEC5",
                                "#B0BEC5",
                                "#B0BEC5",
                                "#B0BEC5",
                                "#B0BEC5",
                                "#B0BEC5",
                                "#B0BEC5",
                                "red",
                                "#B0BEC5",
                                "#B0BEC5",
                                "#B0BEC5",
                                "#B0BEC5"
                              ]
                            ]
                          }
                        ],
                        "label": "Topic 66",
                        "method": "update"
                      },
                      {
                        "args": [
                          {
                            "marker.color": [
                              [
                                "#B0BEC5",
                                "#B0BEC5",
                                "#B0BEC5",
                                "#B0BEC5",
                                "#B0BEC5",
                                "#B0BEC5",
                                "#B0BEC5",
                                "#B0BEC5",
                                "#B0BEC5",
                                "#B0BEC5",
                                "#B0BEC5",
                                "#B0BEC5",
                                "#B0BEC5",
                                "#B0BEC5",
                                "#B0BEC5",
                                "#B0BEC5",
                                "#B0BEC5",
                                "#B0BEC5",
                                "#B0BEC5",
                                "#B0BEC5",
                                "#B0BEC5",
                                "#B0BEC5",
                                "#B0BEC5",
                                "#B0BEC5",
                                "#B0BEC5",
                                "#B0BEC5",
                                "#B0BEC5",
                                "#B0BEC5",
                                "#B0BEC5",
                                "#B0BEC5",
                                "#B0BEC5",
                                "#B0BEC5",
                                "#B0BEC5",
                                "#B0BEC5",
                                "#B0BEC5",
                                "#B0BEC5",
                                "#B0BEC5",
                                "#B0BEC5",
                                "#B0BEC5",
                                "#B0BEC5",
                                "#B0BEC5",
                                "#B0BEC5",
                                "#B0BEC5",
                                "#B0BEC5",
                                "#B0BEC5",
                                "#B0BEC5",
                                "#B0BEC5",
                                "#B0BEC5",
                                "#B0BEC5",
                                "#B0BEC5",
                                "#B0BEC5",
                                "#B0BEC5",
                                "#B0BEC5",
                                "#B0BEC5",
                                "#B0BEC5",
                                "#B0BEC5",
                                "#B0BEC5",
                                "#B0BEC5",
                                "#B0BEC5",
                                "#B0BEC5",
                                "#B0BEC5",
                                "#B0BEC5",
                                "#B0BEC5",
                                "#B0BEC5",
                                "#B0BEC5",
                                "#B0BEC5",
                                "#B0BEC5",
                                "red",
                                "#B0BEC5",
                                "#B0BEC5",
                                "#B0BEC5"
                              ]
                            ]
                          }
                        ],
                        "label": "Topic 67",
                        "method": "update"
                      },
                      {
                        "args": [
                          {
                            "marker.color": [
                              [
                                "#B0BEC5",
                                "#B0BEC5",
                                "#B0BEC5",
                                "#B0BEC5",
                                "#B0BEC5",
                                "#B0BEC5",
                                "#B0BEC5",
                                "#B0BEC5",
                                "#B0BEC5",
                                "#B0BEC5",
                                "#B0BEC5",
                                "#B0BEC5",
                                "#B0BEC5",
                                "#B0BEC5",
                                "#B0BEC5",
                                "#B0BEC5",
                                "#B0BEC5",
                                "#B0BEC5",
                                "#B0BEC5",
                                "#B0BEC5",
                                "#B0BEC5",
                                "#B0BEC5",
                                "#B0BEC5",
                                "#B0BEC5",
                                "#B0BEC5",
                                "#B0BEC5",
                                "#B0BEC5",
                                "#B0BEC5",
                                "#B0BEC5",
                                "#B0BEC5",
                                "#B0BEC5",
                                "#B0BEC5",
                                "#B0BEC5",
                                "#B0BEC5",
                                "#B0BEC5",
                                "#B0BEC5",
                                "#B0BEC5",
                                "#B0BEC5",
                                "#B0BEC5",
                                "#B0BEC5",
                                "#B0BEC5",
                                "#B0BEC5",
                                "#B0BEC5",
                                "#B0BEC5",
                                "#B0BEC5",
                                "#B0BEC5",
                                "#B0BEC5",
                                "#B0BEC5",
                                "#B0BEC5",
                                "#B0BEC5",
                                "#B0BEC5",
                                "#B0BEC5",
                                "#B0BEC5",
                                "#B0BEC5",
                                "#B0BEC5",
                                "#B0BEC5",
                                "#B0BEC5",
                                "#B0BEC5",
                                "#B0BEC5",
                                "#B0BEC5",
                                "#B0BEC5",
                                "#B0BEC5",
                                "#B0BEC5",
                                "#B0BEC5",
                                "#B0BEC5",
                                "#B0BEC5",
                                "#B0BEC5",
                                "#B0BEC5",
                                "red",
                                "#B0BEC5",
                                "#B0BEC5"
                              ]
                            ]
                          }
                        ],
                        "label": "Topic 68",
                        "method": "update"
                      },
                      {
                        "args": [
                          {
                            "marker.color": [
                              [
                                "#B0BEC5",
                                "#B0BEC5",
                                "#B0BEC5",
                                "#B0BEC5",
                                "#B0BEC5",
                                "#B0BEC5",
                                "#B0BEC5",
                                "#B0BEC5",
                                "#B0BEC5",
                                "#B0BEC5",
                                "#B0BEC5",
                                "#B0BEC5",
                                "#B0BEC5",
                                "#B0BEC5",
                                "#B0BEC5",
                                "#B0BEC5",
                                "#B0BEC5",
                                "#B0BEC5",
                                "#B0BEC5",
                                "#B0BEC5",
                                "#B0BEC5",
                                "#B0BEC5",
                                "#B0BEC5",
                                "#B0BEC5",
                                "#B0BEC5",
                                "#B0BEC5",
                                "#B0BEC5",
                                "#B0BEC5",
                                "#B0BEC5",
                                "#B0BEC5",
                                "#B0BEC5",
                                "#B0BEC5",
                                "#B0BEC5",
                                "#B0BEC5",
                                "#B0BEC5",
                                "#B0BEC5",
                                "#B0BEC5",
                                "#B0BEC5",
                                "#B0BEC5",
                                "#B0BEC5",
                                "#B0BEC5",
                                "#B0BEC5",
                                "#B0BEC5",
                                "#B0BEC5",
                                "#B0BEC5",
                                "#B0BEC5",
                                "#B0BEC5",
                                "#B0BEC5",
                                "#B0BEC5",
                                "#B0BEC5",
                                "#B0BEC5",
                                "#B0BEC5",
                                "#B0BEC5",
                                "#B0BEC5",
                                "#B0BEC5",
                                "#B0BEC5",
                                "#B0BEC5",
                                "#B0BEC5",
                                "#B0BEC5",
                                "#B0BEC5",
                                "#B0BEC5",
                                "#B0BEC5",
                                "#B0BEC5",
                                "#B0BEC5",
                                "#B0BEC5",
                                "#B0BEC5",
                                "#B0BEC5",
                                "#B0BEC5",
                                "#B0BEC5",
                                "red",
                                "#B0BEC5"
                              ]
                            ]
                          }
                        ],
                        "label": "Topic 69",
                        "method": "update"
                      },
                      {
                        "args": [
                          {
                            "marker.color": [
                              [
                                "#B0BEC5",
                                "#B0BEC5",
                                "#B0BEC5",
                                "#B0BEC5",
                                "#B0BEC5",
                                "#B0BEC5",
                                "#B0BEC5",
                                "#B0BEC5",
                                "#B0BEC5",
                                "#B0BEC5",
                                "#B0BEC5",
                                "#B0BEC5",
                                "#B0BEC5",
                                "#B0BEC5",
                                "#B0BEC5",
                                "#B0BEC5",
                                "#B0BEC5",
                                "#B0BEC5",
                                "#B0BEC5",
                                "#B0BEC5",
                                "#B0BEC5",
                                "#B0BEC5",
                                "#B0BEC5",
                                "#B0BEC5",
                                "#B0BEC5",
                                "#B0BEC5",
                                "#B0BEC5",
                                "#B0BEC5",
                                "#B0BEC5",
                                "#B0BEC5",
                                "#B0BEC5",
                                "#B0BEC5",
                                "#B0BEC5",
                                "#B0BEC5",
                                "#B0BEC5",
                                "#B0BEC5",
                                "#B0BEC5",
                                "#B0BEC5",
                                "#B0BEC5",
                                "#B0BEC5",
                                "#B0BEC5",
                                "#B0BEC5",
                                "#B0BEC5",
                                "#B0BEC5",
                                "#B0BEC5",
                                "#B0BEC5",
                                "#B0BEC5",
                                "#B0BEC5",
                                "#B0BEC5",
                                "#B0BEC5",
                                "#B0BEC5",
                                "#B0BEC5",
                                "#B0BEC5",
                                "#B0BEC5",
                                "#B0BEC5",
                                "#B0BEC5",
                                "#B0BEC5",
                                "#B0BEC5",
                                "#B0BEC5",
                                "#B0BEC5",
                                "#B0BEC5",
                                "#B0BEC5",
                                "#B0BEC5",
                                "#B0BEC5",
                                "#B0BEC5",
                                "#B0BEC5",
                                "#B0BEC5",
                                "#B0BEC5",
                                "#B0BEC5",
                                "#B0BEC5",
                                "red"
                              ]
                            ]
                          }
                        ],
                        "label": "Topic 70",
                        "method": "update"
                      }
                    ]
                  }
                ],
                "template": {
                  "data": {
                    "bar": [
                      {
                        "error_x": {
                          "color": "rgb(36,36,36)"
                        },
                        "error_y": {
                          "color": "rgb(36,36,36)"
                        },
                        "marker": {
                          "line": {
                            "color": "white",
                            "width": 0.5
                          },
                          "pattern": {
                            "fillmode": "overlay",
                            "size": 10,
                            "solidity": 0.2
                          }
                        },
                        "type": "bar"
                      }
                    ],
                    "barpolar": [
                      {
                        "marker": {
                          "line": {
                            "color": "white",
                            "width": 0.5
                          },
                          "pattern": {
                            "fillmode": "overlay",
                            "size": 10,
                            "solidity": 0.2
                          }
                        },
                        "type": "barpolar"
                      }
                    ],
                    "carpet": [
                      {
                        "aaxis": {
                          "endlinecolor": "rgb(36,36,36)",
                          "gridcolor": "white",
                          "linecolor": "white",
                          "minorgridcolor": "white",
                          "startlinecolor": "rgb(36,36,36)"
                        },
                        "baxis": {
                          "endlinecolor": "rgb(36,36,36)",
                          "gridcolor": "white",
                          "linecolor": "white",
                          "minorgridcolor": "white",
                          "startlinecolor": "rgb(36,36,36)"
                        },
                        "type": "carpet"
                      }
                    ],
                    "choropleth": [
                      {
                        "colorbar": {
                          "outlinewidth": 1,
                          "tickcolor": "rgb(36,36,36)",
                          "ticks": "outside"
                        },
                        "type": "choropleth"
                      }
                    ],
                    "contour": [
                      {
                        "colorbar": {
                          "outlinewidth": 1,
                          "tickcolor": "rgb(36,36,36)",
                          "ticks": "outside"
                        },
                        "colorscale": [
                          [
                            0,
                            "#440154"
                          ],
                          [
                            0.1111111111111111,
                            "#482878"
                          ],
                          [
                            0.2222222222222222,
                            "#3e4989"
                          ],
                          [
                            0.3333333333333333,
                            "#31688e"
                          ],
                          [
                            0.4444444444444444,
                            "#26828e"
                          ],
                          [
                            0.5555555555555556,
                            "#1f9e89"
                          ],
                          [
                            0.6666666666666666,
                            "#35b779"
                          ],
                          [
                            0.7777777777777778,
                            "#6ece58"
                          ],
                          [
                            0.8888888888888888,
                            "#b5de2b"
                          ],
                          [
                            1,
                            "#fde725"
                          ]
                        ],
                        "type": "contour"
                      }
                    ],
                    "contourcarpet": [
                      {
                        "colorbar": {
                          "outlinewidth": 1,
                          "tickcolor": "rgb(36,36,36)",
                          "ticks": "outside"
                        },
                        "type": "contourcarpet"
                      }
                    ],
                    "heatmap": [
                      {
                        "colorbar": {
                          "outlinewidth": 1,
                          "tickcolor": "rgb(36,36,36)",
                          "ticks": "outside"
                        },
                        "colorscale": [
                          [
                            0,
                            "#440154"
                          ],
                          [
                            0.1111111111111111,
                            "#482878"
                          ],
                          [
                            0.2222222222222222,
                            "#3e4989"
                          ],
                          [
                            0.3333333333333333,
                            "#31688e"
                          ],
                          [
                            0.4444444444444444,
                            "#26828e"
                          ],
                          [
                            0.5555555555555556,
                            "#1f9e89"
                          ],
                          [
                            0.6666666666666666,
                            "#35b779"
                          ],
                          [
                            0.7777777777777778,
                            "#6ece58"
                          ],
                          [
                            0.8888888888888888,
                            "#b5de2b"
                          ],
                          [
                            1,
                            "#fde725"
                          ]
                        ],
                        "type": "heatmap"
                      }
                    ],
                    "heatmapgl": [
                      {
                        "colorbar": {
                          "outlinewidth": 1,
                          "tickcolor": "rgb(36,36,36)",
                          "ticks": "outside"
                        },
                        "colorscale": [
                          [
                            0,
                            "#440154"
                          ],
                          [
                            0.1111111111111111,
                            "#482878"
                          ],
                          [
                            0.2222222222222222,
                            "#3e4989"
                          ],
                          [
                            0.3333333333333333,
                            "#31688e"
                          ],
                          [
                            0.4444444444444444,
                            "#26828e"
                          ],
                          [
                            0.5555555555555556,
                            "#1f9e89"
                          ],
                          [
                            0.6666666666666666,
                            "#35b779"
                          ],
                          [
                            0.7777777777777778,
                            "#6ece58"
                          ],
                          [
                            0.8888888888888888,
                            "#b5de2b"
                          ],
                          [
                            1,
                            "#fde725"
                          ]
                        ],
                        "type": "heatmapgl"
                      }
                    ],
                    "histogram": [
                      {
                        "marker": {
                          "line": {
                            "color": "white",
                            "width": 0.6
                          }
                        },
                        "type": "histogram"
                      }
                    ],
                    "histogram2d": [
                      {
                        "colorbar": {
                          "outlinewidth": 1,
                          "tickcolor": "rgb(36,36,36)",
                          "ticks": "outside"
                        },
                        "colorscale": [
                          [
                            0,
                            "#440154"
                          ],
                          [
                            0.1111111111111111,
                            "#482878"
                          ],
                          [
                            0.2222222222222222,
                            "#3e4989"
                          ],
                          [
                            0.3333333333333333,
                            "#31688e"
                          ],
                          [
                            0.4444444444444444,
                            "#26828e"
                          ],
                          [
                            0.5555555555555556,
                            "#1f9e89"
                          ],
                          [
                            0.6666666666666666,
                            "#35b779"
                          ],
                          [
                            0.7777777777777778,
                            "#6ece58"
                          ],
                          [
                            0.8888888888888888,
                            "#b5de2b"
                          ],
                          [
                            1,
                            "#fde725"
                          ]
                        ],
                        "type": "histogram2d"
                      }
                    ],
                    "histogram2dcontour": [
                      {
                        "colorbar": {
                          "outlinewidth": 1,
                          "tickcolor": "rgb(36,36,36)",
                          "ticks": "outside"
                        },
                        "colorscale": [
                          [
                            0,
                            "#440154"
                          ],
                          [
                            0.1111111111111111,
                            "#482878"
                          ],
                          [
                            0.2222222222222222,
                            "#3e4989"
                          ],
                          [
                            0.3333333333333333,
                            "#31688e"
                          ],
                          [
                            0.4444444444444444,
                            "#26828e"
                          ],
                          [
                            0.5555555555555556,
                            "#1f9e89"
                          ],
                          [
                            0.6666666666666666,
                            "#35b779"
                          ],
                          [
                            0.7777777777777778,
                            "#6ece58"
                          ],
                          [
                            0.8888888888888888,
                            "#b5de2b"
                          ],
                          [
                            1,
                            "#fde725"
                          ]
                        ],
                        "type": "histogram2dcontour"
                      }
                    ],
                    "mesh3d": [
                      {
                        "colorbar": {
                          "outlinewidth": 1,
                          "tickcolor": "rgb(36,36,36)",
                          "ticks": "outside"
                        },
                        "type": "mesh3d"
                      }
                    ],
                    "parcoords": [
                      {
                        "line": {
                          "colorbar": {
                            "outlinewidth": 1,
                            "tickcolor": "rgb(36,36,36)",
                            "ticks": "outside"
                          }
                        },
                        "type": "parcoords"
                      }
                    ],
                    "pie": [
                      {
                        "automargin": true,
                        "type": "pie"
                      }
                    ],
                    "scatter": [
                      {
                        "fillpattern": {
                          "fillmode": "overlay",
                          "size": 10,
                          "solidity": 0.2
                        },
                        "type": "scatter"
                      }
                    ],
                    "scatter3d": [
                      {
                        "line": {
                          "colorbar": {
                            "outlinewidth": 1,
                            "tickcolor": "rgb(36,36,36)",
                            "ticks": "outside"
                          }
                        },
                        "marker": {
                          "colorbar": {
                            "outlinewidth": 1,
                            "tickcolor": "rgb(36,36,36)",
                            "ticks": "outside"
                          }
                        },
                        "type": "scatter3d"
                      }
                    ],
                    "scattercarpet": [
                      {
                        "marker": {
                          "colorbar": {
                            "outlinewidth": 1,
                            "tickcolor": "rgb(36,36,36)",
                            "ticks": "outside"
                          }
                        },
                        "type": "scattercarpet"
                      }
                    ],
                    "scattergeo": [
                      {
                        "marker": {
                          "colorbar": {
                            "outlinewidth": 1,
                            "tickcolor": "rgb(36,36,36)",
                            "ticks": "outside"
                          }
                        },
                        "type": "scattergeo"
                      }
                    ],
                    "scattergl": [
                      {
                        "marker": {
                          "colorbar": {
                            "outlinewidth": 1,
                            "tickcolor": "rgb(36,36,36)",
                            "ticks": "outside"
                          }
                        },
                        "type": "scattergl"
                      }
                    ],
                    "scattermapbox": [
                      {
                        "marker": {
                          "colorbar": {
                            "outlinewidth": 1,
                            "tickcolor": "rgb(36,36,36)",
                            "ticks": "outside"
                          }
                        },
                        "type": "scattermapbox"
                      }
                    ],
                    "scatterpolar": [
                      {
                        "marker": {
                          "colorbar": {
                            "outlinewidth": 1,
                            "tickcolor": "rgb(36,36,36)",
                            "ticks": "outside"
                          }
                        },
                        "type": "scatterpolar"
                      }
                    ],
                    "scatterpolargl": [
                      {
                        "marker": {
                          "colorbar": {
                            "outlinewidth": 1,
                            "tickcolor": "rgb(36,36,36)",
                            "ticks": "outside"
                          }
                        },
                        "type": "scatterpolargl"
                      }
                    ],
                    "scatterternary": [
                      {
                        "marker": {
                          "colorbar": {
                            "outlinewidth": 1,
                            "tickcolor": "rgb(36,36,36)",
                            "ticks": "outside"
                          }
                        },
                        "type": "scatterternary"
                      }
                    ],
                    "surface": [
                      {
                        "colorbar": {
                          "outlinewidth": 1,
                          "tickcolor": "rgb(36,36,36)",
                          "ticks": "outside"
                        },
                        "colorscale": [
                          [
                            0,
                            "#440154"
                          ],
                          [
                            0.1111111111111111,
                            "#482878"
                          ],
                          [
                            0.2222222222222222,
                            "#3e4989"
                          ],
                          [
                            0.3333333333333333,
                            "#31688e"
                          ],
                          [
                            0.4444444444444444,
                            "#26828e"
                          ],
                          [
                            0.5555555555555556,
                            "#1f9e89"
                          ],
                          [
                            0.6666666666666666,
                            "#35b779"
                          ],
                          [
                            0.7777777777777778,
                            "#6ece58"
                          ],
                          [
                            0.8888888888888888,
                            "#b5de2b"
                          ],
                          [
                            1,
                            "#fde725"
                          ]
                        ],
                        "type": "surface"
                      }
                    ],
                    "table": [
                      {
                        "cells": {
                          "fill": {
                            "color": "rgb(237,237,237)"
                          },
                          "line": {
                            "color": "white"
                          }
                        },
                        "header": {
                          "fill": {
                            "color": "rgb(217,217,217)"
                          },
                          "line": {
                            "color": "white"
                          }
                        },
                        "type": "table"
                      }
                    ]
                  },
                  "layout": {
                    "annotationdefaults": {
                      "arrowhead": 0,
                      "arrowwidth": 1
                    },
                    "autotypenumbers": "strict",
                    "coloraxis": {
                      "colorbar": {
                        "outlinewidth": 1,
                        "tickcolor": "rgb(36,36,36)",
                        "ticks": "outside"
                      }
                    },
                    "colorscale": {
                      "diverging": [
                        [
                          0,
                          "rgb(103,0,31)"
                        ],
                        [
                          0.1,
                          "rgb(178,24,43)"
                        ],
                        [
                          0.2,
                          "rgb(214,96,77)"
                        ],
                        [
                          0.3,
                          "rgb(244,165,130)"
                        ],
                        [
                          0.4,
                          "rgb(253,219,199)"
                        ],
                        [
                          0.5,
                          "rgb(247,247,247)"
                        ],
                        [
                          0.6,
                          "rgb(209,229,240)"
                        ],
                        [
                          0.7,
                          "rgb(146,197,222)"
                        ],
                        [
                          0.8,
                          "rgb(67,147,195)"
                        ],
                        [
                          0.9,
                          "rgb(33,102,172)"
                        ],
                        [
                          1,
                          "rgb(5,48,97)"
                        ]
                      ],
                      "sequential": [
                        [
                          0,
                          "#440154"
                        ],
                        [
                          0.1111111111111111,
                          "#482878"
                        ],
                        [
                          0.2222222222222222,
                          "#3e4989"
                        ],
                        [
                          0.3333333333333333,
                          "#31688e"
                        ],
                        [
                          0.4444444444444444,
                          "#26828e"
                        ],
                        [
                          0.5555555555555556,
                          "#1f9e89"
                        ],
                        [
                          0.6666666666666666,
                          "#35b779"
                        ],
                        [
                          0.7777777777777778,
                          "#6ece58"
                        ],
                        [
                          0.8888888888888888,
                          "#b5de2b"
                        ],
                        [
                          1,
                          "#fde725"
                        ]
                      ],
                      "sequentialminus": [
                        [
                          0,
                          "#440154"
                        ],
                        [
                          0.1111111111111111,
                          "#482878"
                        ],
                        [
                          0.2222222222222222,
                          "#3e4989"
                        ],
                        [
                          0.3333333333333333,
                          "#31688e"
                        ],
                        [
                          0.4444444444444444,
                          "#26828e"
                        ],
                        [
                          0.5555555555555556,
                          "#1f9e89"
                        ],
                        [
                          0.6666666666666666,
                          "#35b779"
                        ],
                        [
                          0.7777777777777778,
                          "#6ece58"
                        ],
                        [
                          0.8888888888888888,
                          "#b5de2b"
                        ],
                        [
                          1,
                          "#fde725"
                        ]
                      ]
                    },
                    "colorway": [
                      "#1F77B4",
                      "#FF7F0E",
                      "#2CA02C",
                      "#D62728",
                      "#9467BD",
                      "#8C564B",
                      "#E377C2",
                      "#7F7F7F",
                      "#BCBD22",
                      "#17BECF"
                    ],
                    "font": {
                      "color": "rgb(36,36,36)"
                    },
                    "geo": {
                      "bgcolor": "white",
                      "lakecolor": "white",
                      "landcolor": "white",
                      "showlakes": true,
                      "showland": true,
                      "subunitcolor": "white"
                    },
                    "hoverlabel": {
                      "align": "left"
                    },
                    "hovermode": "closest",
                    "mapbox": {
                      "style": "light"
                    },
                    "paper_bgcolor": "white",
                    "plot_bgcolor": "white",
                    "polar": {
                      "angularaxis": {
                        "gridcolor": "rgb(232,232,232)",
                        "linecolor": "rgb(36,36,36)",
                        "showgrid": false,
                        "showline": true,
                        "ticks": "outside"
                      },
                      "bgcolor": "white",
                      "radialaxis": {
                        "gridcolor": "rgb(232,232,232)",
                        "linecolor": "rgb(36,36,36)",
                        "showgrid": false,
                        "showline": true,
                        "ticks": "outside"
                      }
                    },
                    "scene": {
                      "xaxis": {
                        "backgroundcolor": "white",
                        "gridcolor": "rgb(232,232,232)",
                        "gridwidth": 2,
                        "linecolor": "rgb(36,36,36)",
                        "showbackground": true,
                        "showgrid": false,
                        "showline": true,
                        "ticks": "outside",
                        "zeroline": false,
                        "zerolinecolor": "rgb(36,36,36)"
                      },
                      "yaxis": {
                        "backgroundcolor": "white",
                        "gridcolor": "rgb(232,232,232)",
                        "gridwidth": 2,
                        "linecolor": "rgb(36,36,36)",
                        "showbackground": true,
                        "showgrid": false,
                        "showline": true,
                        "ticks": "outside",
                        "zeroline": false,
                        "zerolinecolor": "rgb(36,36,36)"
                      },
                      "zaxis": {
                        "backgroundcolor": "white",
                        "gridcolor": "rgb(232,232,232)",
                        "gridwidth": 2,
                        "linecolor": "rgb(36,36,36)",
                        "showbackground": true,
                        "showgrid": false,
                        "showline": true,
                        "ticks": "outside",
                        "zeroline": false,
                        "zerolinecolor": "rgb(36,36,36)"
                      }
                    },
                    "shapedefaults": {
                      "fillcolor": "black",
                      "line": {
                        "width": 0
                      },
                      "opacity": 0.3
                    },
                    "ternary": {
                      "aaxis": {
                        "gridcolor": "rgb(232,232,232)",
                        "linecolor": "rgb(36,36,36)",
                        "showgrid": false,
                        "showline": true,
                        "ticks": "outside"
                      },
                      "baxis": {
                        "gridcolor": "rgb(232,232,232)",
                        "linecolor": "rgb(36,36,36)",
                        "showgrid": false,
                        "showline": true,
                        "ticks": "outside"
                      },
                      "bgcolor": "white",
                      "caxis": {
                        "gridcolor": "rgb(232,232,232)",
                        "linecolor": "rgb(36,36,36)",
                        "showgrid": false,
                        "showline": true,
                        "ticks": "outside"
                      }
                    },
                    "title": {
                      "x": 0.05
                    },
                    "xaxis": {
                      "automargin": true,
                      "gridcolor": "rgb(232,232,232)",
                      "linecolor": "rgb(36,36,36)",
                      "showgrid": false,
                      "showline": true,
                      "ticks": "outside",
                      "title": {
                        "standoff": 15
                      },
                      "zeroline": false,
                      "zerolinecolor": "rgb(36,36,36)"
                    },
                    "yaxis": {
                      "automargin": true,
                      "gridcolor": "rgb(232,232,232)",
                      "linecolor": "rgb(36,36,36)",
                      "showgrid": false,
                      "showline": true,
                      "ticks": "outside",
                      "title": {
                        "standoff": 15
                      },
                      "zeroline": false,
                      "zerolinecolor": "rgb(36,36,36)"
                    }
                  }
                },
                "title": {
                  "font": {
                    "color": "Black",
                    "size": 22
                  },
                  "text": "<b>Intertopic Distance Map</b>",
                  "x": 0.5,
                  "xanchor": "center",
                  "y": 0.95,
                  "yanchor": "top"
                },
                "width": 650,
                "xaxis": {
                  "anchor": "y",
                  "domain": [
                    0,
                    1
                  ],
                  "range": [
                    -19.461518383026124,
                    21.82840986251831
                  ],
                  "title": {
                    "text": ""
                  },
                  "visible": false
                },
                "yaxis": {
                  "anchor": "x",
                  "domain": [
                    0,
                    1
                  ],
                  "range": [
                    -15.02922854423523,
                    17.39599390029907
                  ],
                  "title": {
                    "text": ""
                  },
                  "visible": false
                }
              }
            }
          },
          "metadata": {},
          "output_type": "display_data"
        }
      ],
      "source": [
        "topic_model_mot_cible.visualize_topics()\n",
        "\n"
      ]
    },
    {
      "cell_type": "code",
      "execution_count": null,
      "metadata": {},
      "outputs": [],
      "source": []
    }
  ],
  "metadata": {
    "accelerator": "GPU",
    "colab": {
      "provenance": [],
      "toc_visible": true
    },
    "gpuClass": "standard",
    "kernelspec": {
      "display_name": "python_avance",
      "language": "python",
      "name": "python3"
    },
    "language_info": {
      "codemirror_mode": {
        "name": "ipython",
        "version": 3
      },
      "file_extension": ".py",
      "mimetype": "text/x-python",
      "name": "python",
      "nbconvert_exporter": "python",
      "pygments_lexer": "ipython3",
      "version": "3.8.18"
    },
    "widgets": {
      "application/vnd.jupyter.widget-state+json": {
        "04f612bc6ecd44d1a3ce8928ea0f606b": {
          "model_module": "@jupyter-widgets/base",
          "model_module_version": "1.2.0",
          "model_name": "LayoutModel",
          "state": {
            "_model_module": "@jupyter-widgets/base",
            "_model_module_version": "1.2.0",
            "_model_name": "LayoutModel",
            "_view_count": null,
            "_view_module": "@jupyter-widgets/base",
            "_view_module_version": "1.2.0",
            "_view_name": "LayoutView",
            "align_content": null,
            "align_items": null,
            "align_self": null,
            "border": null,
            "bottom": null,
            "display": null,
            "flex": null,
            "flex_flow": null,
            "grid_area": null,
            "grid_auto_columns": null,
            "grid_auto_flow": null,
            "grid_auto_rows": null,
            "grid_column": null,
            "grid_gap": null,
            "grid_row": null,
            "grid_template_areas": null,
            "grid_template_columns": null,
            "grid_template_rows": null,
            "height": null,
            "justify_content": null,
            "justify_items": null,
            "left": null,
            "margin": null,
            "max_height": null,
            "max_width": null,
            "min_height": null,
            "min_width": null,
            "object_fit": null,
            "object_position": null,
            "order": null,
            "overflow": null,
            "overflow_x": null,
            "overflow_y": null,
            "padding": null,
            "right": null,
            "top": null,
            "visibility": null,
            "width": null
          }
        },
        "0624384924fd484b8a730309b93e39b4": {
          "model_module": "@jupyter-widgets/controls",
          "model_module_version": "1.5.0",
          "model_name": "DescriptionStyleModel",
          "state": {
            "_model_module": "@jupyter-widgets/controls",
            "_model_module_version": "1.5.0",
            "_model_name": "DescriptionStyleModel",
            "_view_count": null,
            "_view_module": "@jupyter-widgets/base",
            "_view_module_version": "1.2.0",
            "_view_name": "StyleView",
            "description_width": ""
          }
        },
        "0635da18ea354c71b9cea1c09ab0140c": {
          "model_module": "@jupyter-widgets/controls",
          "model_module_version": "1.5.0",
          "model_name": "ProgressStyleModel",
          "state": {
            "_model_module": "@jupyter-widgets/controls",
            "_model_module_version": "1.5.0",
            "_model_name": "ProgressStyleModel",
            "_view_count": null,
            "_view_module": "@jupyter-widgets/base",
            "_view_module_version": "1.2.0",
            "_view_name": "StyleView",
            "bar_color": null,
            "description_width": ""
          }
        },
        "0686b1707cef45f1a5a088e467948a03": {
          "model_module": "@jupyter-widgets/base",
          "model_module_version": "1.2.0",
          "model_name": "LayoutModel",
          "state": {
            "_model_module": "@jupyter-widgets/base",
            "_model_module_version": "1.2.0",
            "_model_name": "LayoutModel",
            "_view_count": null,
            "_view_module": "@jupyter-widgets/base",
            "_view_module_version": "1.2.0",
            "_view_name": "LayoutView",
            "align_content": null,
            "align_items": null,
            "align_self": null,
            "border": null,
            "bottom": null,
            "display": null,
            "flex": null,
            "flex_flow": null,
            "grid_area": null,
            "grid_auto_columns": null,
            "grid_auto_flow": null,
            "grid_auto_rows": null,
            "grid_column": null,
            "grid_gap": null,
            "grid_row": null,
            "grid_template_areas": null,
            "grid_template_columns": null,
            "grid_template_rows": null,
            "height": null,
            "justify_content": null,
            "justify_items": null,
            "left": null,
            "margin": null,
            "max_height": null,
            "max_width": null,
            "min_height": null,
            "min_width": null,
            "object_fit": null,
            "object_position": null,
            "order": null,
            "overflow": null,
            "overflow_x": null,
            "overflow_y": null,
            "padding": null,
            "right": null,
            "top": null,
            "visibility": null,
            "width": null
          }
        },
        "0791ccf7f39c4b47b4f188e274d84077": {
          "model_module": "@jupyter-widgets/controls",
          "model_module_version": "1.5.0",
          "model_name": "HBoxModel",
          "state": {
            "_dom_classes": [],
            "_model_module": "@jupyter-widgets/controls",
            "_model_module_version": "1.5.0",
            "_model_name": "HBoxModel",
            "_view_count": null,
            "_view_module": "@jupyter-widgets/controls",
            "_view_module_version": "1.5.0",
            "_view_name": "HBoxView",
            "box_style": "",
            "children": [
              "IPY_MODEL_60c4badf1ff649f0a1e4ea0effb92fd4",
              "IPY_MODEL_9c9b35c159bb4e6d8eb9d4b87be3c11b",
              "IPY_MODEL_709efef007724e609bbbc06a9cd63d15"
            ],
            "layout": "IPY_MODEL_790b6b5f120e418db08db7556c59e8ae"
          }
        },
        "083b321262214023b1c07e569212e110": {
          "model_module": "@jupyter-widgets/controls",
          "model_module_version": "1.5.0",
          "model_name": "HTMLModel",
          "state": {
            "_dom_classes": [],
            "_model_module": "@jupyter-widgets/controls",
            "_model_module_version": "1.5.0",
            "_model_name": "HTMLModel",
            "_view_count": null,
            "_view_module": "@jupyter-widgets/controls",
            "_view_module_version": "1.5.0",
            "_view_name": "HTMLView",
            "description": "",
            "description_tooltip": null,
            "layout": "IPY_MODEL_102024e513de447591c14283e2a4b9cd",
            "placeholder": "​",
            "style": "IPY_MODEL_f99e9380434f46609349e663beb78c62",
            "value": " 10.7k/10.7k [00:00&lt;00:00, 246kB/s]"
          }
        },
        "083da04ce16546649487d04e0746f293": {
          "model_module": "@jupyter-widgets/base",
          "model_module_version": "1.2.0",
          "model_name": "LayoutModel",
          "state": {
            "_model_module": "@jupyter-widgets/base",
            "_model_module_version": "1.2.0",
            "_model_name": "LayoutModel",
            "_view_count": null,
            "_view_module": "@jupyter-widgets/base",
            "_view_module_version": "1.2.0",
            "_view_name": "LayoutView",
            "align_content": null,
            "align_items": null,
            "align_self": null,
            "border": null,
            "bottom": null,
            "display": null,
            "flex": null,
            "flex_flow": null,
            "grid_area": null,
            "grid_auto_columns": null,
            "grid_auto_flow": null,
            "grid_auto_rows": null,
            "grid_column": null,
            "grid_gap": null,
            "grid_row": null,
            "grid_template_areas": null,
            "grid_template_columns": null,
            "grid_template_rows": null,
            "height": null,
            "justify_content": null,
            "justify_items": null,
            "left": null,
            "margin": null,
            "max_height": null,
            "max_width": null,
            "min_height": null,
            "min_width": null,
            "object_fit": null,
            "object_position": null,
            "order": null,
            "overflow": null,
            "overflow_x": null,
            "overflow_y": null,
            "padding": null,
            "right": null,
            "top": null,
            "visibility": null,
            "width": null
          }
        },
        "0a8801ee47f3460b954527344c077ad8": {
          "model_module": "@jupyter-widgets/controls",
          "model_module_version": "1.5.0",
          "model_name": "DescriptionStyleModel",
          "state": {
            "_model_module": "@jupyter-widgets/controls",
            "_model_module_version": "1.5.0",
            "_model_name": "DescriptionStyleModel",
            "_view_count": null,
            "_view_module": "@jupyter-widgets/base",
            "_view_module_version": "1.2.0",
            "_view_name": "StyleView",
            "description_width": ""
          }
        },
        "0ae559dc7d6e41a498f325796b173f4d": {
          "model_module": "@jupyter-widgets/controls",
          "model_module_version": "1.5.0",
          "model_name": "DescriptionStyleModel",
          "state": {
            "_model_module": "@jupyter-widgets/controls",
            "_model_module_version": "1.5.0",
            "_model_name": "DescriptionStyleModel",
            "_view_count": null,
            "_view_module": "@jupyter-widgets/base",
            "_view_module_version": "1.2.0",
            "_view_name": "StyleView",
            "description_width": ""
          }
        },
        "0ce033616fb2417284e2f7e221915fb3": {
          "model_module": "@jupyter-widgets/controls",
          "model_module_version": "1.5.0",
          "model_name": "FloatProgressModel",
          "state": {
            "_dom_classes": [],
            "_model_module": "@jupyter-widgets/controls",
            "_model_module_version": "1.5.0",
            "_model_name": "FloatProgressModel",
            "_view_count": null,
            "_view_module": "@jupyter-widgets/controls",
            "_view_module_version": "1.5.0",
            "_view_name": "ProgressView",
            "bar_style": "success",
            "description": "",
            "description_tooltip": null,
            "layout": "IPY_MODEL_f6129a6736244999bb4014a62c092f61",
            "max": 10659,
            "min": 0,
            "orientation": "horizontal",
            "style": "IPY_MODEL_3cf229d9f12b4dc08285e9378cfb2355",
            "value": 10659
          }
        },
        "0d2f0a2a88264029a5de79e7cf2e8efb": {
          "model_module": "@jupyter-widgets/base",
          "model_module_version": "1.2.0",
          "model_name": "LayoutModel",
          "state": {
            "_model_module": "@jupyter-widgets/base",
            "_model_module_version": "1.2.0",
            "_model_name": "LayoutModel",
            "_view_count": null,
            "_view_module": "@jupyter-widgets/base",
            "_view_module_version": "1.2.0",
            "_view_name": "LayoutView",
            "align_content": null,
            "align_items": null,
            "align_self": null,
            "border": null,
            "bottom": null,
            "display": null,
            "flex": null,
            "flex_flow": null,
            "grid_area": null,
            "grid_auto_columns": null,
            "grid_auto_flow": null,
            "grid_auto_rows": null,
            "grid_column": null,
            "grid_gap": null,
            "grid_row": null,
            "grid_template_areas": null,
            "grid_template_columns": null,
            "grid_template_rows": null,
            "height": null,
            "justify_content": null,
            "justify_items": null,
            "left": null,
            "margin": null,
            "max_height": null,
            "max_width": null,
            "min_height": null,
            "min_width": null,
            "object_fit": null,
            "object_position": null,
            "order": null,
            "overflow": null,
            "overflow_x": null,
            "overflow_y": null,
            "padding": null,
            "right": null,
            "top": null,
            "visibility": null,
            "width": null
          }
        },
        "0d8353eb50c140c1b5b3faf4ceb36f9d": {
          "model_module": "@jupyter-widgets/controls",
          "model_module_version": "1.5.0",
          "model_name": "DescriptionStyleModel",
          "state": {
            "_model_module": "@jupyter-widgets/controls",
            "_model_module_version": "1.5.0",
            "_model_name": "DescriptionStyleModel",
            "_view_count": null,
            "_view_module": "@jupyter-widgets/base",
            "_view_module_version": "1.2.0",
            "_view_name": "StyleView",
            "description_width": ""
          }
        },
        "102024e513de447591c14283e2a4b9cd": {
          "model_module": "@jupyter-widgets/base",
          "model_module_version": "1.2.0",
          "model_name": "LayoutModel",
          "state": {
            "_model_module": "@jupyter-widgets/base",
            "_model_module_version": "1.2.0",
            "_model_name": "LayoutModel",
            "_view_count": null,
            "_view_module": "@jupyter-widgets/base",
            "_view_module_version": "1.2.0",
            "_view_name": "LayoutView",
            "align_content": null,
            "align_items": null,
            "align_self": null,
            "border": null,
            "bottom": null,
            "display": null,
            "flex": null,
            "flex_flow": null,
            "grid_area": null,
            "grid_auto_columns": null,
            "grid_auto_flow": null,
            "grid_auto_rows": null,
            "grid_column": null,
            "grid_gap": null,
            "grid_row": null,
            "grid_template_areas": null,
            "grid_template_columns": null,
            "grid_template_rows": null,
            "height": null,
            "justify_content": null,
            "justify_items": null,
            "left": null,
            "margin": null,
            "max_height": null,
            "max_width": null,
            "min_height": null,
            "min_width": null,
            "object_fit": null,
            "object_position": null,
            "order": null,
            "overflow": null,
            "overflow_x": null,
            "overflow_y": null,
            "padding": null,
            "right": null,
            "top": null,
            "visibility": null,
            "width": null
          }
        },
        "12392439f20b49a3ac68139f5c10f375": {
          "model_module": "@jupyter-widgets/base",
          "model_module_version": "1.2.0",
          "model_name": "LayoutModel",
          "state": {
            "_model_module": "@jupyter-widgets/base",
            "_model_module_version": "1.2.0",
            "_model_name": "LayoutModel",
            "_view_count": null,
            "_view_module": "@jupyter-widgets/base",
            "_view_module_version": "1.2.0",
            "_view_name": "LayoutView",
            "align_content": null,
            "align_items": null,
            "align_self": null,
            "border": null,
            "bottom": null,
            "display": null,
            "flex": null,
            "flex_flow": null,
            "grid_area": null,
            "grid_auto_columns": null,
            "grid_auto_flow": null,
            "grid_auto_rows": null,
            "grid_column": null,
            "grid_gap": null,
            "grid_row": null,
            "grid_template_areas": null,
            "grid_template_columns": null,
            "grid_template_rows": null,
            "height": null,
            "justify_content": null,
            "justify_items": null,
            "left": null,
            "margin": null,
            "max_height": null,
            "max_width": null,
            "min_height": null,
            "min_width": null,
            "object_fit": null,
            "object_position": null,
            "order": null,
            "overflow": null,
            "overflow_x": null,
            "overflow_y": null,
            "padding": null,
            "right": null,
            "top": null,
            "visibility": null,
            "width": null
          }
        },
        "127e6fda67294e4e8cb0edb8632e52d3": {
          "model_module": "@jupyter-widgets/base",
          "model_module_version": "1.2.0",
          "model_name": "LayoutModel",
          "state": {
            "_model_module": "@jupyter-widgets/base",
            "_model_module_version": "1.2.0",
            "_model_name": "LayoutModel",
            "_view_count": null,
            "_view_module": "@jupyter-widgets/base",
            "_view_module_version": "1.2.0",
            "_view_name": "LayoutView",
            "align_content": null,
            "align_items": null,
            "align_self": null,
            "border": null,
            "bottom": null,
            "display": null,
            "flex": null,
            "flex_flow": null,
            "grid_area": null,
            "grid_auto_columns": null,
            "grid_auto_flow": null,
            "grid_auto_rows": null,
            "grid_column": null,
            "grid_gap": null,
            "grid_row": null,
            "grid_template_areas": null,
            "grid_template_columns": null,
            "grid_template_rows": null,
            "height": null,
            "justify_content": null,
            "justify_items": null,
            "left": null,
            "margin": null,
            "max_height": null,
            "max_width": null,
            "min_height": null,
            "min_width": null,
            "object_fit": null,
            "object_position": null,
            "order": null,
            "overflow": null,
            "overflow_x": null,
            "overflow_y": null,
            "padding": null,
            "right": null,
            "top": null,
            "visibility": null,
            "width": null
          }
        },
        "13120c30ef55492fa862c1ece9e76810": {
          "model_module": "@jupyter-widgets/base",
          "model_module_version": "1.2.0",
          "model_name": "LayoutModel",
          "state": {
            "_model_module": "@jupyter-widgets/base",
            "_model_module_version": "1.2.0",
            "_model_name": "LayoutModel",
            "_view_count": null,
            "_view_module": "@jupyter-widgets/base",
            "_view_module_version": "1.2.0",
            "_view_name": "LayoutView",
            "align_content": null,
            "align_items": null,
            "align_self": null,
            "border": null,
            "bottom": null,
            "display": null,
            "flex": null,
            "flex_flow": null,
            "grid_area": null,
            "grid_auto_columns": null,
            "grid_auto_flow": null,
            "grid_auto_rows": null,
            "grid_column": null,
            "grid_gap": null,
            "grid_row": null,
            "grid_template_areas": null,
            "grid_template_columns": null,
            "grid_template_rows": null,
            "height": null,
            "justify_content": null,
            "justify_items": null,
            "left": null,
            "margin": null,
            "max_height": null,
            "max_width": null,
            "min_height": null,
            "min_width": null,
            "object_fit": null,
            "object_position": null,
            "order": null,
            "overflow": null,
            "overflow_x": null,
            "overflow_y": null,
            "padding": null,
            "right": null,
            "top": null,
            "visibility": null,
            "width": null
          }
        },
        "13cced5acf1f46c6b1d8bc9c00424e70": {
          "model_module": "@jupyter-widgets/controls",
          "model_module_version": "1.5.0",
          "model_name": "DescriptionStyleModel",
          "state": {
            "_model_module": "@jupyter-widgets/controls",
            "_model_module_version": "1.5.0",
            "_model_name": "DescriptionStyleModel",
            "_view_count": null,
            "_view_module": "@jupyter-widgets/base",
            "_view_module_version": "1.2.0",
            "_view_name": "StyleView",
            "description_width": ""
          }
        },
        "14146dc7d0c7408f82fb17cbaaa38148": {
          "model_module": "@jupyter-widgets/base",
          "model_module_version": "1.2.0",
          "model_name": "LayoutModel",
          "state": {
            "_model_module": "@jupyter-widgets/base",
            "_model_module_version": "1.2.0",
            "_model_name": "LayoutModel",
            "_view_count": null,
            "_view_module": "@jupyter-widgets/base",
            "_view_module_version": "1.2.0",
            "_view_name": "LayoutView",
            "align_content": null,
            "align_items": null,
            "align_self": null,
            "border": null,
            "bottom": null,
            "display": null,
            "flex": null,
            "flex_flow": null,
            "grid_area": null,
            "grid_auto_columns": null,
            "grid_auto_flow": null,
            "grid_auto_rows": null,
            "grid_column": null,
            "grid_gap": null,
            "grid_row": null,
            "grid_template_areas": null,
            "grid_template_columns": null,
            "grid_template_rows": null,
            "height": null,
            "justify_content": null,
            "justify_items": null,
            "left": null,
            "margin": null,
            "max_height": null,
            "max_width": null,
            "min_height": null,
            "min_width": null,
            "object_fit": null,
            "object_position": null,
            "order": null,
            "overflow": null,
            "overflow_x": null,
            "overflow_y": null,
            "padding": null,
            "right": null,
            "top": null,
            "visibility": null,
            "width": null
          }
        },
        "14f6755b895a4fae961c21d468284f86": {
          "model_module": "@jupyter-widgets/base",
          "model_module_version": "1.2.0",
          "model_name": "LayoutModel",
          "state": {
            "_model_module": "@jupyter-widgets/base",
            "_model_module_version": "1.2.0",
            "_model_name": "LayoutModel",
            "_view_count": null,
            "_view_module": "@jupyter-widgets/base",
            "_view_module_version": "1.2.0",
            "_view_name": "LayoutView",
            "align_content": null,
            "align_items": null,
            "align_self": null,
            "border": null,
            "bottom": null,
            "display": null,
            "flex": null,
            "flex_flow": null,
            "grid_area": null,
            "grid_auto_columns": null,
            "grid_auto_flow": null,
            "grid_auto_rows": null,
            "grid_column": null,
            "grid_gap": null,
            "grid_row": null,
            "grid_template_areas": null,
            "grid_template_columns": null,
            "grid_template_rows": null,
            "height": null,
            "justify_content": null,
            "justify_items": null,
            "left": null,
            "margin": null,
            "max_height": null,
            "max_width": null,
            "min_height": null,
            "min_width": null,
            "object_fit": null,
            "object_position": null,
            "order": null,
            "overflow": null,
            "overflow_x": null,
            "overflow_y": null,
            "padding": null,
            "right": null,
            "top": null,
            "visibility": null,
            "width": null
          }
        },
        "15a1e6c22bfb42afaf4a0737093eef08": {
          "model_module": "@jupyter-widgets/controls",
          "model_module_version": "1.5.0",
          "model_name": "DescriptionStyleModel",
          "state": {
            "_model_module": "@jupyter-widgets/controls",
            "_model_module_version": "1.5.0",
            "_model_name": "DescriptionStyleModel",
            "_view_count": null,
            "_view_module": "@jupyter-widgets/base",
            "_view_module_version": "1.2.0",
            "_view_name": "StyleView",
            "description_width": ""
          }
        },
        "15d7fba06e744930be0126c378027abf": {
          "model_module": "@jupyter-widgets/controls",
          "model_module_version": "1.5.0",
          "model_name": "HTMLModel",
          "state": {
            "_dom_classes": [],
            "_model_module": "@jupyter-widgets/controls",
            "_model_module_version": "1.5.0",
            "_model_name": "HTMLModel",
            "_view_count": null,
            "_view_module": "@jupyter-widgets/controls",
            "_view_module_version": "1.5.0",
            "_view_name": "HTMLView",
            "description": "",
            "description_tooltip": null,
            "layout": "IPY_MODEL_9400c81a097d4c0f93f2ee550fbfb823",
            "placeholder": "​",
            "style": "IPY_MODEL_7a785cd45d6540d8920d2bb5173185c7",
            "value": "README.md: 100%"
          }
        },
        "1689b342a2144932b35f7915cbfd009e": {
          "model_module": "@jupyter-widgets/controls",
          "model_module_version": "1.5.0",
          "model_name": "DescriptionStyleModel",
          "state": {
            "_model_module": "@jupyter-widgets/controls",
            "_model_module_version": "1.5.0",
            "_model_name": "DescriptionStyleModel",
            "_view_count": null,
            "_view_module": "@jupyter-widgets/base",
            "_view_module_version": "1.2.0",
            "_view_name": "StyleView",
            "description_width": ""
          }
        },
        "171ee11fe9954326a5b13c99f4a64c73": {
          "model_module": "@jupyter-widgets/controls",
          "model_module_version": "1.5.0",
          "model_name": "FloatProgressModel",
          "state": {
            "_dom_classes": [],
            "_model_module": "@jupyter-widgets/controls",
            "_model_module_version": "1.5.0",
            "_model_name": "FloatProgressModel",
            "_view_count": null,
            "_view_module": "@jupyter-widgets/controls",
            "_view_module_version": "1.5.0",
            "_view_name": "ProgressView",
            "bar_style": "success",
            "description": "",
            "description_tooltip": null,
            "layout": "IPY_MODEL_8c56e5f735a242d099b7cbfa641bc44e",
            "max": 589,
            "min": 0,
            "orientation": "horizontal",
            "style": "IPY_MODEL_0635da18ea354c71b9cea1c09ab0140c",
            "value": 589
          }
        },
        "18b32baa17e74aa48695a5b842c3aaba": {
          "model_module": "@jupyter-widgets/controls",
          "model_module_version": "1.5.0",
          "model_name": "FloatProgressModel",
          "state": {
            "_dom_classes": [],
            "_model_module": "@jupyter-widgets/controls",
            "_model_module_version": "1.5.0",
            "_model_name": "FloatProgressModel",
            "_view_count": null,
            "_view_module": "@jupyter-widgets/controls",
            "_view_module_version": "1.5.0",
            "_view_name": "ProgressView",
            "bar_style": "success",
            "description": "",
            "description_tooltip": null,
            "layout": "IPY_MODEL_e9c47383b67c4d8aa9735395a7272304",
            "max": 90888945,
            "min": 0,
            "orientation": "horizontal",
            "style": "IPY_MODEL_a3d2bd35b3694f55b233a5275304d058",
            "value": 90888945
          }
        },
        "1b07d09a1dec49a3ae83974ae4b0790e": {
          "model_module": "@jupyter-widgets/base",
          "model_module_version": "1.2.0",
          "model_name": "LayoutModel",
          "state": {
            "_model_module": "@jupyter-widgets/base",
            "_model_module_version": "1.2.0",
            "_model_name": "LayoutModel",
            "_view_count": null,
            "_view_module": "@jupyter-widgets/base",
            "_view_module_version": "1.2.0",
            "_view_name": "LayoutView",
            "align_content": null,
            "align_items": null,
            "align_self": null,
            "border": null,
            "bottom": null,
            "display": null,
            "flex": null,
            "flex_flow": null,
            "grid_area": null,
            "grid_auto_columns": null,
            "grid_auto_flow": null,
            "grid_auto_rows": null,
            "grid_column": null,
            "grid_gap": null,
            "grid_row": null,
            "grid_template_areas": null,
            "grid_template_columns": null,
            "grid_template_rows": null,
            "height": null,
            "justify_content": null,
            "justify_items": null,
            "left": null,
            "margin": null,
            "max_height": null,
            "max_width": null,
            "min_height": null,
            "min_width": null,
            "object_fit": null,
            "object_position": null,
            "order": null,
            "overflow": null,
            "overflow_x": null,
            "overflow_y": null,
            "padding": null,
            "right": null,
            "top": null,
            "visibility": null,
            "width": null
          }
        },
        "1be710669ffe4cfcab43c9f306e94452": {
          "model_module": "@jupyter-widgets/controls",
          "model_module_version": "1.5.0",
          "model_name": "HTMLModel",
          "state": {
            "_dom_classes": [],
            "_model_module": "@jupyter-widgets/controls",
            "_model_module_version": "1.5.0",
            "_model_name": "HTMLModel",
            "_view_count": null,
            "_view_module": "@jupyter-widgets/controls",
            "_view_module_version": "1.5.0",
            "_view_name": "HTMLView",
            "description": "",
            "description_tooltip": null,
            "layout": "IPY_MODEL_c3539acebdd743f8aa8dbefba8cf4df2",
            "placeholder": "​",
            "style": "IPY_MODEL_b02c15f4937747b18fa9a5c936eb2067",
            "value": " 90.9M/90.9M [00:00&lt;00:00, 182MB/s]"
          }
        },
        "1c800e6ed8c540458c7fc03f16241a3f": {
          "model_module": "@jupyter-widgets/controls",
          "model_module_version": "1.5.0",
          "model_name": "ProgressStyleModel",
          "state": {
            "_model_module": "@jupyter-widgets/controls",
            "_model_module_version": "1.5.0",
            "_model_name": "ProgressStyleModel",
            "_view_count": null,
            "_view_module": "@jupyter-widgets/base",
            "_view_module_version": "1.2.0",
            "_view_name": "StyleView",
            "bar_color": null,
            "description_width": ""
          }
        },
        "1dd371b15c724324a065a2e90c644795": {
          "model_module": "@jupyter-widgets/controls",
          "model_module_version": "1.5.0",
          "model_name": "DescriptionStyleModel",
          "state": {
            "_model_module": "@jupyter-widgets/controls",
            "_model_module_version": "1.5.0",
            "_model_name": "DescriptionStyleModel",
            "_view_count": null,
            "_view_module": "@jupyter-widgets/base",
            "_view_module_version": "1.2.0",
            "_view_name": "StyleView",
            "description_width": ""
          }
        },
        "20fa26589a824967ab547eacec260f94": {
          "model_module": "@jupyter-widgets/controls",
          "model_module_version": "1.5.0",
          "model_name": "HTMLModel",
          "state": {
            "_dom_classes": [],
            "_model_module": "@jupyter-widgets/controls",
            "_model_module_version": "1.5.0",
            "_model_name": "HTMLModel",
            "_view_count": null,
            "_view_module": "@jupyter-widgets/controls",
            "_view_module_version": "1.5.0",
            "_view_name": "HTMLView",
            "description": "",
            "description_tooltip": null,
            "layout": "IPY_MODEL_9501989a1d0c4425bdd252a5a0135c13",
            "placeholder": "​",
            "style": "IPY_MODEL_29603221b1af4efeaeace5f1a1071e6e",
            "value": "config.json: 100%"
          }
        },
        "28217a608a58480db6e025b093d014bd": {
          "model_module": "@jupyter-widgets/controls",
          "model_module_version": "1.5.0",
          "model_name": "HTMLModel",
          "state": {
            "_dom_classes": [],
            "_model_module": "@jupyter-widgets/controls",
            "_model_module_version": "1.5.0",
            "_model_name": "HTMLModel",
            "_view_count": null,
            "_view_module": "@jupyter-widgets/controls",
            "_view_module_version": "1.5.0",
            "_view_name": "HTMLView",
            "description": "",
            "description_tooltip": null,
            "layout": "IPY_MODEL_dc806e7dde82494a8d2c9fc3e39448c5",
            "placeholder": "​",
            "style": "IPY_MODEL_c8180975bcce465db543f576596d4a5d",
            "value": "Batches: 100%"
          }
        },
        "29603221b1af4efeaeace5f1a1071e6e": {
          "model_module": "@jupyter-widgets/controls",
          "model_module_version": "1.5.0",
          "model_name": "DescriptionStyleModel",
          "state": {
            "_model_module": "@jupyter-widgets/controls",
            "_model_module_version": "1.5.0",
            "_model_name": "DescriptionStyleModel",
            "_view_count": null,
            "_view_module": "@jupyter-widgets/base",
            "_view_module_version": "1.2.0",
            "_view_name": "StyleView",
            "description_width": ""
          }
        },
        "2cd3e35169c340de8c599280de7b9eda": {
          "model_module": "@jupyter-widgets/controls",
          "model_module_version": "1.5.0",
          "model_name": "DescriptionStyleModel",
          "state": {
            "_model_module": "@jupyter-widgets/controls",
            "_model_module_version": "1.5.0",
            "_model_name": "DescriptionStyleModel",
            "_view_count": null,
            "_view_module": "@jupyter-widgets/base",
            "_view_module_version": "1.2.0",
            "_view_name": "StyleView",
            "description_width": ""
          }
        },
        "2df07b2f863e4adf9a4b308fd752502f": {
          "model_module": "@jupyter-widgets/controls",
          "model_module_version": "1.5.0",
          "model_name": "HTMLModel",
          "state": {
            "_dom_classes": [],
            "_model_module": "@jupyter-widgets/controls",
            "_model_module_version": "1.5.0",
            "_model_name": "HTMLModel",
            "_view_count": null,
            "_view_module": "@jupyter-widgets/controls",
            "_view_module_version": "1.5.0",
            "_view_name": "HTMLView",
            "description": "",
            "description_tooltip": null,
            "layout": "IPY_MODEL_3c835b283cec492f8790660cf6b8fece",
            "placeholder": "​",
            "style": "IPY_MODEL_0a8801ee47f3460b954527344c077ad8",
            "value": " 589/589 [00:50&lt;00:00, 87.64it/s]"
          }
        },
        "2f2c8a6dcc844d2e991f730de277ced5": {
          "model_module": "@jupyter-widgets/controls",
          "model_module_version": "1.5.0",
          "model_name": "HTMLModel",
          "state": {
            "_dom_classes": [],
            "_model_module": "@jupyter-widgets/controls",
            "_model_module_version": "1.5.0",
            "_model_name": "HTMLModel",
            "_view_count": null,
            "_view_module": "@jupyter-widgets/controls",
            "_view_module_version": "1.5.0",
            "_view_name": "HTMLView",
            "description": "",
            "description_tooltip": null,
            "layout": "IPY_MODEL_d3b6b6eaa39c475eabb7ac4b5bb7b29d",
            "placeholder": "​",
            "style": "IPY_MODEL_e4acf88b90e9475fbd71b65c7074faa0",
            "value": "Batches: 100%"
          }
        },
        "31b7af65ca694444bd0d3bdd95f88e9e": {
          "model_module": "@jupyter-widgets/controls",
          "model_module_version": "1.5.0",
          "model_name": "HTMLModel",
          "state": {
            "_dom_classes": [],
            "_model_module": "@jupyter-widgets/controls",
            "_model_module_version": "1.5.0",
            "_model_name": "HTMLModel",
            "_view_count": null,
            "_view_module": "@jupyter-widgets/controls",
            "_view_module_version": "1.5.0",
            "_view_name": "HTMLView",
            "description": "",
            "description_tooltip": null,
            "layout": "IPY_MODEL_df3c2c15771f42bb9c93c138ace29ec4",
            "placeholder": "​",
            "style": "IPY_MODEL_2cd3e35169c340de8c599280de7b9eda",
            "value": " 53.0/53.0 [00:00&lt;00:00, 4.02kB/s]"
          }
        },
        "324c4f4850f34956bd1f02e01867d8d5": {
          "model_module": "@jupyter-widgets/base",
          "model_module_version": "1.2.0",
          "model_name": "LayoutModel",
          "state": {
            "_model_module": "@jupyter-widgets/base",
            "_model_module_version": "1.2.0",
            "_model_name": "LayoutModel",
            "_view_count": null,
            "_view_module": "@jupyter-widgets/base",
            "_view_module_version": "1.2.0",
            "_view_name": "LayoutView",
            "align_content": null,
            "align_items": null,
            "align_self": null,
            "border": null,
            "bottom": null,
            "display": null,
            "flex": null,
            "flex_flow": null,
            "grid_area": null,
            "grid_auto_columns": null,
            "grid_auto_flow": null,
            "grid_auto_rows": null,
            "grid_column": null,
            "grid_gap": null,
            "grid_row": null,
            "grid_template_areas": null,
            "grid_template_columns": null,
            "grid_template_rows": null,
            "height": null,
            "justify_content": null,
            "justify_items": null,
            "left": null,
            "margin": null,
            "max_height": null,
            "max_width": null,
            "min_height": null,
            "min_width": null,
            "object_fit": null,
            "object_position": null,
            "order": null,
            "overflow": null,
            "overflow_x": null,
            "overflow_y": null,
            "padding": null,
            "right": null,
            "top": null,
            "visibility": null,
            "width": null
          }
        },
        "325bc387ff1047889590c4cc5666a3cf": {
          "model_module": "@jupyter-widgets/base",
          "model_module_version": "1.2.0",
          "model_name": "LayoutModel",
          "state": {
            "_model_module": "@jupyter-widgets/base",
            "_model_module_version": "1.2.0",
            "_model_name": "LayoutModel",
            "_view_count": null,
            "_view_module": "@jupyter-widgets/base",
            "_view_module_version": "1.2.0",
            "_view_name": "LayoutView",
            "align_content": null,
            "align_items": null,
            "align_self": null,
            "border": null,
            "bottom": null,
            "display": null,
            "flex": null,
            "flex_flow": null,
            "grid_area": null,
            "grid_auto_columns": null,
            "grid_auto_flow": null,
            "grid_auto_rows": null,
            "grid_column": null,
            "grid_gap": null,
            "grid_row": null,
            "grid_template_areas": null,
            "grid_template_columns": null,
            "grid_template_rows": null,
            "height": null,
            "justify_content": null,
            "justify_items": null,
            "left": null,
            "margin": null,
            "max_height": null,
            "max_width": null,
            "min_height": null,
            "min_width": null,
            "object_fit": null,
            "object_position": null,
            "order": null,
            "overflow": null,
            "overflow_x": null,
            "overflow_y": null,
            "padding": null,
            "right": null,
            "top": null,
            "visibility": null,
            "width": null
          }
        },
        "36c18eb276c3459bbec41d52f8d8406a": {
          "model_module": "@jupyter-widgets/controls",
          "model_module_version": "1.5.0",
          "model_name": "ProgressStyleModel",
          "state": {
            "_model_module": "@jupyter-widgets/controls",
            "_model_module_version": "1.5.0",
            "_model_name": "ProgressStyleModel",
            "_view_count": null,
            "_view_module": "@jupyter-widgets/base",
            "_view_module_version": "1.2.0",
            "_view_name": "StyleView",
            "bar_color": null,
            "description_width": ""
          }
        },
        "3c835b283cec492f8790660cf6b8fece": {
          "model_module": "@jupyter-widgets/base",
          "model_module_version": "1.2.0",
          "model_name": "LayoutModel",
          "state": {
            "_model_module": "@jupyter-widgets/base",
            "_model_module_version": "1.2.0",
            "_model_name": "LayoutModel",
            "_view_count": null,
            "_view_module": "@jupyter-widgets/base",
            "_view_module_version": "1.2.0",
            "_view_name": "LayoutView",
            "align_content": null,
            "align_items": null,
            "align_self": null,
            "border": null,
            "bottom": null,
            "display": null,
            "flex": null,
            "flex_flow": null,
            "grid_area": null,
            "grid_auto_columns": null,
            "grid_auto_flow": null,
            "grid_auto_rows": null,
            "grid_column": null,
            "grid_gap": null,
            "grid_row": null,
            "grid_template_areas": null,
            "grid_template_columns": null,
            "grid_template_rows": null,
            "height": null,
            "justify_content": null,
            "justify_items": null,
            "left": null,
            "margin": null,
            "max_height": null,
            "max_width": null,
            "min_height": null,
            "min_width": null,
            "object_fit": null,
            "object_position": null,
            "order": null,
            "overflow": null,
            "overflow_x": null,
            "overflow_y": null,
            "padding": null,
            "right": null,
            "top": null,
            "visibility": null,
            "width": null
          }
        },
        "3cf229d9f12b4dc08285e9378cfb2355": {
          "model_module": "@jupyter-widgets/controls",
          "model_module_version": "1.5.0",
          "model_name": "ProgressStyleModel",
          "state": {
            "_model_module": "@jupyter-widgets/controls",
            "_model_module_version": "1.5.0",
            "_model_name": "ProgressStyleModel",
            "_view_count": null,
            "_view_module": "@jupyter-widgets/base",
            "_view_module_version": "1.2.0",
            "_view_name": "StyleView",
            "bar_color": null,
            "description_width": ""
          }
        },
        "3f1e76fc48564cfaa7a378431e98727d": {
          "model_module": "@jupyter-widgets/base",
          "model_module_version": "1.2.0",
          "model_name": "LayoutModel",
          "state": {
            "_model_module": "@jupyter-widgets/base",
            "_model_module_version": "1.2.0",
            "_model_name": "LayoutModel",
            "_view_count": null,
            "_view_module": "@jupyter-widgets/base",
            "_view_module_version": "1.2.0",
            "_view_name": "LayoutView",
            "align_content": null,
            "align_items": null,
            "align_self": null,
            "border": null,
            "bottom": null,
            "display": null,
            "flex": null,
            "flex_flow": null,
            "grid_area": null,
            "grid_auto_columns": null,
            "grid_auto_flow": null,
            "grid_auto_rows": null,
            "grid_column": null,
            "grid_gap": null,
            "grid_row": null,
            "grid_template_areas": null,
            "grid_template_columns": null,
            "grid_template_rows": null,
            "height": null,
            "justify_content": null,
            "justify_items": null,
            "left": null,
            "margin": null,
            "max_height": null,
            "max_width": null,
            "min_height": null,
            "min_width": null,
            "object_fit": null,
            "object_position": null,
            "order": null,
            "overflow": null,
            "overflow_x": null,
            "overflow_y": null,
            "padding": null,
            "right": null,
            "top": null,
            "visibility": null,
            "width": null
          }
        },
        "40d9501befa8482cb9bf9d26c0d884e5": {
          "model_module": "@jupyter-widgets/controls",
          "model_module_version": "1.5.0",
          "model_name": "FloatProgressModel",
          "state": {
            "_dom_classes": [],
            "_model_module": "@jupyter-widgets/controls",
            "_model_module_version": "1.5.0",
            "_model_name": "FloatProgressModel",
            "_view_count": null,
            "_view_module": "@jupyter-widgets/controls",
            "_view_module_version": "1.5.0",
            "_view_name": "ProgressView",
            "bar_style": "success",
            "description": "",
            "description_tooltip": null,
            "layout": "IPY_MODEL_e6f3b762fc0c43eb94bda38d902d73e3",
            "max": 349,
            "min": 0,
            "orientation": "horizontal",
            "style": "IPY_MODEL_ce6460e0f450426e9a23a62767ea3519",
            "value": 349
          }
        },
        "40fbbf3bf0f1499680d858e59ddb201d": {
          "model_module": "@jupyter-widgets/controls",
          "model_module_version": "1.5.0",
          "model_name": "HBoxModel",
          "state": {
            "_dom_classes": [],
            "_model_module": "@jupyter-widgets/controls",
            "_model_module_version": "1.5.0",
            "_model_name": "HBoxModel",
            "_view_count": null,
            "_view_module": "@jupyter-widgets/controls",
            "_view_module_version": "1.5.0",
            "_view_name": "HBoxView",
            "box_style": "",
            "children": [
              "IPY_MODEL_15d7fba06e744930be0126c378027abf",
              "IPY_MODEL_0ce033616fb2417284e2f7e221915fb3",
              "IPY_MODEL_083b321262214023b1c07e569212e110"
            ],
            "layout": "IPY_MODEL_a8665890c9b543609d8f5e325eb09655"
          }
        },
        "463a74f8964748cc8c588660a7372bf0": {
          "model_module": "@jupyter-widgets/controls",
          "model_module_version": "1.5.0",
          "model_name": "HBoxModel",
          "state": {
            "_dom_classes": [],
            "_model_module": "@jupyter-widgets/controls",
            "_model_module_version": "1.5.0",
            "_model_name": "HBoxModel",
            "_view_count": null,
            "_view_module": "@jupyter-widgets/controls",
            "_view_module_version": "1.5.0",
            "_view_name": "HBoxView",
            "box_style": "",
            "children": [
              "IPY_MODEL_fd8db782327b412080f81b162e6d8f81",
              "IPY_MODEL_18b32baa17e74aa48695a5b842c3aaba",
              "IPY_MODEL_1be710669ffe4cfcab43c9f306e94452"
            ],
            "layout": "IPY_MODEL_127e6fda67294e4e8cb0edb8632e52d3"
          }
        },
        "464cb07487c3414999de4513b93d5392": {
          "model_module": "@jupyter-widgets/base",
          "model_module_version": "1.2.0",
          "model_name": "LayoutModel",
          "state": {
            "_model_module": "@jupyter-widgets/base",
            "_model_module_version": "1.2.0",
            "_model_name": "LayoutModel",
            "_view_count": null,
            "_view_module": "@jupyter-widgets/base",
            "_view_module_version": "1.2.0",
            "_view_name": "LayoutView",
            "align_content": null,
            "align_items": null,
            "align_self": null,
            "border": null,
            "bottom": null,
            "display": null,
            "flex": null,
            "flex_flow": null,
            "grid_area": null,
            "grid_auto_columns": null,
            "grid_auto_flow": null,
            "grid_auto_rows": null,
            "grid_column": null,
            "grid_gap": null,
            "grid_row": null,
            "grid_template_areas": null,
            "grid_template_columns": null,
            "grid_template_rows": null,
            "height": null,
            "justify_content": null,
            "justify_items": null,
            "left": null,
            "margin": null,
            "max_height": null,
            "max_width": null,
            "min_height": null,
            "min_width": null,
            "object_fit": null,
            "object_position": null,
            "order": null,
            "overflow": null,
            "overflow_x": null,
            "overflow_y": null,
            "padding": null,
            "right": null,
            "top": null,
            "visibility": null,
            "width": null
          }
        },
        "474d76c2359c447c9d7cec96749ab667": {
          "model_module": "@jupyter-widgets/controls",
          "model_module_version": "1.5.0",
          "model_name": "ProgressStyleModel",
          "state": {
            "_model_module": "@jupyter-widgets/controls",
            "_model_module_version": "1.5.0",
            "_model_name": "ProgressStyleModel",
            "_view_count": null,
            "_view_module": "@jupyter-widgets/base",
            "_view_module_version": "1.2.0",
            "_view_name": "StyleView",
            "bar_color": null,
            "description_width": ""
          }
        },
        "490ff693090b49e99d7e558f7866656b": {
          "model_module": "@jupyter-widgets/controls",
          "model_module_version": "1.5.0",
          "model_name": "FloatProgressModel",
          "state": {
            "_dom_classes": [],
            "_model_module": "@jupyter-widgets/controls",
            "_model_module_version": "1.5.0",
            "_model_name": "FloatProgressModel",
            "_view_count": null,
            "_view_module": "@jupyter-widgets/controls",
            "_view_module_version": "1.5.0",
            "_view_name": "ProgressView",
            "bar_style": "success",
            "description": "",
            "description_tooltip": null,
            "layout": "IPY_MODEL_04f612bc6ecd44d1a3ce8928ea0f606b",
            "max": 466247,
            "min": 0,
            "orientation": "horizontal",
            "style": "IPY_MODEL_a760c6ea3468487d8bd50b9360aeddd5",
            "value": 466247
          }
        },
        "498a3c2b680047cebdab4fc9d1e26dba": {
          "model_module": "@jupyter-widgets/base",
          "model_module_version": "1.2.0",
          "model_name": "LayoutModel",
          "state": {
            "_model_module": "@jupyter-widgets/base",
            "_model_module_version": "1.2.0",
            "_model_name": "LayoutModel",
            "_view_count": null,
            "_view_module": "@jupyter-widgets/base",
            "_view_module_version": "1.2.0",
            "_view_name": "LayoutView",
            "align_content": null,
            "align_items": null,
            "align_self": null,
            "border": null,
            "bottom": null,
            "display": null,
            "flex": null,
            "flex_flow": null,
            "grid_area": null,
            "grid_auto_columns": null,
            "grid_auto_flow": null,
            "grid_auto_rows": null,
            "grid_column": null,
            "grid_gap": null,
            "grid_row": null,
            "grid_template_areas": null,
            "grid_template_columns": null,
            "grid_template_rows": null,
            "height": null,
            "justify_content": null,
            "justify_items": null,
            "left": null,
            "margin": null,
            "max_height": null,
            "max_width": null,
            "min_height": null,
            "min_width": null,
            "object_fit": null,
            "object_position": null,
            "order": null,
            "overflow": null,
            "overflow_x": null,
            "overflow_y": null,
            "padding": null,
            "right": null,
            "top": null,
            "visibility": null,
            "width": null
          }
        },
        "4c25b9a6d87a405789c9c89802b61f02": {
          "model_module": "@jupyter-widgets/controls",
          "model_module_version": "1.5.0",
          "model_name": "HBoxModel",
          "state": {
            "_dom_classes": [],
            "_model_module": "@jupyter-widgets/controls",
            "_model_module_version": "1.5.0",
            "_model_name": "HBoxModel",
            "_view_count": null,
            "_view_module": "@jupyter-widgets/controls",
            "_view_module_version": "1.5.0",
            "_view_name": "HBoxView",
            "box_style": "",
            "children": [
              "IPY_MODEL_cc8de2098c0f4baba9b9dc8adbd8c242",
              "IPY_MODEL_776f23e3f5874d6491f32b1566286c3c",
              "IPY_MODEL_95640308ae2a4987a8f1690f66e2113a"
            ],
            "layout": "IPY_MODEL_fe84d0dab1194e508141225915a74204"
          }
        },
        "4d4a08d22ef342cbb689d775baec1aa3": {
          "model_module": "@jupyter-widgets/base",
          "model_module_version": "1.2.0",
          "model_name": "LayoutModel",
          "state": {
            "_model_module": "@jupyter-widgets/base",
            "_model_module_version": "1.2.0",
            "_model_name": "LayoutModel",
            "_view_count": null,
            "_view_module": "@jupyter-widgets/base",
            "_view_module_version": "1.2.0",
            "_view_name": "LayoutView",
            "align_content": null,
            "align_items": null,
            "align_self": null,
            "border": null,
            "bottom": null,
            "display": null,
            "flex": null,
            "flex_flow": null,
            "grid_area": null,
            "grid_auto_columns": null,
            "grid_auto_flow": null,
            "grid_auto_rows": null,
            "grid_column": null,
            "grid_gap": null,
            "grid_row": null,
            "grid_template_areas": null,
            "grid_template_columns": null,
            "grid_template_rows": null,
            "height": null,
            "justify_content": null,
            "justify_items": null,
            "left": null,
            "margin": null,
            "max_height": null,
            "max_width": null,
            "min_height": null,
            "min_width": null,
            "object_fit": null,
            "object_position": null,
            "order": null,
            "overflow": null,
            "overflow_x": null,
            "overflow_y": null,
            "padding": null,
            "right": null,
            "top": null,
            "visibility": null,
            "width": null
          }
        },
        "4d53d4d43af2459985faf3abe7ad8421": {
          "model_module": "@jupyter-widgets/controls",
          "model_module_version": "1.5.0",
          "model_name": "DescriptionStyleModel",
          "state": {
            "_model_module": "@jupyter-widgets/controls",
            "_model_module_version": "1.5.0",
            "_model_name": "DescriptionStyleModel",
            "_view_count": null,
            "_view_module": "@jupyter-widgets/base",
            "_view_module_version": "1.2.0",
            "_view_name": "StyleView",
            "description_width": ""
          }
        },
        "4db7799c94124d35a8f0f849a2e93cda": {
          "model_module": "@jupyter-widgets/controls",
          "model_module_version": "1.5.0",
          "model_name": "DescriptionStyleModel",
          "state": {
            "_model_module": "@jupyter-widgets/controls",
            "_model_module_version": "1.5.0",
            "_model_name": "DescriptionStyleModel",
            "_view_count": null,
            "_view_module": "@jupyter-widgets/base",
            "_view_module_version": "1.2.0",
            "_view_name": "StyleView",
            "description_width": ""
          }
        },
        "52160e0a64de4d74b47c376275919f1f": {
          "model_module": "@jupyter-widgets/controls",
          "model_module_version": "1.5.0",
          "model_name": "ProgressStyleModel",
          "state": {
            "_model_module": "@jupyter-widgets/controls",
            "_model_module_version": "1.5.0",
            "_model_name": "ProgressStyleModel",
            "_view_count": null,
            "_view_module": "@jupyter-widgets/base",
            "_view_module_version": "1.2.0",
            "_view_name": "StyleView",
            "bar_color": null,
            "description_width": ""
          }
        },
        "543537b91274415f8a5035f4c8b4f0f5": {
          "model_module": "@jupyter-widgets/controls",
          "model_module_version": "1.5.0",
          "model_name": "ProgressStyleModel",
          "state": {
            "_model_module": "@jupyter-widgets/controls",
            "_model_module_version": "1.5.0",
            "_model_name": "ProgressStyleModel",
            "_view_count": null,
            "_view_module": "@jupyter-widgets/base",
            "_view_module_version": "1.2.0",
            "_view_name": "StyleView",
            "bar_color": null,
            "description_width": ""
          }
        },
        "54cf32168c5249f38b44c787123980d5": {
          "model_module": "@jupyter-widgets/base",
          "model_module_version": "1.2.0",
          "model_name": "LayoutModel",
          "state": {
            "_model_module": "@jupyter-widgets/base",
            "_model_module_version": "1.2.0",
            "_model_name": "LayoutModel",
            "_view_count": null,
            "_view_module": "@jupyter-widgets/base",
            "_view_module_version": "1.2.0",
            "_view_name": "LayoutView",
            "align_content": null,
            "align_items": null,
            "align_self": null,
            "border": null,
            "bottom": null,
            "display": null,
            "flex": null,
            "flex_flow": null,
            "grid_area": null,
            "grid_auto_columns": null,
            "grid_auto_flow": null,
            "grid_auto_rows": null,
            "grid_column": null,
            "grid_gap": null,
            "grid_row": null,
            "grid_template_areas": null,
            "grid_template_columns": null,
            "grid_template_rows": null,
            "height": null,
            "justify_content": null,
            "justify_items": null,
            "left": null,
            "margin": null,
            "max_height": null,
            "max_width": null,
            "min_height": null,
            "min_width": null,
            "object_fit": null,
            "object_position": null,
            "order": null,
            "overflow": null,
            "overflow_x": null,
            "overflow_y": null,
            "padding": null,
            "right": null,
            "top": null,
            "visibility": null,
            "width": null
          }
        },
        "5767e7fb57994db1a08ce6bdd21476bd": {
          "model_module": "@jupyter-widgets/base",
          "model_module_version": "1.2.0",
          "model_name": "LayoutModel",
          "state": {
            "_model_module": "@jupyter-widgets/base",
            "_model_module_version": "1.2.0",
            "_model_name": "LayoutModel",
            "_view_count": null,
            "_view_module": "@jupyter-widgets/base",
            "_view_module_version": "1.2.0",
            "_view_name": "LayoutView",
            "align_content": null,
            "align_items": null,
            "align_self": null,
            "border": null,
            "bottom": null,
            "display": null,
            "flex": null,
            "flex_flow": null,
            "grid_area": null,
            "grid_auto_columns": null,
            "grid_auto_flow": null,
            "grid_auto_rows": null,
            "grid_column": null,
            "grid_gap": null,
            "grid_row": null,
            "grid_template_areas": null,
            "grid_template_columns": null,
            "grid_template_rows": null,
            "height": null,
            "justify_content": null,
            "justify_items": null,
            "left": null,
            "margin": null,
            "max_height": null,
            "max_width": null,
            "min_height": null,
            "min_width": null,
            "object_fit": null,
            "object_position": null,
            "order": null,
            "overflow": null,
            "overflow_x": null,
            "overflow_y": null,
            "padding": null,
            "right": null,
            "top": null,
            "visibility": null,
            "width": null
          }
        },
        "57df4c43920a4a1b8863309ff9169d80": {
          "model_module": "@jupyter-widgets/controls",
          "model_module_version": "1.5.0",
          "model_name": "DescriptionStyleModel",
          "state": {
            "_model_module": "@jupyter-widgets/controls",
            "_model_module_version": "1.5.0",
            "_model_name": "DescriptionStyleModel",
            "_view_count": null,
            "_view_module": "@jupyter-widgets/base",
            "_view_module_version": "1.2.0",
            "_view_name": "StyleView",
            "description_width": ""
          }
        },
        "58abd97af3504721a84fe8676b81d42a": {
          "model_module": "@jupyter-widgets/base",
          "model_module_version": "1.2.0",
          "model_name": "LayoutModel",
          "state": {
            "_model_module": "@jupyter-widgets/base",
            "_model_module_version": "1.2.0",
            "_model_name": "LayoutModel",
            "_view_count": null,
            "_view_module": "@jupyter-widgets/base",
            "_view_module_version": "1.2.0",
            "_view_name": "LayoutView",
            "align_content": null,
            "align_items": null,
            "align_self": null,
            "border": null,
            "bottom": null,
            "display": null,
            "flex": null,
            "flex_flow": null,
            "grid_area": null,
            "grid_auto_columns": null,
            "grid_auto_flow": null,
            "grid_auto_rows": null,
            "grid_column": null,
            "grid_gap": null,
            "grid_row": null,
            "grid_template_areas": null,
            "grid_template_columns": null,
            "grid_template_rows": null,
            "height": null,
            "justify_content": null,
            "justify_items": null,
            "left": null,
            "margin": null,
            "max_height": null,
            "max_width": null,
            "min_height": null,
            "min_width": null,
            "object_fit": null,
            "object_position": null,
            "order": null,
            "overflow": null,
            "overflow_x": null,
            "overflow_y": null,
            "padding": null,
            "right": null,
            "top": null,
            "visibility": null,
            "width": null
          }
        },
        "5d84f9d312aa45398cecc24a81b831aa": {
          "model_module": "@jupyter-widgets/controls",
          "model_module_version": "1.5.0",
          "model_name": "HTMLModel",
          "state": {
            "_dom_classes": [],
            "_model_module": "@jupyter-widgets/controls",
            "_model_module_version": "1.5.0",
            "_model_name": "HTMLModel",
            "_view_count": null,
            "_view_module": "@jupyter-widgets/controls",
            "_view_module_version": "1.5.0",
            "_view_name": "HTMLView",
            "description": "",
            "description_tooltip": null,
            "layout": "IPY_MODEL_ef8e741c4c2d4aa08dc2c11b6ce4623e",
            "placeholder": "​",
            "style": "IPY_MODEL_8dbf60f9bb7d4a348c87bd1a5b0b6499",
            "value": "Batches: 100%"
          }
        },
        "5f01780788bc4284a311fb623bf7c908": {
          "model_module": "@jupyter-widgets/controls",
          "model_module_version": "1.5.0",
          "model_name": "FloatProgressModel",
          "state": {
            "_dom_classes": [],
            "_model_module": "@jupyter-widgets/controls",
            "_model_module_version": "1.5.0",
            "_model_name": "FloatProgressModel",
            "_view_count": null,
            "_view_module": "@jupyter-widgets/controls",
            "_view_module_version": "1.5.0",
            "_view_name": "ProgressView",
            "bar_style": "success",
            "description": "",
            "description_tooltip": null,
            "layout": "IPY_MODEL_df2b361facf24a388c6d72f1be5faa66",
            "max": 190,
            "min": 0,
            "orientation": "horizontal",
            "style": "IPY_MODEL_543537b91274415f8a5035f4c8b4f0f5",
            "value": 190
          }
        },
        "5f3eef230d9a43578a9ad13b7138169d": {
          "model_module": "@jupyter-widgets/base",
          "model_module_version": "1.2.0",
          "model_name": "LayoutModel",
          "state": {
            "_model_module": "@jupyter-widgets/base",
            "_model_module_version": "1.2.0",
            "_model_name": "LayoutModel",
            "_view_count": null,
            "_view_module": "@jupyter-widgets/base",
            "_view_module_version": "1.2.0",
            "_view_name": "LayoutView",
            "align_content": null,
            "align_items": null,
            "align_self": null,
            "border": null,
            "bottom": null,
            "display": null,
            "flex": null,
            "flex_flow": null,
            "grid_area": null,
            "grid_auto_columns": null,
            "grid_auto_flow": null,
            "grid_auto_rows": null,
            "grid_column": null,
            "grid_gap": null,
            "grid_row": null,
            "grid_template_areas": null,
            "grid_template_columns": null,
            "grid_template_rows": null,
            "height": null,
            "justify_content": null,
            "justify_items": null,
            "left": null,
            "margin": null,
            "max_height": null,
            "max_width": null,
            "min_height": null,
            "min_width": null,
            "object_fit": null,
            "object_position": null,
            "order": null,
            "overflow": null,
            "overflow_x": null,
            "overflow_y": null,
            "padding": null,
            "right": null,
            "top": null,
            "visibility": null,
            "width": null
          }
        },
        "5fc36c9fcf59405a9832ff5d1c05c94f": {
          "model_module": "@jupyter-widgets/base",
          "model_module_version": "1.2.0",
          "model_name": "LayoutModel",
          "state": {
            "_model_module": "@jupyter-widgets/base",
            "_model_module_version": "1.2.0",
            "_model_name": "LayoutModel",
            "_view_count": null,
            "_view_module": "@jupyter-widgets/base",
            "_view_module_version": "1.2.0",
            "_view_name": "LayoutView",
            "align_content": null,
            "align_items": null,
            "align_self": null,
            "border": null,
            "bottom": null,
            "display": null,
            "flex": null,
            "flex_flow": null,
            "grid_area": null,
            "grid_auto_columns": null,
            "grid_auto_flow": null,
            "grid_auto_rows": null,
            "grid_column": null,
            "grid_gap": null,
            "grid_row": null,
            "grid_template_areas": null,
            "grid_template_columns": null,
            "grid_template_rows": null,
            "height": null,
            "justify_content": null,
            "justify_items": null,
            "left": null,
            "margin": null,
            "max_height": null,
            "max_width": null,
            "min_height": null,
            "min_width": null,
            "object_fit": null,
            "object_position": null,
            "order": null,
            "overflow": null,
            "overflow_x": null,
            "overflow_y": null,
            "padding": null,
            "right": null,
            "top": null,
            "visibility": null,
            "width": null
          }
        },
        "60c4badf1ff649f0a1e4ea0effb92fd4": {
          "model_module": "@jupyter-widgets/controls",
          "model_module_version": "1.5.0",
          "model_name": "HTMLModel",
          "state": {
            "_dom_classes": [],
            "_model_module": "@jupyter-widgets/controls",
            "_model_module_version": "1.5.0",
            "_model_name": "HTMLModel",
            "_view_count": null,
            "_view_module": "@jupyter-widgets/controls",
            "_view_module_version": "1.5.0",
            "_view_name": "HTMLView",
            "description": "",
            "description_tooltip": null,
            "layout": "IPY_MODEL_c717afa0934145cc935281343b9b76f3",
            "placeholder": "​",
            "style": "IPY_MODEL_1dd371b15c724324a065a2e90c644795",
            "value": "config_sentence_transformers.json: 100%"
          }
        },
        "62ea7697d52f46c3886b6df072a528c2": {
          "model_module": "@jupyter-widgets/base",
          "model_module_version": "1.2.0",
          "model_name": "LayoutModel",
          "state": {
            "_model_module": "@jupyter-widgets/base",
            "_model_module_version": "1.2.0",
            "_model_name": "LayoutModel",
            "_view_count": null,
            "_view_module": "@jupyter-widgets/base",
            "_view_module_version": "1.2.0",
            "_view_name": "LayoutView",
            "align_content": null,
            "align_items": null,
            "align_self": null,
            "border": null,
            "bottom": null,
            "display": null,
            "flex": null,
            "flex_flow": null,
            "grid_area": null,
            "grid_auto_columns": null,
            "grid_auto_flow": null,
            "grid_auto_rows": null,
            "grid_column": null,
            "grid_gap": null,
            "grid_row": null,
            "grid_template_areas": null,
            "grid_template_columns": null,
            "grid_template_rows": null,
            "height": null,
            "justify_content": null,
            "justify_items": null,
            "left": null,
            "margin": null,
            "max_height": null,
            "max_width": null,
            "min_height": null,
            "min_width": null,
            "object_fit": null,
            "object_position": null,
            "order": null,
            "overflow": null,
            "overflow_x": null,
            "overflow_y": null,
            "padding": null,
            "right": null,
            "top": null,
            "visibility": null,
            "width": null
          }
        },
        "64de8bf5ab3d4daf9ef70d857a658562": {
          "model_module": "@jupyter-widgets/controls",
          "model_module_version": "1.5.0",
          "model_name": "HBoxModel",
          "state": {
            "_dom_classes": [],
            "_model_module": "@jupyter-widgets/controls",
            "_model_module_version": "1.5.0",
            "_model_name": "HBoxModel",
            "_view_count": null,
            "_view_module": "@jupyter-widgets/controls",
            "_view_module_version": "1.5.0",
            "_view_name": "HBoxView",
            "box_style": "",
            "children": [
              "IPY_MODEL_5d84f9d312aa45398cecc24a81b831aa",
              "IPY_MODEL_dd1f1c6d30ee42b2a9a6db1887f1f2f5",
              "IPY_MODEL_acade922ebba4882a153ccd172901c89"
            ],
            "layout": "IPY_MODEL_8976c53896374582955e0bf9a7fd1448"
          }
        },
        "678b7978106c496da1ab482aa446e10b": {
          "model_module": "@jupyter-widgets/base",
          "model_module_version": "1.2.0",
          "model_name": "LayoutModel",
          "state": {
            "_model_module": "@jupyter-widgets/base",
            "_model_module_version": "1.2.0",
            "_model_name": "LayoutModel",
            "_view_count": null,
            "_view_module": "@jupyter-widgets/base",
            "_view_module_version": "1.2.0",
            "_view_name": "LayoutView",
            "align_content": null,
            "align_items": null,
            "align_self": null,
            "border": null,
            "bottom": null,
            "display": null,
            "flex": null,
            "flex_flow": null,
            "grid_area": null,
            "grid_auto_columns": null,
            "grid_auto_flow": null,
            "grid_auto_rows": null,
            "grid_column": null,
            "grid_gap": null,
            "grid_row": null,
            "grid_template_areas": null,
            "grid_template_columns": null,
            "grid_template_rows": null,
            "height": null,
            "justify_content": null,
            "justify_items": null,
            "left": null,
            "margin": null,
            "max_height": null,
            "max_width": null,
            "min_height": null,
            "min_width": null,
            "object_fit": null,
            "object_position": null,
            "order": null,
            "overflow": null,
            "overflow_x": null,
            "overflow_y": null,
            "padding": null,
            "right": null,
            "top": null,
            "visibility": null,
            "width": null
          }
        },
        "69a87b186d9943e7850990b39df88b6c": {
          "model_module": "@jupyter-widgets/controls",
          "model_module_version": "1.5.0",
          "model_name": "HBoxModel",
          "state": {
            "_dom_classes": [],
            "_model_module": "@jupyter-widgets/controls",
            "_model_module_version": "1.5.0",
            "_model_name": "HBoxModel",
            "_view_count": null,
            "_view_module": "@jupyter-widgets/controls",
            "_view_module_version": "1.5.0",
            "_view_name": "HBoxView",
            "box_style": "",
            "children": [
              "IPY_MODEL_8b2b446b82fc438890ce3062cfbb364c",
              "IPY_MODEL_db4141d4e40348d184214c9fa0436c26",
              "IPY_MODEL_31b7af65ca694444bd0d3bdd95f88e9e"
            ],
            "layout": "IPY_MODEL_76dac1ac81d64965b9b2136c9452d46a"
          }
        },
        "709efef007724e609bbbc06a9cd63d15": {
          "model_module": "@jupyter-widgets/controls",
          "model_module_version": "1.5.0",
          "model_name": "HTMLModel",
          "state": {
            "_dom_classes": [],
            "_model_module": "@jupyter-widgets/controls",
            "_model_module_version": "1.5.0",
            "_model_name": "HTMLModel",
            "_view_count": null,
            "_view_module": "@jupyter-widgets/controls",
            "_view_module_version": "1.5.0",
            "_view_name": "HTMLView",
            "description": "",
            "description_tooltip": null,
            "layout": "IPY_MODEL_5f3eef230d9a43578a9ad13b7138169d",
            "placeholder": "​",
            "style": "IPY_MODEL_ab22da5d350e4d77ae18ed0248db79ce",
            "value": " 116/116 [00:00&lt;00:00, 5.25kB/s]"
          }
        },
        "728cf26bf0584675b536e5d66ac4dc32": {
          "model_module": "@jupyter-widgets/controls",
          "model_module_version": "1.5.0",
          "model_name": "FloatProgressModel",
          "state": {
            "_dom_classes": [],
            "_model_module": "@jupyter-widgets/controls",
            "_model_module_version": "1.5.0",
            "_model_name": "FloatProgressModel",
            "_view_count": null,
            "_view_module": "@jupyter-widgets/controls",
            "_view_module_version": "1.5.0",
            "_view_name": "ProgressView",
            "bar_style": "success",
            "description": "",
            "description_tooltip": null,
            "layout": "IPY_MODEL_0686b1707cef45f1a5a088e467948a03",
            "max": 612,
            "min": 0,
            "orientation": "horizontal",
            "style": "IPY_MODEL_36c18eb276c3459bbec41d52f8d8406a",
            "value": 612
          }
        },
        "72e99f824dab4a5ca17851608c433852": {
          "model_module": "@jupyter-widgets/controls",
          "model_module_version": "1.5.0",
          "model_name": "DescriptionStyleModel",
          "state": {
            "_model_module": "@jupyter-widgets/controls",
            "_model_module_version": "1.5.0",
            "_model_name": "DescriptionStyleModel",
            "_view_count": null,
            "_view_module": "@jupyter-widgets/base",
            "_view_module_version": "1.2.0",
            "_view_name": "StyleView",
            "description_width": ""
          }
        },
        "73a3fd286252407598dce852be2ee943": {
          "model_module": "@jupyter-widgets/controls",
          "model_module_version": "1.5.0",
          "model_name": "HTMLModel",
          "state": {
            "_dom_classes": [],
            "_model_module": "@jupyter-widgets/controls",
            "_model_module_version": "1.5.0",
            "_model_name": "HTMLModel",
            "_view_count": null,
            "_view_module": "@jupyter-widgets/controls",
            "_view_module_version": "1.5.0",
            "_view_name": "HTMLView",
            "description": "",
            "description_tooltip": null,
            "layout": "IPY_MODEL_cf3cb4a0131c4db6bb261b7ca70ccd03",
            "placeholder": "​",
            "style": "IPY_MODEL_76b6591413e045238b1e9604bc0e433b",
            "value": " 112/112 [00:00&lt;00:00, 2.54kB/s]"
          }
        },
        "741eccf685f44d8c84534ae4481f6859": {
          "model_module": "@jupyter-widgets/controls",
          "model_module_version": "1.5.0",
          "model_name": "FloatProgressModel",
          "state": {
            "_dom_classes": [],
            "_model_module": "@jupyter-widgets/controls",
            "_model_module_version": "1.5.0",
            "_model_name": "FloatProgressModel",
            "_view_count": null,
            "_view_module": "@jupyter-widgets/controls",
            "_view_module_version": "1.5.0",
            "_view_name": "ProgressView",
            "bar_style": "success",
            "description": "",
            "description_tooltip": null,
            "layout": "IPY_MODEL_4d4a08d22ef342cbb689d775baec1aa3",
            "max": 112,
            "min": 0,
            "orientation": "horizontal",
            "style": "IPY_MODEL_f5e5997fb91c40c58a2459be34ee8405",
            "value": 112
          }
        },
        "7560b0b0b09d48cbaa8a95164ed16f24": {
          "model_module": "@jupyter-widgets/controls",
          "model_module_version": "1.5.0",
          "model_name": "DescriptionStyleModel",
          "state": {
            "_model_module": "@jupyter-widgets/controls",
            "_model_module_version": "1.5.0",
            "_model_name": "DescriptionStyleModel",
            "_view_count": null,
            "_view_module": "@jupyter-widgets/base",
            "_view_module_version": "1.2.0",
            "_view_name": "StyleView",
            "description_width": ""
          }
        },
        "7673d41d48ed4efbae782b6d298e1927": {
          "model_module": "@jupyter-widgets/controls",
          "model_module_version": "1.5.0",
          "model_name": "HTMLModel",
          "state": {
            "_dom_classes": [],
            "_model_module": "@jupyter-widgets/controls",
            "_model_module_version": "1.5.0",
            "_model_name": "HTMLModel",
            "_view_count": null,
            "_view_module": "@jupyter-widgets/controls",
            "_view_module_version": "1.5.0",
            "_view_name": "HTMLView",
            "description": "",
            "description_tooltip": null,
            "layout": "IPY_MODEL_678b7978106c496da1ab482aa446e10b",
            "placeholder": "​",
            "style": "IPY_MODEL_4db7799c94124d35a8f0f849a2e93cda",
            "value": "special_tokens_map.json: 100%"
          }
        },
        "76b6591413e045238b1e9604bc0e433b": {
          "model_module": "@jupyter-widgets/controls",
          "model_module_version": "1.5.0",
          "model_name": "DescriptionStyleModel",
          "state": {
            "_model_module": "@jupyter-widgets/controls",
            "_model_module_version": "1.5.0",
            "_model_name": "DescriptionStyleModel",
            "_view_count": null,
            "_view_module": "@jupyter-widgets/base",
            "_view_module_version": "1.2.0",
            "_view_name": "StyleView",
            "description_width": ""
          }
        },
        "76dac1ac81d64965b9b2136c9452d46a": {
          "model_module": "@jupyter-widgets/base",
          "model_module_version": "1.2.0",
          "model_name": "LayoutModel",
          "state": {
            "_model_module": "@jupyter-widgets/base",
            "_model_module_version": "1.2.0",
            "_model_name": "LayoutModel",
            "_view_count": null,
            "_view_module": "@jupyter-widgets/base",
            "_view_module_version": "1.2.0",
            "_view_name": "LayoutView",
            "align_content": null,
            "align_items": null,
            "align_self": null,
            "border": null,
            "bottom": null,
            "display": null,
            "flex": null,
            "flex_flow": null,
            "grid_area": null,
            "grid_auto_columns": null,
            "grid_auto_flow": null,
            "grid_auto_rows": null,
            "grid_column": null,
            "grid_gap": null,
            "grid_row": null,
            "grid_template_areas": null,
            "grid_template_columns": null,
            "grid_template_rows": null,
            "height": null,
            "justify_content": null,
            "justify_items": null,
            "left": null,
            "margin": null,
            "max_height": null,
            "max_width": null,
            "min_height": null,
            "min_width": null,
            "object_fit": null,
            "object_position": null,
            "order": null,
            "overflow": null,
            "overflow_x": null,
            "overflow_y": null,
            "padding": null,
            "right": null,
            "top": null,
            "visibility": null,
            "width": null
          }
        },
        "776f23e3f5874d6491f32b1566286c3c": {
          "model_module": "@jupyter-widgets/controls",
          "model_module_version": "1.5.0",
          "model_name": "FloatProgressModel",
          "state": {
            "_dom_classes": [],
            "_model_module": "@jupyter-widgets/controls",
            "_model_module_version": "1.5.0",
            "_model_name": "FloatProgressModel",
            "_view_count": null,
            "_view_module": "@jupyter-widgets/controls",
            "_view_module_version": "1.5.0",
            "_view_name": "ProgressView",
            "bar_style": "success",
            "description": "",
            "description_tooltip": null,
            "layout": "IPY_MODEL_0d2f0a2a88264029a5de79e7cf2e8efb",
            "max": 350,
            "min": 0,
            "orientation": "horizontal",
            "style": "IPY_MODEL_8335b4fa49604485882225110671a78a",
            "value": 350
          }
        },
        "790b6b5f120e418db08db7556c59e8ae": {
          "model_module": "@jupyter-widgets/base",
          "model_module_version": "1.2.0",
          "model_name": "LayoutModel",
          "state": {
            "_model_module": "@jupyter-widgets/base",
            "_model_module_version": "1.2.0",
            "_model_name": "LayoutModel",
            "_view_count": null,
            "_view_module": "@jupyter-widgets/base",
            "_view_module_version": "1.2.0",
            "_view_name": "LayoutView",
            "align_content": null,
            "align_items": null,
            "align_self": null,
            "border": null,
            "bottom": null,
            "display": null,
            "flex": null,
            "flex_flow": null,
            "grid_area": null,
            "grid_auto_columns": null,
            "grid_auto_flow": null,
            "grid_auto_rows": null,
            "grid_column": null,
            "grid_gap": null,
            "grid_row": null,
            "grid_template_areas": null,
            "grid_template_columns": null,
            "grid_template_rows": null,
            "height": null,
            "justify_content": null,
            "justify_items": null,
            "left": null,
            "margin": null,
            "max_height": null,
            "max_width": null,
            "min_height": null,
            "min_width": null,
            "object_fit": null,
            "object_position": null,
            "order": null,
            "overflow": null,
            "overflow_x": null,
            "overflow_y": null,
            "padding": null,
            "right": null,
            "top": null,
            "visibility": null,
            "width": null
          }
        },
        "7a785cd45d6540d8920d2bb5173185c7": {
          "model_module": "@jupyter-widgets/controls",
          "model_module_version": "1.5.0",
          "model_name": "DescriptionStyleModel",
          "state": {
            "_model_module": "@jupyter-widgets/controls",
            "_model_module_version": "1.5.0",
            "_model_name": "DescriptionStyleModel",
            "_view_count": null,
            "_view_module": "@jupyter-widgets/base",
            "_view_module_version": "1.2.0",
            "_view_name": "StyleView",
            "description_width": ""
          }
        },
        "7c1f7730c7a244e49272d95c3dd0bcc9": {
          "model_module": "@jupyter-widgets/controls",
          "model_module_version": "1.5.0",
          "model_name": "HBoxModel",
          "state": {
            "_dom_classes": [],
            "_model_module": "@jupyter-widgets/controls",
            "_model_module_version": "1.5.0",
            "_model_name": "HBoxModel",
            "_view_count": null,
            "_view_module": "@jupyter-widgets/controls",
            "_view_module_version": "1.5.0",
            "_view_name": "HBoxView",
            "box_style": "",
            "children": [
              "IPY_MODEL_28217a608a58480db6e025b093d014bd",
              "IPY_MODEL_171ee11fe9954326a5b13c99f4a64c73",
              "IPY_MODEL_2df07b2f863e4adf9a4b308fd752502f"
            ],
            "layout": "IPY_MODEL_464cb07487c3414999de4513b93d5392"
          }
        },
        "821fa33b66ac406e8fa6add40a550d9a": {
          "model_module": "@jupyter-widgets/base",
          "model_module_version": "1.2.0",
          "model_name": "LayoutModel",
          "state": {
            "_model_module": "@jupyter-widgets/base",
            "_model_module_version": "1.2.0",
            "_model_name": "LayoutModel",
            "_view_count": null,
            "_view_module": "@jupyter-widgets/base",
            "_view_module_version": "1.2.0",
            "_view_name": "LayoutView",
            "align_content": null,
            "align_items": null,
            "align_self": null,
            "border": null,
            "bottom": null,
            "display": null,
            "flex": null,
            "flex_flow": null,
            "grid_area": null,
            "grid_auto_columns": null,
            "grid_auto_flow": null,
            "grid_auto_rows": null,
            "grid_column": null,
            "grid_gap": null,
            "grid_row": null,
            "grid_template_areas": null,
            "grid_template_columns": null,
            "grid_template_rows": null,
            "height": null,
            "justify_content": null,
            "justify_items": null,
            "left": null,
            "margin": null,
            "max_height": null,
            "max_width": null,
            "min_height": null,
            "min_width": null,
            "object_fit": null,
            "object_position": null,
            "order": null,
            "overflow": null,
            "overflow_x": null,
            "overflow_y": null,
            "padding": null,
            "right": null,
            "top": null,
            "visibility": null,
            "width": null
          }
        },
        "8335b4fa49604485882225110671a78a": {
          "model_module": "@jupyter-widgets/controls",
          "model_module_version": "1.5.0",
          "model_name": "ProgressStyleModel",
          "state": {
            "_model_module": "@jupyter-widgets/controls",
            "_model_module_version": "1.5.0",
            "_model_name": "ProgressStyleModel",
            "_view_count": null,
            "_view_module": "@jupyter-widgets/base",
            "_view_module_version": "1.2.0",
            "_view_name": "StyleView",
            "bar_color": null,
            "description_width": ""
          }
        },
        "879fe0250e384656bbdf853cedbaa4ce": {
          "model_module": "@jupyter-widgets/controls",
          "model_module_version": "1.5.0",
          "model_name": "HTMLModel",
          "state": {
            "_dom_classes": [],
            "_model_module": "@jupyter-widgets/controls",
            "_model_module_version": "1.5.0",
            "_model_name": "HTMLModel",
            "_view_count": null,
            "_view_module": "@jupyter-widgets/controls",
            "_view_module_version": "1.5.0",
            "_view_name": "HTMLView",
            "description": "",
            "description_tooltip": null,
            "layout": "IPY_MODEL_5767e7fb57994db1a08ce6bdd21476bd",
            "placeholder": "​",
            "style": "IPY_MODEL_7560b0b0b09d48cbaa8a95164ed16f24",
            "value": "tokenizer.json: 100%"
          }
        },
        "883e582b710743e4a1c56f2938b00e7c": {
          "model_module": "@jupyter-widgets/base",
          "model_module_version": "1.2.0",
          "model_name": "LayoutModel",
          "state": {
            "_model_module": "@jupyter-widgets/base",
            "_model_module_version": "1.2.0",
            "_model_name": "LayoutModel",
            "_view_count": null,
            "_view_module": "@jupyter-widgets/base",
            "_view_module_version": "1.2.0",
            "_view_name": "LayoutView",
            "align_content": null,
            "align_items": null,
            "align_self": null,
            "border": null,
            "bottom": null,
            "display": null,
            "flex": null,
            "flex_flow": null,
            "grid_area": null,
            "grid_auto_columns": null,
            "grid_auto_flow": null,
            "grid_auto_rows": null,
            "grid_column": null,
            "grid_gap": null,
            "grid_row": null,
            "grid_template_areas": null,
            "grid_template_columns": null,
            "grid_template_rows": null,
            "height": null,
            "justify_content": null,
            "justify_items": null,
            "left": null,
            "margin": null,
            "max_height": null,
            "max_width": null,
            "min_height": null,
            "min_width": null,
            "object_fit": null,
            "object_position": null,
            "order": null,
            "overflow": null,
            "overflow_x": null,
            "overflow_y": null,
            "padding": null,
            "right": null,
            "top": null,
            "visibility": null,
            "width": null
          }
        },
        "8976c53896374582955e0bf9a7fd1448": {
          "model_module": "@jupyter-widgets/base",
          "model_module_version": "1.2.0",
          "model_name": "LayoutModel",
          "state": {
            "_model_module": "@jupyter-widgets/base",
            "_model_module_version": "1.2.0",
            "_model_name": "LayoutModel",
            "_view_count": null,
            "_view_module": "@jupyter-widgets/base",
            "_view_module_version": "1.2.0",
            "_view_name": "LayoutView",
            "align_content": null,
            "align_items": null,
            "align_self": null,
            "border": null,
            "bottom": null,
            "display": null,
            "flex": null,
            "flex_flow": null,
            "grid_area": null,
            "grid_auto_columns": null,
            "grid_auto_flow": null,
            "grid_auto_rows": null,
            "grid_column": null,
            "grid_gap": null,
            "grid_row": null,
            "grid_template_areas": null,
            "grid_template_columns": null,
            "grid_template_rows": null,
            "height": null,
            "justify_content": null,
            "justify_items": null,
            "left": null,
            "margin": null,
            "max_height": null,
            "max_width": null,
            "min_height": null,
            "min_width": null,
            "object_fit": null,
            "object_position": null,
            "order": null,
            "overflow": null,
            "overflow_x": null,
            "overflow_y": null,
            "padding": null,
            "right": null,
            "top": null,
            "visibility": null,
            "width": null
          }
        },
        "8b2b446b82fc438890ce3062cfbb364c": {
          "model_module": "@jupyter-widgets/controls",
          "model_module_version": "1.5.0",
          "model_name": "HTMLModel",
          "state": {
            "_dom_classes": [],
            "_model_module": "@jupyter-widgets/controls",
            "_model_module_version": "1.5.0",
            "_model_name": "HTMLModel",
            "_view_count": null,
            "_view_module": "@jupyter-widgets/controls",
            "_view_module_version": "1.5.0",
            "_view_name": "HTMLView",
            "description": "",
            "description_tooltip": null,
            "layout": "IPY_MODEL_fb98dd096c2e48f0ac53d77fd297206d",
            "placeholder": "​",
            "style": "IPY_MODEL_a1985985dae746d28f9c5052d849c89a",
            "value": "sentence_bert_config.json: 100%"
          }
        },
        "8c22501ea20e4cdcabe202dbab0d0854": {
          "model_module": "@jupyter-widgets/controls",
          "model_module_version": "1.5.0",
          "model_name": "HTMLModel",
          "state": {
            "_dom_classes": [],
            "_model_module": "@jupyter-widgets/controls",
            "_model_module_version": "1.5.0",
            "_model_name": "HTMLModel",
            "_view_count": null,
            "_view_module": "@jupyter-widgets/controls",
            "_view_module_version": "1.5.0",
            "_view_name": "HTMLView",
            "description": "",
            "description_tooltip": null,
            "layout": "IPY_MODEL_12392439f20b49a3ac68139f5c10f375",
            "placeholder": "​",
            "style": "IPY_MODEL_0624384924fd484b8a730309b93e39b4",
            "value": " 466k/466k [00:00&lt;00:00, 2.37MB/s]"
          }
        },
        "8c56e5f735a242d099b7cbfa641bc44e": {
          "model_module": "@jupyter-widgets/base",
          "model_module_version": "1.2.0",
          "model_name": "LayoutModel",
          "state": {
            "_model_module": "@jupyter-widgets/base",
            "_model_module_version": "1.2.0",
            "_model_name": "LayoutModel",
            "_view_count": null,
            "_view_module": "@jupyter-widgets/base",
            "_view_module_version": "1.2.0",
            "_view_name": "LayoutView",
            "align_content": null,
            "align_items": null,
            "align_self": null,
            "border": null,
            "bottom": null,
            "display": null,
            "flex": null,
            "flex_flow": null,
            "grid_area": null,
            "grid_auto_columns": null,
            "grid_auto_flow": null,
            "grid_auto_rows": null,
            "grid_column": null,
            "grid_gap": null,
            "grid_row": null,
            "grid_template_areas": null,
            "grid_template_columns": null,
            "grid_template_rows": null,
            "height": null,
            "justify_content": null,
            "justify_items": null,
            "left": null,
            "margin": null,
            "max_height": null,
            "max_width": null,
            "min_height": null,
            "min_width": null,
            "object_fit": null,
            "object_position": null,
            "order": null,
            "overflow": null,
            "overflow_x": null,
            "overflow_y": null,
            "padding": null,
            "right": null,
            "top": null,
            "visibility": null,
            "width": null
          }
        },
        "8dbf60f9bb7d4a348c87bd1a5b0b6499": {
          "model_module": "@jupyter-widgets/controls",
          "model_module_version": "1.5.0",
          "model_name": "DescriptionStyleModel",
          "state": {
            "_model_module": "@jupyter-widgets/controls",
            "_model_module_version": "1.5.0",
            "_model_name": "DescriptionStyleModel",
            "_view_count": null,
            "_view_module": "@jupyter-widgets/base",
            "_view_module_version": "1.2.0",
            "_view_name": "StyleView",
            "description_width": ""
          }
        },
        "8def7a4fab5545d89307a9ed8c91dff8": {
          "model_module": "@jupyter-widgets/controls",
          "model_module_version": "1.5.0",
          "model_name": "DescriptionStyleModel",
          "state": {
            "_model_module": "@jupyter-widgets/controls",
            "_model_module_version": "1.5.0",
            "_model_name": "DescriptionStyleModel",
            "_view_count": null,
            "_view_module": "@jupyter-widgets/base",
            "_view_module_version": "1.2.0",
            "_view_name": "StyleView",
            "description_width": ""
          }
        },
        "9400c81a097d4c0f93f2ee550fbfb823": {
          "model_module": "@jupyter-widgets/base",
          "model_module_version": "1.2.0",
          "model_name": "LayoutModel",
          "state": {
            "_model_module": "@jupyter-widgets/base",
            "_model_module_version": "1.2.0",
            "_model_name": "LayoutModel",
            "_view_count": null,
            "_view_module": "@jupyter-widgets/base",
            "_view_module_version": "1.2.0",
            "_view_name": "LayoutView",
            "align_content": null,
            "align_items": null,
            "align_self": null,
            "border": null,
            "bottom": null,
            "display": null,
            "flex": null,
            "flex_flow": null,
            "grid_area": null,
            "grid_auto_columns": null,
            "grid_auto_flow": null,
            "grid_auto_rows": null,
            "grid_column": null,
            "grid_gap": null,
            "grid_row": null,
            "grid_template_areas": null,
            "grid_template_columns": null,
            "grid_template_rows": null,
            "height": null,
            "justify_content": null,
            "justify_items": null,
            "left": null,
            "margin": null,
            "max_height": null,
            "max_width": null,
            "min_height": null,
            "min_width": null,
            "object_fit": null,
            "object_position": null,
            "order": null,
            "overflow": null,
            "overflow_x": null,
            "overflow_y": null,
            "padding": null,
            "right": null,
            "top": null,
            "visibility": null,
            "width": null
          }
        },
        "94e2daade2d44633b16c8271edb86e2f": {
          "model_module": "@jupyter-widgets/controls",
          "model_module_version": "1.5.0",
          "model_name": "ProgressStyleModel",
          "state": {
            "_model_module": "@jupyter-widgets/controls",
            "_model_module_version": "1.5.0",
            "_model_name": "ProgressStyleModel",
            "_view_count": null,
            "_view_module": "@jupyter-widgets/base",
            "_view_module_version": "1.2.0",
            "_view_name": "StyleView",
            "bar_color": null,
            "description_width": ""
          }
        },
        "9501989a1d0c4425bdd252a5a0135c13": {
          "model_module": "@jupyter-widgets/base",
          "model_module_version": "1.2.0",
          "model_name": "LayoutModel",
          "state": {
            "_model_module": "@jupyter-widgets/base",
            "_model_module_version": "1.2.0",
            "_model_name": "LayoutModel",
            "_view_count": null,
            "_view_module": "@jupyter-widgets/base",
            "_view_module_version": "1.2.0",
            "_view_name": "LayoutView",
            "align_content": null,
            "align_items": null,
            "align_self": null,
            "border": null,
            "bottom": null,
            "display": null,
            "flex": null,
            "flex_flow": null,
            "grid_area": null,
            "grid_auto_columns": null,
            "grid_auto_flow": null,
            "grid_auto_rows": null,
            "grid_column": null,
            "grid_gap": null,
            "grid_row": null,
            "grid_template_areas": null,
            "grid_template_columns": null,
            "grid_template_rows": null,
            "height": null,
            "justify_content": null,
            "justify_items": null,
            "left": null,
            "margin": null,
            "max_height": null,
            "max_width": null,
            "min_height": null,
            "min_width": null,
            "object_fit": null,
            "object_position": null,
            "order": null,
            "overflow": null,
            "overflow_x": null,
            "overflow_y": null,
            "padding": null,
            "right": null,
            "top": null,
            "visibility": null,
            "width": null
          }
        },
        "95640308ae2a4987a8f1690f66e2113a": {
          "model_module": "@jupyter-widgets/controls",
          "model_module_version": "1.5.0",
          "model_name": "HTMLModel",
          "state": {
            "_dom_classes": [],
            "_model_module": "@jupyter-widgets/controls",
            "_model_module_version": "1.5.0",
            "_model_name": "HTMLModel",
            "_view_count": null,
            "_view_module": "@jupyter-widgets/controls",
            "_view_module_version": "1.5.0",
            "_view_name": "HTMLView",
            "description": "",
            "description_tooltip": null,
            "layout": "IPY_MODEL_b4e88f534b0849d689fe6ed4f49ece4f",
            "placeholder": "​",
            "style": "IPY_MODEL_8def7a4fab5545d89307a9ed8c91dff8",
            "value": " 350/350 [00:00&lt;00:00, 5.29kB/s]"
          }
        },
        "978b4af9edea4e79a4de687c9be1288f": {
          "model_module": "@jupyter-widgets/controls",
          "model_module_version": "1.5.0",
          "model_name": "HTMLModel",
          "state": {
            "_dom_classes": [],
            "_model_module": "@jupyter-widgets/controls",
            "_model_module_version": "1.5.0",
            "_model_name": "HTMLModel",
            "_view_count": null,
            "_view_module": "@jupyter-widgets/controls",
            "_view_module_version": "1.5.0",
            "_view_name": "HTMLView",
            "description": "",
            "description_tooltip": null,
            "layout": "IPY_MODEL_62ea7697d52f46c3886b6df072a528c2",
            "placeholder": "​",
            "style": "IPY_MODEL_f2960391fc7145db8e5ce4947f2d5b77",
            "value": " 589/589 [00:47&lt;00:00, 84.14it/s]"
          }
        },
        "9b504ac189b940f2b802af8e3051f1d2": {
          "model_module": "@jupyter-widgets/controls",
          "model_module_version": "1.5.0",
          "model_name": "FloatProgressModel",
          "state": {
            "_dom_classes": [],
            "_model_module": "@jupyter-widgets/controls",
            "_model_module_version": "1.5.0",
            "_model_name": "FloatProgressModel",
            "_view_count": null,
            "_view_module": "@jupyter-widgets/controls",
            "_view_module_version": "1.5.0",
            "_view_name": "ProgressView",
            "bar_style": "success",
            "description": "",
            "description_tooltip": null,
            "layout": "IPY_MODEL_b21511fa9b8e44f9a1b18ae680b6eefb",
            "max": 589,
            "min": 0,
            "orientation": "horizontal",
            "style": "IPY_MODEL_1c800e6ed8c540458c7fc03f16241a3f",
            "value": 589
          }
        },
        "9c9b35c159bb4e6d8eb9d4b87be3c11b": {
          "model_module": "@jupyter-widgets/controls",
          "model_module_version": "1.5.0",
          "model_name": "FloatProgressModel",
          "state": {
            "_dom_classes": [],
            "_model_module": "@jupyter-widgets/controls",
            "_model_module_version": "1.5.0",
            "_model_name": "FloatProgressModel",
            "_view_count": null,
            "_view_module": "@jupyter-widgets/controls",
            "_view_module_version": "1.5.0",
            "_view_name": "ProgressView",
            "bar_style": "success",
            "description": "",
            "description_tooltip": null,
            "layout": "IPY_MODEL_14f6755b895a4fae961c21d468284f86",
            "max": 116,
            "min": 0,
            "orientation": "horizontal",
            "style": "IPY_MODEL_a8db49a86316487193085fda646eca3a",
            "value": 116
          }
        },
        "9d92c28e8318481d81568679a969ef69": {
          "model_module": "@jupyter-widgets/base",
          "model_module_version": "1.2.0",
          "model_name": "LayoutModel",
          "state": {
            "_model_module": "@jupyter-widgets/base",
            "_model_module_version": "1.2.0",
            "_model_name": "LayoutModel",
            "_view_count": null,
            "_view_module": "@jupyter-widgets/base",
            "_view_module_version": "1.2.0",
            "_view_name": "LayoutView",
            "align_content": null,
            "align_items": null,
            "align_self": null,
            "border": null,
            "bottom": null,
            "display": null,
            "flex": null,
            "flex_flow": null,
            "grid_area": null,
            "grid_auto_columns": null,
            "grid_auto_flow": null,
            "grid_auto_rows": null,
            "grid_column": null,
            "grid_gap": null,
            "grid_row": null,
            "grid_template_areas": null,
            "grid_template_columns": null,
            "grid_template_rows": null,
            "height": null,
            "justify_content": null,
            "justify_items": null,
            "left": null,
            "margin": null,
            "max_height": null,
            "max_width": null,
            "min_height": null,
            "min_width": null,
            "object_fit": null,
            "object_position": null,
            "order": null,
            "overflow": null,
            "overflow_x": null,
            "overflow_y": null,
            "padding": null,
            "right": null,
            "top": null,
            "visibility": null,
            "width": null
          }
        },
        "9e004d3609ed409e8e0927d94616602c": {
          "model_module": "@jupyter-widgets/base",
          "model_module_version": "1.2.0",
          "model_name": "LayoutModel",
          "state": {
            "_model_module": "@jupyter-widgets/base",
            "_model_module_version": "1.2.0",
            "_model_name": "LayoutModel",
            "_view_count": null,
            "_view_module": "@jupyter-widgets/base",
            "_view_module_version": "1.2.0",
            "_view_name": "LayoutView",
            "align_content": null,
            "align_items": null,
            "align_self": null,
            "border": null,
            "bottom": null,
            "display": null,
            "flex": null,
            "flex_flow": null,
            "grid_area": null,
            "grid_auto_columns": null,
            "grid_auto_flow": null,
            "grid_auto_rows": null,
            "grid_column": null,
            "grid_gap": null,
            "grid_row": null,
            "grid_template_areas": null,
            "grid_template_columns": null,
            "grid_template_rows": null,
            "height": null,
            "justify_content": null,
            "justify_items": null,
            "left": null,
            "margin": null,
            "max_height": null,
            "max_width": null,
            "min_height": null,
            "min_width": null,
            "object_fit": null,
            "object_position": null,
            "order": null,
            "overflow": null,
            "overflow_x": null,
            "overflow_y": null,
            "padding": null,
            "right": null,
            "top": null,
            "visibility": null,
            "width": null
          }
        },
        "a1985985dae746d28f9c5052d849c89a": {
          "model_module": "@jupyter-widgets/controls",
          "model_module_version": "1.5.0",
          "model_name": "DescriptionStyleModel",
          "state": {
            "_model_module": "@jupyter-widgets/controls",
            "_model_module_version": "1.5.0",
            "_model_name": "DescriptionStyleModel",
            "_view_count": null,
            "_view_module": "@jupyter-widgets/base",
            "_view_module_version": "1.2.0",
            "_view_name": "StyleView",
            "description_width": ""
          }
        },
        "a3d2bd35b3694f55b233a5275304d058": {
          "model_module": "@jupyter-widgets/controls",
          "model_module_version": "1.5.0",
          "model_name": "ProgressStyleModel",
          "state": {
            "_model_module": "@jupyter-widgets/controls",
            "_model_module_version": "1.5.0",
            "_model_name": "ProgressStyleModel",
            "_view_count": null,
            "_view_module": "@jupyter-widgets/base",
            "_view_module_version": "1.2.0",
            "_view_name": "StyleView",
            "bar_color": null,
            "description_width": ""
          }
        },
        "a63ead76c4754f73a757b50eded328a3": {
          "model_module": "@jupyter-widgets/controls",
          "model_module_version": "1.5.0",
          "model_name": "HTMLModel",
          "state": {
            "_dom_classes": [],
            "_model_module": "@jupyter-widgets/controls",
            "_model_module_version": "1.5.0",
            "_model_name": "HTMLModel",
            "_view_count": null,
            "_view_module": "@jupyter-widgets/controls",
            "_view_module_version": "1.5.0",
            "_view_name": "HTMLView",
            "description": "",
            "description_tooltip": null,
            "layout": "IPY_MODEL_e70d85e2ba2b4a75bbde5ac8b24619ea",
            "placeholder": "​",
            "style": "IPY_MODEL_57df4c43920a4a1b8863309ff9169d80",
            "value": "vocab.txt: 100%"
          }
        },
        "a760c6ea3468487d8bd50b9360aeddd5": {
          "model_module": "@jupyter-widgets/controls",
          "model_module_version": "1.5.0",
          "model_name": "ProgressStyleModel",
          "state": {
            "_model_module": "@jupyter-widgets/controls",
            "_model_module_version": "1.5.0",
            "_model_name": "ProgressStyleModel",
            "_view_count": null,
            "_view_module": "@jupyter-widgets/base",
            "_view_module_version": "1.2.0",
            "_view_name": "StyleView",
            "bar_color": null,
            "description_width": ""
          }
        },
        "a813cf83bbea4a96a088c2a9b46249a1": {
          "model_module": "@jupyter-widgets/controls",
          "model_module_version": "1.5.0",
          "model_name": "HBoxModel",
          "state": {
            "_dom_classes": [],
            "_model_module": "@jupyter-widgets/controls",
            "_model_module_version": "1.5.0",
            "_model_name": "HBoxModel",
            "_view_count": null,
            "_view_module": "@jupyter-widgets/controls",
            "_view_module_version": "1.5.0",
            "_view_name": "HBoxView",
            "box_style": "",
            "children": [
              "IPY_MODEL_a63ead76c4754f73a757b50eded328a3",
              "IPY_MODEL_e8c75c2842f74ec7939118ade3fc928f",
              "IPY_MODEL_fbbf013d831949048061c137bbb9a5ff"
            ],
            "layout": "IPY_MODEL_821fa33b66ac406e8fa6add40a550d9a"
          }
        },
        "a8665890c9b543609d8f5e325eb09655": {
          "model_module": "@jupyter-widgets/base",
          "model_module_version": "1.2.0",
          "model_name": "LayoutModel",
          "state": {
            "_model_module": "@jupyter-widgets/base",
            "_model_module_version": "1.2.0",
            "_model_name": "LayoutModel",
            "_view_count": null,
            "_view_module": "@jupyter-widgets/base",
            "_view_module_version": "1.2.0",
            "_view_name": "LayoutView",
            "align_content": null,
            "align_items": null,
            "align_self": null,
            "border": null,
            "bottom": null,
            "display": null,
            "flex": null,
            "flex_flow": null,
            "grid_area": null,
            "grid_auto_columns": null,
            "grid_auto_flow": null,
            "grid_auto_rows": null,
            "grid_column": null,
            "grid_gap": null,
            "grid_row": null,
            "grid_template_areas": null,
            "grid_template_columns": null,
            "grid_template_rows": null,
            "height": null,
            "justify_content": null,
            "justify_items": null,
            "left": null,
            "margin": null,
            "max_height": null,
            "max_width": null,
            "min_height": null,
            "min_width": null,
            "object_fit": null,
            "object_position": null,
            "order": null,
            "overflow": null,
            "overflow_x": null,
            "overflow_y": null,
            "padding": null,
            "right": null,
            "top": null,
            "visibility": null,
            "width": null
          }
        },
        "a8db49a86316487193085fda646eca3a": {
          "model_module": "@jupyter-widgets/controls",
          "model_module_version": "1.5.0",
          "model_name": "ProgressStyleModel",
          "state": {
            "_model_module": "@jupyter-widgets/controls",
            "_model_module_version": "1.5.0",
            "_model_name": "ProgressStyleModel",
            "_view_count": null,
            "_view_module": "@jupyter-widgets/base",
            "_view_module_version": "1.2.0",
            "_view_name": "StyleView",
            "bar_color": null,
            "description_width": ""
          }
        },
        "ab22da5d350e4d77ae18ed0248db79ce": {
          "model_module": "@jupyter-widgets/controls",
          "model_module_version": "1.5.0",
          "model_name": "DescriptionStyleModel",
          "state": {
            "_model_module": "@jupyter-widgets/controls",
            "_model_module_version": "1.5.0",
            "_model_name": "DescriptionStyleModel",
            "_view_count": null,
            "_view_module": "@jupyter-widgets/base",
            "_view_module_version": "1.2.0",
            "_view_name": "StyleView",
            "description_width": ""
          }
        },
        "acade922ebba4882a153ccd172901c89": {
          "model_module": "@jupyter-widgets/controls",
          "model_module_version": "1.5.0",
          "model_name": "HTMLModel",
          "state": {
            "_dom_classes": [],
            "_model_module": "@jupyter-widgets/controls",
            "_model_module_version": "1.5.0",
            "_model_name": "HTMLModel",
            "_view_count": null,
            "_view_module": "@jupyter-widgets/controls",
            "_view_module_version": "1.5.0",
            "_view_name": "HTMLView",
            "description": "",
            "description_tooltip": null,
            "layout": "IPY_MODEL_ee6d4ebf847d4426bc03c78483ce22fb",
            "placeholder": "​",
            "style": "IPY_MODEL_15a1e6c22bfb42afaf4a0737093eef08",
            "value": " 589/589 [00:48&lt;00:00, 100.11it/s]"
          }
        },
        "ad1148919e1d4452a3eb25f25c476b7a": {
          "model_module": "@jupyter-widgets/controls",
          "model_module_version": "1.5.0",
          "model_name": "HBoxModel",
          "state": {
            "_dom_classes": [],
            "_model_module": "@jupyter-widgets/controls",
            "_model_module_version": "1.5.0",
            "_model_name": "HBoxModel",
            "_view_count": null,
            "_view_module": "@jupyter-widgets/controls",
            "_view_module_version": "1.5.0",
            "_view_name": "HBoxView",
            "box_style": "",
            "children": [
              "IPY_MODEL_7673d41d48ed4efbae782b6d298e1927",
              "IPY_MODEL_741eccf685f44d8c84534ae4481f6859",
              "IPY_MODEL_73a3fd286252407598dce852be2ee943"
            ],
            "layout": "IPY_MODEL_9d92c28e8318481d81568679a969ef69"
          }
        },
        "ada1b60159a64dfcb0440d55ce52b211": {
          "model_module": "@jupyter-widgets/controls",
          "model_module_version": "1.5.0",
          "model_name": "HBoxModel",
          "state": {
            "_dom_classes": [],
            "_model_module": "@jupyter-widgets/controls",
            "_model_module_version": "1.5.0",
            "_model_name": "HBoxModel",
            "_view_count": null,
            "_view_module": "@jupyter-widgets/controls",
            "_view_module_version": "1.5.0",
            "_view_name": "HBoxView",
            "box_style": "",
            "children": [
              "IPY_MODEL_fb4a838c2cc842b0a6c35f8dff046f22",
              "IPY_MODEL_40d9501befa8482cb9bf9d26c0d884e5",
              "IPY_MODEL_fc3c5f1fe3db409c9f60f32966219a55"
            ],
            "layout": "IPY_MODEL_325bc387ff1047889590c4cc5666a3cf"
          }
        },
        "b02c15f4937747b18fa9a5c936eb2067": {
          "model_module": "@jupyter-widgets/controls",
          "model_module_version": "1.5.0",
          "model_name": "DescriptionStyleModel",
          "state": {
            "_model_module": "@jupyter-widgets/controls",
            "_model_module_version": "1.5.0",
            "_model_name": "DescriptionStyleModel",
            "_view_count": null,
            "_view_module": "@jupyter-widgets/base",
            "_view_module_version": "1.2.0",
            "_view_name": "StyleView",
            "description_width": ""
          }
        },
        "b21511fa9b8e44f9a1b18ae680b6eefb": {
          "model_module": "@jupyter-widgets/base",
          "model_module_version": "1.2.0",
          "model_name": "LayoutModel",
          "state": {
            "_model_module": "@jupyter-widgets/base",
            "_model_module_version": "1.2.0",
            "_model_name": "LayoutModel",
            "_view_count": null,
            "_view_module": "@jupyter-widgets/base",
            "_view_module_version": "1.2.0",
            "_view_name": "LayoutView",
            "align_content": null,
            "align_items": null,
            "align_self": null,
            "border": null,
            "bottom": null,
            "display": null,
            "flex": null,
            "flex_flow": null,
            "grid_area": null,
            "grid_auto_columns": null,
            "grid_auto_flow": null,
            "grid_auto_rows": null,
            "grid_column": null,
            "grid_gap": null,
            "grid_row": null,
            "grid_template_areas": null,
            "grid_template_columns": null,
            "grid_template_rows": null,
            "height": null,
            "justify_content": null,
            "justify_items": null,
            "left": null,
            "margin": null,
            "max_height": null,
            "max_width": null,
            "min_height": null,
            "min_width": null,
            "object_fit": null,
            "object_position": null,
            "order": null,
            "overflow": null,
            "overflow_x": null,
            "overflow_y": null,
            "padding": null,
            "right": null,
            "top": null,
            "visibility": null,
            "width": null
          }
        },
        "b4e88f534b0849d689fe6ed4f49ece4f": {
          "model_module": "@jupyter-widgets/base",
          "model_module_version": "1.2.0",
          "model_name": "LayoutModel",
          "state": {
            "_model_module": "@jupyter-widgets/base",
            "_model_module_version": "1.2.0",
            "_model_name": "LayoutModel",
            "_view_count": null,
            "_view_module": "@jupyter-widgets/base",
            "_view_module_version": "1.2.0",
            "_view_name": "LayoutView",
            "align_content": null,
            "align_items": null,
            "align_self": null,
            "border": null,
            "bottom": null,
            "display": null,
            "flex": null,
            "flex_flow": null,
            "grid_area": null,
            "grid_auto_columns": null,
            "grid_auto_flow": null,
            "grid_auto_rows": null,
            "grid_column": null,
            "grid_gap": null,
            "grid_row": null,
            "grid_template_areas": null,
            "grid_template_columns": null,
            "grid_template_rows": null,
            "height": null,
            "justify_content": null,
            "justify_items": null,
            "left": null,
            "margin": null,
            "max_height": null,
            "max_width": null,
            "min_height": null,
            "min_width": null,
            "object_fit": null,
            "object_position": null,
            "order": null,
            "overflow": null,
            "overflow_x": null,
            "overflow_y": null,
            "padding": null,
            "right": null,
            "top": null,
            "visibility": null,
            "width": null
          }
        },
        "b867c016242d4544a78cc46692caaeea": {
          "model_module": "@jupyter-widgets/controls",
          "model_module_version": "1.5.0",
          "model_name": "HBoxModel",
          "state": {
            "_dom_classes": [],
            "_model_module": "@jupyter-widgets/controls",
            "_model_module_version": "1.5.0",
            "_model_name": "HBoxModel",
            "_view_count": null,
            "_view_module": "@jupyter-widgets/controls",
            "_view_module_version": "1.5.0",
            "_view_name": "HBoxView",
            "box_style": "",
            "children": [
              "IPY_MODEL_2f2c8a6dcc844d2e991f730de277ced5",
              "IPY_MODEL_9b504ac189b940f2b802af8e3051f1d2",
              "IPY_MODEL_978b4af9edea4e79a4de687c9be1288f"
            ],
            "layout": "IPY_MODEL_3f1e76fc48564cfaa7a378431e98727d"
          }
        },
        "bd2cd3517a9847fda042c4e29a02abf4": {
          "model_module": "@jupyter-widgets/controls",
          "model_module_version": "1.5.0",
          "model_name": "DescriptionStyleModel",
          "state": {
            "_model_module": "@jupyter-widgets/controls",
            "_model_module_version": "1.5.0",
            "_model_name": "DescriptionStyleModel",
            "_view_count": null,
            "_view_module": "@jupyter-widgets/base",
            "_view_module_version": "1.2.0",
            "_view_name": "StyleView",
            "description_width": ""
          }
        },
        "c3539acebdd743f8aa8dbefba8cf4df2": {
          "model_module": "@jupyter-widgets/base",
          "model_module_version": "1.2.0",
          "model_name": "LayoutModel",
          "state": {
            "_model_module": "@jupyter-widgets/base",
            "_model_module_version": "1.2.0",
            "_model_name": "LayoutModel",
            "_view_count": null,
            "_view_module": "@jupyter-widgets/base",
            "_view_module_version": "1.2.0",
            "_view_name": "LayoutView",
            "align_content": null,
            "align_items": null,
            "align_self": null,
            "border": null,
            "bottom": null,
            "display": null,
            "flex": null,
            "flex_flow": null,
            "grid_area": null,
            "grid_auto_columns": null,
            "grid_auto_flow": null,
            "grid_auto_rows": null,
            "grid_column": null,
            "grid_gap": null,
            "grid_row": null,
            "grid_template_areas": null,
            "grid_template_columns": null,
            "grid_template_rows": null,
            "height": null,
            "justify_content": null,
            "justify_items": null,
            "left": null,
            "margin": null,
            "max_height": null,
            "max_width": null,
            "min_height": null,
            "min_width": null,
            "object_fit": null,
            "object_position": null,
            "order": null,
            "overflow": null,
            "overflow_x": null,
            "overflow_y": null,
            "padding": null,
            "right": null,
            "top": null,
            "visibility": null,
            "width": null
          }
        },
        "c602f99901474e1cbad3d163a1bc8c33": {
          "model_module": "@jupyter-widgets/base",
          "model_module_version": "1.2.0",
          "model_name": "LayoutModel",
          "state": {
            "_model_module": "@jupyter-widgets/base",
            "_model_module_version": "1.2.0",
            "_model_name": "LayoutModel",
            "_view_count": null,
            "_view_module": "@jupyter-widgets/base",
            "_view_module_version": "1.2.0",
            "_view_name": "LayoutView",
            "align_content": null,
            "align_items": null,
            "align_self": null,
            "border": null,
            "bottom": null,
            "display": null,
            "flex": null,
            "flex_flow": null,
            "grid_area": null,
            "grid_auto_columns": null,
            "grid_auto_flow": null,
            "grid_auto_rows": null,
            "grid_column": null,
            "grid_gap": null,
            "grid_row": null,
            "grid_template_areas": null,
            "grid_template_columns": null,
            "grid_template_rows": null,
            "height": null,
            "justify_content": null,
            "justify_items": null,
            "left": null,
            "margin": null,
            "max_height": null,
            "max_width": null,
            "min_height": null,
            "min_width": null,
            "object_fit": null,
            "object_position": null,
            "order": null,
            "overflow": null,
            "overflow_x": null,
            "overflow_y": null,
            "padding": null,
            "right": null,
            "top": null,
            "visibility": null,
            "width": null
          }
        },
        "c717afa0934145cc935281343b9b76f3": {
          "model_module": "@jupyter-widgets/base",
          "model_module_version": "1.2.0",
          "model_name": "LayoutModel",
          "state": {
            "_model_module": "@jupyter-widgets/base",
            "_model_module_version": "1.2.0",
            "_model_name": "LayoutModel",
            "_view_count": null,
            "_view_module": "@jupyter-widgets/base",
            "_view_module_version": "1.2.0",
            "_view_name": "LayoutView",
            "align_content": null,
            "align_items": null,
            "align_self": null,
            "border": null,
            "bottom": null,
            "display": null,
            "flex": null,
            "flex_flow": null,
            "grid_area": null,
            "grid_auto_columns": null,
            "grid_auto_flow": null,
            "grid_auto_rows": null,
            "grid_column": null,
            "grid_gap": null,
            "grid_row": null,
            "grid_template_areas": null,
            "grid_template_columns": null,
            "grid_template_rows": null,
            "height": null,
            "justify_content": null,
            "justify_items": null,
            "left": null,
            "margin": null,
            "max_height": null,
            "max_width": null,
            "min_height": null,
            "min_width": null,
            "object_fit": null,
            "object_position": null,
            "order": null,
            "overflow": null,
            "overflow_x": null,
            "overflow_y": null,
            "padding": null,
            "right": null,
            "top": null,
            "visibility": null,
            "width": null
          }
        },
        "c8180975bcce465db543f576596d4a5d": {
          "model_module": "@jupyter-widgets/controls",
          "model_module_version": "1.5.0",
          "model_name": "DescriptionStyleModel",
          "state": {
            "_model_module": "@jupyter-widgets/controls",
            "_model_module_version": "1.5.0",
            "_model_name": "DescriptionStyleModel",
            "_view_count": null,
            "_view_module": "@jupyter-widgets/base",
            "_view_module_version": "1.2.0",
            "_view_name": "StyleView",
            "description_width": ""
          }
        },
        "cc8de2098c0f4baba9b9dc8adbd8c242": {
          "model_module": "@jupyter-widgets/controls",
          "model_module_version": "1.5.0",
          "model_name": "HTMLModel",
          "state": {
            "_dom_classes": [],
            "_model_module": "@jupyter-widgets/controls",
            "_model_module_version": "1.5.0",
            "_model_name": "HTMLModel",
            "_view_count": null,
            "_view_module": "@jupyter-widgets/controls",
            "_view_module_version": "1.5.0",
            "_view_name": "HTMLView",
            "description": "",
            "description_tooltip": null,
            "layout": "IPY_MODEL_ce4cfb58e984498fabeaaaeddfeb8cfc",
            "placeholder": "​",
            "style": "IPY_MODEL_13cced5acf1f46c6b1d8bc9c00424e70",
            "value": "tokenizer_config.json: 100%"
          }
        },
        "ce4cfb58e984498fabeaaaeddfeb8cfc": {
          "model_module": "@jupyter-widgets/base",
          "model_module_version": "1.2.0",
          "model_name": "LayoutModel",
          "state": {
            "_model_module": "@jupyter-widgets/base",
            "_model_module_version": "1.2.0",
            "_model_name": "LayoutModel",
            "_view_count": null,
            "_view_module": "@jupyter-widgets/base",
            "_view_module_version": "1.2.0",
            "_view_name": "LayoutView",
            "align_content": null,
            "align_items": null,
            "align_self": null,
            "border": null,
            "bottom": null,
            "display": null,
            "flex": null,
            "flex_flow": null,
            "grid_area": null,
            "grid_auto_columns": null,
            "grid_auto_flow": null,
            "grid_auto_rows": null,
            "grid_column": null,
            "grid_gap": null,
            "grid_row": null,
            "grid_template_areas": null,
            "grid_template_columns": null,
            "grid_template_rows": null,
            "height": null,
            "justify_content": null,
            "justify_items": null,
            "left": null,
            "margin": null,
            "max_height": null,
            "max_width": null,
            "min_height": null,
            "min_width": null,
            "object_fit": null,
            "object_position": null,
            "order": null,
            "overflow": null,
            "overflow_x": null,
            "overflow_y": null,
            "padding": null,
            "right": null,
            "top": null,
            "visibility": null,
            "width": null
          }
        },
        "ce6460e0f450426e9a23a62767ea3519": {
          "model_module": "@jupyter-widgets/controls",
          "model_module_version": "1.5.0",
          "model_name": "ProgressStyleModel",
          "state": {
            "_model_module": "@jupyter-widgets/controls",
            "_model_module_version": "1.5.0",
            "_model_name": "ProgressStyleModel",
            "_view_count": null,
            "_view_module": "@jupyter-widgets/base",
            "_view_module_version": "1.2.0",
            "_view_name": "StyleView",
            "bar_color": null,
            "description_width": ""
          }
        },
        "ce96c9f3049a4f04a7815dc36b199375": {
          "model_module": "@jupyter-widgets/controls",
          "model_module_version": "1.5.0",
          "model_name": "HTMLModel",
          "state": {
            "_dom_classes": [],
            "_model_module": "@jupyter-widgets/controls",
            "_model_module_version": "1.5.0",
            "_model_name": "HTMLModel",
            "_view_count": null,
            "_view_module": "@jupyter-widgets/controls",
            "_view_module_version": "1.5.0",
            "_view_name": "HTMLView",
            "description": "",
            "description_tooltip": null,
            "layout": "IPY_MODEL_13120c30ef55492fa862c1ece9e76810",
            "placeholder": "​",
            "style": "IPY_MODEL_0ae559dc7d6e41a498f325796b173f4d",
            "value": " 190/190 [00:00&lt;00:00, 3.25kB/s]"
          }
        },
        "cf3cb4a0131c4db6bb261b7ca70ccd03": {
          "model_module": "@jupyter-widgets/base",
          "model_module_version": "1.2.0",
          "model_name": "LayoutModel",
          "state": {
            "_model_module": "@jupyter-widgets/base",
            "_model_module_version": "1.2.0",
            "_model_name": "LayoutModel",
            "_view_count": null,
            "_view_module": "@jupyter-widgets/base",
            "_view_module_version": "1.2.0",
            "_view_name": "LayoutView",
            "align_content": null,
            "align_items": null,
            "align_self": null,
            "border": null,
            "bottom": null,
            "display": null,
            "flex": null,
            "flex_flow": null,
            "grid_area": null,
            "grid_auto_columns": null,
            "grid_auto_flow": null,
            "grid_auto_rows": null,
            "grid_column": null,
            "grid_gap": null,
            "grid_row": null,
            "grid_template_areas": null,
            "grid_template_columns": null,
            "grid_template_rows": null,
            "height": null,
            "justify_content": null,
            "justify_items": null,
            "left": null,
            "margin": null,
            "max_height": null,
            "max_width": null,
            "min_height": null,
            "min_width": null,
            "object_fit": null,
            "object_position": null,
            "order": null,
            "overflow": null,
            "overflow_x": null,
            "overflow_y": null,
            "padding": null,
            "right": null,
            "top": null,
            "visibility": null,
            "width": null
          }
        },
        "d3b6b6eaa39c475eabb7ac4b5bb7b29d": {
          "model_module": "@jupyter-widgets/base",
          "model_module_version": "1.2.0",
          "model_name": "LayoutModel",
          "state": {
            "_model_module": "@jupyter-widgets/base",
            "_model_module_version": "1.2.0",
            "_model_name": "LayoutModel",
            "_view_count": null,
            "_view_module": "@jupyter-widgets/base",
            "_view_module_version": "1.2.0",
            "_view_name": "LayoutView",
            "align_content": null,
            "align_items": null,
            "align_self": null,
            "border": null,
            "bottom": null,
            "display": null,
            "flex": null,
            "flex_flow": null,
            "grid_area": null,
            "grid_auto_columns": null,
            "grid_auto_flow": null,
            "grid_auto_rows": null,
            "grid_column": null,
            "grid_gap": null,
            "grid_row": null,
            "grid_template_areas": null,
            "grid_template_columns": null,
            "grid_template_rows": null,
            "height": null,
            "justify_content": null,
            "justify_items": null,
            "left": null,
            "margin": null,
            "max_height": null,
            "max_width": null,
            "min_height": null,
            "min_width": null,
            "object_fit": null,
            "object_position": null,
            "order": null,
            "overflow": null,
            "overflow_x": null,
            "overflow_y": null,
            "padding": null,
            "right": null,
            "top": null,
            "visibility": null,
            "width": null
          }
        },
        "db4141d4e40348d184214c9fa0436c26": {
          "model_module": "@jupyter-widgets/controls",
          "model_module_version": "1.5.0",
          "model_name": "FloatProgressModel",
          "state": {
            "_dom_classes": [],
            "_model_module": "@jupyter-widgets/controls",
            "_model_module_version": "1.5.0",
            "_model_name": "FloatProgressModel",
            "_view_count": null,
            "_view_module": "@jupyter-widgets/controls",
            "_view_module_version": "1.5.0",
            "_view_name": "ProgressView",
            "bar_style": "success",
            "description": "",
            "description_tooltip": null,
            "layout": "IPY_MODEL_324c4f4850f34956bd1f02e01867d8d5",
            "max": 53,
            "min": 0,
            "orientation": "horizontal",
            "style": "IPY_MODEL_52160e0a64de4d74b47c376275919f1f",
            "value": 53
          }
        },
        "db70493646f04cadbe8ea39b42a20ca6": {
          "model_module": "@jupyter-widgets/controls",
          "model_module_version": "1.5.0",
          "model_name": "HBoxModel",
          "state": {
            "_dom_classes": [],
            "_model_module": "@jupyter-widgets/controls",
            "_model_module_version": "1.5.0",
            "_model_name": "HBoxModel",
            "_view_count": null,
            "_view_module": "@jupyter-widgets/controls",
            "_view_module_version": "1.5.0",
            "_view_name": "HBoxView",
            "box_style": "",
            "children": [
              "IPY_MODEL_879fe0250e384656bbdf853cedbaa4ce",
              "IPY_MODEL_490ff693090b49e99d7e558f7866656b",
              "IPY_MODEL_8c22501ea20e4cdcabe202dbab0d0854"
            ],
            "layout": "IPY_MODEL_5fc36c9fcf59405a9832ff5d1c05c94f"
          }
        },
        "dc806e7dde82494a8d2c9fc3e39448c5": {
          "model_module": "@jupyter-widgets/base",
          "model_module_version": "1.2.0",
          "model_name": "LayoutModel",
          "state": {
            "_model_module": "@jupyter-widgets/base",
            "_model_module_version": "1.2.0",
            "_model_name": "LayoutModel",
            "_view_count": null,
            "_view_module": "@jupyter-widgets/base",
            "_view_module_version": "1.2.0",
            "_view_name": "LayoutView",
            "align_content": null,
            "align_items": null,
            "align_self": null,
            "border": null,
            "bottom": null,
            "display": null,
            "flex": null,
            "flex_flow": null,
            "grid_area": null,
            "grid_auto_columns": null,
            "grid_auto_flow": null,
            "grid_auto_rows": null,
            "grid_column": null,
            "grid_gap": null,
            "grid_row": null,
            "grid_template_areas": null,
            "grid_template_columns": null,
            "grid_template_rows": null,
            "height": null,
            "justify_content": null,
            "justify_items": null,
            "left": null,
            "margin": null,
            "max_height": null,
            "max_width": null,
            "min_height": null,
            "min_width": null,
            "object_fit": null,
            "object_position": null,
            "order": null,
            "overflow": null,
            "overflow_x": null,
            "overflow_y": null,
            "padding": null,
            "right": null,
            "top": null,
            "visibility": null,
            "width": null
          }
        },
        "dd1f1c6d30ee42b2a9a6db1887f1f2f5": {
          "model_module": "@jupyter-widgets/controls",
          "model_module_version": "1.5.0",
          "model_name": "FloatProgressModel",
          "state": {
            "_dom_classes": [],
            "_model_module": "@jupyter-widgets/controls",
            "_model_module_version": "1.5.0",
            "_model_name": "FloatProgressModel",
            "_view_count": null,
            "_view_module": "@jupyter-widgets/controls",
            "_view_module_version": "1.5.0",
            "_view_name": "ProgressView",
            "bar_style": "success",
            "description": "",
            "description_tooltip": null,
            "layout": "IPY_MODEL_c602f99901474e1cbad3d163a1bc8c33",
            "max": 589,
            "min": 0,
            "orientation": "horizontal",
            "style": "IPY_MODEL_94e2daade2d44633b16c8271edb86e2f",
            "value": 589
          }
        },
        "df2b361facf24a388c6d72f1be5faa66": {
          "model_module": "@jupyter-widgets/base",
          "model_module_version": "1.2.0",
          "model_name": "LayoutModel",
          "state": {
            "_model_module": "@jupyter-widgets/base",
            "_model_module_version": "1.2.0",
            "_model_name": "LayoutModel",
            "_view_count": null,
            "_view_module": "@jupyter-widgets/base",
            "_view_module_version": "1.2.0",
            "_view_name": "LayoutView",
            "align_content": null,
            "align_items": null,
            "align_self": null,
            "border": null,
            "bottom": null,
            "display": null,
            "flex": null,
            "flex_flow": null,
            "grid_area": null,
            "grid_auto_columns": null,
            "grid_auto_flow": null,
            "grid_auto_rows": null,
            "grid_column": null,
            "grid_gap": null,
            "grid_row": null,
            "grid_template_areas": null,
            "grid_template_columns": null,
            "grid_template_rows": null,
            "height": null,
            "justify_content": null,
            "justify_items": null,
            "left": null,
            "margin": null,
            "max_height": null,
            "max_width": null,
            "min_height": null,
            "min_width": null,
            "object_fit": null,
            "object_position": null,
            "order": null,
            "overflow": null,
            "overflow_x": null,
            "overflow_y": null,
            "padding": null,
            "right": null,
            "top": null,
            "visibility": null,
            "width": null
          }
        },
        "df3c2c15771f42bb9c93c138ace29ec4": {
          "model_module": "@jupyter-widgets/base",
          "model_module_version": "1.2.0",
          "model_name": "LayoutModel",
          "state": {
            "_model_module": "@jupyter-widgets/base",
            "_model_module_version": "1.2.0",
            "_model_name": "LayoutModel",
            "_view_count": null,
            "_view_module": "@jupyter-widgets/base",
            "_view_module_version": "1.2.0",
            "_view_name": "LayoutView",
            "align_content": null,
            "align_items": null,
            "align_self": null,
            "border": null,
            "bottom": null,
            "display": null,
            "flex": null,
            "flex_flow": null,
            "grid_area": null,
            "grid_auto_columns": null,
            "grid_auto_flow": null,
            "grid_auto_rows": null,
            "grid_column": null,
            "grid_gap": null,
            "grid_row": null,
            "grid_template_areas": null,
            "grid_template_columns": null,
            "grid_template_rows": null,
            "height": null,
            "justify_content": null,
            "justify_items": null,
            "left": null,
            "margin": null,
            "max_height": null,
            "max_width": null,
            "min_height": null,
            "min_width": null,
            "object_fit": null,
            "object_position": null,
            "order": null,
            "overflow": null,
            "overflow_x": null,
            "overflow_y": null,
            "padding": null,
            "right": null,
            "top": null,
            "visibility": null,
            "width": null
          }
        },
        "e4acf88b90e9475fbd71b65c7074faa0": {
          "model_module": "@jupyter-widgets/controls",
          "model_module_version": "1.5.0",
          "model_name": "DescriptionStyleModel",
          "state": {
            "_model_module": "@jupyter-widgets/controls",
            "_model_module_version": "1.5.0",
            "_model_name": "DescriptionStyleModel",
            "_view_count": null,
            "_view_module": "@jupyter-widgets/base",
            "_view_module_version": "1.2.0",
            "_view_name": "StyleView",
            "description_width": ""
          }
        },
        "e4c388782521477f85ceab4442e0ddc1": {
          "model_module": "@jupyter-widgets/controls",
          "model_module_version": "1.5.0",
          "model_name": "HBoxModel",
          "state": {
            "_dom_classes": [],
            "_model_module": "@jupyter-widgets/controls",
            "_model_module_version": "1.5.0",
            "_model_name": "HBoxModel",
            "_view_count": null,
            "_view_module": "@jupyter-widgets/controls",
            "_view_module_version": "1.5.0",
            "_view_name": "HBoxView",
            "box_style": "",
            "children": [
              "IPY_MODEL_ee18d23a6d9a442dbe555fe387ab75c7",
              "IPY_MODEL_5f01780788bc4284a311fb623bf7c908",
              "IPY_MODEL_ce96c9f3049a4f04a7815dc36b199375"
            ],
            "layout": "IPY_MODEL_1b07d09a1dec49a3ae83974ae4b0790e"
          }
        },
        "e4ceb77b05a144aea815475451acc9f9": {
          "model_module": "@jupyter-widgets/controls",
          "model_module_version": "1.5.0",
          "model_name": "HTMLModel",
          "state": {
            "_dom_classes": [],
            "_model_module": "@jupyter-widgets/controls",
            "_model_module_version": "1.5.0",
            "_model_name": "HTMLModel",
            "_view_count": null,
            "_view_module": "@jupyter-widgets/controls",
            "_view_module_version": "1.5.0",
            "_view_name": "HTMLView",
            "description": "",
            "description_tooltip": null,
            "layout": "IPY_MODEL_9e004d3609ed409e8e0927d94616602c",
            "placeholder": "​",
            "style": "IPY_MODEL_72e99f824dab4a5ca17851608c433852",
            "value": " 612/612 [00:00&lt;00:00, 48.0kB/s]"
          }
        },
        "e6238828f6434a3da4f1c670a6e2a5c8": {
          "model_module": "@jupyter-widgets/base",
          "model_module_version": "1.2.0",
          "model_name": "LayoutModel",
          "state": {
            "_model_module": "@jupyter-widgets/base",
            "_model_module_version": "1.2.0",
            "_model_name": "LayoutModel",
            "_view_count": null,
            "_view_module": "@jupyter-widgets/base",
            "_view_module_version": "1.2.0",
            "_view_name": "LayoutView",
            "align_content": null,
            "align_items": null,
            "align_self": null,
            "border": null,
            "bottom": null,
            "display": null,
            "flex": null,
            "flex_flow": null,
            "grid_area": null,
            "grid_auto_columns": null,
            "grid_auto_flow": null,
            "grid_auto_rows": null,
            "grid_column": null,
            "grid_gap": null,
            "grid_row": null,
            "grid_template_areas": null,
            "grid_template_columns": null,
            "grid_template_rows": null,
            "height": null,
            "justify_content": null,
            "justify_items": null,
            "left": null,
            "margin": null,
            "max_height": null,
            "max_width": null,
            "min_height": null,
            "min_width": null,
            "object_fit": null,
            "object_position": null,
            "order": null,
            "overflow": null,
            "overflow_x": null,
            "overflow_y": null,
            "padding": null,
            "right": null,
            "top": null,
            "visibility": null,
            "width": null
          }
        },
        "e6f3b762fc0c43eb94bda38d902d73e3": {
          "model_module": "@jupyter-widgets/base",
          "model_module_version": "1.2.0",
          "model_name": "LayoutModel",
          "state": {
            "_model_module": "@jupyter-widgets/base",
            "_model_module_version": "1.2.0",
            "_model_name": "LayoutModel",
            "_view_count": null,
            "_view_module": "@jupyter-widgets/base",
            "_view_module_version": "1.2.0",
            "_view_name": "LayoutView",
            "align_content": null,
            "align_items": null,
            "align_self": null,
            "border": null,
            "bottom": null,
            "display": null,
            "flex": null,
            "flex_flow": null,
            "grid_area": null,
            "grid_auto_columns": null,
            "grid_auto_flow": null,
            "grid_auto_rows": null,
            "grid_column": null,
            "grid_gap": null,
            "grid_row": null,
            "grid_template_areas": null,
            "grid_template_columns": null,
            "grid_template_rows": null,
            "height": null,
            "justify_content": null,
            "justify_items": null,
            "left": null,
            "margin": null,
            "max_height": null,
            "max_width": null,
            "min_height": null,
            "min_width": null,
            "object_fit": null,
            "object_position": null,
            "order": null,
            "overflow": null,
            "overflow_x": null,
            "overflow_y": null,
            "padding": null,
            "right": null,
            "top": null,
            "visibility": null,
            "width": null
          }
        },
        "e70d85e2ba2b4a75bbde5ac8b24619ea": {
          "model_module": "@jupyter-widgets/base",
          "model_module_version": "1.2.0",
          "model_name": "LayoutModel",
          "state": {
            "_model_module": "@jupyter-widgets/base",
            "_model_module_version": "1.2.0",
            "_model_name": "LayoutModel",
            "_view_count": null,
            "_view_module": "@jupyter-widgets/base",
            "_view_module_version": "1.2.0",
            "_view_name": "LayoutView",
            "align_content": null,
            "align_items": null,
            "align_self": null,
            "border": null,
            "bottom": null,
            "display": null,
            "flex": null,
            "flex_flow": null,
            "grid_area": null,
            "grid_auto_columns": null,
            "grid_auto_flow": null,
            "grid_auto_rows": null,
            "grid_column": null,
            "grid_gap": null,
            "grid_row": null,
            "grid_template_areas": null,
            "grid_template_columns": null,
            "grid_template_rows": null,
            "height": null,
            "justify_content": null,
            "justify_items": null,
            "left": null,
            "margin": null,
            "max_height": null,
            "max_width": null,
            "min_height": null,
            "min_width": null,
            "object_fit": null,
            "object_position": null,
            "order": null,
            "overflow": null,
            "overflow_x": null,
            "overflow_y": null,
            "padding": null,
            "right": null,
            "top": null,
            "visibility": null,
            "width": null
          }
        },
        "e8c75c2842f74ec7939118ade3fc928f": {
          "model_module": "@jupyter-widgets/controls",
          "model_module_version": "1.5.0",
          "model_name": "FloatProgressModel",
          "state": {
            "_dom_classes": [],
            "_model_module": "@jupyter-widgets/controls",
            "_model_module_version": "1.5.0",
            "_model_name": "FloatProgressModel",
            "_view_count": null,
            "_view_module": "@jupyter-widgets/controls",
            "_view_module_version": "1.5.0",
            "_view_name": "ProgressView",
            "bar_style": "success",
            "description": "",
            "description_tooltip": null,
            "layout": "IPY_MODEL_883e582b710743e4a1c56f2938b00e7c",
            "max": 231508,
            "min": 0,
            "orientation": "horizontal",
            "style": "IPY_MODEL_474d76c2359c447c9d7cec96749ab667",
            "value": 231508
          }
        },
        "e9c47383b67c4d8aa9735395a7272304": {
          "model_module": "@jupyter-widgets/base",
          "model_module_version": "1.2.0",
          "model_name": "LayoutModel",
          "state": {
            "_model_module": "@jupyter-widgets/base",
            "_model_module_version": "1.2.0",
            "_model_name": "LayoutModel",
            "_view_count": null,
            "_view_module": "@jupyter-widgets/base",
            "_view_module_version": "1.2.0",
            "_view_name": "LayoutView",
            "align_content": null,
            "align_items": null,
            "align_self": null,
            "border": null,
            "bottom": null,
            "display": null,
            "flex": null,
            "flex_flow": null,
            "grid_area": null,
            "grid_auto_columns": null,
            "grid_auto_flow": null,
            "grid_auto_rows": null,
            "grid_column": null,
            "grid_gap": null,
            "grid_row": null,
            "grid_template_areas": null,
            "grid_template_columns": null,
            "grid_template_rows": null,
            "height": null,
            "justify_content": null,
            "justify_items": null,
            "left": null,
            "margin": null,
            "max_height": null,
            "max_width": null,
            "min_height": null,
            "min_width": null,
            "object_fit": null,
            "object_position": null,
            "order": null,
            "overflow": null,
            "overflow_x": null,
            "overflow_y": null,
            "padding": null,
            "right": null,
            "top": null,
            "visibility": null,
            "width": null
          }
        },
        "ee18d23a6d9a442dbe555fe387ab75c7": {
          "model_module": "@jupyter-widgets/controls",
          "model_module_version": "1.5.0",
          "model_name": "HTMLModel",
          "state": {
            "_dom_classes": [],
            "_model_module": "@jupyter-widgets/controls",
            "_model_module_version": "1.5.0",
            "_model_name": "HTMLModel",
            "_view_count": null,
            "_view_module": "@jupyter-widgets/controls",
            "_view_module_version": "1.5.0",
            "_view_name": "HTMLView",
            "description": "",
            "description_tooltip": null,
            "layout": "IPY_MODEL_14146dc7d0c7408f82fb17cbaaa38148",
            "placeholder": "​",
            "style": "IPY_MODEL_4d53d4d43af2459985faf3abe7ad8421",
            "value": "1_Pooling/config.json: 100%"
          }
        },
        "ee6d4ebf847d4426bc03c78483ce22fb": {
          "model_module": "@jupyter-widgets/base",
          "model_module_version": "1.2.0",
          "model_name": "LayoutModel",
          "state": {
            "_model_module": "@jupyter-widgets/base",
            "_model_module_version": "1.2.0",
            "_model_name": "LayoutModel",
            "_view_count": null,
            "_view_module": "@jupyter-widgets/base",
            "_view_module_version": "1.2.0",
            "_view_name": "LayoutView",
            "align_content": null,
            "align_items": null,
            "align_self": null,
            "border": null,
            "bottom": null,
            "display": null,
            "flex": null,
            "flex_flow": null,
            "grid_area": null,
            "grid_auto_columns": null,
            "grid_auto_flow": null,
            "grid_auto_rows": null,
            "grid_column": null,
            "grid_gap": null,
            "grid_row": null,
            "grid_template_areas": null,
            "grid_template_columns": null,
            "grid_template_rows": null,
            "height": null,
            "justify_content": null,
            "justify_items": null,
            "left": null,
            "margin": null,
            "max_height": null,
            "max_width": null,
            "min_height": null,
            "min_width": null,
            "object_fit": null,
            "object_position": null,
            "order": null,
            "overflow": null,
            "overflow_x": null,
            "overflow_y": null,
            "padding": null,
            "right": null,
            "top": null,
            "visibility": null,
            "width": null
          }
        },
        "ee9c336d36364088ac7d0ccf0cef1634": {
          "model_module": "@jupyter-widgets/controls",
          "model_module_version": "1.5.0",
          "model_name": "DescriptionStyleModel",
          "state": {
            "_model_module": "@jupyter-widgets/controls",
            "_model_module_version": "1.5.0",
            "_model_name": "DescriptionStyleModel",
            "_view_count": null,
            "_view_module": "@jupyter-widgets/base",
            "_view_module_version": "1.2.0",
            "_view_name": "StyleView",
            "description_width": ""
          }
        },
        "ef8e741c4c2d4aa08dc2c11b6ce4623e": {
          "model_module": "@jupyter-widgets/base",
          "model_module_version": "1.2.0",
          "model_name": "LayoutModel",
          "state": {
            "_model_module": "@jupyter-widgets/base",
            "_model_module_version": "1.2.0",
            "_model_name": "LayoutModel",
            "_view_count": null,
            "_view_module": "@jupyter-widgets/base",
            "_view_module_version": "1.2.0",
            "_view_name": "LayoutView",
            "align_content": null,
            "align_items": null,
            "align_self": null,
            "border": null,
            "bottom": null,
            "display": null,
            "flex": null,
            "flex_flow": null,
            "grid_area": null,
            "grid_auto_columns": null,
            "grid_auto_flow": null,
            "grid_auto_rows": null,
            "grid_column": null,
            "grid_gap": null,
            "grid_row": null,
            "grid_template_areas": null,
            "grid_template_columns": null,
            "grid_template_rows": null,
            "height": null,
            "justify_content": null,
            "justify_items": null,
            "left": null,
            "margin": null,
            "max_height": null,
            "max_width": null,
            "min_height": null,
            "min_width": null,
            "object_fit": null,
            "object_position": null,
            "order": null,
            "overflow": null,
            "overflow_x": null,
            "overflow_y": null,
            "padding": null,
            "right": null,
            "top": null,
            "visibility": null,
            "width": null
          }
        },
        "f2960391fc7145db8e5ce4947f2d5b77": {
          "model_module": "@jupyter-widgets/controls",
          "model_module_version": "1.5.0",
          "model_name": "DescriptionStyleModel",
          "state": {
            "_model_module": "@jupyter-widgets/controls",
            "_model_module_version": "1.5.0",
            "_model_name": "DescriptionStyleModel",
            "_view_count": null,
            "_view_module": "@jupyter-widgets/base",
            "_view_module_version": "1.2.0",
            "_view_name": "StyleView",
            "description_width": ""
          }
        },
        "f5e5997fb91c40c58a2459be34ee8405": {
          "model_module": "@jupyter-widgets/controls",
          "model_module_version": "1.5.0",
          "model_name": "ProgressStyleModel",
          "state": {
            "_model_module": "@jupyter-widgets/controls",
            "_model_module_version": "1.5.0",
            "_model_name": "ProgressStyleModel",
            "_view_count": null,
            "_view_module": "@jupyter-widgets/base",
            "_view_module_version": "1.2.0",
            "_view_name": "StyleView",
            "bar_color": null,
            "description_width": ""
          }
        },
        "f6129a6736244999bb4014a62c092f61": {
          "model_module": "@jupyter-widgets/base",
          "model_module_version": "1.2.0",
          "model_name": "LayoutModel",
          "state": {
            "_model_module": "@jupyter-widgets/base",
            "_model_module_version": "1.2.0",
            "_model_name": "LayoutModel",
            "_view_count": null,
            "_view_module": "@jupyter-widgets/base",
            "_view_module_version": "1.2.0",
            "_view_name": "LayoutView",
            "align_content": null,
            "align_items": null,
            "align_self": null,
            "border": null,
            "bottom": null,
            "display": null,
            "flex": null,
            "flex_flow": null,
            "grid_area": null,
            "grid_auto_columns": null,
            "grid_auto_flow": null,
            "grid_auto_rows": null,
            "grid_column": null,
            "grid_gap": null,
            "grid_row": null,
            "grid_template_areas": null,
            "grid_template_columns": null,
            "grid_template_rows": null,
            "height": null,
            "justify_content": null,
            "justify_items": null,
            "left": null,
            "margin": null,
            "max_height": null,
            "max_width": null,
            "min_height": null,
            "min_width": null,
            "object_fit": null,
            "object_position": null,
            "order": null,
            "overflow": null,
            "overflow_x": null,
            "overflow_y": null,
            "padding": null,
            "right": null,
            "top": null,
            "visibility": null,
            "width": null
          }
        },
        "f99e9380434f46609349e663beb78c62": {
          "model_module": "@jupyter-widgets/controls",
          "model_module_version": "1.5.0",
          "model_name": "DescriptionStyleModel",
          "state": {
            "_model_module": "@jupyter-widgets/controls",
            "_model_module_version": "1.5.0",
            "_model_name": "DescriptionStyleModel",
            "_view_count": null,
            "_view_module": "@jupyter-widgets/base",
            "_view_module_version": "1.2.0",
            "_view_name": "StyleView",
            "description_width": ""
          }
        },
        "fb4a838c2cc842b0a6c35f8dff046f22": {
          "model_module": "@jupyter-widgets/controls",
          "model_module_version": "1.5.0",
          "model_name": "HTMLModel",
          "state": {
            "_dom_classes": [],
            "_model_module": "@jupyter-widgets/controls",
            "_model_module_version": "1.5.0",
            "_model_name": "HTMLModel",
            "_view_count": null,
            "_view_module": "@jupyter-widgets/controls",
            "_view_module_version": "1.5.0",
            "_view_name": "HTMLView",
            "description": "",
            "description_tooltip": null,
            "layout": "IPY_MODEL_58abd97af3504721a84fe8676b81d42a",
            "placeholder": "​",
            "style": "IPY_MODEL_1689b342a2144932b35f7915cbfd009e",
            "value": "modules.json: 100%"
          }
        },
        "fb98dd096c2e48f0ac53d77fd297206d": {
          "model_module": "@jupyter-widgets/base",
          "model_module_version": "1.2.0",
          "model_name": "LayoutModel",
          "state": {
            "_model_module": "@jupyter-widgets/base",
            "_model_module_version": "1.2.0",
            "_model_name": "LayoutModel",
            "_view_count": null,
            "_view_module": "@jupyter-widgets/base",
            "_view_module_version": "1.2.0",
            "_view_name": "LayoutView",
            "align_content": null,
            "align_items": null,
            "align_self": null,
            "border": null,
            "bottom": null,
            "display": null,
            "flex": null,
            "flex_flow": null,
            "grid_area": null,
            "grid_auto_columns": null,
            "grid_auto_flow": null,
            "grid_auto_rows": null,
            "grid_column": null,
            "grid_gap": null,
            "grid_row": null,
            "grid_template_areas": null,
            "grid_template_columns": null,
            "grid_template_rows": null,
            "height": null,
            "justify_content": null,
            "justify_items": null,
            "left": null,
            "margin": null,
            "max_height": null,
            "max_width": null,
            "min_height": null,
            "min_width": null,
            "object_fit": null,
            "object_position": null,
            "order": null,
            "overflow": null,
            "overflow_x": null,
            "overflow_y": null,
            "padding": null,
            "right": null,
            "top": null,
            "visibility": null,
            "width": null
          }
        },
        "fbbf013d831949048061c137bbb9a5ff": {
          "model_module": "@jupyter-widgets/controls",
          "model_module_version": "1.5.0",
          "model_name": "HTMLModel",
          "state": {
            "_dom_classes": [],
            "_model_module": "@jupyter-widgets/controls",
            "_model_module_version": "1.5.0",
            "_model_name": "HTMLModel",
            "_view_count": null,
            "_view_module": "@jupyter-widgets/controls",
            "_view_module_version": "1.5.0",
            "_view_name": "HTMLView",
            "description": "",
            "description_tooltip": null,
            "layout": "IPY_MODEL_54cf32168c5249f38b44c787123980d5",
            "placeholder": "​",
            "style": "IPY_MODEL_ee9c336d36364088ac7d0ccf0cef1634",
            "value": " 232k/232k [00:00&lt;00:00, 4.26MB/s]"
          }
        },
        "fc3c5f1fe3db409c9f60f32966219a55": {
          "model_module": "@jupyter-widgets/controls",
          "model_module_version": "1.5.0",
          "model_name": "HTMLModel",
          "state": {
            "_dom_classes": [],
            "_model_module": "@jupyter-widgets/controls",
            "_model_module_version": "1.5.0",
            "_model_name": "HTMLModel",
            "_view_count": null,
            "_view_module": "@jupyter-widgets/controls",
            "_view_module_version": "1.5.0",
            "_view_name": "HTMLView",
            "description": "",
            "description_tooltip": null,
            "layout": "IPY_MODEL_498a3c2b680047cebdab4fc9d1e26dba",
            "placeholder": "​",
            "style": "IPY_MODEL_0d8353eb50c140c1b5b3faf4ceb36f9d",
            "value": " 349/349 [00:00&lt;00:00, 15.5kB/s]"
          }
        },
        "fd8db782327b412080f81b162e6d8f81": {
          "model_module": "@jupyter-widgets/controls",
          "model_module_version": "1.5.0",
          "model_name": "HTMLModel",
          "state": {
            "_dom_classes": [],
            "_model_module": "@jupyter-widgets/controls",
            "_model_module_version": "1.5.0",
            "_model_name": "HTMLModel",
            "_view_count": null,
            "_view_module": "@jupyter-widgets/controls",
            "_view_module_version": "1.5.0",
            "_view_name": "HTMLView",
            "description": "",
            "description_tooltip": null,
            "layout": "IPY_MODEL_e6238828f6434a3da4f1c670a6e2a5c8",
            "placeholder": "​",
            "style": "IPY_MODEL_bd2cd3517a9847fda042c4e29a02abf4",
            "value": "pytorch_model.bin: 100%"
          }
        },
        "fdb7ebdbdb72415498b18a3015c1d2b6": {
          "model_module": "@jupyter-widgets/controls",
          "model_module_version": "1.5.0",
          "model_name": "HBoxModel",
          "state": {
            "_dom_classes": [],
            "_model_module": "@jupyter-widgets/controls",
            "_model_module_version": "1.5.0",
            "_model_name": "HBoxModel",
            "_view_count": null,
            "_view_module": "@jupyter-widgets/controls",
            "_view_module_version": "1.5.0",
            "_view_name": "HBoxView",
            "box_style": "",
            "children": [
              "IPY_MODEL_20fa26589a824967ab547eacec260f94",
              "IPY_MODEL_728cf26bf0584675b536e5d66ac4dc32",
              "IPY_MODEL_e4ceb77b05a144aea815475451acc9f9"
            ],
            "layout": "IPY_MODEL_083da04ce16546649487d04e0746f293"
          }
        },
        "fe84d0dab1194e508141225915a74204": {
          "model_module": "@jupyter-widgets/base",
          "model_module_version": "1.2.0",
          "model_name": "LayoutModel",
          "state": {
            "_model_module": "@jupyter-widgets/base",
            "_model_module_version": "1.2.0",
            "_model_name": "LayoutModel",
            "_view_count": null,
            "_view_module": "@jupyter-widgets/base",
            "_view_module_version": "1.2.0",
            "_view_name": "LayoutView",
            "align_content": null,
            "align_items": null,
            "align_self": null,
            "border": null,
            "bottom": null,
            "display": null,
            "flex": null,
            "flex_flow": null,
            "grid_area": null,
            "grid_auto_columns": null,
            "grid_auto_flow": null,
            "grid_auto_rows": null,
            "grid_column": null,
            "grid_gap": null,
            "grid_row": null,
            "grid_template_areas": null,
            "grid_template_columns": null,
            "grid_template_rows": null,
            "height": null,
            "justify_content": null,
            "justify_items": null,
            "left": null,
            "margin": null,
            "max_height": null,
            "max_width": null,
            "min_height": null,
            "min_width": null,
            "object_fit": null,
            "object_position": null,
            "order": null,
            "overflow": null,
            "overflow_x": null,
            "overflow_y": null,
            "padding": null,
            "right": null,
            "top": null,
            "visibility": null,
            "width": null
          }
        }
      }
    }
  },
  "nbformat": 4,
  "nbformat_minor": 0
}
