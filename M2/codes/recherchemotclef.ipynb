{
 "cells": [
  {
   "cell_type": "markdown",
   "id": "aef017a9",
   "metadata": {},
   "source": [
    "# Recherche par mots clefs\n",
    "En entrée : \n",
    "- Une liste de fichiers sous format .txt\n",
    "- La liste de mots souhaitée"
   ]
  },
  {
   "cell_type": "code",
   "execution_count": 5,
   "id": "2643310d",
   "metadata": {},
   "outputs": [],
   "source": [
    "import os\n",
    "import shutil\n",
    "import re\n",
    "from tqdm import tqdm\n",
    "import unicodedata\n",
    "\n",
    "\n",
    "DOSSIER_TEXTES = \"C:/Users/portable_laura/Documents/coursM1/Mémoire/Sources/ocr_sorted\"\n",
    "liste_fichiers = os.listdir(DOSSIER_TEXTES)\n",
    "\n",
    "#IMPORTANT : La liste de mots est ici constituée d'un unique fichier txt ou chaque ligne comprend un unique mot, similaire au format habituel des listes de stopwords\n",
    "chemin_liste_mots = \"C:/Users/portable_laura/Desktop/memoire_prod_finale/data/liste_voc_memoire_large.txt\"      \n",
    "dossier_sortie = \"C:/Users/portable_laura/Desktop/memoire_prod_finale/data/seancesnavig\"    \n",
    "os.makedirs(dossier_sortie, exist_ok=True)\n",
    "\n"
   ]
  },
  {
   "cell_type": "code",
   "execution_count": 9,
   "id": "b2129126",
   "metadata": {},
   "outputs": [
    {
     "name": "stdout",
     "output_type": "stream",
     "text": [
      "110\n"
     ]
    }
   ],
   "source": [
    "# Liste mots clefs\n",
    "def contient_mot_clef(texte, mots_cles):\n",
    "    texte = texte.lower()\n",
    "    for mot in mots_cles:\n",
    "        if re.search(rf'\\b{re.escape(mot)}\\b', texte):\n",
    "            return True\n",
    "    return False\n",
    "\n",
    "with open(chemin_liste_mots, \"r\", encoding=\"utf-8\") as f:\n",
    "    mots_cles = [mot.strip().lower() for mot in f if mot.strip()]\n",
    "print(len(mots_cles))\n"
   ]
  },
  {
   "cell_type": "code",
   "execution_count": 10,
   "id": "2e94812e",
   "metadata": {},
   "outputs": [
    {
     "name": "stderr",
     "output_type": "stream",
     "text": [
      "100%|██████████| 7461/7461 [05:05<00:00, 24.39it/s]  "
     ]
    },
    {
     "name": "stdout",
     "output_type": "stream",
     "text": [
      "7433 fichier(s) sur 7461 contenant au moins un mot-clé ont été copiés dans 'C:/Users/portable_laura/Desktop/memoire_prod_finale/data/seancesnavig'.\n"
     ]
    },
    {
     "name": "stderr",
     "output_type": "stream",
     "text": [
      "\n"
     ]
    }
   ],
   "source": [
    "\n",
    "def normaliser(texte):\n",
    "    texte = texte.lower()\n",
    "    texte = unicodedata.normalize('NFKD', texte).encode('ASCII', 'ignore').decode('utf-8')\n",
    "    return texte\n",
    "\n",
    "compteur = 0\n",
    "\n",
    "\n",
    "for fichier in tqdm(liste_fichiers):\n",
    "    chemin_complet = os.path.join(DOSSIER_TEXTES, fichier)\n",
    "\n",
    "    with open(chemin_complet, \"r\", encoding=\"utf-8\") as f:\n",
    "        contenu = f.read()\n",
    "    liste_texte=normaliser(contenu).split()\n",
    "    if any(mot in mots_cles for mot in liste_texte):\n",
    "        shutil.copy(chemin_complet, dossier_sortie)\n",
    "        compteur += 1\n",
    "\n",
    "print(f\"{compteur} fichier(s) sur {len(liste_fichiers)} contenant au moins un mot-clé ont été copiés dans '{dossier_sortie}'.\")\n"
   ]
  },
  {
   "cell_type": "code",
   "execution_count": null,
   "id": "59d84fbd",
   "metadata": {},
   "outputs": [],
   "source": []
  }
 ],
 "metadata": {
  "kernelspec": {
   "display_name": "internship2025",
   "language": "python",
   "name": "python3"
  },
  "language_info": {
   "codemirror_mode": {
    "name": "ipython",
    "version": 3
   },
   "file_extension": ".py",
   "mimetype": "text/x-python",
   "name": "python",
   "nbconvert_exporter": "python",
   "pygments_lexer": "ipython3",
   "version": "3.11.11"
  }
 },
 "nbformat": 4,
 "nbformat_minor": 5
}
