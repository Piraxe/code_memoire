{
 "cells": [
  {
   "cell_type": "code",
   "execution_count": 1,
   "metadata": {},
   "outputs": [],
   "source": [
    "import csv\n",
    "import pandas as pd\n",
    "import gensim\n",
    "from gensim import corpora\n",
    "from tqdm import tqdm\n",
    "import logging\n",
    "import time\n",
    "\n",
    "import pyLDAvis\n",
    "import pyLDAvis.gensim_models as gensimvis"
   ]
  },
  {
   "cell_type": "code",
   "execution_count": 2,
   "metadata": {},
   "outputs": [],
   "source": [
    "with open('../premiers_resultats/preprocess_sur_alea.csv', newline='') as csvfile:\n",
    "    reader = csv.reader(csvfile)\n",
    "    sceances_extr_alea = [row for row in reader]\n"
   ]
  },
  {
   "cell_type": "code",
   "execution_count": 6,
   "metadata": {},
   "outputs": [
    {
     "name": "stdout",
     "output_type": "stream",
     "text": [
      "[('a', 30197), ('bien', 12905), ('loi', 12443), ('cette', 10475), ('très', 10227), ('président', 10034), ('plus', 9772), ('si', 9554), ('ministre', 9268), ('chambre', 8603), ('commission', 7223), ('être', 6837), ('demande', 6358), ('fr', 6108), ('fait', 5832), ('tout', 5780), ('comme', 5709), ('faire', 5558), ('article', 5486), ('question', 5321), ('projet', 5119), ('e', 4313), ('dont', 4310), ('gouvernement', 4210), ('tous', 4078), ('peut', 4075), ('discussion', 4025), ('gauche', 4015), ('i', 3887), ('messieurs', 3754), ('sous', 3738), ('dire', 3732), ('deux', 3690), ('parole', 3657), ('guerre', 3527), ('jour', 3508), ('droit', 3462), ('etat', 3459), ('non', 3435), ('sans', 3384), ('proposition', 3243), ('budget', 3202), ('où', 3123), ('rapporteur', 3106), ('contre', 3059), ('p', 2986), ('ainsi', 2985), ('mm', 2984), ('ordre', 2878), ('après', 2850), ('finances', 2846), ('nombre', 2774), ('adopté', 2759), ('applaudissements', 2757), ('conseil', 2752), ('dit', 2727), ('voix', 2706), ('comte', 2685), ('autre', 2648), ('général', 2590), ('donc', 2577), ('france', 2572), ('seine', 2564), ('avoir', 2555), ('encore', 2535), ('paul', 2514), ('faut', 2439), ('aussi', 2436), ('point', 2427), ('autres', 2390), ('député', 2371), ('ceux', 2358), ('là', 2357), ('entre', 2328), ('cela', 2298), ('toutes', 2298), ('louis', 2292), ('amendement', 2283), ('leurs', 2281), ('cet', 2279), ('millions', 2225), ('pays', 2221), ('moins', 2219), ('jules', 2192), ('séance', 2184), ('monsieur', 2154), ('droite', 2154), ('ans', 2091), ('service', 2090), ('cas', 2085), ('rapport', 2057), ('travail', 2038), ('divers', 2008), ('alors', 1988), ('scrutin', 1988), ('elles', 1963), ('lieu', 1954), ('heure', 1932), ('part', 1927), ('georges', 1914)]\n",
      "['a', 'très', 'cette', 'bien', 'fr', 'plus', 'si', 'a', 'bien', 'loi', 'cette', 'très', 'président', 'plus', 'si', 'ministre', 'chambre', 'commission', 'être', 'demande', 'fr', 'fait', 'tout', 'comme', 'faire', 'article', 'question', 'projet', 'e', 'dont', 'gouvernement', 'tous', 'peut', 'discussion', 'gauche', 'i', 'messieurs', 'sous', 'dire', 'deux', 'parole', 'guerre', 'jour', 'droit', 'etat', 'non', 'sans', 'proposition', 'budget', 'où', 'rapporteur', 'contre']\n"
     ]
    },
    {
     "name": "stderr",
     "output_type": "stream",
     "text": [
      "100%|██████████| 7461/7461 [00:02<00:00, 2895.27it/s]\n"
     ]
    }
   ],
   "source": [
    "# Stop words manuels \n",
    "mots_stop = [\"a\",\"très\",\"cette\",\"bien\",\"fr\",\"plus\",\"si\"]\n",
    "from collections import Counter\n",
    "import itertools\n",
    "\n",
    "\n",
    "all_words = list(itertools.chain(*sceances_extr_alea))\n",
    "word_freq = Counter(all_words)\n",
    "\n",
    "\n",
    "most_common_words = word_freq.most_common(100)\n",
    "print(most_common_words)\n",
    "\n",
    "\n",
    "\n",
    "for word, freq in most_common_words :\n",
    "    if freq > 3000:\n",
    "        mots_stop.append(word)\n",
    "print(mots_stop)\n",
    "\n",
    "filtre_sceances_alea = [[word for word in doc if word.lower() not in mots_stop] for doc in tqdm(sceances_extr_alea)]\n",
    "\n",
    "\n",
    "\n"
   ]
  },
  {
   "cell_type": "code",
   "execution_count": 38,
   "metadata": {},
   "outputs": [],
   "source": [
    "\n"
   ]
  },
  {
   "cell_type": "code",
   "execution_count": 7,
   "metadata": {},
   "outputs": [
    {
     "name": "stderr",
     "output_type": "stream",
     "text": [
      "Création du corpus: 100%|██████████| 7461/7461 [00:02<00:00, 3138.19it/s]\n"
     ]
    },
    {
     "name": "stdout",
     "output_type": "stream",
     "text": [
      "Topic: 0 \n",
      "Words: 0.004*\"théo\" + 0.003*\"raffin\" + 0.001*\"leministredela\" + 0.001*\"fez\" + 0.001*\"consignation\" + 0.001*\"reet\" + 0.001*\"comptée\" + 0.001*\"expulser\" + 0.000*\"dax\" + 0.000*\"taureau\"\n",
      "Topic: 1 \n",
      "Words: 0.002*\"commissariat\" + 0.002*\"absinthe\" + 0.002*\"équipement\" + 0.002*\"détaxe\" + 0.002*\"discus\" + 0.001*\"dénommés\" + 0.001*\"diversité\" + 0.001*\"onzième\" + 0.001*\"zéro\" + 0.001*\"vision\"\n",
      "Topic: 2 \n",
      "Words: 0.006*\"millions\" + 0.005*\"faut\" + 0.005*\"france\" + 0.004*\"aussi\" + 0.004*\"pays\" + 0.004*\"encore\" + 0.004*\"là\" + 0.004*\"donc\" + 0.003*\"point\" + 0.003*\"cela\"\n",
      "Topic: 3 \n",
      "Words: 0.009*\"affirmative\" + 0.008*\"député\" + 0.006*\"déposé\" + 0.004*\"carte\" + 0.004*\"idem\" + 0.004*\"négative\" + 0.004*\"arrondissement\" + 0.004*\"planche\" + 0.004*\"combattants\" + 0.003*\"conti\"\n",
      "Topic: 4 \n",
      "Words: 0.007*\"député\" + 0.006*\"réponse\" + 0.006*\"service\" + 0.005*\"finances\" + 0.005*\"administration\" + 0.004*\"cas\" + 0.004*\"ans\" + 0.004*\"décret\" + 0.004*\"services\" + 0.004*\"p\"\n",
      "Topic: 5 \n",
      "Words: 0.018*\"adopté\" + 0.013*\"tendant\" + 0.012*\"séance\" + 0.011*\"voix\" + 0.010*\"ordre\" + 0.009*\"chap\" + 0.009*\"rapport\" + 0.008*\"mm\" + 0.008*\"reçu\" + 0.008*\"règlement\"\n",
      "Topic: 6 \n",
      "Words: 0.001*\"géographie\" + 0.001*\"laval\" + 0.001*\"gap\" + 0.001*\"surla\" + 0.001*\"tribuée\" + 0.001*\"antilles\" + 0.001*\"tournon\" + 0.001*\"habituelles\" + 0.001*\"infâme\" + 0.001*\"dansd\"\n",
      "Topic: 7 \n",
      "Words: 0.003*\"ell\" + 0.002*\"ssi\" + 0.001*\"parcelle\" + 0.001*\"lacommissiondes\" + 0.001*\"etr\" + 0.001*\"contenance\" + 0.001*\"transmissions\" + 0.001*\"formera\" + 0.001*\"ffl\" + 0.001*\"ùl\"\n",
      "Topic: 8 \n",
      "Words: 0.007*\"depot\" + 0.006*\"apprentissage\" + 0.004*\"mire\" + 0.002*\"sergents\" + 0.001*\"tendantà\" + 0.001*\"aireçu\" + 0.001*\"auditeurs\" + 0.001*\"bouchesdu\" + 0.001*\"absenter\" + 0.001*\"opérant\"\n",
      "Topic: 9 \n",
      "Words: 0.006*\"applaudissements\" + 0.006*\"conseil\" + 0.004*\"droite\" + 0.004*\"monsieur\" + 0.004*\"bancs\" + 0.004*\"avoir\" + 0.004*\"dit\" + 0.004*\"divers\" + 0.003*\"extrême\" + 0.003*\"après\"\n",
      "Topic: 10 \n",
      "Words: 0.017*\"seine\" + 0.014*\"paul\" + 0.014*\"louis\" + 0.011*\"comte\" + 0.011*\"jules\" + 0.011*\"georges\" + 0.009*\"charles\" + 0.009*\"pierre\" + 0.009*\"loire\" + 0.008*\"emile\"\n",
      "Topic: 11 \n",
      "Words: 0.039*\"scrutin\" + 0.018*\"mm\" + 0.017*\"voix\" + 0.014*\"nombre\" + 0.013*\"bureau\" + 0.013*\"majorité\" + 0.011*\"dépouillement\" + 0.011*\"suffrages\" + 0.011*\"absolue\" + 0.010*\"chiffre\"\n",
      "Topic: 12 \n",
      "Words: 0.004*\"poitou\" + 0.003*\"échelon\" + 0.003*\"remploi\" + 0.002*\"engins\" + 0.002*\"wi\" + 0.002*\"sarre\" + 0.001*\"nulles\" + 0.001*\"estam\" + 0.001*\"tombée\" + 0.001*\"héroïsme\"\n",
      "Topic: 13 \n",
      "Words: 0.013*\"comte\" + 0.009*\"baron\" + 0.006*\"léon\" + 0.006*\"saint\" + 0.006*\"paul\" + 0.005*\"martin\" + 0.005*\"seine\" + 0.005*\"jules\" + 0.005*\"louis\" + 0.004*\"vincent\"\n",
      "Topic: 14 \n",
      "Words: 0.006*\"gourd\" + 0.006*\"dutreil\" + 0.003*\"klotz\" + 0.002*\"bussière\" + 0.001*\"leprésidentdu\" + 0.001*\"contrel\" + 0.001*\"iir\" + 0.001*\"out\" + 0.000*\"gilles\" + 0.000*\"ilé\"\n",
      "Topic: 15 \n",
      "Words: 0.002*\"kil\" + 0.001*\"fleuret\" + 0.001*\"fils\" + 0.001*\"mesurant\" + 0.001*\"inclusivement\" + 0.001*\"dée\" + 0.001*\"laine\" + 0.000*\"frézon\" + 0.000*\"coton\" + 0.000*\"géomètre\"\n",
      "Topic: 16 \n",
      "Words: 0.024*\"marine\" + 0.008*\"tarif\" + 0.007*\"colonies\" + 0.006*\"tonnes\" + 0.005*\"mer\" + 0.005*\"ports\" + 0.005*\"flotte\" + 0.005*\"navires\" + 0.004*\"port\" + 0.004*\"marins\"\n",
      "Topic: 17 \n",
      "Words: 0.006*\"moro\" + 0.002*\"laines\" + 0.001*\"insignes\" + 0.001*\"lisons\" + 0.001*\"qut\" + 0.001*\"etvous\" + 0.001*\"direque\" + 0.001*\"cip\" + 0.000*\"cornelius\" + 0.000*\"héritages\"\n",
      "Topic: 18 \n",
      "Words: 0.035*\"r\" + 0.031*\"p\" + 0.021*\"f\" + 0.017*\"u\" + 0.016*\"v\" + 0.015*\"o\" + 0.013*\"del\" + 0.011*\"h\" + 0.008*\"g\" + 0.007*\"î\"\n",
      "Topic: 19 \n",
      "Words: 0.008*\"accords\" + 0.003*\"pic\" + 0.002*\"beurre\" + 0.002*\"margarine\" + 0.002*\"remplies\" + 0.002*\"jii\" + 0.001*\"argentine\" + 0.001*\"pressant\" + 0.001*\"ild\" + 0.001*\"libérée\"\n"
     ]
    }
   ],
   "source": [
    "# Créer le dictionnaire et le corpus avec tqdm\n",
    "dictionary = corpora.Dictionary(filtre_sceances_alea)\n",
    "corpus = [dictionary.doc2bow(doc) for doc in tqdm(filtre_sceances_alea, desc=\"Création du corpus\")]\n",
    "\n",
    "# Nombre de sujets à extraire\n",
    "num_topics = 20\n",
    "passes = 20\n",
    "\n",
    "# Construire le modèle LDA\n",
    "lda_model_filtre = gensim.models.LdaModel(\n",
    "    corpus, \n",
    "    num_topics=num_topics, \n",
    "    id2word=dictionary, \n",
    "    passes=passes,\n",
    "    )\n",
    "# Visualiser les sujets extraits\n",
    "for idx, topic in lda_model_filtre.print_topics(-1):\n",
    "    print(f'Topic: {idx} \\nWords: {topic}')"
   ]
  },
  {
   "cell_type": "code",
   "execution_count": 24,
   "metadata": {},
   "outputs": [
    {
     "name": "stdout",
     "output_type": "stream",
     "text": [
      "Topic: 0 \n",
      "Words: 0.000*\"loi\" + 0.000*\"chambre\" + 0.000*\"messieurs\" + 0.000*\"être\" + 0.000*\"président\" + 0.000*\"faire\" + 0.000*\"ministre\" + 0.000*\"projet\" + 0.000*\"fait\" + 0.000*\"tout\"\n",
      "Topic: 1 \n",
      "Words: 0.000*\"loi\" + 0.000*\"comte\" + 0.000*\"président\" + 0.000*\"ministre\" + 0.000*\"commission\" + 0.000*\"chambre\" + 0.000*\"article\" + 0.000*\"messieurs\" + 0.000*\"tout\" + 0.000*\"comme\"\n",
      "Topic: 2 \n",
      "Words: 0.004*\"dépôt\" + 0.004*\"rapp\" + 0.002*\"élect\" + 0.002*\"discuss\" + 0.002*\"admiss\" + 0.002*\"proj\" + 0.002*\"loi\" + 0.001*\"proposit\" + 0.001*\"député\" + 0.001*\"réélu\"\n",
      "Topic: 3 \n",
      "Words: 0.000*\"loi\" + 0.000*\"chambre\" + 0.000*\"président\" + 0.000*\"commission\" + 0.000*\"ministre\" + 0.000*\"faire\" + 0.000*\"être\" + 0.000*\"tout\" + 0.000*\"messieurs\" + 0.000*\"comte\"\n",
      "Topic: 4 \n",
      "Words: 0.000*\"loi\" + 0.000*\"président\" + 0.000*\"chambre\" + 0.000*\"comte\" + 0.000*\"faire\" + 0.000*\"fait\" + 0.000*\"être\" + 0.000*\"messieurs\" + 0.000*\"demande\" + 0.000*\"tout\"\n",
      "Topic: 5 \n",
      "Words: 0.006*\"loi\" + 0.005*\"président\" + 0.005*\"chambre\" + 0.004*\"ministre\" + 0.004*\"messieurs\" + 0.004*\"commission\" + 0.004*\"faire\" + 0.004*\"être\" + 0.004*\"tout\" + 0.004*\"fait\"\n",
      "Topic: 6 \n",
      "Words: 0.009*\"bureau\" + 0.009*\"voix\" + 0.008*\"suffrages\" + 0.007*\"exprimés\" + 0.007*\"nombre\" + 0.007*\"inscrits\" + 0.007*\"majorité\" + 0.007*\"dont\" + 0.006*\"quart\" + 0.006*\"absolue\"\n",
      "Topic: 7 \n",
      "Words: 0.007*\"loi\" + 0.006*\"président\" + 0.005*\"chambre\" + 0.005*\"comte\" + 0.004*\"commission\" + 0.003*\"ministre\" + 0.003*\"demande\" + 0.003*\"être\" + 0.003*\"seine\" + 0.003*\"faire\"\n"
     ]
    }
   ],
   "source": [
    "[\"p\",\"aujour\",\"hui\",'nom','vote',\"voté\",\"toute\",\"quelques\",\"depuis\",\"situation\",\"devant\",\"peu\",\"ni\",\"quand\",\"effet\",\"car\",\"rien\"]"
   ]
  },
  {
   "cell_type": "code",
   "execution_count": 9,
   "metadata": {},
   "outputs": [],
   "source": [
    "lda_model_filtre.save(\"lda_model_3500\")"
   ]
  },
  {
   "cell_type": "code",
   "execution_count": 10,
   "metadata": {},
   "outputs": [
    {
     "ename": "TypeError",
     "evalue": "drop() takes from 1 to 2 positional arguments but 3 were given",
     "output_type": "error",
     "traceback": [
      "\u001b[1;31m---------------------------------------------------------------------------\u001b[0m",
      "\u001b[1;31mTypeError\u001b[0m                                 Traceback (most recent call last)",
      "Cell \u001b[1;32mIn[10], line 1\u001b[0m\n\u001b[1;32m----> 1\u001b[0m lda_vis \u001b[38;5;241m=\u001b[39m \u001b[43mgensimvis\u001b[49m\u001b[38;5;241;43m.\u001b[39;49m\u001b[43mprepare\u001b[49m\u001b[43m(\u001b[49m\u001b[43mlda_model_filtre\u001b[49m\u001b[43m,\u001b[49m\u001b[43m \u001b[49m\u001b[43mcorpus\u001b[49m\u001b[43m,\u001b[49m\u001b[43m \u001b[49m\u001b[43mdictionary\u001b[49m\u001b[43m)\u001b[49m\n\u001b[0;32m      2\u001b[0m pyLDAvis\u001b[38;5;241m.\u001b[39mshow(lda_vis)\n",
      "File \u001b[1;32mc:\\Users\\portable_laura\\anaconda3\\envs\\python_avance\\lib\\site-packages\\pyLDAvis\\gensim_models.py:123\u001b[0m, in \u001b[0;36mprepare\u001b[1;34m(topic_model, corpus, dictionary, doc_topic_dist, **kwargs)\u001b[0m\n\u001b[0;32m     78\u001b[0m \u001b[38;5;250m\u001b[39m\u001b[38;5;124;03m\"\"\"Transforms the Gensim TopicModel and related corpus and dictionary into\u001b[39;00m\n\u001b[0;32m     79\u001b[0m \u001b[38;5;124;03mthe data structures needed for the visualization.\u001b[39;00m\n\u001b[0;32m     80\u001b[0m \n\u001b[1;32m   (...)\u001b[0m\n\u001b[0;32m    120\u001b[0m \u001b[38;5;124;03mSee `pyLDAvis.prepare` for **kwargs.\u001b[39;00m\n\u001b[0;32m    121\u001b[0m \u001b[38;5;124;03m\"\"\"\u001b[39;00m\n\u001b[0;32m    122\u001b[0m opts \u001b[38;5;241m=\u001b[39m fp\u001b[38;5;241m.\u001b[39mmerge(_extract_data(topic_model, corpus, dictionary, doc_topic_dist), kwargs)\n\u001b[1;32m--> 123\u001b[0m \u001b[38;5;28;01mreturn\u001b[39;00m \u001b[43mpyLDAvis\u001b[49m\u001b[38;5;241;43m.\u001b[39;49m\u001b[43mprepare\u001b[49m\u001b[43m(\u001b[49m\u001b[38;5;241;43m*\u001b[39;49m\u001b[38;5;241;43m*\u001b[39;49m\u001b[43mopts\u001b[49m\u001b[43m)\u001b[49m\n",
      "File \u001b[1;32mc:\\Users\\portable_laura\\anaconda3\\envs\\python_avance\\lib\\site-packages\\pyLDAvis\\_prepare.py:432\u001b[0m, in \u001b[0;36mprepare\u001b[1;34m(topic_term_dists, doc_topic_dists, doc_lengths, vocab, term_frequency, R, lambda_step, mds, n_jobs, plot_opts, sort_topics, start_index)\u001b[0m\n\u001b[0;32m    426\u001b[0m \u001b[38;5;66;03m# Quick fix for red bar width bug.  We calculate the\u001b[39;00m\n\u001b[0;32m    427\u001b[0m \u001b[38;5;66;03m# term frequencies internally, using the topic term distributions and the\u001b[39;00m\n\u001b[0;32m    428\u001b[0m \u001b[38;5;66;03m# topic frequencies, rather than using the user-supplied term frequencies.\u001b[39;00m\n\u001b[0;32m    429\u001b[0m \u001b[38;5;66;03m# For a detailed discussion, see: https://github.com/cpsievert/LDAvis/pull/41\u001b[39;00m\n\u001b[0;32m    430\u001b[0m term_frequency \u001b[38;5;241m=\u001b[39m np\u001b[38;5;241m.\u001b[39msum(term_topic_freq, axis\u001b[38;5;241m=\u001b[39m\u001b[38;5;241m0\u001b[39m)\n\u001b[1;32m--> 432\u001b[0m topic_info \u001b[38;5;241m=\u001b[39m \u001b[43m_topic_info\u001b[49m\u001b[43m(\u001b[49m\u001b[43mtopic_term_dists\u001b[49m\u001b[43m,\u001b[49m\u001b[43m \u001b[49m\u001b[43mtopic_proportion\u001b[49m\u001b[43m,\u001b[49m\n\u001b[0;32m    433\u001b[0m \u001b[43m                         \u001b[49m\u001b[43mterm_frequency\u001b[49m\u001b[43m,\u001b[49m\u001b[43m \u001b[49m\u001b[43mterm_topic_freq\u001b[49m\u001b[43m,\u001b[49m\u001b[43m \u001b[49m\u001b[43mvocab\u001b[49m\u001b[43m,\u001b[49m\u001b[43m \u001b[49m\u001b[43mlambda_step\u001b[49m\u001b[43m,\u001b[49m\u001b[43m \u001b[49m\u001b[43mR\u001b[49m\u001b[43m,\u001b[49m\n\u001b[0;32m    434\u001b[0m \u001b[43m                         \u001b[49m\u001b[43mn_jobs\u001b[49m\u001b[43m,\u001b[49m\u001b[43m \u001b[49m\u001b[43mstart_index\u001b[49m\u001b[43m)\u001b[49m\n\u001b[0;32m    435\u001b[0m token_table \u001b[38;5;241m=\u001b[39m _token_table(topic_info, term_topic_freq, vocab, term_frequency, start_index)\n\u001b[0;32m    436\u001b[0m topic_coordinates \u001b[38;5;241m=\u001b[39m _topic_coordinates(mds, topic_term_dists, topic_proportion, start_index)\n",
      "File \u001b[1;32mc:\\Users\\portable_laura\\anaconda3\\envs\\python_avance\\lib\\site-packages\\pyLDAvis\\_prepare.py:243\u001b[0m, in \u001b[0;36m_topic_info\u001b[1;34m(topic_term_dists, topic_proportion, term_frequency, term_topic_freq, vocab, lambda_step, R, n_jobs, start_index)\u001b[0m\n\u001b[0;32m    236\u001b[0m \u001b[38;5;66;03m# Order the terms for the \"default\" view by decreasing saliency:\u001b[39;00m\n\u001b[0;32m    237\u001b[0m default_term_info \u001b[38;5;241m=\u001b[39m pd\u001b[38;5;241m.\u001b[39mDataFrame({\n\u001b[0;32m    238\u001b[0m     \u001b[38;5;124m'\u001b[39m\u001b[38;5;124msaliency\u001b[39m\u001b[38;5;124m'\u001b[39m: saliency,\n\u001b[0;32m    239\u001b[0m     \u001b[38;5;124m'\u001b[39m\u001b[38;5;124mTerm\u001b[39m\u001b[38;5;124m'\u001b[39m: vocab,\n\u001b[0;32m    240\u001b[0m     \u001b[38;5;124m'\u001b[39m\u001b[38;5;124mFreq\u001b[39m\u001b[38;5;124m'\u001b[39m: term_frequency,\n\u001b[0;32m    241\u001b[0m     \u001b[38;5;124m'\u001b[39m\u001b[38;5;124mTotal\u001b[39m\u001b[38;5;124m'\u001b[39m: term_frequency,\n\u001b[0;32m    242\u001b[0m     \u001b[38;5;124m'\u001b[39m\u001b[38;5;124mCategory\u001b[39m\u001b[38;5;124m'\u001b[39m: \u001b[38;5;124m'\u001b[39m\u001b[38;5;124mDefault\u001b[39m\u001b[38;5;124m'\u001b[39m})\n\u001b[1;32m--> 243\u001b[0m default_term_info \u001b[38;5;241m=\u001b[39m \u001b[43mdefault_term_info\u001b[49m\u001b[38;5;241;43m.\u001b[39;49m\u001b[43msort_values\u001b[49m\u001b[43m(\u001b[49m\n\u001b[0;32m    244\u001b[0m \u001b[43m    \u001b[49m\u001b[43mby\u001b[49m\u001b[38;5;241;43m=\u001b[39;49m\u001b[38;5;124;43m'\u001b[39;49m\u001b[38;5;124;43msaliency\u001b[39;49m\u001b[38;5;124;43m'\u001b[39;49m\u001b[43m,\u001b[49m\u001b[43m \u001b[49m\u001b[43mascending\u001b[49m\u001b[38;5;241;43m=\u001b[39;49m\u001b[38;5;28;43;01mFalse\u001b[39;49;00m\u001b[43m)\u001b[49m\u001b[38;5;241;43m.\u001b[39;49m\u001b[43mhead\u001b[49m\u001b[43m(\u001b[49m\u001b[43mR\u001b[49m\u001b[43m)\u001b[49m\u001b[38;5;241;43m.\u001b[39;49m\u001b[43mdrop\u001b[49m\u001b[43m(\u001b[49m\u001b[38;5;124;43m'\u001b[39;49m\u001b[38;5;124;43msaliency\u001b[39;49m\u001b[38;5;124;43m'\u001b[39;49m\u001b[43m,\u001b[49m\u001b[43m \u001b[49m\u001b[38;5;241;43m1\u001b[39;49m\u001b[43m)\u001b[49m\n\u001b[0;32m    245\u001b[0m \u001b[38;5;66;03m# Rounding Freq and Total to integer values to match LDAvis code:\u001b[39;00m\n\u001b[0;32m    246\u001b[0m default_term_info[\u001b[38;5;124m'\u001b[39m\u001b[38;5;124mFreq\u001b[39m\u001b[38;5;124m'\u001b[39m] \u001b[38;5;241m=\u001b[39m np\u001b[38;5;241m.\u001b[39mfloor(default_term_info[\u001b[38;5;124m'\u001b[39m\u001b[38;5;124mFreq\u001b[39m\u001b[38;5;124m'\u001b[39m])\n",
      "\u001b[1;31mTypeError\u001b[0m: drop() takes from 1 to 2 positional arguments but 3 were given"
     ]
    }
   ],
   "source": [
    "lda_vis = gensimvis.prepare(lda_model_filtre, corpus, dictionary)\n",
    "pyLDAvis.show(lda_vis)"
   ]
  },
  {
   "cell_type": "code",
   "execution_count": 12,
   "metadata": {},
   "outputs": [
    {
     "name": "stdout",
     "output_type": "stream",
     "text": [
      "[('hui', 66710), ('quand', 66091), ('quelques', 65989), ('travaux', 64053), ('aujourd', 63883), ('lieu', 63614), ('p', 63400), ('crois', 61293), ('charles', 61156), ('voté', 60561), ('car', 60393), ('guerre', 60392), ('service', 60034), ('henri', 59263), ('toute', 59258), ('vote', 58848), ('effet', 58782), ('situation', 58634), ('paris', 58431), ('seulement', 58358), ('léon', 57925), ('donner', 57773), ('marquis', 57561), ('ici', 57292), ('adoption', 57131), ('conditions', 57053), ('temps', 56685), ('emile', 56460), ('crédit', 56271), ('depuis', 55373), ('peu', 55153), ('devant', 54885), ('publique', 54676), ('cas', 54425), ('ni', 54397), ('travail', 53788), ('rien', 53511), ('nom', 53461), ('nord', 53099), ('majorité', 53078), ('tribune', 52676), ('art', 52426), ('ouvriers', 52254), ('administration', 52068), ('suite', 52035), ('année', 51382), ('martin', 50401), ('collègues', 50290), ('somme', 50052), ('celui', 49613), ('celle', 49417), ('commerce', 49238), ('centre', 48962), ('jusqu', 48788), ('fois', 48191), ('plusieurs', 48175), ('partie', 48175), ('or', 47975), ('doit', 47915), ('albert', 47381), ('grand', 47304), ('chapitre', 47240), ('trois', 47087), ('dépenses', 46702), ('mêmes', 46673), ('camille', 46594), ('déjà', 46455), ('fer', 46108), ('compte', 45976), ('pris', 45326), ('députés', 45279), ('vue', 44948), ('avant', 44760), ('voilà', 44040), ('haute', 43964), ('raison', 43942), ('er', 42955), ('bureau', 42799), ('département', 42733), ('toujours', 42560), ('ministère', 42422), ('pendant', 42314), ('mois', 42138), ('sénat', 42023), ('ville', 41766), ('pierre', 41711), ('loire', 41693), ('voici', 41670), ('collègue', 41468), ('agit', 41355), ('vicomte', 41263), ('jamais', 41205), ('tendant', 41171), ('maurice', 41099), ('exercice', 40929), ('absolue', 40858), ('chiffre', 40543), ('honneur', 40132), ('beaucoup', 40007), ('pu', 39886)]\n"
     ]
    }
   ],
   "source": [
    "all_words_new = list(itertools.chain(*filtre_sceances3500_new))\n",
    "word_freq_new = Counter(all_words_new)\n",
    "\n",
    "\n",
    "most_common_words_new = word_freq_new.most_common(100)\n",
    "print(most_common_words_new)\n"
   ]
  },
  {
   "cell_type": "code",
   "execution_count": 1,
   "metadata": {},
   "outputs": [],
   "source": [
    "\n"
   ]
  },
  {
   "cell_type": "code",
   "execution_count": null,
   "metadata": {},
   "outputs": [],
   "source": []
  }
 ],
 "metadata": {
  "kernelspec": {
   "display_name": "python_avance",
   "language": "python",
   "name": "python3"
  },
  "language_info": {
   "codemirror_mode": {
    "name": "ipython",
    "version": 3
   },
   "file_extension": ".py",
   "mimetype": "text/x-python",
   "name": "python",
   "nbconvert_exporter": "python",
   "pygments_lexer": "ipython3",
   "version": "3.8.18"
  }
 },
 "nbformat": 4,
 "nbformat_minor": 2
}
